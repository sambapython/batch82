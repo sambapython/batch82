{
 "cells": [
  {
   "cell_type": "code",
   "execution_count": 1,
   "metadata": {},
   "outputs": [
    {
     "name": "stdout",
     "output_type": "stream",
     "text": [
      "program started\n",
      "a is big\n",
      "b is big\n",
      "program ended\n"
     ]
    }
   ],
   "source": [
    "print(\"program started\")\n",
    "a=10\n",
    "b=20\n",
    "print(\"a is big\")\n",
    "print(\"b is big\")\n",
    "print(\"program ended\")"
   ]
  },
  {
   "cell_type": "code",
   "execution_count": 2,
   "metadata": {},
   "outputs": [
    {
     "name": "stdout",
     "output_type": "stream",
     "text": [
      "program started\n",
      "a is big\n",
      "b is big\n",
      "program ended\n"
     ]
    }
   ],
   "source": [
    "print(\"program started\")\n",
    "a=100\n",
    "b=20\n",
    "print(\"a is big\")\n",
    "print(\"b is big\")\n",
    "print(\"program ended\")"
   ]
  },
  {
   "cell_type": "code",
   "execution_count": 3,
   "metadata": {},
   "outputs": [
    {
     "name": "stdout",
     "output_type": "stream",
     "text": [
      "program started\n",
      "b is big\n",
      "program ended\n"
     ]
    }
   ],
   "source": [
    "print(\"program started\")\n",
    "a=100\n",
    "b=20\n",
    "if False:\n",
    "    print(\"a is big\")\n",
    "print(\"b is big\")\n",
    "print(\"program ended\")"
   ]
  },
  {
   "cell_type": "code",
   "execution_count": 4,
   "metadata": {},
   "outputs": [
    {
     "name": "stdout",
     "output_type": "stream",
     "text": [
      "program started\n",
      "a is big\n",
      "b is big\n",
      "program ended\n"
     ]
    }
   ],
   "source": [
    "print(\"program started\")\n",
    "a=100\n",
    "b=20\n",
    "if True:\n",
    "    print(\"a is big\")\n",
    "print(\"b is big\")\n",
    "print(\"program ended\")"
   ]
  },
  {
   "cell_type": "code",
   "execution_count": 5,
   "metadata": {},
   "outputs": [
    {
     "name": "stdout",
     "output_type": "stream",
     "text": [
      "program started\n",
      "a is big\n",
      "program ended\n"
     ]
    }
   ],
   "source": [
    "print(\"program started\")\n",
    "a=100\n",
    "b=20\n",
    "if True:\n",
    "    print(\"a is big\")\n",
    "else:\n",
    "    print(\"b is big\")\n",
    "print(\"program ended\")"
   ]
  },
  {
   "cell_type": "code",
   "execution_count": 6,
   "metadata": {},
   "outputs": [
    {
     "name": "stdout",
     "output_type": "stream",
     "text": [
      "program started\n",
      "b is big\n",
      "program ended\n"
     ]
    }
   ],
   "source": [
    "print(\"program started\")\n",
    "a=100\n",
    "b=20\n",
    "if False:\n",
    "    print(\"a is big\")\n",
    "else:\n",
    "    print(\"b is big\")\n",
    "print(\"program ended\")"
   ]
  },
  {
   "cell_type": "code",
   "execution_count": 7,
   "metadata": {},
   "outputs": [
    {
     "name": "stdout",
     "output_type": "stream",
     "text": [
      "False\n"
     ]
    }
   ],
   "source": [
    "a=10\n",
    "b=20\n",
    "print(a>b)"
   ]
  },
  {
   "cell_type": "code",
   "execution_count": 8,
   "metadata": {},
   "outputs": [
    {
     "name": "stdout",
     "output_type": "stream",
     "text": [
      "True\n"
     ]
    }
   ],
   "source": [
    "a=100\n",
    "b=20\n",
    "print(a>b)"
   ]
  },
  {
   "cell_type": "code",
   "execution_count": 9,
   "metadata": {},
   "outputs": [
    {
     "name": "stdout",
     "output_type": "stream",
     "text": [
      "program started\n",
      "True\n",
      "b is big\n",
      "program ended\n"
     ]
    }
   ],
   "source": [
    "print(\"program started\")\n",
    "a=100\n",
    "b=20\n",
    "print(a>b)\n",
    "if a>b:\n",
    "    print(\"b is big\")\n",
    "else:\n",
    "    print(\"a is big\")\n",
    "print(\"program ended\")"
   ]
  },
  {
   "cell_type": "code",
   "execution_count": 10,
   "metadata": {},
   "outputs": [
    {
     "name": "stdout",
     "output_type": "stream",
     "text": [
      "program started\n",
      "False\n",
      "a is big\n",
      "program ended\n"
     ]
    }
   ],
   "source": [
    "print(\"program started\")\n",
    "a=100\n",
    "b=200\n",
    "print(a>b)\n",
    "if a>b:\n",
    "    print(\"b is big\")\n",
    "else:\n",
    "    print(\"a is big\")\n",
    "print(\"program ended\")"
   ]
  },
  {
   "cell_type": "code",
   "execution_count": 11,
   "metadata": {},
   "outputs": [
    {
     "name": "stdout",
     "output_type": "stream",
     "text": [
      "program started\n",
      "b is big\n",
      "program ended\n"
     ]
    }
   ],
   "source": [
    "print(\"program started\")\n",
    "a=100\n",
    "b=200\n",
    "if a>b:\n",
    "    print(\"a is big\")\n",
    "else:\n",
    "    print(\"b is big\")\n",
    "print(\"program ended\")"
   ]
  },
  {
   "cell_type": "code",
   "execution_count": 12,
   "metadata": {},
   "outputs": [
    {
     "name": "stdout",
     "output_type": "stream",
     "text": [
      "program started\n",
      "a is big\n",
      "program ended\n"
     ]
    }
   ],
   "source": [
    "print(\"program started\")\n",
    "a=1000\n",
    "b=200\n",
    "if a>b:\n",
    "    print(\"a is big\")\n",
    "else:\n",
    "    print(\"b is big\")\n",
    "print(\"program ended\")"
   ]
  },
  {
   "cell_type": "code",
   "execution_count": 13,
   "metadata": {},
   "outputs": [
    {
     "name": "stdout",
     "output_type": "stream",
     "text": [
      "program started\n",
      "enter a value:100\n",
      "enter b value:200\n",
      "b is big\n",
      "program ended\n"
     ]
    }
   ],
   "source": [
    "print(\"program started\")\n",
    "a=input(\"enter a value:\")\n",
    "b=input(\"enter b value:\")\n",
    "if a>b:\n",
    "    print(\"a is big\")\n",
    "else:\n",
    "    print(\"b is big\")\n",
    "print(\"program ended\")"
   ]
  },
  {
   "cell_type": "code",
   "execution_count": 14,
   "metadata": {},
   "outputs": [
    {
     "name": "stdout",
     "output_type": "stream",
     "text": [
      "program started\n",
      "enter a value:9\n",
      "enter b value:200\n",
      "a is big\n",
      "program ended\n"
     ]
    }
   ],
   "source": [
    "print(\"program started\")\n",
    "a=input(\"enter a value:\")\n",
    "b=input(\"enter b value:\")\n",
    "if a>b:\n",
    "    print(\"a is big\")\n",
    "else:\n",
    "    print(\"b is big\")\n",
    "print(\"program ended\")"
   ]
  },
  {
   "cell_type": "code",
   "execution_count": 15,
   "metadata": {},
   "outputs": [
    {
     "data": {
      "text/plain": [
       "False"
      ]
     },
     "execution_count": 15,
     "metadata": {},
     "output_type": "execute_result"
    }
   ],
   "source": [
    "9>200"
   ]
  },
  {
   "cell_type": "code",
   "execution_count": 16,
   "metadata": {},
   "outputs": [
    {
     "data": {
      "text/plain": [
       "True"
      ]
     },
     "execution_count": 16,
     "metadata": {},
     "output_type": "execute_result"
    }
   ],
   "source": [
    "\"9\">\"200\""
   ]
  },
  {
   "cell_type": "code",
   "execution_count": 17,
   "metadata": {},
   "outputs": [
    {
     "name": "stdout",
     "output_type": "stream",
     "text": [
      "program started\n",
      "enter a value:12\n",
      "enter b value:56\n",
      "b is big\n",
      "program ended\n"
     ]
    }
   ],
   "source": [
    "print(\"program started\")\n",
    "a=float(input(\"enter a value:\"))\n",
    "b=float(input(\"enter b value:\"))\n",
    "if a>b:\n",
    "    print(\"a is big\")\n",
    "else:\n",
    "    print(\"b is big\")\n",
    "print(\"program ended\")"
   ]
  },
  {
   "cell_type": "code",
   "execution_count": 18,
   "metadata": {},
   "outputs": [
    {
     "name": "stdout",
     "output_type": "stream",
     "text": [
      "program started\n",
      "enter a value:9\n",
      "enter b value:200\n",
      "b is big\n",
      "program ended\n"
     ]
    }
   ],
   "source": [
    "print(\"program started\")\n",
    "a=float(input(\"enter a value:\"))\n",
    "b=float(input(\"enter b value:\"))\n",
    "if a>b:\n",
    "    print(\"a is big\")\n",
    "else:\n",
    "    print(\"b is big\")\n",
    "print(\"program ended\")"
   ]
  },
  {
   "cell_type": "code",
   "execution_count": 19,
   "metadata": {},
   "outputs": [
    {
     "name": "stdout",
     "output_type": "stream",
     "text": [
      "program started\n",
      "enter a value:12.56\n",
      "enter b value:9.45\n",
      "a is big\n",
      "program ended\n"
     ]
    }
   ],
   "source": [
    "print(\"program started\")\n",
    "a=float(input(\"enter a value:\"))\n",
    "b=float(input(\"enter b value:\"))\n",
    "if a>b:\n",
    "    print(\"a is big\")\n",
    "else:\n",
    "    print(\"b is big\")\n",
    "print(\"program ended\")"
   ]
  },
  {
   "cell_type": "code",
   "execution_count": 20,
   "metadata": {},
   "outputs": [
    {
     "name": "stdout",
     "output_type": "stream",
     "text": [
      "program started\n",
      "else block started\n",
      "b is big\n",
      "else block ended\n",
      "program ended\n"
     ]
    }
   ],
   "source": [
    "print(\"program started\")\n",
    "a=10 #float(input(\"enter a value:\"))\n",
    "b=20 #float(input(\"enter b value:\"))\n",
    "if a>b:\n",
    "    print(\"if block started\")\n",
    "    print(\"a is big\")\n",
    "    print(\"if block ended\")\n",
    "else:\n",
    "    print(\"else block started\")\n",
    "    print(\"b is big\")\n",
    "    print(\"else block ended\")\n",
    "print(\"program ended\")"
   ]
  },
  {
   "cell_type": "code",
   "execution_count": 21,
   "metadata": {},
   "outputs": [
    {
     "name": "stdout",
     "output_type": "stream",
     "text": [
      "program started\n",
      "if block started\n",
      "a is big\n",
      "if block ended\n",
      "program ended\n"
     ]
    }
   ],
   "source": [
    "print(\"program started\")\n",
    "a=100 #float(input(\"enter a value:\"))\n",
    "b=20 #float(input(\"enter b value:\"))\n",
    "if a>b:\n",
    "    print(\"if block started\")\n",
    "    print(\"a is big\")\n",
    "    print(\"if block ended\")\n",
    "else:\n",
    "    print(\"else block started\")\n",
    "    print(\"b is big\")\n",
    "    print(\"else block ended\")\n",
    "print(\"program ended\")"
   ]
  },
  {
   "cell_type": "code",
   "execution_count": 22,
   "metadata": {},
   "outputs": [
    {
     "name": "stdout",
     "output_type": "stream",
     "text": [
      "program started\n",
      "else block started\n",
      "b is big\n",
      "else block ended\n",
      "program ended\n"
     ]
    }
   ],
   "source": [
    "print(\"program started\")\n",
    "a=10 #float(input(\"enter a value:\"))\n",
    "b=20 #float(input(\"enter b value:\"))\n",
    "if a>b:\n",
    "    print(\"if block started\")\n",
    "    print(\"a is big\")\n",
    "    print(\"if block ended\")\n",
    "else:\n",
    " print(\"else block started\")\n",
    " print(\"b is big\")\n",
    " print(\"else block ended\")\n",
    "print(\"program ended\")"
   ]
  },
  {
   "cell_type": "code",
   "execution_count": 23,
   "metadata": {},
   "outputs": [
    {
     "name": "stdout",
     "output_type": "stream",
     "text": [
      "program started\n",
      "if block started\n",
      "a is big\n",
      "if block ended\n",
      "program ended\n"
     ]
    }
   ],
   "source": [
    "print(\"program started\")\n",
    "a=100 #float(input(\"enter a value:\"))\n",
    "b=20 #float(input(\"enter b value:\"))\n",
    "if a>b:\n",
    "    print(\"if block started\")\n",
    "    print(\"a is big\")\n",
    "    print(\"if block ended\")\n",
    "else:\n",
    " print(\"else block started\")\n",
    " print(\"b is big\")\n",
    " print(\"else block ended\")\n",
    "print(\"program ended\")"
   ]
  },
  {
   "cell_type": "code",
   "execution_count": 25,
   "metadata": {},
   "outputs": [
    {
     "ename": "IndentationError",
     "evalue": "unindent does not match any outer indentation level (<tokenize>, line 6)",
     "output_type": "error",
     "traceback": [
      "\u001b[1;36m  File \u001b[1;32m\"<tokenize>\"\u001b[1;36m, line \u001b[1;32m6\u001b[0m\n\u001b[1;33m    print(\"a is big\")\u001b[0m\n\u001b[1;37m    ^\u001b[0m\n\u001b[1;31mIndentationError\u001b[0m\u001b[1;31m:\u001b[0m unindent does not match any outer indentation level\n"
     ]
    }
   ],
   "source": [
    "print(\"program started\")\n",
    "a=100 #float(input(\"enter a value:\"))\n",
    "b=20 #float(input(\"enter b value:\"))\n",
    "if a>b:\n",
    "    print(\"if block started\")\n",
    " print(\"a is big\")\n",
    " print(\"if block ended\")\n",
    "else:\n",
    " print(\"else block started\")\n",
    " print(\"b is big\")\n",
    " print(\"else block ended\")\n",
    "print(\"program ended\")"
   ]
  },
  {
   "cell_type": "code",
   "execution_count": null,
   "metadata": {},
   "outputs": [],
   "source": [
    "print(\"program started\")\n",
    "a=100 #float(input(\"enter a value:\"))\n",
    "b=20 #float(input(\"enter b value:\"))\n",
    "if a>b:\n",
    "    print(\"if block started\")\n",
    "    print(\"a is big\")\n",
    "    print(\"if block ended\")\n",
    "else:\n",
    "    print(\"else block started\")\n",
    "    print(\"b is big\")\n",
    "print(\"else block ended\")\n",
    "print(\"program ended\")"
   ]
  },
  {
   "cell_type": "code",
   "execution_count": 1,
   "metadata": {},
   "outputs": [
    {
     "ename": "SyntaxError",
     "evalue": "invalid syntax (<ipython-input-1-9ad82691a236>, line 8)",
     "output_type": "error",
     "traceback": [
      "\u001b[1;36m  File \u001b[1;32m\"<ipython-input-1-9ad82691a236>\"\u001b[1;36m, line \u001b[1;32m8\u001b[0m\n\u001b[1;33m    else:\u001b[0m\n\u001b[1;37m    ^\u001b[0m\n\u001b[1;31mSyntaxError\u001b[0m\u001b[1;31m:\u001b[0m invalid syntax\n"
     ]
    }
   ],
   "source": [
    "print(\"program started\")\n",
    "a=100 #float(input(\"enter a value:\"))\n",
    "b=20 #float(input(\"enter b value:\"))\n",
    "if a>b:\n",
    "    print(\"if block started\")\n",
    "    print(\"a is big\")\n",
    "print(\"if block ended\")\n",
    "else:\n",
    "    print(\"else block started\")\n",
    "    print(\"b is big\")\n",
    "print(\"else block ended\")\n",
    "print(\"program ended\")"
   ]
  },
  {
   "cell_type": "code",
   "execution_count": null,
   "metadata": {},
   "outputs": [],
   "source": [
    "\"\"\"\n",
    "enter number1:20\n",
    "enter number2:5\n",
    "Menu:\n",
    "    1. Addition\n",
    "    2. Substraction\n",
    "    3. Multiplication\n",
    "    4. Division\n",
    "    Enter an option: 2\n",
    "    result:15\n",
    "\"\"\""
   ]
  },
  {
   "cell_type": "code",
   "execution_count": 2,
   "metadata": {},
   "outputs": [
    {
     "name": "stdout",
     "output_type": "stream",
     "text": [
      "enter number1:10\n",
      "enter number2:5\n",
      "Menu:\n",
      "\t1. Addition\n",
      "\t2. Substraction\n",
      "\t3. Multiplication\n",
      "\t4. Division\n",
      "Enter an option:1\n"
     ]
    }
   ],
   "source": [
    "n1=input(\"enter number1:\")\n",
    "n2=input(\"enter number2:\")\n",
    "print(\"Menu:\\n\\t1. Addition\\n\\t2. Substraction\\n\\t3. Multiplication\\n\\t4. Division\")\n",
    "opt = input(\"Enter an option:\")\n",
    "if opt == 1:\n",
    "    print(n1+n2)\n",
    "if opt == 2:\n",
    "    print(n1-n2)\n",
    "if opt == 3:\n",
    "    print(n1*n2)\n",
    "if opt == 4:\n",
    "    print(n1/n2)"
   ]
  },
  {
   "cell_type": "code",
   "execution_count": 3,
   "metadata": {},
   "outputs": [
    {
     "data": {
      "text/plain": [
       "False"
      ]
     },
     "execution_count": 3,
     "metadata": {},
     "output_type": "execute_result"
    }
   ],
   "source": [
    "\"1\"==1"
   ]
  },
  {
   "cell_type": "code",
   "execution_count": 4,
   "metadata": {},
   "outputs": [
    {
     "name": "stdout",
     "output_type": "stream",
     "text": [
      "enter number1:10\n",
      "enter number2:5\n",
      "Menu:\n",
      "\t1. Addition\n",
      "\t2. Substraction\n",
      "\t3. Multiplication\n",
      "\t4. Division\n",
      "Enter an option:2\n"
     ]
    },
    {
     "ename": "TypeError",
     "evalue": "unsupported operand type(s) for -: 'str' and 'str'",
     "output_type": "error",
     "traceback": [
      "\u001b[1;31m---------------------------------------------------------------------------\u001b[0m",
      "\u001b[1;31mTypeError\u001b[0m                                 Traceback (most recent call last)",
      "\u001b[1;32m<ipython-input-4-8589742b1c8b>\u001b[0m in \u001b[0;36m<module>\u001b[1;34m\u001b[0m\n\u001b[0;32m      6\u001b[0m     \u001b[0mprint\u001b[0m\u001b[1;33m(\u001b[0m\u001b[0mn1\u001b[0m\u001b[1;33m+\u001b[0m\u001b[0mn2\u001b[0m\u001b[1;33m)\u001b[0m\u001b[1;33m\u001b[0m\u001b[1;33m\u001b[0m\u001b[0m\n\u001b[0;32m      7\u001b[0m \u001b[1;32mif\u001b[0m \u001b[0mopt\u001b[0m \u001b[1;33m==\u001b[0m \u001b[1;34m\"2\"\u001b[0m\u001b[1;33m:\u001b[0m\u001b[1;33m\u001b[0m\u001b[1;33m\u001b[0m\u001b[0m\n\u001b[1;32m----> 8\u001b[1;33m     \u001b[0mprint\u001b[0m\u001b[1;33m(\u001b[0m\u001b[0mn1\u001b[0m\u001b[1;33m-\u001b[0m\u001b[0mn2\u001b[0m\u001b[1;33m)\u001b[0m\u001b[1;33m\u001b[0m\u001b[1;33m\u001b[0m\u001b[0m\n\u001b[0m\u001b[0;32m      9\u001b[0m \u001b[1;32mif\u001b[0m \u001b[0mopt\u001b[0m \u001b[1;33m==\u001b[0m \u001b[1;34m\"3\"\u001b[0m\u001b[1;33m:\u001b[0m\u001b[1;33m\u001b[0m\u001b[1;33m\u001b[0m\u001b[0m\n\u001b[0;32m     10\u001b[0m     \u001b[0mprint\u001b[0m\u001b[1;33m(\u001b[0m\u001b[0mn1\u001b[0m\u001b[1;33m*\u001b[0m\u001b[0mn2\u001b[0m\u001b[1;33m)\u001b[0m\u001b[1;33m\u001b[0m\u001b[1;33m\u001b[0m\u001b[0m\n",
      "\u001b[1;31mTypeError\u001b[0m: unsupported operand type(s) for -: 'str' and 'str'"
     ]
    }
   ],
   "source": [
    "n1=input(\"enter number1:\")\n",
    "n2=input(\"enter number2:\")\n",
    "print(\"Menu:\\n\\t1. Addition\\n\\t2. Substraction\\n\\t3. Multiplication\\n\\t4. Division\")\n",
    "opt = input(\"Enter an option:\")\n",
    "if opt == \"1\":\n",
    "    print(n1+n2)\n",
    "if opt == \"2\":\n",
    "    print(n1-n2)\n",
    "if opt == \"3\":\n",
    "    print(n1*n2)\n",
    "if opt == \"4\":\n",
    "    print(n1/n2)"
   ]
  },
  {
   "cell_type": "code",
   "execution_count": 5,
   "metadata": {},
   "outputs": [
    {
     "name": "stdout",
     "output_type": "stream",
     "text": [
      "enter number1:10\n",
      "enter number2:5\n",
      "Menu:\n",
      "\t1. Addition\n",
      "\t2. Substraction\n",
      "\t3. Multiplication\n",
      "\t4. Division\n",
      "Enter an option:3\n",
      "50.0\n"
     ]
    }
   ],
   "source": [
    "n1=float(input(\"enter number1:\"))\n",
    "n2=float(input(\"enter number2:\"))\n",
    "print(\"Menu:\\n\\t1. Addition\\n\\t2. Substraction\\n\\t3. Multiplication\\n\\t4. Division\")\n",
    "opt = input(\"Enter an option:\")\n",
    "if opt == \"1\":\n",
    "    print(n1+n2)\n",
    "if opt == \"2\":\n",
    "    print(n1-n2)\n",
    "if opt == \"3\":\n",
    "    print(n1*n2)\n",
    "if opt == \"4\":\n",
    "    print(n1/n2)"
   ]
  },
  {
   "cell_type": "code",
   "execution_count": 6,
   "metadata": {},
   "outputs": [
    {
     "name": "stdout",
     "output_type": "stream",
     "text": [
      "enter number1:10\n",
      "enter number2:5\n",
      "Menu:\n",
      "\t1. Addition\n",
      "\t2. Substraction\n",
      "\t3. Multiplication\n",
      "\t4. Division\n",
      "Enter an option:20\n"
     ]
    }
   ],
   "source": [
    "n1=float(input(\"enter number1:\"))\n",
    "n2=float(input(\"enter number2:\"))\n",
    "print(\"Menu:\\n\\t1. Addition\\n\\t2. Substraction\\n\\t3. Multiplication\\n\\t4. Division\")\n",
    "opt = input(\"Enter an option:\")\n",
    "if opt == \"1\":\n",
    "    print(n1+n2)\n",
    "if opt == \"2\":\n",
    "    print(n1-n2)\n",
    "if opt == \"3\":\n",
    "    print(n1*n2)\n",
    "if opt == \"4\":\n",
    "    print(n1/n2)"
   ]
  },
  {
   "cell_type": "code",
   "execution_count": 7,
   "metadata": {},
   "outputs": [
    {
     "name": "stdout",
     "output_type": "stream",
     "text": [
      "enter number1:10\n",
      "enter number2:5\n",
      "Menu:\n",
      "\t1. Addition\n",
      "\t2. Substraction\n",
      "\t3. Multiplication\n",
      "\t4. Division\n",
      "Enter an option:20\n",
      "Not providing services to this option.\n"
     ]
    }
   ],
   "source": [
    "n1=float(input(\"enter number1:\"))\n",
    "n2=float(input(\"enter number2:\"))\n",
    "print(\"Menu:\\n\\t1. Addition\\n\\t2. Substraction\\n\\t3. Multiplication\\n\\t4. Division\")\n",
    "opt = input(\"Enter an option:\")\n",
    "if opt == \"1\":\n",
    "    print(n1+n2)\n",
    "if opt == \"2\":\n",
    "    print(n1-n2)\n",
    "if opt == \"3\":\n",
    "    print(n1*n2)\n",
    "if opt == \"4\":\n",
    "    print(n1/n2)\n",
    "else:\n",
    "    print(\"Not providing services to this option.\")"
   ]
  },
  {
   "cell_type": "code",
   "execution_count": 8,
   "metadata": {},
   "outputs": [
    {
     "name": "stdout",
     "output_type": "stream",
     "text": [
      "enter number1:10\n",
      "enter number2:5\n",
      "Menu:\n",
      "\t1. Addition\n",
      "\t2. Substraction\n",
      "\t3. Multiplication\n",
      "\t4. Division\n",
      "Enter an option:2\n",
      "5.0\n",
      "Not providing services to this option.\n"
     ]
    }
   ],
   "source": [
    "n1=float(input(\"enter number1:\"))\n",
    "n2=float(input(\"enter number2:\"))\n",
    "print(\"Menu:\\n\\t1. Addition\\n\\t2. Substraction\\n\\t3. Multiplication\\n\\t4. Division\")\n",
    "opt = input(\"Enter an option:\")\n",
    "if opt == \"1\":\n",
    "    print(n1+n2)\n",
    "if opt == \"2\":\n",
    "    print(n1-n2)\n",
    "if opt == \"3\":\n",
    "    print(n1*n2)\n",
    "if opt == \"4\":\n",
    "    print(n1/n2)\n",
    "else:\n",
    "    print(\"Not providing services to this option.\")"
   ]
  },
  {
   "cell_type": "code",
   "execution_count": null,
   "metadata": {},
   "outputs": [],
   "source": [
    "n1=float(input(\"enter number1:\"))\n",
    "n2=float(input(\"enter number2:\"))\n",
    "print(\"Menu:\\n\\t1. Addition\\n\\t2. Substraction\\n\\t3. Multiplication\\n\\t4. Division\")\n",
    "opt = input(\"Enter an option:\")\n",
    "if opt>\"4\":\n",
    "    print(\"Not providing services to this option.\")\n",
    "else:\n",
    "    if opt == \"1\":\n",
    "        print(n1+n2)\n",
    "    if opt == \"2\":\n",
    "        print(n1-n2)\n",
    "    if opt == \"3\":\n",
    "        print(n1*n2)\n",
    "    if opt == \"4\":\n",
    "        print(n1/n2)\n"
   ]
  },
  {
   "cell_type": "code",
   "execution_count": 9,
   "metadata": {},
   "outputs": [
    {
     "data": {
      "text/plain": [
       "False"
      ]
     },
     "execution_count": 9,
     "metadata": {},
     "output_type": "execute_result"
    }
   ],
   "source": [
    "\"24\">\"4\""
   ]
  },
  {
   "cell_type": "code",
   "execution_count": null,
   "metadata": {},
   "outputs": [],
   "source": [
    "n1=float(input(\"enter number1:\"))\n",
    "n2=float(input(\"enter number2:\"))\n",
    "print(\"Menu:\\n\\t1. Addition\\n\\t2. Substraction\\n\\t3. Multiplication\\n\\t4. Division\")\n",
    "opt = input(\"Enter an option:\")\n",
    "if opt>\"4\":\n",
    "    print(\"Not providing services to this option.\")\n",
    "else:\n",
    "    if opt == \"1\":\n",
    "        print(n1+n2)\n",
    "    if opt == \"2\":\n",
    "        print(n1-n2)\n",
    "    if opt == \"3\":\n",
    "        print(n1*n2)\n",
    "    if opt == \"4\":\n",
    "        print(n1/n2)\n"
   ]
  },
  {
   "cell_type": "code",
   "execution_count": 10,
   "metadata": {},
   "outputs": [
    {
     "data": {
      "text/plain": [
       "False"
      ]
     },
     "execution_count": 10,
     "metadata": {},
     "output_type": "execute_result"
    }
   ],
   "source": [
    "\"24\" in [\"1\",\"2\",\"3\",\"4\"]"
   ]
  },
  {
   "cell_type": "code",
   "execution_count": 11,
   "metadata": {},
   "outputs": [
    {
     "data": {
      "text/plain": [
       "True"
      ]
     },
     "execution_count": 11,
     "metadata": {},
     "output_type": "execute_result"
    }
   ],
   "source": [
    "\"2\" in [\"1\",\"2\",\"3\",\"4\"]"
   ]
  },
  {
   "cell_type": "code",
   "execution_count": 12,
   "metadata": {},
   "outputs": [
    {
     "name": "stdout",
     "output_type": "stream",
     "text": [
      "enter number1:12\n",
      "enter number2:3\n",
      "Menu:\n",
      "\t1. Addition\n",
      "\t2. Substraction\n",
      "\t3. Multiplication\n",
      "\t4. Division\n",
      "Enter an option:7\n",
      "Not providing services to this option.\n"
     ]
    }
   ],
   "source": [
    "n1=float(input(\"enter number1:\"))\n",
    "n2=float(input(\"enter number2:\"))\n",
    "print(\"Menu:\\n\\t1. Addition\\n\\t2. Substraction\\n\\t3. Multiplication\\n\\t4. Division\")\n",
    "opt = input(\"Enter an option:\")\n",
    "if opt not in [\"1\",\"2\",\"3\",\"4\"]:\n",
    "    print(\"Not providing services to this option.\")\n",
    "else:\n",
    "    if opt == \"1\":\n",
    "        print(n1+n2)\n",
    "    if opt == \"2\":\n",
    "        print(n1-n2)\n",
    "    if opt == \"3\":\n",
    "        print(n1*n2)\n",
    "    if opt == \"4\":\n",
    "        print(n1/n2)\n"
   ]
  },
  {
   "cell_type": "code",
   "execution_count": 13,
   "metadata": {},
   "outputs": [
    {
     "name": "stdout",
     "output_type": "stream",
     "text": [
      "enter number1:12\n",
      "enter number2:3\n",
      "Menu:\n",
      "\t1. Addition\n",
      "\t2. Substraction\n",
      "\t3. Multiplication\n",
      "\t4. Division\n",
      "Enter an option:3\n",
      "36.0\n"
     ]
    }
   ],
   "source": [
    "n1=float(input(\"enter number1:\"))\n",
    "n2=float(input(\"enter number2:\"))\n",
    "print(\"Menu:\\n\\t1. Addition\\n\\t2. Substraction\\n\\t3. Multiplication\\n\\t4. Division\")\n",
    "opt = input(\"Enter an option:\")\n",
    "if opt not in [\"1\",\"2\",\"3\",\"4\"]:\n",
    "    print(\"Not providing services to this option.\")\n",
    "else:\n",
    "    if opt == \"1\":\n",
    "        print(n1+n2)\n",
    "    if opt == \"2\":\n",
    "        print(n1-n2)\n",
    "    if opt == \"3\":\n",
    "        print(n1*n2)\n",
    "    if opt == \"4\":\n",
    "        print(n1/n2)\n"
   ]
  },
  {
   "cell_type": "code",
   "execution_count": 14,
   "metadata": {},
   "outputs": [
    {
     "name": "stdout",
     "output_type": "stream",
     "text": [
      "enter number1:12\n",
      "enter number2:3\n",
      "Menu:\n",
      "\t1. Addition\n",
      "\t2. Substraction\n",
      "\t3. Multiplication\n",
      "\t4. Division\n",
      "Enter an option:1\n",
      "15.0\n",
      "DONE\n"
     ]
    }
   ],
   "source": [
    "n1=float(input(\"enter number1:\"))\n",
    "n2=float(input(\"enter number2:\"))\n",
    "print(\"Menu:\\n\\t1. Addition\\n\\t2. Substraction\\n\\t3. Multiplication\\n\\t4. Division\")\n",
    "opt = input(\"Enter an option:\")\n",
    "if opt == \"1\":\n",
    "    print(n1+n2)\n",
    "if opt == \"2\":\n",
    "    print(n1-n2)\n",
    "if opt == \"3\":\n",
    "    print(n1*n2)\n",
    "if opt == \"4\":\n",
    "    print(n1/n2)\n",
    "print(\"DONE\")"
   ]
  },
  {
   "cell_type": "code",
   "execution_count": 15,
   "metadata": {},
   "outputs": [
    {
     "name": "stdout",
     "output_type": "stream",
     "text": [
      "enter number1:12\n",
      "enter number2:3\n",
      "Menu:\n",
      "\t1. Addition\n",
      "\t2. Substraction\n",
      "\t3. Multiplication\n",
      "\t4. Division\n",
      "Enter an option:2\n",
      "9.0\n",
      "DONE\n"
     ]
    }
   ],
   "source": [
    "n1=float(input(\"enter number1:\"))\n",
    "n2=float(input(\"enter number2:\"))\n",
    "print(\"Menu:\\n\\t1. Addition\\n\\t2. Substraction\\n\\t3. Multiplication\\n\\t4. Division\")\n",
    "opt = input(\"Enter an option:\")\n",
    "if opt == \"1\":\n",
    "    print(n1+n2)\n",
    "elif opt == \"2\":\n",
    "    print(n1-n2)\n",
    "elif opt == \"3\":\n",
    "    print(n1*n2)\n",
    "elif opt == \"4\":\n",
    "    print(n1/n2)\n",
    "else:\n",
    "    print(\"not providing services to this option\")\n",
    "print(\"DONE\")"
   ]
  },
  {
   "cell_type": "code",
   "execution_count": 16,
   "metadata": {},
   "outputs": [
    {
     "name": "stdout",
     "output_type": "stream",
     "text": [
      "enter number1:12\n",
      "enter number2:5\n",
      "Menu:\n",
      "\t1. Addition\n",
      "\t2. Substraction\n",
      "\t3. Multiplication\n",
      "\t4. Division\n",
      "Enter an option:7\n",
      "not providing services to this option\n",
      "DONE\n"
     ]
    }
   ],
   "source": [
    "n1=float(input(\"enter number1:\"))\n",
    "n2=float(input(\"enter number2:\"))\n",
    "print(\"Menu:\\n\\t1. Addition\\n\\t2. Substraction\\n\\t3. Multiplication\\n\\t4. Division\")\n",
    "opt = input(\"Enter an option:\")\n",
    "if opt == \"1\":\n",
    "    print(n1+n2)\n",
    "elif opt == \"2\":\n",
    "    print(n1-n2)\n",
    "elif opt == \"3\":\n",
    "    print(n1*n2)\n",
    "elif opt == \"4\":\n",
    "    print(n1/n2)\n",
    "else:\n",
    "    print(\"not providing services to this option\")\n",
    "print(\"DONE\")"
   ]
  },
  {
   "cell_type": "code",
   "execution_count": 17,
   "metadata": {},
   "outputs": [
    {
     "name": "stdout",
     "output_type": "stream",
     "text": [
      "enter number1:10\n",
      "enter number2:3\n",
      "Menu:\n",
      "\t1. Addition\n",
      "\t2. Substraction\n",
      "\t3. Multiplication\n",
      "\t4. Division\n",
      "Enter an option:3\n",
      "30.0\n",
      "DONE\n"
     ]
    }
   ],
   "source": [
    "n1=float(input(\"enter number1:\"))\n",
    "n2=float(input(\"enter number2:\"))\n",
    "print(\"Menu:\\n\\t1. Addition\\n\\t2. Substraction\\n\\t3. Multiplication\\n\\t4. Division\")\n",
    "opt = input(\"Enter an option:\")\n",
    "if opt == \"1\":\n",
    "    print(n1+n2)\n",
    "elif opt == \"2\":\n",
    "    print(n1-n2)\n",
    "elif opt == \"3\":\n",
    "    print(n1*n2)\n",
    "elif opt == \"4\":\n",
    "    print(n1/n2)\n",
    "else:\n",
    "    print(\"not providing services to this option\")\n",
    "print(\"DONE\")"
   ]
  },
  {
   "cell_type": "code",
   "execution_count": 18,
   "metadata": {},
   "outputs": [],
   "source": [
    "# take a string from the user, print length of the string if the string not empty."
   ]
  },
  {
   "cell_type": "code",
   "execution_count": 19,
   "metadata": {},
   "outputs": [
    {
     "name": "stdout",
     "output_type": "stream",
     "text": [
      "enter a stringpython\n",
      "6\n"
     ]
    }
   ],
   "source": [
    "s=input(\"enter a string\")\n",
    "print(len(s))"
   ]
  },
  {
   "cell_type": "code",
   "execution_count": 20,
   "metadata": {},
   "outputs": [
    {
     "name": "stdout",
     "output_type": "stream",
     "text": [
      "enter a string\n",
      "0\n"
     ]
    }
   ],
   "source": [
    "s=input(\"enter a string\")\n",
    "print(len(s))"
   ]
  },
  {
   "cell_type": "code",
   "execution_count": 21,
   "metadata": {},
   "outputs": [],
   "source": [
    "s=\"\""
   ]
  },
  {
   "cell_type": "code",
   "execution_count": 22,
   "metadata": {},
   "outputs": [],
   "source": [
    "s=''"
   ]
  },
  {
   "cell_type": "code",
   "execution_count": 23,
   "metadata": {},
   "outputs": [
    {
     "name": "stdout",
     "output_type": "stream",
     "text": [
      "enter a stringpython\n",
      "False\n"
     ]
    }
   ],
   "source": [
    "s=input(\"enter a string\")\n",
    "print(s==\"\")"
   ]
  },
  {
   "cell_type": "code",
   "execution_count": 24,
   "metadata": {},
   "outputs": [
    {
     "name": "stdout",
     "output_type": "stream",
     "text": [
      "enter a string\n",
      "True\n"
     ]
    }
   ],
   "source": [
    "s=input(\"enter a string\")\n",
    "print(s==\"\")"
   ]
  },
  {
   "cell_type": "code",
   "execution_count": 25,
   "metadata": {},
   "outputs": [
    {
     "name": "stdout",
     "output_type": "stream",
     "text": [
      "enter a string\n",
      "True\n"
     ]
    }
   ],
   "source": [
    "s=input(\"enter a string\")\n",
    "print(s=='')"
   ]
  },
  {
   "cell_type": "code",
   "execution_count": 26,
   "metadata": {},
   "outputs": [
    {
     "name": "stdout",
     "output_type": "stream",
     "text": [
      "enrer string:ewrtrt\n",
      "6\n"
     ]
    }
   ],
   "source": [
    "s=input(\"enrer string:\")\n",
    "if len(s)>0:\n",
    "    print(len(s))\n",
    "else:\n",
    "    print(\"invalid string\")"
   ]
  },
  {
   "cell_type": "code",
   "execution_count": 27,
   "metadata": {},
   "outputs": [
    {
     "name": "stdout",
     "output_type": "stream",
     "text": [
      "enrer string:\n",
      "invalid string\n"
     ]
    }
   ],
   "source": [
    "s=input(\"enrer string:\")\n",
    "if len(s)>0:\n",
    "    print(len(s))\n",
    "else:\n",
    "    print(\"invalid string\")"
   ]
  },
  {
   "cell_type": "code",
   "execution_count": 28,
   "metadata": {},
   "outputs": [
    {
     "name": "stdout",
     "output_type": "stream",
     "text": [
      "enrer string:asdfg\n",
      "5\n"
     ]
    }
   ],
   "source": [
    "s=input(\"enrer string:\")\n",
    "l=len(s)\n",
    "if l>0:\n",
    "    print(l)\n",
    "else:\n",
    "    print(\"invalid string\")"
   ]
  },
  {
   "cell_type": "code",
   "execution_count": 29,
   "metadata": {},
   "outputs": [
    {
     "name": "stdout",
     "output_type": "stream",
     "text": [
      "enrer string:\n",
      "invalid string\n"
     ]
    }
   ],
   "source": [
    "s=input(\"enrer string:\")\n",
    "l=len(s)\n",
    "if l>0:\n",
    "    print(l)\n",
    "else:\n",
    "    print(\"invalid string\")"
   ]
  },
  {
   "cell_type": "code",
   "execution_count": null,
   "metadata": {},
   "outputs": [],
   "source": [
    "s=input(\"enrer string:\")\n",
    "if bool(s):\n",
    "    print(len(s))\n",
    "else:\n",
    "    print(\"invalid string\")"
   ]
  },
  {
   "cell_type": "code",
   "execution_count": 30,
   "metadata": {},
   "outputs": [
    {
     "data": {
      "text/plain": [
       "False"
      ]
     },
     "execution_count": 30,
     "metadata": {},
     "output_type": "execute_result"
    }
   ],
   "source": [
    "bool(\"\")"
   ]
  },
  {
   "cell_type": "code",
   "execution_count": 31,
   "metadata": {},
   "outputs": [
    {
     "data": {
      "text/plain": [
       "True"
      ]
     },
     "execution_count": 31,
     "metadata": {},
     "output_type": "execute_result"
    }
   ],
   "source": [
    "bool(\"prewtr\")"
   ]
  },
  {
   "cell_type": "code",
   "execution_count": 32,
   "metadata": {},
   "outputs": [
    {
     "name": "stdout",
     "output_type": "stream",
     "text": [
      "enrer string:asdfghj,\n",
      "8\n"
     ]
    }
   ],
   "source": [
    "s=input(\"enrer string:\")\n",
    "if bool(s):\n",
    "    print(len(s))\n",
    "else:\n",
    "    print(\"invalid string\")"
   ]
  },
  {
   "cell_type": "code",
   "execution_count": 33,
   "metadata": {},
   "outputs": [
    {
     "name": "stdout",
     "output_type": "stream",
     "text": [
      "enrer string:\n",
      "invalid string\n"
     ]
    }
   ],
   "source": [
    "s=input(\"enrer string:\")\n",
    "if bool(s):\n",
    "    print(len(s))\n",
    "else:\n",
    "    print(\"invalid string\")"
   ]
  },
  {
   "cell_type": "code",
   "execution_count": 34,
   "metadata": {},
   "outputs": [
    {
     "name": "stdout",
     "output_type": "stream",
     "text": [
      "enrer string:qwretry\n",
      "7\n"
     ]
    }
   ],
   "source": [
    "s=input(\"enrer string:\")\n",
    "if s:#bool(s)\n",
    "    print(len(s))\n",
    "else:\n",
    "    print(\"invalid string\")"
   ]
  },
  {
   "cell_type": "code",
   "execution_count": 35,
   "metadata": {},
   "outputs": [
    {
     "name": "stdout",
     "output_type": "stream",
     "text": [
      "enrer string:\n",
      "invalid string\n"
     ]
    }
   ],
   "source": [
    "s=input(\"enrer string:\")\n",
    "if s:#bool(s)\n",
    "    print(len(s))\n",
    "else:\n",
    "    print(\"invalid string\")"
   ]
  },
  {
   "cell_type": "code",
   "execution_count": 36,
   "metadata": {},
   "outputs": [
    {
     "name": "stdout",
     "output_type": "stream",
     "text": [
      "enrer string:dsdfcgv\n",
      "7\n"
     ]
    }
   ],
   "source": [
    "s=input(\"enrer string:\")\n",
    "if s:\n",
    "    print(len(s))\n",
    "else:\n",
    "    print(\"invalid string\")"
   ]
  },
  {
   "cell_type": "code",
   "execution_count": 37,
   "metadata": {},
   "outputs": [
    {
     "name": "stdout",
     "output_type": "stream",
     "text": [
      "enrer string:\n",
      "invalid string\n"
     ]
    }
   ],
   "source": [
    "s=input(\"enrer string:\")\n",
    "if s:\n",
    "    print(len(s))\n",
    "else:\n",
    "    print(\"invalid string\")"
   ]
  },
  {
   "cell_type": "code",
   "execution_count": 38,
   "metadata": {},
   "outputs": [
    {
     "name": "stdout",
     "output_type": "stream",
     "text": [
      "hello\n"
     ]
    }
   ],
   "source": [
    "if 1:\n",
    "    print(\"hello\")\n",
    "else:\n",
    "    print(\"HI\")"
   ]
  },
  {
   "cell_type": "code",
   "execution_count": null,
   "metadata": {},
   "outputs": [],
   "source": []
  }
 ],
 "metadata": {
  "kernelspec": {
   "display_name": "Python 3",
   "language": "python",
   "name": "python3"
  },
  "language_info": {
   "codemirror_mode": {
    "name": "ipython",
    "version": 3
   },
   "file_extension": ".py",
   "mimetype": "text/x-python",
   "name": "python",
   "nbconvert_exporter": "python",
   "pygments_lexer": "ipython3",
   "version": "3.8.3"
  }
 },
 "nbformat": 4,
 "nbformat_minor": 4
}
