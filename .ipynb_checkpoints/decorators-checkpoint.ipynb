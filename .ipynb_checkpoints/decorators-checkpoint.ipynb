{
 "cells": [
  {
   "cell_type": "code",
   "execution_count": 1,
   "metadata": {},
   "outputs": [
    {
     "name": "stdout",
     "output_type": "stream",
     "text": [
      "<function outer at 0x00000202343DE8B0>\n"
     ]
    }
   ],
   "source": [
    "def outer():\n",
    "    print(\"hello\")\n",
    "print(outer)"
   ]
  },
  {
   "cell_type": "code",
   "execution_count": 2,
   "metadata": {},
   "outputs": [
    {
     "name": "stdout",
     "output_type": "stream",
     "text": [
      "<function outer at 0x00000202343DE4C0>\n",
      "<function outer at 0x00000202343DE4C0>\n"
     ]
    }
   ],
   "source": [
    "def outer():\n",
    "    print(\"hello\")\n",
    "print(outer)# outer is the reference of the function.\n",
    "f1=outer\n",
    "print(f1)\n",
    "#f1, outre refering the same function object."
   ]
  },
  {
   "cell_type": "code",
   "execution_count": 3,
   "metadata": {},
   "outputs": [
    {
     "name": "stdout",
     "output_type": "stream",
     "text": [
      "hello\n",
      "res= None\n"
     ]
    }
   ],
   "source": [
    "def outer():\n",
    "    print(\"hello\")\n",
    "f1=outer\n",
    "res=f1()\n",
    "print(\"res=\",res)"
   ]
  },
  {
   "cell_type": "code",
   "execution_count": 5,
   "metadata": {},
   "outputs": [
    {
     "name": "stdout",
     "output_type": "stream",
     "text": [
      "f1= <function add at 0x00000202343DE280>\n",
      "30\n",
      "30\n"
     ]
    }
   ],
   "source": [
    "def add(x,y):\n",
    "    return x+y\n",
    "def outer():\n",
    "    return add\n",
    "f1=outer()\n",
    "print(\"f1=\", f1)\n",
    "# outer function returning add function reference\n",
    "# f1 refers to add fuction oject.\n",
    "# the add function object has two references, f1,add\n",
    "print(f1(10,20))\n",
    "print(add(10,20))"
   ]
  },
  {
   "cell_type": "code",
   "execution_count": 4,
   "metadata": {},
   "outputs": [
    {
     "name": "stdout",
     "output_type": "stream",
     "text": [
      "f1= 3\n"
     ]
    }
   ],
   "source": [
    "def add(x,y):\n",
    "    return x+y\n",
    "def outer():\n",
    "    return add(1,2)\n",
    "f1=outer()\n",
    "print(\"f1=\", f1)\n"
   ]
  },
  {
   "cell_type": "code",
   "execution_count": 6,
   "metadata": {},
   "outputs": [
    {
     "name": "stdout",
     "output_type": "stream",
     "text": [
      "a=1,b=2\n",
      "res= 3\n"
     ]
    }
   ],
   "source": [
    "def add(x,y):\n",
    "    return x+y\n",
    "def outer(fun,a,b):\n",
    "    print(f\"a={a},b={b}\")\n",
    "    result=fun(a,b)\n",
    "    return result\n",
    "res=outer(add,1,2)\n",
    "#fun=add, a=1,b=2\n",
    "# in the function add function object reffer by fun parameter. fun(), it will call add function. \n",
    "print(\"res=\",res)\n"
   ]
  },
  {
   "cell_type": "code",
   "execution_count": 7,
   "metadata": {},
   "outputs": [
    {
     "name": "stdout",
     "output_type": "stream",
     "text": [
      "this is outer\n",
      "result= None\n"
     ]
    }
   ],
   "source": [
    "def add(x,y):\n",
    "    return x+y\n",
    "def outer():\n",
    "    print(\"this is outer\")\n",
    "    def inner(a,b):\n",
    "        print(\"inner\")\n",
    "        \n",
    "res=outer()\n",
    "print(\"result=\",res)"
   ]
  },
  {
   "cell_type": "code",
   "execution_count": 9,
   "metadata": {},
   "outputs": [
    {
     "name": "stdout",
     "output_type": "stream",
     "text": [
      "this is outer\n",
      "inner\n",
      "result= None\n"
     ]
    }
   ],
   "source": [
    "def add(x,y):\n",
    "    return x+y\n",
    "def outer():\n",
    "    print(\"this is outer\")\n",
    "    def inner():\n",
    "        print(\"inner\")\n",
    "    return inner()\n",
    "        \n",
    "res=outer()\n",
    "print(\"result=\",res)"
   ]
  },
  {
   "cell_type": "code",
   "execution_count": 10,
   "metadata": {},
   "outputs": [
    {
     "name": "stdout",
     "output_type": "stream",
     "text": [
      "this is outer\n",
      "result= <function outer.<locals>.inner at 0x0000020234499280>\n"
     ]
    }
   ],
   "source": [
    "def add(x,y):\n",
    "    return x+y\n",
    "def outer():\n",
    "    print(\"this is outer\")\n",
    "    def inner():\n",
    "        print(\"inner\")\n",
    "    return inner\n",
    "        \n",
    "res=outer()#res=inner\n",
    "print(\"result=\",res)"
   ]
  },
  {
   "cell_type": "code",
   "execution_count": 11,
   "metadata": {},
   "outputs": [
    {
     "name": "stdout",
     "output_type": "stream",
     "text": [
      "this is outer\n",
      "result= <function outer.<locals>.inner at 0x0000020234499310>\n"
     ]
    }
   ],
   "source": [
    "def add(x,y):\n",
    "    return x+y\n",
    "def outer():\n",
    "    print(\"this is outer\")\n",
    "    def inner():\n",
    "        print(\"inner\")\n",
    "    return inner\n",
    "        \n",
    "f1=outer()#res=inner\n",
    "print(\"result=\",f1)"
   ]
  },
  {
   "cell_type": "code",
   "execution_count": 12,
   "metadata": {},
   "outputs": [
    {
     "name": "stdout",
     "output_type": "stream",
     "text": [
      "this is outer\n",
      "f1= <function outer.<locals>.inner at 0x00000202344993A0>\n",
      "inner\n",
      "result= 3\n"
     ]
    }
   ],
   "source": [
    "def add(x,y):\n",
    "    return x+y\n",
    "def outer():\n",
    "    print(\"this is outer\")\n",
    "    def inner(a,b):\n",
    "        print(\"inner\")\n",
    "        return a+b\n",
    "    return inner\n",
    "        \n",
    "f1=outer()#f1=inner\n",
    "print(\"f1=\",f1)\n",
    "res=f1(1,2)\n",
    "print(\"result=\",res)"
   ]
  },
  {
   "cell_type": "code",
   "execution_count": 13,
   "metadata": {},
   "outputs": [
    {
     "name": "stdout",
     "output_type": "stream",
     "text": [
      "this is outer\n",
      "f1= <function outer.<locals>.inner at 0x0000020234499280>\n",
      "inner\n",
      "result= 3\n"
     ]
    }
   ],
   "source": [
    "def add(x,y):#x=1,y=3\n",
    "    return x+y#3\n",
    "def outer(fun):#fun=add\n",
    "    print(\"this is outer\")\n",
    "    def inner(a,b):#a=1,b=2\n",
    "        print(\"inner\")\n",
    "        return fun(a,b)#add(1,2)\n",
    "    return inner\n",
    "        \n",
    "f1=outer(add)#f1=inner\n",
    "print(\"f1=\",f1)\n",
    "res=f1(1,2)\n",
    "print(\"result=\",res)"
   ]
  },
  {
   "cell_type": "code",
   "execution_count": 14,
   "metadata": {},
   "outputs": [
    {
     "name": "stdout",
     "output_type": "stream",
     "text": [
      "result= 3\n"
     ]
    }
   ],
   "source": [
    "def add(x,y):\n",
    "    return x+y\n",
    "\n",
    "def outer(fun):\n",
    "    def inner(a,b):\n",
    "        return fun(a,b)\n",
    "    return inner\n",
    "        \n",
    "f1=outer(add)\n",
    "res=f1(1,2)\n",
    "print(\"result=\",res)"
   ]
  },
  {
   "cell_type": "code",
   "execution_count": 15,
   "metadata": {},
   "outputs": [
    {
     "name": "stdout",
     "output_type": "stream",
     "text": [
      "result= 3\n"
     ]
    }
   ],
   "source": [
    "def outer(fun):\n",
    "    def inner(a,b):\n",
    "        print(f\"a={a},b={b}\")\n",
    "        return fun(a,b)\n",
    "    return inner\n",
    "\n",
    "def add(x,y):\n",
    "    return x+y\n",
    "res=add(1,2)\n",
    "print(\"result=\",res)"
   ]
  },
  {
   "cell_type": "code",
   "execution_count": 16,
   "metadata": {},
   "outputs": [
    {
     "name": "stdout",
     "output_type": "stream",
     "text": [
      "result= 3\n"
     ]
    }
   ],
   "source": [
    "def outer(fun):\n",
    "    def inner(a,b):\n",
    "        print(f\"a={a},b={b}\")\n",
    "        return fun(a,b)\n",
    "    return inner\n",
    "\n",
    "def add(x,y):\n",
    "    return x+y\n",
    "res=add(1,2)\n",
    "print(\"result=\",res)"
   ]
  },
  {
   "cell_type": "code",
   "execution_count": 17,
   "metadata": {},
   "outputs": [
    {
     "name": "stdout",
     "output_type": "stream",
     "text": [
      "a=1,b=2\n",
      "result= 3\n"
     ]
    }
   ],
   "source": [
    "def outer(fun):\n",
    "    def inner(a,b):\n",
    "        print(f\"a={a},b={b}\")\n",
    "        return fun(a,b)\n",
    "    return inner\n",
    "\n",
    "@outer\n",
    "def add(x,y):\n",
    "    return x+y\n",
    "res=add(1,2)#outer(add)(1,2)\n",
    "print(\"result=\",res)"
   ]
  },
  {
   "cell_type": "code",
   "execution_count": 2,
   "metadata": {},
   "outputs": [
    {
     "name": "stdout",
     "output_type": "stream",
     "text": [
      "30\n",
      "-10\n",
      "200\n"
     ]
    }
   ],
   "source": [
    "def add(x,y):\n",
    "    return x+y\n",
    "def sub(x,y):\n",
    "    return x-y\n",
    "def mul(x,y):\n",
    "    return x*y\n",
    "print(add(10,20))\n",
    "print(sub(10,20))\n",
    "print(mul(10,20))"
   ]
  },
  {
   "cell_type": "code",
   "execution_count": 3,
   "metadata": {},
   "outputs": [
    {
     "name": "stdout",
     "output_type": "stream",
     "text": [
      "30\n",
      "-10\n",
      "200\n"
     ]
    }
   ],
   "source": [
    "def print_result(fun):\n",
    "    def wrapper(x,y):\n",
    "        print(f\"x={x}, y={y}\")\n",
    "        res=fun(x,y)\n",
    "        return \"result=%s\"%res\n",
    "    return wrapper\n",
    "\n",
    "\n",
    "def add(x,y):\n",
    "    return x+y\n",
    "def sub(x,y):\n",
    "    return x-y\n",
    "def mul(x,y):\n",
    "    return x*y\n",
    "print(add(10,20))\n",
    "print(sub(10,20))\n",
    "print(mul(10,20))"
   ]
  },
  {
   "cell_type": "code",
   "execution_count": 4,
   "metadata": {},
   "outputs": [
    {
     "name": "stdout",
     "output_type": "stream",
     "text": [
      "x=10, y=20\n",
      "result=30\n",
      "-10\n",
      "200\n"
     ]
    }
   ],
   "source": [
    "def print_result(fun):\n",
    "    def wrapper(x,y):\n",
    "        print(f\"x={x}, y={y}\")\n",
    "        res=fun(x,y)\n",
    "        return \"result=%s\"%res\n",
    "    return wrapper\n",
    "\n",
    "@print_result\n",
    "def add(x,y):\n",
    "    return x+y\n",
    "def sub(x,y):\n",
    "    return x-y\n",
    "def mul(x,y):\n",
    "    return x*y\n",
    "print(add(10,20))#print_result(add)(10,20)\n",
    "print(sub(10,20))\n",
    "print(mul(10,20))"
   ]
  },
  {
   "cell_type": "code",
   "execution_count": 5,
   "metadata": {},
   "outputs": [
    {
     "name": "stdout",
     "output_type": "stream",
     "text": [
      "x=10, y=20\n",
      "result=30\n",
      "x=10, y=20\n",
      "result=-10\n",
      "200\n"
     ]
    }
   ],
   "source": [
    "def print_result(fun):\n",
    "    def wrapper(x,y):\n",
    "        print(f\"x={x}, y={y}\")\n",
    "        res=fun(x,y)\n",
    "        return \"result=%s\"%res\n",
    "    return wrapper\n",
    "\n",
    "@print_result\n",
    "def add(x,y):\n",
    "    return x+y\n",
    "@print_result\n",
    "def sub(x,y):\n",
    "    return x-y\n",
    "def mul(x,y):\n",
    "    return x*y\n",
    "print(add(10,20))#print_result(add)(10,20)\n",
    "print(sub(10,20))\n",
    "print(mul(10,20))"
   ]
  },
  {
   "cell_type": "code",
   "execution_count": 6,
   "metadata": {},
   "outputs": [
    {
     "name": "stdout",
     "output_type": "stream",
     "text": [
      "x=10, y=20\n",
      "result=30\n",
      "x=10, y=20\n",
      "result=-10\n",
      "x=10, y=20\n",
      "result=200\n"
     ]
    }
   ],
   "source": [
    "def print_result(fun):\n",
    "    def wrapper(x,y):\n",
    "        print(f\"x={x}, y={y}\")\n",
    "        res=fun(x,y)\n",
    "        return \"result=%s\"%res\n",
    "    return wrapper\n",
    "\n",
    "@print_result\n",
    "def add(x,y):\n",
    "    return x+y\n",
    "@print_result\n",
    "def sub(x,y):\n",
    "    return x-y\n",
    "@print_result\n",
    "def mul(x,y):\n",
    "    return x*y\n",
    "print(add(10,20))#print_result(add)(10,20)\n",
    "print(sub(10,20))\n",
    "print(mul(10,20))"
   ]
  },
  {
   "cell_type": "code",
   "execution_count": null,
   "metadata": {},
   "outputs": [],
   "source": []
  }
 ],
 "metadata": {
  "kernelspec": {
   "display_name": "Python 3",
   "language": "python",
   "name": "python3"
  },
  "language_info": {
   "codemirror_mode": {
    "name": "ipython",
    "version": 3
   },
   "file_extension": ".py",
   "mimetype": "text/x-python",
   "name": "python",
   "nbconvert_exporter": "python",
   "pygments_lexer": "ipython3",
   "version": "3.8.3"
  }
 },
 "nbformat": 4,
 "nbformat_minor": 4
}
