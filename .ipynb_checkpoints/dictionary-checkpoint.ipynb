{
 "cells": [
  {
   "cell_type": "code",
   "execution_count": 1,
   "metadata": {},
   "outputs": [
    {
     "name": "stdout",
     "output_type": "stream",
     "text": [
      "{'name': 'jayaram', 'age': 23} <class 'dict'>\n"
     ]
    }
   ],
   "source": [
    "d={\"name\":\"jayaram\",\"age\":23}\n",
    "print(d, type(d))"
   ]
  },
  {
   "cell_type": "code",
   "execution_count": 2,
   "metadata": {},
   "outputs": [
    {
     "name": "stdout",
     "output_type": "stream",
     "text": [
      "{'name': 'jayaram', 'age': 23} <class 'dict'>\n"
     ]
    }
   ],
   "source": [
    "v=[(\"name\",\"jayaram\"),(\"age\",23)]\n",
    "d=dict(v)\n",
    "print(d, type(d))"
   ]
  },
  {
   "cell_type": "code",
   "execution_count": 3,
   "metadata": {},
   "outputs": [
    {
     "name": "stdout",
     "output_type": "stream",
     "text": [
      "{'name': 'jayaram', 'age': 23} <class 'dict'>\n"
     ]
    }
   ],
   "source": [
    "v=[[\"name\",\"jayaram\"],[\"age\",23]]\n",
    "d=dict(v)\n",
    "print(d, type(d))"
   ]
  },
  {
   "cell_type": "code",
   "execution_count": 4,
   "metadata": {},
   "outputs": [
    {
     "ename": "ValueError",
     "evalue": "dictionary update sequence element #0 has length 1; 2 is required",
     "output_type": "error",
     "traceback": [
      "\u001b[1;31m---------------------------------------------------------------------------\u001b[0m",
      "\u001b[1;31mValueError\u001b[0m                                Traceback (most recent call last)",
      "\u001b[1;32m<ipython-input-4-497316f037a0>\u001b[0m in \u001b[0;36m<module>\u001b[1;34m\u001b[0m\n\u001b[1;32m----> 1\u001b[1;33m \u001b[0md\u001b[0m\u001b[1;33m=\u001b[0m\u001b[0mdict\u001b[0m\u001b[1;33m(\u001b[0m\u001b[1;34m\"python\"\u001b[0m\u001b[1;33m)\u001b[0m\u001b[1;33m\u001b[0m\u001b[1;33m\u001b[0m\u001b[0m\n\u001b[0m",
      "\u001b[1;31mValueError\u001b[0m: dictionary update sequence element #0 has length 1; 2 is required"
     ]
    }
   ],
   "source": [
    "d=dict(\"python\")"
   ]
  },
  {
   "cell_type": "code",
   "execution_count": 6,
   "metadata": {},
   "outputs": [
    {
     "name": "stdout",
     "output_type": "stream",
     "text": [
      "{'p': 'y', 't': 'h', 'o': 'n'}\n"
     ]
    }
   ],
   "source": [
    "d=dict([\"py\",\"th\",\"on\"])\n",
    "print(d)"
   ]
  },
  {
   "cell_type": "code",
   "execution_count": 7,
   "metadata": {},
   "outputs": [
    {
     "ename": "ValueError",
     "evalue": "dictionary update sequence element #0 has length 4; 2 is required",
     "output_type": "error",
     "traceback": [
      "\u001b[1;31m---------------------------------------------------------------------------\u001b[0m",
      "\u001b[1;31mValueError\u001b[0m                                Traceback (most recent call last)",
      "\u001b[1;32m<ipython-input-7-f74da95b44a3>\u001b[0m in \u001b[0;36m<module>\u001b[1;34m\u001b[0m\n\u001b[1;32m----> 1\u001b[1;33m \u001b[0md\u001b[0m\u001b[1;33m=\u001b[0m\u001b[0mdict\u001b[0m\u001b[1;33m(\u001b[0m\u001b[1;33m[\u001b[0m\u001b[1;34m\"py12\"\u001b[0m\u001b[1;33m,\u001b[0m\u001b[1;34m\"th34\"\u001b[0m\u001b[1;33m,\u001b[0m\u001b[1;34m\"on56\"\u001b[0m\u001b[1;33m]\u001b[0m\u001b[1;33m)\u001b[0m\u001b[1;33m\u001b[0m\u001b[1;33m\u001b[0m\u001b[0m\n\u001b[0m\u001b[0;32m      2\u001b[0m \u001b[0mprint\u001b[0m\u001b[1;33m(\u001b[0m\u001b[0md\u001b[0m\u001b[1;33m)\u001b[0m\u001b[1;33m\u001b[0m\u001b[1;33m\u001b[0m\u001b[0m\n",
      "\u001b[1;31mValueError\u001b[0m: dictionary update sequence element #0 has length 4; 2 is required"
     ]
    }
   ],
   "source": [
    "d=dict([\"py12\",\"th34\",\"on56\"])\n",
    "print(d)"
   ]
  },
  {
   "cell_type": "code",
   "execution_count": 8,
   "metadata": {},
   "outputs": [
    {
     "name": "stdout",
     "output_type": "stream",
     "text": [
      "{'name': 'jayaram', 'age': 23, 'adhar': 'adhar@123'}\n"
     ]
    }
   ],
   "source": [
    "d={\"name\":\"jayaram\",\"age\":23}\n",
    "d[\"adhar\"]=\"adhar@123\"\n",
    "print(d)"
   ]
  },
  {
   "cell_type": "code",
   "execution_count": 10,
   "metadata": {},
   "outputs": [
    {
     "name": "stdout",
     "output_type": "stream",
     "text": [
      "{'name': 'jayaram', 'age': 23, 'adhar': 'adhar@123', 'pan': 'pan@1234'}\n",
      "None\n"
     ]
    }
   ],
   "source": [
    "d={\"name\":\"jayaram\",\"age\":23}\n",
    "d1=d.update({\"adhar\":\"adhar@123\",\"pan\":\"pan@1234\"})\n",
    "print(d)\n",
    "print(d1)"
   ]
  },
  {
   "cell_type": "code",
   "execution_count": 11,
   "metadata": {},
   "outputs": [
    {
     "name": "stdout",
     "output_type": "stream",
     "text": [
      "{'name': 'jayaram', 'age': 23, 'adhar': 'adhar@1234'}\n",
      "adhar@1234\n"
     ]
    }
   ],
   "source": [
    "d={\"name\":\"jayaram\",\"age\":23}\n",
    "d1=d.setdefault(\"adhar\",\"adhar@1234\")\n",
    "print(d)\n",
    "print(d1)"
   ]
  },
  {
   "cell_type": "code",
   "execution_count": 12,
   "metadata": {},
   "outputs": [
    {
     "name": "stdout",
     "output_type": "stream",
     "text": [
      "{'name': 'jayaram', 'age': 23}\n",
      "jayaram\n"
     ]
    }
   ],
   "source": [
    "d={\"name\":\"jayaram\",\"age\":23}\n",
    "d1=d.setdefault(\"name\",\"JAYARAM\")\n",
    "print(d)\n",
    "print(d1)"
   ]
  },
  {
   "cell_type": "code",
   "execution_count": 13,
   "metadata": {},
   "outputs": [
    {
     "name": "stdout",
     "output_type": "stream",
     "text": [
      "{'name': 'JAYARAM', 'age': 23}\n",
      "None\n"
     ]
    }
   ],
   "source": [
    "d={\"name\":\"jayaram\",\"age\":23}\n",
    "d1=d.update({\"name\":\"JAYARAM\"})\n",
    "print(d)\n",
    "print(d1)"
   ]
  },
  {
   "cell_type": "code",
   "execution_count": 14,
   "metadata": {},
   "outputs": [
    {
     "name": "stdout",
     "output_type": "stream",
     "text": [
      "name\n",
      "age\n",
      "pan\n",
      "adhar\n"
     ]
    }
   ],
   "source": [
    "d={\"name\":\"jayaram\",\"age\":23,\"pan\":\"pan@1234\",\"adhar\":\"adhar@1234\"}\n",
    "for i in d:\n",
    "    print(i)"
   ]
  },
  {
   "cell_type": "code",
   "execution_count": 16,
   "metadata": {},
   "outputs": [
    {
     "name": "stdout",
     "output_type": "stream",
     "text": [
      "jayaram\n",
      "23\n",
      "pan@1234\n",
      "adhar@1234\n"
     ]
    }
   ],
   "source": [
    "d={\"name\":\"jayaram\",\"age\":23,\"pan\":\"pan@1234\",\"adhar\":\"adhar@1234\"}\n",
    "for i in d.values():\n",
    "    print(i)"
   ]
  },
  {
   "cell_type": "code",
   "execution_count": 17,
   "metadata": {},
   "outputs": [
    {
     "name": "stdout",
     "output_type": "stream",
     "text": [
      "('name', 'jayaram')\n",
      "('age', 23)\n",
      "('pan', 'pan@1234')\n",
      "('adhar', 'adhar@1234')\n"
     ]
    }
   ],
   "source": [
    "d={\"name\":\"jayaram\",\"age\":23,\"pan\":\"pan@1234\",\"adhar\":\"adhar@1234\"}\n",
    "for i in d.items():\n",
    "    print(i)"
   ]
  },
  {
   "cell_type": "code",
   "execution_count": 18,
   "metadata": {},
   "outputs": [
    {
     "name": "stdout",
     "output_type": "stream",
     "text": [
      "name jayaram\n",
      "age 23\n",
      "pan pan@1234\n",
      "adhar adhar@1234\n"
     ]
    }
   ],
   "source": [
    "d={\"name\":\"jayaram\",\"age\":23,\"pan\":\"pan@1234\",\"adhar\":\"adhar@1234\"}\n",
    "for key,value in d.items():\n",
    "    print(key, value)"
   ]
  },
  {
   "cell_type": "code",
   "execution_count": 19,
   "metadata": {},
   "outputs": [
    {
     "ename": "TypeError",
     "evalue": "pop expected at least 1 argument, got 0",
     "output_type": "error",
     "traceback": [
      "\u001b[1;31m---------------------------------------------------------------------------\u001b[0m",
      "\u001b[1;31mTypeError\u001b[0m                                 Traceback (most recent call last)",
      "\u001b[1;32m<ipython-input-19-585a91b0e777>\u001b[0m in \u001b[0;36m<module>\u001b[1;34m\u001b[0m\n\u001b[0;32m      1\u001b[0m \u001b[0md\u001b[0m\u001b[1;33m=\u001b[0m\u001b[1;33m{\u001b[0m\u001b[1;34m\"name\"\u001b[0m\u001b[1;33m:\u001b[0m\u001b[1;34m\"jayaram\"\u001b[0m\u001b[1;33m,\u001b[0m\u001b[1;34m\"age\"\u001b[0m\u001b[1;33m:\u001b[0m\u001b[1;36m23\u001b[0m\u001b[1;33m,\u001b[0m\u001b[1;34m\"pan\"\u001b[0m\u001b[1;33m:\u001b[0m\u001b[1;34m\"pan@1234\"\u001b[0m\u001b[1;33m,\u001b[0m\u001b[1;34m\"adhar\"\u001b[0m\u001b[1;33m:\u001b[0m\u001b[1;34m\"adhar@1234\"\u001b[0m\u001b[1;33m}\u001b[0m\u001b[1;33m\u001b[0m\u001b[1;33m\u001b[0m\u001b[0m\n\u001b[1;32m----> 2\u001b[1;33m \u001b[0md1\u001b[0m\u001b[1;33m=\u001b[0m\u001b[0md\u001b[0m\u001b[1;33m.\u001b[0m\u001b[0mpop\u001b[0m\u001b[1;33m(\u001b[0m\u001b[1;33m)\u001b[0m\u001b[1;33m\u001b[0m\u001b[1;33m\u001b[0m\u001b[0m\n\u001b[0m\u001b[0;32m      3\u001b[0m \u001b[0mprint\u001b[0m\u001b[1;33m(\u001b[0m\u001b[0md1\u001b[0m\u001b[1;33m)\u001b[0m\u001b[1;33m\u001b[0m\u001b[1;33m\u001b[0m\u001b[0m\n\u001b[0;32m      4\u001b[0m \u001b[0mprint\u001b[0m\u001b[1;33m(\u001b[0m\u001b[0md\u001b[0m\u001b[1;33m)\u001b[0m\u001b[1;33m\u001b[0m\u001b[1;33m\u001b[0m\u001b[0m\n",
      "\u001b[1;31mTypeError\u001b[0m: pop expected at least 1 argument, got 0"
     ]
    }
   ],
   "source": [
    "d={\"name\":\"jayaram\",\"age\":23,\"pan\":\"pan@1234\",\"adhar\":\"adhar@1234\"}\n",
    "d1=d.pop()\n",
    "print(d1)\n",
    "print(d)"
   ]
  },
  {
   "cell_type": "code",
   "execution_count": 20,
   "metadata": {},
   "outputs": [
    {
     "name": "stdout",
     "output_type": "stream",
     "text": [
      "('adhar', 'adhar@1234')\n",
      "{'name': 'jayaram', 'age': 23, 'pan': 'pan@1234'}\n"
     ]
    }
   ],
   "source": [
    "d={\"name\":\"jayaram\",\"age\":23,\"pan\":\"pan@1234\",\"adhar\":\"adhar@1234\"}\n",
    "d1=d.popitem()\n",
    "print(d1)\n",
    "print(d)"
   ]
  },
  {
   "cell_type": "code",
   "execution_count": 21,
   "metadata": {},
   "outputs": [
    {
     "name": "stdout",
     "output_type": "stream",
     "text": [
      "23\n",
      "{'name': 'jayaram', 'pan': 'pan@1234', 'adhar': 'adhar@1234'}\n"
     ]
    }
   ],
   "source": [
    "d={\"name\":\"jayaram\",\"age\":23,\"pan\":\"pan@1234\",\"adhar\":\"adhar@1234\"}\n",
    "d1=d.pop(\"age\")\n",
    "print(d1)\n",
    "print(d)"
   ]
  },
  {
   "cell_type": "code",
   "execution_count": 22,
   "metadata": {},
   "outputs": [
    {
     "ename": "KeyError",
     "evalue": "'cell'",
     "output_type": "error",
     "traceback": [
      "\u001b[1;31m---------------------------------------------------------------------------\u001b[0m",
      "\u001b[1;31mKeyError\u001b[0m                                  Traceback (most recent call last)",
      "\u001b[1;32m<ipython-input-22-1eb7ffed2f44>\u001b[0m in \u001b[0;36m<module>\u001b[1;34m\u001b[0m\n\u001b[0;32m      1\u001b[0m \u001b[0md\u001b[0m\u001b[1;33m=\u001b[0m\u001b[1;33m{\u001b[0m\u001b[1;34m\"name\"\u001b[0m\u001b[1;33m:\u001b[0m\u001b[1;34m\"jayaram\"\u001b[0m\u001b[1;33m,\u001b[0m\u001b[1;34m\"age\"\u001b[0m\u001b[1;33m:\u001b[0m\u001b[1;36m23\u001b[0m\u001b[1;33m,\u001b[0m\u001b[1;34m\"pan\"\u001b[0m\u001b[1;33m:\u001b[0m\u001b[1;34m\"pan@1234\"\u001b[0m\u001b[1;33m,\u001b[0m\u001b[1;34m\"adhar\"\u001b[0m\u001b[1;33m:\u001b[0m\u001b[1;34m\"adhar@1234\"\u001b[0m\u001b[1;33m}\u001b[0m\u001b[1;33m\u001b[0m\u001b[1;33m\u001b[0m\u001b[0m\n\u001b[1;32m----> 2\u001b[1;33m \u001b[0md1\u001b[0m\u001b[1;33m=\u001b[0m\u001b[0md\u001b[0m\u001b[1;33m.\u001b[0m\u001b[0mpop\u001b[0m\u001b[1;33m(\u001b[0m\u001b[1;34m\"cell\"\u001b[0m\u001b[1;33m)\u001b[0m\u001b[1;33m\u001b[0m\u001b[1;33m\u001b[0m\u001b[0m\n\u001b[0m\u001b[0;32m      3\u001b[0m \u001b[0mprint\u001b[0m\u001b[1;33m(\u001b[0m\u001b[0md1\u001b[0m\u001b[1;33m)\u001b[0m\u001b[1;33m\u001b[0m\u001b[1;33m\u001b[0m\u001b[0m\n\u001b[0;32m      4\u001b[0m \u001b[0mprint\u001b[0m\u001b[1;33m(\u001b[0m\u001b[0md\u001b[0m\u001b[1;33m)\u001b[0m\u001b[1;33m\u001b[0m\u001b[1;33m\u001b[0m\u001b[0m\n",
      "\u001b[1;31mKeyError\u001b[0m: 'cell'"
     ]
    }
   ],
   "source": [
    "d={\"name\":\"jayaram\",\"age\":23,\"pan\":\"pan@1234\",\"adhar\":\"adhar@1234\"}\n",
    "d1=d.pop(\"cell\")\n",
    "print(d1)\n",
    "print(d)"
   ]
  },
  {
   "cell_type": "code",
   "execution_count": 23,
   "metadata": {},
   "outputs": [
    {
     "name": "stdout",
     "output_type": "stream",
     "text": [
      "0000000000\n",
      "{'name': 'jayaram', 'age': 23, 'pan': 'pan@1234', 'adhar': 'adhar@1234'}\n"
     ]
    }
   ],
   "source": [
    "d={\"name\":\"jayaram\",\"age\":23,\"pan\":\"pan@1234\",\"adhar\":\"adhar@1234\"}\n",
    "d1=d.pop(\"cell\", \"0000000000\")\n",
    "print(d1)\n",
    "print(d)"
   ]
  },
  {
   "cell_type": "code",
   "execution_count": 24,
   "metadata": {},
   "outputs": [
    {
     "name": "stdout",
     "output_type": "stream",
     "text": [
      "23\n",
      "23\n"
     ]
    }
   ],
   "source": [
    "d={\"name\":\"jayaram\",\"age\":23,\"pan\":\"pan@1234\",\"adhar\":\"adhar@1234\"}\n",
    "print(d[\"age\"])\n",
    "print(d.get(\"age\"))"
   ]
  },
  {
   "cell_type": "code",
   "execution_count": 26,
   "metadata": {},
   "outputs": [
    {
     "name": "stdout",
     "output_type": "stream",
     "text": [
      "None\n"
     ]
    },
    {
     "ename": "KeyError",
     "evalue": "'cell'",
     "output_type": "error",
     "traceback": [
      "\u001b[1;31m---------------------------------------------------------------------------\u001b[0m",
      "\u001b[1;31mKeyError\u001b[0m                                  Traceback (most recent call last)",
      "\u001b[1;32m<ipython-input-26-d1ec226bd1dd>\u001b[0m in \u001b[0;36m<module>\u001b[1;34m\u001b[0m\n\u001b[0;32m      1\u001b[0m \u001b[0md\u001b[0m\u001b[1;33m=\u001b[0m\u001b[1;33m{\u001b[0m\u001b[1;34m\"name\"\u001b[0m\u001b[1;33m:\u001b[0m\u001b[1;34m\"jayaram\"\u001b[0m\u001b[1;33m,\u001b[0m\u001b[1;34m\"age\"\u001b[0m\u001b[1;33m:\u001b[0m\u001b[1;36m23\u001b[0m\u001b[1;33m,\u001b[0m\u001b[1;34m\"pan\"\u001b[0m\u001b[1;33m:\u001b[0m\u001b[1;34m\"pan@1234\"\u001b[0m\u001b[1;33m,\u001b[0m\u001b[1;34m\"adhar\"\u001b[0m\u001b[1;33m:\u001b[0m\u001b[1;34m\"adhar@1234\"\u001b[0m\u001b[1;33m}\u001b[0m\u001b[1;33m\u001b[0m\u001b[1;33m\u001b[0m\u001b[0m\n\u001b[0;32m      2\u001b[0m \u001b[0mprint\u001b[0m\u001b[1;33m(\u001b[0m\u001b[0md\u001b[0m\u001b[1;33m.\u001b[0m\u001b[0mget\u001b[0m\u001b[1;33m(\u001b[0m\u001b[1;34m\"cell\"\u001b[0m\u001b[1;33m)\u001b[0m\u001b[1;33m)\u001b[0m\u001b[1;33m\u001b[0m\u001b[1;33m\u001b[0m\u001b[0m\n\u001b[1;32m----> 3\u001b[1;33m \u001b[0mprint\u001b[0m\u001b[1;33m(\u001b[0m\u001b[0md\u001b[0m\u001b[1;33m[\u001b[0m\u001b[1;34m\"cell\"\u001b[0m\u001b[1;33m]\u001b[0m\u001b[1;33m)\u001b[0m\u001b[1;33m\u001b[0m\u001b[1;33m\u001b[0m\u001b[0m\n\u001b[0m",
      "\u001b[1;31mKeyError\u001b[0m: 'cell'"
     ]
    }
   ],
   "source": [
    "d={\"name\":\"jayaram\",\"age\":23,\"pan\":\"pan@1234\",\"adhar\":\"adhar@1234\"}\n",
    "print(d.get(\"cell\"))\n",
    "print(d[\"cell\"])\n"
   ]
  },
  {
   "cell_type": "code",
   "execution_count": 27,
   "metadata": {},
   "outputs": [
    {
     "name": "stdout",
     "output_type": "stream",
     "text": [
      "0000000000\n"
     ]
    }
   ],
   "source": [
    "d={\"name\":\"jayaram\",\"age\":23,\"pan\":\"pan@1234\",\"adhar\":\"adhar@1234\"}\n",
    "print(d.get(\"cell\",\"0000000000\"))"
   ]
  },
  {
   "cell_type": "code",
   "execution_count": 28,
   "metadata": {},
   "outputs": [
    {
     "name": "stdout",
     "output_type": "stream",
     "text": [
      "['__class__', '__contains__', '__delattr__', '__delitem__', '__dir__', '__doc__', '__eq__', '__format__', '__ge__', '__getattribute__', '__getitem__', '__gt__', '__hash__', '__init__', '__init_subclass__', '__iter__', '__le__', '__len__', '__lt__', '__ne__', '__new__', '__reduce__', '__reduce_ex__', '__repr__', '__reversed__', '__setattr__', '__setitem__', '__sizeof__', '__str__', '__subclasshook__', 'clear', 'copy', 'fromkeys', 'get', 'items', 'keys', 'pop', 'popitem', 'setdefault', 'update', 'values']\n"
     ]
    }
   ],
   "source": [
    "print(dir(d))"
   ]
  },
  {
   "cell_type": "code",
   "execution_count": 29,
   "metadata": {},
   "outputs": [
    {
     "name": "stdout",
     "output_type": "stream",
     "text": [
      "{'name': 'JAYARAM', 'age': 23, 'pan': 'pan@1234', 'adhar': 'adhar@1234'}\n",
      "{'name': 'JAYARAM', 'age': 23, 'pan': 'pan@1234', 'adhar': 'adhar@1234'}\n"
     ]
    }
   ],
   "source": [
    "d={\"name\":\"jayaram\",\"age\":23,\"pan\":\"pan@1234\",\"adhar\":\"adhar@1234\"}\n",
    "d1=d\n",
    "d[\"name\"]=\"JAYARAM\"\n",
    "print(d)\n",
    "print(d1)"
   ]
  },
  {
   "cell_type": "code",
   "execution_count": 30,
   "metadata": {},
   "outputs": [
    {
     "name": "stdout",
     "output_type": "stream",
     "text": [
      "{'name': 'JAYARAM', 'age': 23, 'pan': 'pan@1234', 'adhar': 'adhar@1234'}\n",
      "{'name': 'jayaram', 'age': 23, 'pan': 'pan@1234', 'adhar': 'adhar@1234'}\n"
     ]
    }
   ],
   "source": [
    "d={\"name\":\"jayaram\",\"age\":23,\"pan\":\"pan@1234\",\"adhar\":\"adhar@1234\"}\n",
    "d1=d.copy()\n",
    "d[\"name\"]=\"JAYARAM\"\n",
    "print(d)\n",
    "print(d1)"
   ]
  },
  {
   "cell_type": "code",
   "execution_count": 31,
   "metadata": {},
   "outputs": [
    {
     "name": "stdout",
     "output_type": "stream",
     "text": [
      "{}\n"
     ]
    }
   ],
   "source": [
    "d={\"name\":\"jayaram\",\"age\":23,\"pan\":\"pan@1234\",\"adhar\":\"adhar@1234\"}\n",
    "d.clear()\n",
    "print(d)"
   ]
  },
  {
   "cell_type": "code",
   "execution_count": 32,
   "metadata": {},
   "outputs": [
    {
     "name": "stdout",
     "output_type": "stream",
     "text": [
      "['__class__', '__contains__', '__delattr__', '__delitem__', '__dir__', '__doc__', '__eq__', '__format__', '__ge__', '__getattribute__', '__getitem__', '__gt__', '__hash__', '__init__', '__init_subclass__', '__iter__', '__le__', '__len__', '__lt__', '__ne__', '__new__', '__reduce__', '__reduce_ex__', '__repr__', '__reversed__', '__setattr__', '__setitem__', '__sizeof__', '__str__', '__subclasshook__', 'clear', 'copy', 'fromkeys', 'get', 'items', 'keys', 'pop', 'popitem', 'setdefault', 'update', 'values']\n"
     ]
    }
   ],
   "source": [
    "print(dir(d))"
   ]
  },
  {
   "cell_type": "code",
   "execution_count": null,
   "metadata": {},
   "outputs": [],
   "source": [
    "d={\"name\":\"jay\"}"
   ]
  },
  {
   "cell_type": "code",
   "execution_count": 3,
   "metadata": {},
   "outputs": [
    {
     "name": "stdout",
     "output_type": "stream",
     "text": [
      "{1: 'int', 1.2: 'float', None: 'none', (1, 2, 3): 'tuple', (1+2j): 'comp'}\n"
     ]
    }
   ],
   "source": [
    "d={1:\"int\",1.2:\"float\",None:\"none\",(1,2,3):\"tuple\",1+2j:\"comp\"}\n",
    "print(d)"
   ]
  },
  {
   "cell_type": "code",
   "execution_count": 4,
   "metadata": {},
   "outputs": [
    {
     "name": "stdout",
     "output_type": "stream",
     "text": [
      "{True: 'bool_true', False: 'bool_false'}\n"
     ]
    }
   ],
   "source": [
    "d={True:\"bool_true\",False:\"bool_false\"}\n",
    "print(d)"
   ]
  },
  {
   "cell_type": "code",
   "execution_count": 5,
   "metadata": {},
   "outputs": [
    {
     "ename": "TypeError",
     "evalue": "unhashable type: 'list'",
     "output_type": "error",
     "traceback": [
      "\u001b[1;31m---------------------------------------------------------------------------\u001b[0m",
      "\u001b[1;31mTypeError\u001b[0m                                 Traceback (most recent call last)",
      "\u001b[1;32m<ipython-input-5-9f81f47ca4df>\u001b[0m in \u001b[0;36m<module>\u001b[1;34m\u001b[0m\n\u001b[1;32m----> 1\u001b[1;33m \u001b[0md\u001b[0m\u001b[1;33m=\u001b[0m\u001b[1;33m{\u001b[0m\u001b[1;33m[\u001b[0m\u001b[1;36m1\u001b[0m\u001b[1;33m,\u001b[0m\u001b[1;36m2\u001b[0m\u001b[1;33m,\u001b[0m\u001b[1;36m3\u001b[0m\u001b[1;33m]\u001b[0m\u001b[1;33m:\u001b[0m\u001b[1;34m\"list\"\u001b[0m\u001b[1;33m}\u001b[0m\u001b[1;33m\u001b[0m\u001b[1;33m\u001b[0m\u001b[0m\n\u001b[0m",
      "\u001b[1;31mTypeError\u001b[0m: unhashable type: 'list'"
     ]
    }
   ],
   "source": [
    "d={[1,2,3]:\"list\"}"
   ]
  },
  {
   "cell_type": "code",
   "execution_count": 6,
   "metadata": {},
   "outputs": [
    {
     "ename": "TypeError",
     "evalue": "unhashable type: 'set'",
     "output_type": "error",
     "traceback": [
      "\u001b[1;31m---------------------------------------------------------------------------\u001b[0m",
      "\u001b[1;31mTypeError\u001b[0m                                 Traceback (most recent call last)",
      "\u001b[1;32m<ipython-input-6-9a5f7d5344c2>\u001b[0m in \u001b[0;36m<module>\u001b[1;34m\u001b[0m\n\u001b[1;32m----> 1\u001b[1;33m \u001b[0md\u001b[0m\u001b[1;33m=\u001b[0m\u001b[1;33m{\u001b[0m\u001b[1;33m{\u001b[0m\u001b[1;36m1\u001b[0m\u001b[1;33m,\u001b[0m\u001b[1;36m2\u001b[0m\u001b[1;33m,\u001b[0m\u001b[1;36m3\u001b[0m\u001b[1;33m}\u001b[0m\u001b[1;33m:\u001b[0m\u001b[1;34m\"set\"\u001b[0m\u001b[1;33m}\u001b[0m\u001b[1;33m\u001b[0m\u001b[1;33m\u001b[0m\u001b[0m\n\u001b[0m",
      "\u001b[1;31mTypeError\u001b[0m: unhashable type: 'set'"
     ]
    }
   ],
   "source": [
    "d={{1,2,3}:\"set\"}"
   ]
  },
  {
   "cell_type": "code",
   "execution_count": 7,
   "metadata": {},
   "outputs": [
    {
     "ename": "TypeError",
     "evalue": "unhashable type: 'dict'",
     "output_type": "error",
     "traceback": [
      "\u001b[1;31m---------------------------------------------------------------------------\u001b[0m",
      "\u001b[1;31mTypeError\u001b[0m                                 Traceback (most recent call last)",
      "\u001b[1;32m<ipython-input-7-5078eca8e6e3>\u001b[0m in \u001b[0;36m<module>\u001b[1;34m\u001b[0m\n\u001b[1;32m----> 1\u001b[1;33m \u001b[0md\u001b[0m\u001b[1;33m=\u001b[0m\u001b[1;33m{\u001b[0m\u001b[1;33m{\u001b[0m\u001b[1;34m\"name\"\u001b[0m\u001b[1;33m:\u001b[0m\u001b[1;34m\"jay\"\u001b[0m\u001b[1;33m}\u001b[0m\u001b[1;33m:\u001b[0m\u001b[1;34m\"set\"\u001b[0m\u001b[1;33m}\u001b[0m\u001b[1;33m\u001b[0m\u001b[1;33m\u001b[0m\u001b[0m\n\u001b[0m",
      "\u001b[1;31mTypeError\u001b[0m: unhashable type: 'dict'"
     ]
    }
   ],
   "source": [
    "d={{\"name\":\"jay\"}:\"set\"}"
   ]
  },
  {
   "cell_type": "code",
   "execution_count": 8,
   "metadata": {},
   "outputs": [],
   "source": [
    "# all immutable data types can be used as a key."
   ]
  },
  {
   "cell_type": "code",
   "execution_count": 9,
   "metadata": {},
   "outputs": [
    {
     "name": "stdout",
     "output_type": "stream",
     "text": [
      "{1: 'ONE', 2: 'two'}\n"
     ]
    }
   ],
   "source": [
    "d={1:\"one\",2:\"two\",1:\"ONE\"}\n",
    "print(d)"
   ]
  },
  {
   "cell_type": "code",
   "execution_count": 10,
   "metadata": {},
   "outputs": [],
   "source": [
    "#set is mutable"
   ]
  },
  {
   "cell_type": "code",
   "execution_count": 11,
   "metadata": {},
   "outputs": [
    {
     "name": "stdout",
     "output_type": "stream",
     "text": [
      "{1: 'bool_true', 2: 'two'}\n"
     ]
    }
   ],
   "source": [
    "d={1:\"one\",2:\"two\",1:\"ONE\",True:\"bool_true\"}\n",
    "print(d)"
   ]
  },
  {
   "cell_type": "code",
   "execution_count": 12,
   "metadata": {},
   "outputs": [
    {
     "name": "stdout",
     "output_type": "stream",
     "text": [
      "{'name': 'jay', 'age': '23', 'weight': 23.45}\n",
      "['age', 'name', 'weight']\n"
     ]
    }
   ],
   "source": [
    "d={\"name\":\"jay\",\"age\":\"23\",\"weight\":23.45}\n",
    "d1=sorted(d)\n",
    "print(d)\n",
    "print(d1)"
   ]
  },
  {
   "cell_type": "code",
   "execution_count": 13,
   "metadata": {},
   "outputs": [
    {
     "name": "stdout",
     "output_type": "stream",
     "text": [
      "{'age': '23', 'name': 'jay', 'weight': 23.45}\n"
     ]
    }
   ],
   "source": [
    "d={\"name\":\"jay\",\"age\":\"23\",\"weight\":23.45}\n",
    "d1=sorted(d)\n",
    "res={}\n",
    "for key in d1:\n",
    "    res[key]=d.get(key)\n",
    "print(res)\n"
   ]
  },
  {
   "cell_type": "code",
   "execution_count": 15,
   "metadata": {},
   "outputs": [
    {
     "name": "stdout",
     "output_type": "stream",
     "text": [
      "['In', 'Out', '_', '_14', '__', '___', '__builtin__', '__builtins__', '__doc__', '__loader__', '__name__', '__package__', '__spec__', '_dh', '_i', '_i1', '_i10', '_i11', '_i12', '_i13', '_i14', '_i15', '_i2', '_i3', '_i4', '_i5', '_i6', '_i7', '_i8', '_i9', '_ih', '_ii', '_iii', '_oh', 'd', 'd1', 'exit', 'get_ipython', 'key', 'quit', 'res']\n"
     ]
    }
   ],
   "source": [
    "print(dir())"
   ]
  },
  {
   "cell_type": "code",
   "execution_count": 17,
   "metadata": {},
   "outputs": [
    {
     "name": "stdout",
     "output_type": "stream",
     "text": [
      "{'__name__': '__main__', '__doc__': 'Automatically created module for IPython interactive environment', '__package__': None, '__loader__': None, '__spec__': None, '__builtin__': <module 'builtins' (built-in)>, '__builtins__': <module 'builtins' (built-in)>, '_ih': ['', 'd={1:\"int\",1.2:\"float\",None:\"none\",(1,2,3):\"tuple\",1+2j:\"comp\"}', 'd={True:\"bool_true\",False:\"bool_false\"}\\nprint(d)', 'd={1:\"int\",1.2:\"float\",None:\"none\",(1,2,3):\"tuple\",1+2j:\"comp\"}\\nprint(d)', 'd={True:\"bool_true\",False:\"bool_false\"}\\nprint(d)', 'd={[1,2,3]:\"list\"}', 'd={{1,2,3}:\"set\"}', 'd={{\"name\":\"jay\"}:\"set\"}', '# all immutable data types can be used as a key.', 'd={1:\"one\",2:\"two\",1:\"ONE\"}\\nprint(d)', '#set is mutable', 'd={1:\"one\",2:\"two\",1:\"ONE\",True:\"bool_true\"}\\nprint(d)', 'd={\"name\":\"jay\",\"age\":\"23\",\"weight\":23.45}\\nd1=sorted(d)\\nprint(d)\\nprint(d1)', 'd={\"name\":\"jay\",\"age\":\"23\",\"weight\":23.45}\\nd1=sorted(d)\\nres={}\\nfor key in d1:\\n    res[key]=d.get(key)\\nprint(res)', 'dir()', 'print(dir())', 'print(globals)', 'print(globals())'], '_oh': {14: ['In', 'Out', '_', '__', '___', '__builtin__', '__builtins__', '__doc__', '__loader__', '__name__', '__package__', '__spec__', '_dh', '_i', '_i1', '_i10', '_i11', '_i12', '_i13', '_i14', '_i2', '_i3', '_i4', '_i5', '_i6', '_i7', '_i8', '_i9', '_ih', '_ii', '_iii', '_oh', 'd', 'd1', 'exit', 'get_ipython', 'key', 'quit', 'res']}, '_dh': ['C:\\\\Users\\\\Lenovo\\\\batch82'], 'In': ['', 'd={1:\"int\",1.2:\"float\",None:\"none\",(1,2,3):\"tuple\",1+2j:\"comp\"}', 'd={True:\"bool_true\",False:\"bool_false\"}\\nprint(d)', 'd={1:\"int\",1.2:\"float\",None:\"none\",(1,2,3):\"tuple\",1+2j:\"comp\"}\\nprint(d)', 'd={True:\"bool_true\",False:\"bool_false\"}\\nprint(d)', 'd={[1,2,3]:\"list\"}', 'd={{1,2,3}:\"set\"}', 'd={{\"name\":\"jay\"}:\"set\"}', '# all immutable data types can be used as a key.', 'd={1:\"one\",2:\"two\",1:\"ONE\"}\\nprint(d)', '#set is mutable', 'd={1:\"one\",2:\"two\",1:\"ONE\",True:\"bool_true\"}\\nprint(d)', 'd={\"name\":\"jay\",\"age\":\"23\",\"weight\":23.45}\\nd1=sorted(d)\\nprint(d)\\nprint(d1)', 'd={\"name\":\"jay\",\"age\":\"23\",\"weight\":23.45}\\nd1=sorted(d)\\nres={}\\nfor key in d1:\\n    res[key]=d.get(key)\\nprint(res)', 'dir()', 'print(dir())', 'print(globals)', 'print(globals())'], 'Out': {14: ['In', 'Out', '_', '__', '___', '__builtin__', '__builtins__', '__doc__', '__loader__', '__name__', '__package__', '__spec__', '_dh', '_i', '_i1', '_i10', '_i11', '_i12', '_i13', '_i14', '_i2', '_i3', '_i4', '_i5', '_i6', '_i7', '_i8', '_i9', '_ih', '_ii', '_iii', '_oh', 'd', 'd1', 'exit', 'get_ipython', 'key', 'quit', 'res']}, 'get_ipython': <bound method InteractiveShell.get_ipython of <ipykernel.zmqshell.ZMQInteractiveShell object at 0x000001AB7EEC6550>>, 'exit': <IPython.core.autocall.ZMQExitAutocall object at 0x000001AB7EF4AFD0>, 'quit': <IPython.core.autocall.ZMQExitAutocall object at 0x000001AB7EF4AFD0>, '_': ['In', 'Out', '_', '__', '___', '__builtin__', '__builtins__', '__doc__', '__loader__', '__name__', '__package__', '__spec__', '_dh', '_i', '_i1', '_i10', '_i11', '_i12', '_i13', '_i14', '_i2', '_i3', '_i4', '_i5', '_i6', '_i7', '_i8', '_i9', '_ih', '_ii', '_iii', '_oh', 'd', 'd1', 'exit', 'get_ipython', 'key', 'quit', 'res'], '__': '', '___': '', '_i': 'print(globals)', '_ii': 'print(dir())', '_iii': 'dir()', '_i1': 'd={1:\"int\",1.2:\"float\",None:\"none\",(1,2,3):\"tuple\",1+2j:\"comp\"}', 'd': {'name': 'jay', 'age': '23', 'weight': 23.45}, '_i2': 'd={True:\"bool_true\",False:\"bool_false\"}\\nprint(d)', '_i3': 'd={1:\"int\",1.2:\"float\",None:\"none\",(1,2,3):\"tuple\",1+2j:\"comp\"}\\nprint(d)', '_i4': 'd={True:\"bool_true\",False:\"bool_false\"}\\nprint(d)', '_i5': 'd={[1,2,3]:\"list\"}', '_i6': 'd={{1,2,3}:\"set\"}', '_i7': 'd={{\"name\":\"jay\"}:\"set\"}', '_i8': '# all immutable data types can be used as a key.', '_i9': 'd={1:\"one\",2:\"two\",1:\"ONE\"}\\nprint(d)', '_i10': '#set is mutable', '_i11': 'd={1:\"one\",2:\"two\",1:\"ONE\",True:\"bool_true\"}\\nprint(d)', '_i12': 'd={\"name\":\"jay\",\"age\":\"23\",\"weight\":23.45}\\nd1=sorted(d)\\nprint(d)\\nprint(d1)', 'd1': ['age', 'name', 'weight'], '_i13': 'd={\"name\":\"jay\",\"age\":\"23\",\"weight\":23.45}\\nd1=sorted(d)\\nres={}\\nfor key in d1:\\n    res[key]=d.get(key)\\nprint(res)', 'res': {'age': '23', 'name': 'jay', 'weight': 23.45}, 'key': 'weight', '_i14': 'dir()', '_14': ['In', 'Out', '_', '__', '___', '__builtin__', '__builtins__', '__doc__', '__loader__', '__name__', '__package__', '__spec__', '_dh', '_i', '_i1', '_i10', '_i11', '_i12', '_i13', '_i14', '_i2', '_i3', '_i4', '_i5', '_i6', '_i7', '_i8', '_i9', '_ih', '_ii', '_iii', '_oh', 'd', 'd1', 'exit', 'get_ipython', 'key', 'quit', 'res'], '_i15': 'print(dir())', '_i16': 'print(globals)', '_i17': 'print(globals())'}\n"
     ]
    }
   ],
   "source": [
    "print(globals())"
   ]
  },
  {
   "cell_type": "code",
   "execution_count": 18,
   "metadata": {},
   "outputs": [
    {
     "name": "stdout",
     "output_type": "stream",
     "text": [
      "{'__name__': '__main__', '__doc__': 'Automatically created module for IPython interactive environment', '__package__': None, '__loader__': None, '__spec__': None, '__builtin__': <module 'builtins' (built-in)>, '__builtins__': <module 'builtins' (built-in)>, '_ih': ['', 'd={1:\"int\",1.2:\"float\",None:\"none\",(1,2,3):\"tuple\",1+2j:\"comp\"}', 'd={True:\"bool_true\",False:\"bool_false\"}\\nprint(d)', 'd={1:\"int\",1.2:\"float\",None:\"none\",(1,2,3):\"tuple\",1+2j:\"comp\"}\\nprint(d)', 'd={True:\"bool_true\",False:\"bool_false\"}\\nprint(d)', 'd={[1,2,3]:\"list\"}', 'd={{1,2,3}:\"set\"}', 'd={{\"name\":\"jay\"}:\"set\"}', '# all immutable data types can be used as a key.', 'd={1:\"one\",2:\"two\",1:\"ONE\"}\\nprint(d)', '#set is mutable', 'd={1:\"one\",2:\"two\",1:\"ONE\",True:\"bool_true\"}\\nprint(d)', 'd={\"name\":\"jay\",\"age\":\"23\",\"weight\":23.45}\\nd1=sorted(d)\\nprint(d)\\nprint(d1)', 'd={\"name\":\"jay\",\"age\":\"23\",\"weight\":23.45}\\nd1=sorted(d)\\nres={}\\nfor key in d1:\\n    res[key]=d.get(key)\\nprint(res)', 'dir()', 'print(dir())', 'print(globals)', 'print(globals())', 'print(locals())'], '_oh': {14: ['In', 'Out', '_', '__', '___', '__builtin__', '__builtins__', '__doc__', '__loader__', '__name__', '__package__', '__spec__', '_dh', '_i', '_i1', '_i10', '_i11', '_i12', '_i13', '_i14', '_i2', '_i3', '_i4', '_i5', '_i6', '_i7', '_i8', '_i9', '_ih', '_ii', '_iii', '_oh', 'd', 'd1', 'exit', 'get_ipython', 'key', 'quit', 'res']}, '_dh': ['C:\\\\Users\\\\Lenovo\\\\batch82'], 'In': ['', 'd={1:\"int\",1.2:\"float\",None:\"none\",(1,2,3):\"tuple\",1+2j:\"comp\"}', 'd={True:\"bool_true\",False:\"bool_false\"}\\nprint(d)', 'd={1:\"int\",1.2:\"float\",None:\"none\",(1,2,3):\"tuple\",1+2j:\"comp\"}\\nprint(d)', 'd={True:\"bool_true\",False:\"bool_false\"}\\nprint(d)', 'd={[1,2,3]:\"list\"}', 'd={{1,2,3}:\"set\"}', 'd={{\"name\":\"jay\"}:\"set\"}', '# all immutable data types can be used as a key.', 'd={1:\"one\",2:\"two\",1:\"ONE\"}\\nprint(d)', '#set is mutable', 'd={1:\"one\",2:\"two\",1:\"ONE\",True:\"bool_true\"}\\nprint(d)', 'd={\"name\":\"jay\",\"age\":\"23\",\"weight\":23.45}\\nd1=sorted(d)\\nprint(d)\\nprint(d1)', 'd={\"name\":\"jay\",\"age\":\"23\",\"weight\":23.45}\\nd1=sorted(d)\\nres={}\\nfor key in d1:\\n    res[key]=d.get(key)\\nprint(res)', 'dir()', 'print(dir())', 'print(globals)', 'print(globals())', 'print(locals())'], 'Out': {14: ['In', 'Out', '_', '__', '___', '__builtin__', '__builtins__', '__doc__', '__loader__', '__name__', '__package__', '__spec__', '_dh', '_i', '_i1', '_i10', '_i11', '_i12', '_i13', '_i14', '_i2', '_i3', '_i4', '_i5', '_i6', '_i7', '_i8', '_i9', '_ih', '_ii', '_iii', '_oh', 'd', 'd1', 'exit', 'get_ipython', 'key', 'quit', 'res']}, 'get_ipython': <bound method InteractiveShell.get_ipython of <ipykernel.zmqshell.ZMQInteractiveShell object at 0x000001AB7EEC6550>>, 'exit': <IPython.core.autocall.ZMQExitAutocall object at 0x000001AB7EF4AFD0>, 'quit': <IPython.core.autocall.ZMQExitAutocall object at 0x000001AB7EF4AFD0>, '_': ['In', 'Out', '_', '__', '___', '__builtin__', '__builtins__', '__doc__', '__loader__', '__name__', '__package__', '__spec__', '_dh', '_i', '_i1', '_i10', '_i11', '_i12', '_i13', '_i14', '_i2', '_i3', '_i4', '_i5', '_i6', '_i7', '_i8', '_i9', '_ih', '_ii', '_iii', '_oh', 'd', 'd1', 'exit', 'get_ipython', 'key', 'quit', 'res'], '__': '', '___': '', '_i': 'print(globals())', '_ii': 'print(globals)', '_iii': 'print(dir())', '_i1': 'd={1:\"int\",1.2:\"float\",None:\"none\",(1,2,3):\"tuple\",1+2j:\"comp\"}', 'd': {'name': 'jay', 'age': '23', 'weight': 23.45}, '_i2': 'd={True:\"bool_true\",False:\"bool_false\"}\\nprint(d)', '_i3': 'd={1:\"int\",1.2:\"float\",None:\"none\",(1,2,3):\"tuple\",1+2j:\"comp\"}\\nprint(d)', '_i4': 'd={True:\"bool_true\",False:\"bool_false\"}\\nprint(d)', '_i5': 'd={[1,2,3]:\"list\"}', '_i6': 'd={{1,2,3}:\"set\"}', '_i7': 'd={{\"name\":\"jay\"}:\"set\"}', '_i8': '# all immutable data types can be used as a key.', '_i9': 'd={1:\"one\",2:\"two\",1:\"ONE\"}\\nprint(d)', '_i10': '#set is mutable', '_i11': 'd={1:\"one\",2:\"two\",1:\"ONE\",True:\"bool_true\"}\\nprint(d)', '_i12': 'd={\"name\":\"jay\",\"age\":\"23\",\"weight\":23.45}\\nd1=sorted(d)\\nprint(d)\\nprint(d1)', 'd1': ['age', 'name', 'weight'], '_i13': 'd={\"name\":\"jay\",\"age\":\"23\",\"weight\":23.45}\\nd1=sorted(d)\\nres={}\\nfor key in d1:\\n    res[key]=d.get(key)\\nprint(res)', 'res': {'age': '23', 'name': 'jay', 'weight': 23.45}, 'key': 'weight', '_i14': 'dir()', '_14': ['In', 'Out', '_', '__', '___', '__builtin__', '__builtins__', '__doc__', '__loader__', '__name__', '__package__', '__spec__', '_dh', '_i', '_i1', '_i10', '_i11', '_i12', '_i13', '_i14', '_i2', '_i3', '_i4', '_i5', '_i6', '_i7', '_i8', '_i9', '_ih', '_ii', '_iii', '_oh', 'd', 'd1', 'exit', 'get_ipython', 'key', 'quit', 'res'], '_i15': 'print(dir())', '_i16': 'print(globals)', '_i17': 'print(globals())', '_i18': 'print(locals())'}\n"
     ]
    }
   ],
   "source": [
    "print(locals())"
   ]
  },
  {
   "cell_type": "code",
   "execution_count": 20,
   "metadata": {},
   "outputs": [],
   "source": [
    "from keyword import kwlist"
   ]
  },
  {
   "cell_type": "code",
   "execution_count": 21,
   "metadata": {},
   "outputs": [
    {
     "name": "stdout",
     "output_type": "stream",
     "text": [
      "['False', 'None', 'True', 'and', 'as', 'assert', 'async', 'await', 'break', 'class', 'continue', 'def', 'del', 'elif', 'else', 'except', 'finally', 'for', 'from', 'global', 'if', 'import', 'in', 'is', 'lambda', 'nonlocal', 'not', 'or', 'pass', 'raise', 'return', 'try', 'while', 'with', 'yield']\n"
     ]
    }
   ],
   "source": [
    "print(kwlist)"
   ]
  },
  {
   "cell_type": "code",
   "execution_count": null,
   "metadata": {},
   "outputs": [],
   "source": []
  }
 ],
 "metadata": {
  "kernelspec": {
   "display_name": "Python 3",
   "language": "python",
   "name": "python3"
  },
  "language_info": {
   "codemirror_mode": {
    "name": "ipython",
    "version": 3
   },
   "file_extension": ".py",
   "mimetype": "text/x-python",
   "name": "python",
   "nbconvert_exporter": "python",
   "pygments_lexer": "ipython3",
   "version": "3.8.3"
  }
 },
 "nbformat": 4,
 "nbformat_minor": 4
}
