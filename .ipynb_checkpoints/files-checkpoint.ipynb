{
 "cells": [
  {
   "cell_type": "code",
   "execution_count": 1,
   "metadata": {},
   "outputs": [
    {
     "ename": "ModuleNotFoundError",
     "evalue": "No module named 'data'",
     "output_type": "error",
     "traceback": [
      "\u001b[1;31m---------------------------------------------------------------------------\u001b[0m",
      "\u001b[1;31mModuleNotFoundError\u001b[0m                       Traceback (most recent call last)",
      "\u001b[1;32m<ipython-input-1-1406e55e7448>\u001b[0m in \u001b[0;36m<module>\u001b[1;34m\u001b[0m\n\u001b[1;32m----> 1\u001b[1;33m \u001b[1;32mimport\u001b[0m \u001b[0mdata\u001b[0m\u001b[1;33m\u001b[0m\u001b[1;33m\u001b[0m\u001b[0m\n\u001b[0m\u001b[0;32m      2\u001b[0m \u001b[0mprint\u001b[0m\u001b[1;33m(\u001b[0m\u001b[0mdata\u001b[0m\u001b[1;33m.\u001b[0m\u001b[0mx\u001b[0m\u001b[1;33m)\u001b[0m\u001b[1;33m\u001b[0m\u001b[1;33m\u001b[0m\u001b[0m\n",
      "\u001b[1;31mModuleNotFoundError\u001b[0m: No module named 'data'"
     ]
    }
   ],
   "source": [
    "import data\n",
    "print(data.x)"
   ]
  },
  {
   "cell_type": "code",
   "execution_count": 2,
   "metadata": {},
   "outputs": [
    {
     "name": "stdout",
     "output_type": "stream",
     "text": [
      "<_io.TextIOWrapper name='data.txt' mode='r' encoding='cp1252'>\n"
     ]
    }
   ],
   "source": [
    "f=open(\"data.txt\")\n",
    "print(f)"
   ]
  },
  {
   "cell_type": "code",
   "execution_count": 3,
   "metadata": {},
   "outputs": [
    {
     "name": "stdout",
     "output_type": "stream",
     "text": [
      "x=1000\n",
      "y=2000\n",
      "z=3000\n"
     ]
    }
   ],
   "source": [
    "f=open(\"data.txt\")\n",
    "data = f.read()\n",
    "print(data)"
   ]
  },
  {
   "cell_type": "code",
   "execution_count": 4,
   "metadata": {},
   "outputs": [
    {
     "data": {
      "text/plain": [
       "58"
      ]
     },
     "execution_count": 4,
     "metadata": {},
     "output_type": "execute_result"
    }
   ],
   "source": [
    "f=open(\"data1.txt\",\"w\")\n",
    "# the data1.txt not available in batch82 folder. it will create a file data1.txt\n",
    "f.write(\"ukraine is in deep crisis now. who is resposnsible for it?\")\n",
    "# write method writes the data in to cache. to effect this data in to file. close the file or flush the file"
   ]
  },
  {
   "cell_type": "code",
   "execution_count": 5,
   "metadata": {},
   "outputs": [],
   "source": [
    "f.flush()# it will remove the data from cache and writes in to file."
   ]
  },
  {
   "cell_type": "code",
   "execution_count": 1,
   "metadata": {},
   "outputs": [],
   "source": [
    "f=open(\"data1.txt\",\"w\")\n",
    "f.write(\"ukraine is in deep crisis now. who is resposnsible for it?\")\n",
    "f.flush()\n",
    "f.write(\"written afrter flush\")\n",
    "f.close()# flush the data from cache to actual file and close the file. we could not make any writes after this."
   ]
  },
  {
   "cell_type": "code",
   "execution_count": 2,
   "metadata": {},
   "outputs": [
    {
     "ename": "ValueError",
     "evalue": "I/O operation on closed file.",
     "output_type": "error",
     "traceback": [
      "\u001b[1;31m---------------------------------------------------------------------------\u001b[0m",
      "\u001b[1;31mValueError\u001b[0m                                Traceback (most recent call last)",
      "\u001b[1;32m<ipython-input-2-0521c60752c9>\u001b[0m in \u001b[0;36m<module>\u001b[1;34m\u001b[0m\n\u001b[0;32m      4\u001b[0m \u001b[0mf\u001b[0m\u001b[1;33m.\u001b[0m\u001b[0mwrite\u001b[0m\u001b[1;33m(\u001b[0m\u001b[1;34m\"written afrter flush\"\u001b[0m\u001b[1;33m)\u001b[0m\u001b[1;33m\u001b[0m\u001b[1;33m\u001b[0m\u001b[0m\n\u001b[0;32m      5\u001b[0m \u001b[0mf\u001b[0m\u001b[1;33m.\u001b[0m\u001b[0mclose\u001b[0m\u001b[1;33m(\u001b[0m\u001b[1;33m)\u001b[0m\u001b[1;31m# flush the data from cache to actual file and close the file. we could not make any writes after this.\u001b[0m\u001b[1;33m\u001b[0m\u001b[1;33m\u001b[0m\u001b[0m\n\u001b[1;32m----> 6\u001b[1;33m \u001b[0mf\u001b[0m\u001b[1;33m.\u001b[0m\u001b[0mwrite\u001b[0m\u001b[1;33m(\u001b[0m\u001b[1;34m\"hello\"\u001b[0m\u001b[1;33m)\u001b[0m\u001b[1;33m\u001b[0m\u001b[1;33m\u001b[0m\u001b[0m\n\u001b[0m",
      "\u001b[1;31mValueError\u001b[0m: I/O operation on closed file."
     ]
    }
   ],
   "source": [
    "f=open(\"data1.txt\",\"w\")\n",
    "f.write(\"ukraine is in deep crisis now. who is resposnsible for it?\")\n",
    "f.flush()\n",
    "f.write(\"written afrter flush\")\n",
    "f.close()# flush the data from cache to actual file and close the file. we could not make any writes after this.\n",
    "f.write(\"hello\")"
   ]
  },
  {
   "cell_type": "code",
   "execution_count": 3,
   "metadata": {},
   "outputs": [],
   "source": [
    "# opening data1.txt in write mode. the file available in the given path.\n",
    "#check the data of file belfore running this cell\n",
    "f=open(\"data1.txt\",\"w\")"
   ]
  },
  {
   "cell_type": "code",
   "execution_count": 4,
   "metadata": {},
   "outputs": [],
   "source": [
    "#check the data of file after running the above cell\n",
    "# we loss the data. \n",
    "f.write(\"hello\")\n",
    "f.write(\"hi\")\n",
    "f.close()"
   ]
  },
  {
   "cell_type": "code",
   "execution_count": 5,
   "metadata": {},
   "outputs": [],
   "source": [
    "# if you dont want to remove the data which is already there in file. want to write some more data in to the file.\n",
    "f=open(\"data1.txt\",\"a\")\n",
    "f.write(\"\\nwritten in append mode\")\n",
    "f.close()\n"
   ]
  },
  {
   "cell_type": "code",
   "execution_count": 6,
   "metadata": {},
   "outputs": [],
   "source": [
    "#open data1.txt file. can see the previous data the data we added now."
   ]
  },
  {
   "cell_type": "code",
   "execution_count": 7,
   "metadata": {},
   "outputs": [
    {
     "ename": "TypeError",
     "evalue": "write() argument must be str, not list",
     "output_type": "error",
     "traceback": [
      "\u001b[1;31m---------------------------------------------------------------------------\u001b[0m",
      "\u001b[1;31mTypeError\u001b[0m                                 Traceback (most recent call last)",
      "\u001b[1;32m<ipython-input-7-a48c252d4889>\u001b[0m in \u001b[0;36m<module>\u001b[1;34m\u001b[0m\n\u001b[0;32m      1\u001b[0m \u001b[0mdata\u001b[0m\u001b[1;33m=\u001b[0m\u001b[1;33m[\u001b[0m\u001b[1;34m\"hyderabad\"\u001b[0m\u001b[1;33m,\u001b[0m\u001b[1;34m\"banglore\"\u001b[0m\u001b[1;33m,\u001b[0m\u001b[1;34m\"chennai\"\u001b[0m\u001b[1;33m,\u001b[0m\u001b[1;34m\"mumbai\"\u001b[0m\u001b[1;33m]\u001b[0m\u001b[1;33m\u001b[0m\u001b[1;33m\u001b[0m\u001b[0m\n\u001b[0;32m      2\u001b[0m \u001b[0mf\u001b[0m\u001b[1;33m=\u001b[0m\u001b[0mopen\u001b[0m\u001b[1;33m(\u001b[0m\u001b[1;34m\"cities.txt\"\u001b[0m\u001b[1;33m,\u001b[0m\u001b[1;34m\"w\"\u001b[0m\u001b[1;33m)\u001b[0m\u001b[1;33m\u001b[0m\u001b[1;33m\u001b[0m\u001b[0m\n\u001b[1;32m----> 3\u001b[1;33m \u001b[0mf\u001b[0m\u001b[1;33m.\u001b[0m\u001b[0mwrite\u001b[0m\u001b[1;33m(\u001b[0m\u001b[0mdata\u001b[0m\u001b[1;33m)\u001b[0m\u001b[1;33m\u001b[0m\u001b[1;33m\u001b[0m\u001b[0m\n\u001b[0m\u001b[0;32m      4\u001b[0m \u001b[0mf\u001b[0m\u001b[1;33m.\u001b[0m\u001b[0mlcose\u001b[0m\u001b[1;33m(\u001b[0m\u001b[1;33m)\u001b[0m\u001b[1;33m\u001b[0m\u001b[1;33m\u001b[0m\u001b[0m\n",
      "\u001b[1;31mTypeError\u001b[0m: write() argument must be str, not list"
     ]
    }
   ],
   "source": [
    "data=[\"hyderabad\",\"banglore\",\"chennai\",\"mumbai\"]\n",
    "f=open(\"cities.txt\",\"w\")\n",
    "f.write(data)\n",
    "f.close()"
   ]
  },
  {
   "cell_type": "code",
   "execution_count": 8,
   "metadata": {},
   "outputs": [],
   "source": [
    "data=[\"hyderabad\",\"banglore\",\"chennai\",\"mumbai\"]\n",
    "f=open(\"cities.txt\",\"w\")\n",
    "res=\"\".join(data)\n",
    "f.write(res)\n",
    "f.close()"
   ]
  },
  {
   "cell_type": "code",
   "execution_count": 9,
   "metadata": {},
   "outputs": [],
   "source": [
    "data=[\"hyderabad\",\"banglore\",\"chennai\",\"mumbai\"]\n",
    "f=open(\"cities.txt\",\"w\")\n",
    "f.writelines(data)\n",
    "f.close()"
   ]
  },
  {
   "cell_type": "code",
   "execution_count": 10,
   "metadata": {},
   "outputs": [],
   "source": [
    "data=[\"hyderabad\\n\",\"banglore\\n\",\"chennai\\n\",\"mumbai\\n\"]\n",
    "f=open(\"cities.txt\",\"w\")\n",
    "f.writelines(data)\n",
    "f.close()"
   ]
  },
  {
   "cell_type": "code",
   "execution_count": 11,
   "metadata": {},
   "outputs": [
    {
     "name": "stdout",
     "output_type": "stream",
     "text": [
      "b'\\x89PNG\\r\\n\\x1a\\n\\x00\\x00\\x00\\rIHDR\\x00\\x00\\x05@\\x00\\x00\\x02k\\x08\\x02\\x00\\x00\\x00\\xae\\xa8\\xae\\x17\\x00\\x00\\x00\\x01sRGB\\x00\\xae\\xce\\x1c\\xe9\\x00\\x00\\x00\\x04gAMA\\x00\\x00\\xb1\\x8f\\x0b\\xfca\\x05\\x00\\x00\\x00\\tpHYs\\x00\\x00\\x0e\\xc3\\x00\\x00\\x0e\\xc3\\x01\\xc7o\\xa8d\\x00\\x000\\x96IDATx^\\xed\\xddmb\\x9b\\xca\\x96\\x05\\xd07\\xae\\x0c\\xc8\\xe3\\xc9h<\\x99;\\x98n!\\xf6\\x91@_\\x91m\\xd9\\xe6Pk\\xfd\\xe8\\x16\\xa7\\x8aBBP\\xc5\\x8er_\\xfe\\xf7\\x7f\\x00\\x00\\x00\\xc0\\xe6\\t\\xf0\\x00\\x00\\x00\\xd0\\x80\\x00\\x0f\\x00\\x00\\x00\\r\\x08\\xf0\\x00\\x00\\x00\\xd0\\x80\\x00\\x0f\\x00\\x00\\x00\\r\\x08\\xf0\\x00\\x00\\x00\\xd0\\x80\\x00\\x0f\\x00\\x00\\x00\\r\\x08\\xf0\\x00\\x00\\x00\\xd0\\x80\\x00\\x0f\\x00\\x00\\x00\\r\\x08\\xf0\\x00\\x00\\x00\\xd0\\x80\\x00\\x0f\\x00\\x00\\x00\\r\\x08\\xf0\\x00\\x00\\x00\\xd0\\x80\\x00\\x0f\\x00\\x00\\x00\\r\\x08\\xf0\\x00\\x00\\x00\\xd0\\x80\\x00\\x0f\\x00\\x00\\x00\\r\\x08\\xf0\\x00\\x00\\x00\\xd0\\x80\\x00\\x0f\\x00\\x00\\x00\\r\\x08\\xf0\\x00\\x00\\x00\\xd0\\x80\\x00\\x0f\\x00\\x00\\x00\\r\\x08\\xf0\\x00\\x00\\x00\\xd0\\x80\\x00\\x0f\\x00\\x00\\x00\\r\\x08\\xf0\\x00\\x00\\x00\\xd0\\x80\\x00\\x0f\\x00\\x00\\x00\\r\\x08\\xf0\\x00\\x00\\x00\\xd0\\x80\\x00\\x0f\\x00\\x00\\x00\\r\\x08\\xf0\\x00\\x00\\x00\\xd0\\x80\\x00\\xdf\\xd4\\x7f\\x7f\\xff\\xfco\\xe9\\xcf\\xdf\\xff\\xd2\\xf2\\x05\\xf3\\xa0/\\x19\\n\\x00\\x00\\x80\\xd7\\x12\\xe0\\x9b\\x9a\\xb2\\xf6\\xdb{6^\\xe1\\xfdm\\x8a\\xee\\xef\\x87a\\x05x\\x00\\x00\\x80\\r\\x12\\xe0\\x9b\\xba\\x19\\xe0\\x0f\\xc5C\\xfa\\x9e\\xa2\\xf8\\xd1\\xa1\\xfd\\xf4C\\xfd)\\x95_\\xf4\\xb9H\\xebS\\xffei\\x8e\\xf5\\x02=\\x00\\x00\\xc0\\xaf\\x13\\xe0\\x9b\\xba\\x17\\xe0\\x0f\\x99|.\\'\\xba\\x9f7\\x92\\xc3\\xe7\\xfarc9\\xcc\\xa2\\xe3\\x91\\x00\\x0f\\x00\\x00\\xb0\\x11\\x02|S\\xc9\\xe7\\xe5\\x9c\\xd3Oq|\\xb51\\x05\\xf1\\x1b}\\x8e\\r\\xcb\\x80~\\x19\\xe0\\x01\\x00\\x00\\xd8\\x08\\x01\\xbe\\xa9\\x8b\\x1c>\\xfb\\\\\\x80_n\\n\\xf0\\x00\\x00\\x00\\x1b%\\xc07\\xf5\\xc2\\x00\\xef\\x17x\\x00\\x00\\x80\\x06\\x04\\xf8\\xa6\\xbe\\x14\\xe0W\\xff\\r\\xfc*\\xaf_\\x16\\xa6\\xfd\\x04z\\x00`k.~\\x83\\xe8k7\\x1f\\x04\\xf8\\x11\\x02|Ss\\x0e?;\\xce\\xfc\\xab\\xcc\\xbe\\xdaX\\x07\\xf8\\xb7\\xf7i\\xfbh\\xd5ci^J\\xa6\\xaaE\\x05\\x00\\xd8\\x9a\\xdd\\xe4\\xde\\xef\\xf9 \\xf3\\x93\\xa2\\x878\\xd8\\x1f\\x01~4\\xab\\\\\\x0f\\x00\\xd0\\x92\\x00\\x7f\\xd7\\xfc\\xfb\\xcb\\xfb\\xe1\\x91O\\x80\\x87\\xfd\\x11\\xe0G#\\xc0\\x03\\x00[2\\xffX|T\\x8f(\\x8b\\xd2\\xf2\\xb1\\xe5\\\\\\xfe\\xf3\\xf7\\xef2\\xf7\\xde\\xee?\\x07\\xd9\\xcb\\x08{\\xfbp\\x87~S\\xf7\\xa3\\xd3>\\xf7\\xeaw\\xdc\\x1e9\\x95\\xd7\\x7f\\x90\\x93\\x1b\\xc7=\\x98\\xaa\\xffz\\xc7@?\\x02\\xfch\\xa6\\xd9|1\\xb9\\x03\\x00\\xfc\\xa2e8}\\x7f\\x9b^\\x1d\\xf3\\xe8*\\x01\\xcf\\x1b\\xcbDz\\x0c\\xd5\\xcb\\x8de\\xffe\\xbd^\\x97\\xf9\\x10\\x93E\\xcf\\xe3AV\\x1b\\xe7#\\xde\\xaa\\xdf\\xf4\\xc3\\x1f\\xe4\\xe4\\xfa\\xb8\\xb3\\xe5\\x00\\xc0~\\x08\\xf0\\x00\\x00\\xfc\\x92ef\\x9dM\\xc1sY9\\xf48\\xe6\\xd0\\x8bz\\x95\\xaf\\x82\\xea\\xa9\\xe1_\\xce\\x03>\\x1a\\xfaV\\xfd\\x96C\\xe3\\xeam_\\xed}\\xda\\xfd\\xd1\\xd1\\x96\\xe3?<\\xdc\\xc9\\xf5q\\xe3r8`\\x1f\\x04x\\x00\\x00~\\xc9uJ\\xbdL\\xa4\\x95w/\\xea\\xa7\\x1d\\xa7\\xf6\\x0b\\x8fr\\xeb\\xba\\xfb<`\\x1d\"NG\\xbaW\\xbf\\xe5\\xf4~N.\\xbb\\xbf\\xf8\\x83\\xc4\\xf5qc\\x1a\\xee\\x89\\xfd\\x81f\\x04x\\x00\\x00~\\xc9e\\xca\\xbdJ\\xcd\\xa7\\x84z\\x9d\\xa6\\xcf\\xb9w=\\xc2\\x03\\xcb\\xc3\\x9dw|r\\xe8S\\xfd\\x96\\xe5\\xc8\\xb3\\xcb7V\\xbb?y\\xb4\\']\\x1f7\\xa6\\xe1\\xee\\xbf]\\xa0+\\x01\\x1e\\x00\\x80\\xdf2\\x05\\xd0\\xca\\x99w\\xfe\\xd3\\xf14/z\\x1e\\xbb,7j\\x84\\x95\\xe5\\xd0\\xb1\\x88\\xbb\\xd3\\xcb\\xbc\\xbe7\\xdcs\\x87\\x89\\x9f\\xfd g\\xd7\\xc7\\x9d\\xfd\\xeb\\xfd\\x02=\\t\\xf0\\x00\\x00\\xfc\\x9e9\\xc4NNy\\xf3\\x18\\xaeg\\xcb\\x0cz\\xee\\xf9\\xf6~x\\xbd\\x0e\\xabgU\\xbf\\x99{OC\\x1f\\xff\\xf7\\xdf\\xcf\\x01\\xfe\\xed\\xfd\\xd4R\\x99\\xfbn\\xfd\\x8e\\xf3\\xbb\\xf8\\x89\\x0frvy\\xdc\\xc5A\\x8f\\x1e\\xec\\n\\xb4#\\xc0\\x03\\x000\\xb2)\\x01\\xdfJ\\xe7\\xf7\\xea\\x00\\xbfF\\x80\\x07\\x00`d\\x02<\\xd0\\x86\\x00\\x0f\\x00\\xc0\\xc8>\\x14\\xe0/\\xff\\x82\\xfa\\xcc_S\\x07~\\x86\\x00\\x0f\\x00\\x00\\x00\\r\\x08\\xf0\\x00\\x00\\x00\\xd0\\x80\\x00\\x0f\\x00\\x00\\x00\\r\\x08\\xf0\\x00\\x00\\x00\\xd0\\x80\\x00\\x0f\\x00\\x00\\x00\\r\\x08\\xf0\\x00\\x00\\x00\\xd0\\x80\\x00\\x0f\\x00\\x00\\x00\\r\\x08\\xf0\\x00\\x00\\x00\\xd0\\x80\\x00\\x0f\\x00\\x00\\x00\\r\\x08\\xf0\\x00\\x00\\x00\\xd0\\x80\\x00\\x0f\\x00\\x00\\x00\\r\\x08\\xf0\\x00\\x00\\xec\\xcd\\xfb\\xdb\\xff\\xfe\\xf7\\xf6\\x9e\\x8dO;\\x8c\\xf2\\xe7\\xef\\x7f\\xd9\\x98\\xfd\\xf7\\xf7\\xcf\\x0b\\x06\\xfe\\xb4\\xe9\\xf0\\xe5\\x17\\xdf\\x06\\xf0[\\x04x\\x00\\x00\\xf6\\xe6W\\x02\\xfc\\x9c\\xae/\\xf7x\\xa1\\xc3\\x01j\\xf4\\xe3\\xb1Dx\\x18\\x8e\\x00\\x0f\\x00\\xc0\\xde\\xfcx\\x80\\x9f\\x0e\\xf8\\xe7\\xef\\xfb\\xa1\\xf5\\x95\\x01~\\xfe#\\x81\\xa3\\xcb\\x83NM\\xdf\\xf8g\\x05\\xc06\\t\\xf0\\x00\\x00\\xf4\\xb0\\xc8\\xb3\\xa7\\xec\\xba\\xa8-B\\xee)\\xc0\\xaf\\x93\\xfc2\\xf5\\xde\\xdeqQ\\xfe\\xf3\\xf7\\xef\\xbd\\x00?\\x8d\\x9a>\\xab\\xe6\\xe5\\xf8_7\\xff\\xa1\\xc0<\\xda\\xfb\\xdb\\xc5\\xb8\\xeb\\x0f\\x06\\x0cB\\x80\\x07\\x00\\xa0\\x839;gcvL\\xdbU[n\\x9c\\xe3\\xed2\\xe8.\\xf2\\xf5\\x9d\\xf2\\xe2\\xe5\\xb1\\xcbU\\x1c?\\x1ed\\xd9\\xfb4\\xcad\\xb9\\xfb\\x97=\\x8a\\xe8/=\\x10\\xd0\\x87\\x00\\x0f\\x00@\\x07Wq\\xf9XY\\x16\\x0e\\x917\\xa9v\\x11~\\xcf/\\xcf\\xa9\\xf72\\xff\\xd6\\x8e\\x17\\x03\\x9e\\xc7;y\\xdc\\xe3r\\xdc/\\xb9q\\xf4\\x98>\\xd2\\xcb\\x0e\\x03t\"\\xc0\\x03\\x00\\xd0\\xc4\\x14\\x90\\x17\\x7fs}\\n\\xb2\\xcb\\x00\\x7fN\\xd7\\xcb\\x96z\\xbd\\xc8\\xde5\\xce\\xc2q\\xc8\\x8b\\x01\\x0f\\x9b\\x979y1\\xc8\\xe4b\\x87\\xa9\\xf5e\\xc9\\xfab\\xec2\\x95\\xa5w\\x18\\x95\\x00\\x0f\\x00@/\\x15m/\\xd2\\xf4\"p\\xaf\\xc2\\xef\\xdcm\\xd9\\xf9r\\xc7rQ?\\x8fw\\xf2\\xb8\\xc7\\xd4\\xfa\\xbap=}\\x88\\x1am\\xfeo\\xe0\\xa7\\xf1_x\\x00\\xa0\\x1d\\x01\\x1e\\x00\\x80^N)\\xfa\\x18h\\x97\\xa9\\xfc\\x9cw\\x97\\xbf^\\x1f[\\xfe,\\x93\\xf7\\xb2\\xef\\xd2\"3\\x1f\\xc7\\xbe\\xea\\xb4\\xaa^\\x8dro\\xd8\\xcf\\x9a\\x8f69\\x8e:\\xbd\\xbb\\xb5\\xc5\\x9f%\\x00#\\x10\\xe0\\x01\\x00\\xe8`\\x19_\\xcf\\xc1uQ]D\\xe7u\\x80O\\x10^\\xa7\\xdds8\\x9e\\x9c\\xf6=\\x97\\x8f?\\xda_\\xc6\\xf1ci\\xfa\\xd7\\xe2\\xaaO\\xea\\x97\\xd9\\xfa\\x951\\x1e\\xa0\\x08\\xf0\\x00\\x00\\x00\\xd0\\x80\\x00\\x0f\\x00\\x00\\x00\\r\\x08\\xf0\\x00\\x00\\x00\\xd0\\x80\\x00\\x0f\\x00\\x00\\x00\\r\\x08\\xf0\\x00\\x00\\x00\\xd0\\x80\\x00\\x0f\\x00\\x00\\x00\\r\\x08\\xf0\\x00\\x00\\x00\\xd0\\x80\\x00\\x0f\\xf0*\\xd3\\xbf\\x1d\\xbc\\xfeG\\x86\\x1f\\xfbh\\xff\\xd7\\xb8\\xf1\\xaf\\x1a\\xff\\xbe\\xf77\\xffd2\\x00\\xc0\\xbf\\x08\\xf0\\x9b5=\\xd9/}\\xfd\\xd9v9\\xe2\\xcfg\\x06\\xd8\\x8dC\\xd6<\\xdd\\x90\\xeb\\x08\\xfe\\xd1@\\xfe\\xd1\\xfe/\\xf1\\xd3Q\\xf9\\xc9\\x0fy\\xe8&\\xc1\\x03/4\\xcd\\xd5_\\x9faoL\\x99\\xbf2u\\x03\\x84\\x00\\xbfY\\xaf^\\x1e\\x16O\\xc7\\xd3\\xd0\\x96\\x1ex\\x85\\xf5\\x8d\\xfa\\xd1\\xdb\\xf6\\xd5\\xb7\\xf93~\\xfc\\xa7\\xeeg?\\xe4\\x8f\\xbf1`\\xdf~>\\xc0O\\r\\xe5\\xa7\\xe7v`\\x18\\x02\\xfcf\\xdd\\\\\\x1e\\x0e\\xc5\\xc322-I\\xb5:\\x9c\\x16\\x8b\\xd3\\xf2r\\xd1\\xe7\\xd6\\x13\\xf1\\xb4S\\xeaS\\xbf[]\\x80\\xc9\\xe9N\\x9a\\x1d\\xef\\xc9\\xa96\\xbd8\\xdd}\\x93\\xe3m4U\\xde\\xde\\xaf\\xef\\xbe\\xb9>\\xbf^>\\x0e\\xde\\xeb\\xbf\\xb68N\\r\\xb2<\\xf4i\\xe0C\\xf10\\xc2i\\xb4C\\xfd\\xd4\\xed<r\\xbd\\xf9\\xd9\\xf1\\xad\\xfc\\x9d\\xf7\\x98\\xab\\x9f\\x1f\\xf9\\xd6\\xbe\\xcb\\xca\\xa9\\xeb\\xcdC\\x1c\\x1c\\xdf\\xcc\\xcd3\\x00\\xf0q\\xeb\\xe9\\xee\\xb3n\\xccL\\xd3$vc\\xe0Cy5\\xcd}\\xfd\\xd8\\x007\\x08\\xf0\\x9busy\\x98\\x1f|\\xe7\\xf2\\xfcz\\xb1\\x91ec\\xae/7\\xae\\x86Y\\xaci\\xd3K\\xcf\\xccp\\xdb\\xf9\\xc1m\\xba\\x95\\xeaNZ>\\x14.\\xeb\\x17w\\xdf\\xa2\\xdb\\xba\\xd7z\\xd4\\x7f\\xdc\\xad\\xab{\\xf4\\xfdmz\\xb5\\xea\\xb8\\xd8\\x98G[\\xbe^l,\\x0eR\\xa3\\x1dL\\x83/\\x0fz\\xf9\\xd1\\x96o\\xed\\x89\\x91W\\xfb\\xd6\\xc6\\xf4\\xba\\xea\\x07w\\x0e\\x91\\xadEG\\x80\\x1b\\x8e\\xd3\\xcb\\xec4},j\\x8bY\\xe44\\xdb,\\xa7\\x9d\\xf5\\xc4s{\\xc7E\\xf9\\xf8G\\x9c\\xe7ij65\\xff\\xe3\\xcf^\\x97\\x07\\xf9\\x11\\x8bOb\\x1e\\x85\\x9d\\x13\\xe07k\\xb9\\xa8\\x1c\\xcc\\xd3\\xf1\\xbcf\\x1c\\xdb/6\\xce\\xab\\xd3\\xaa|l\\xb8XB\\xa6\\x0e?\\xba\\xaa@S\\xcb\\x9biq\\'-\\x9f\\x05\\xd7\\xf7\\xdbz\\xeb\\xbc\\xcbs\\xf5\\x1bw\\xeb\\xfa`\\xb3\\x8b\\x9d\\xce{\\xad\\x1aV\\x1b\\xe7A.\\x86[oN\\xfb,\\xdf\\xc0GF^U\\x0fN\\xfb^\\xef|\\xf3\\x10W\\x1b\\x00\\xd7.\\xa7\\x9a\\x83\\xa9t\\xaa-7N\\xf3\\xd3\\xe2\\xd5j\\x16\\xbaS^\\xbc<v\\xb9\\x9a\\x98\\x8e\\x07Y\\xf6>\\x8dr\\xb2\\x1c\\xfa\\'\\xcc\\x7f\\xbc;\\xbf\\xfa\\xd9#\\x03?N\\x80\\xdf\\xaciE\\xb8\\x9a\\x81W\\xc5\\xd5\\xc6y\\xc2\\xbe\\xd8\\xf1r&\\x9f\\xb6/\\x97\"\\xe0\\xa6\\xc3\\xed\\x92\\xbbey#-_\\xaf\\xef\\xb7\\xf5\\xd6y\\xef\\xe7\\xea\\xab\\x81\\xcb\\xb9s\\xb9\\xecu\\x1ad5\\xdaj\\xe3\\xbc\\xcb\\xc5\\xce\\xeb\\xcdi\\x9f\\x0b\\xf3\\xb1\\x9f\\x18\\xf9\\xee\\xbb\\xba\\xde\\xf9\\xc2\\xf9\\xe3\\x1d\\xc6\\xb8\\xf8\\xac\\x00+\\xc79d9\\xd7\\xac\\xa7\\x98\\x83\\xf3D\\xb2\\x98\\x96\\xce/\\xa7\\xee\\xe7\\x89m9\\xe5\\xd4\\x8e\\x17\\x03\\xde\\x98\\x98\\xfe\\xd9\\xe3r\\xe8\\xd7\\x9b\\x8e\\x10\\xcb\\x0f\\x7f\\xf0\\xfd\\xc7\\x06~\\x99\\x00\\xbfY\\x17\\xcb\\xc3lU\\\\m\\xac\\xd7\\xa6\\xc5\\x8e\\xabue\\xeaeZ\\x87\\'M7\\xd3\\xc9\\xf9\\xae:\\xdfm\\x97\\xf7\\xdbz\\xeb|\\xf3=W_\\xdf\\xad\\xb1<\\xd8\\xecb\\xa7\\xf3^\\xab\\x86\\xd5\\xc6y\\x90\\x8b\\xe1\\xd6\\x9b\\x97#\\x9f<1\\xf2\\xe5\\xbe\\xa7w\\xf5`\\xe7K\\xe7}\\x00\\xee\\x99\\xa6\\x91I\\xa6\\x8b\\x8bYm1\\xcb,[\\xea\\xf5b\\x0e\\xaaq\\x16\\x8eC^\\x0cxcb\\xba\\x98\\xc8.\\xdf\\xc1\\xb4\\xfd\\xbds\\xd9\\xf2\\x08\\xe7\\xdf\\xde\\x8f\\xbe\\xff\\xe0\\xc0o\\x13\\xe07\\xebby\\x98\\xad\\x8a\\xab\\x8d\\xf3\\xf21\\xafH\\x99\\xbd\\xa7\\x8d\\xc5\\xcb\\xebI\\xddL\\x0fw\\x1dn\\x8f\\xab\\x9b\\xf0\\xe0|\\xb7\\xadn\\xb1l\\x9d\\xf78\\xf4\\xab\\xa6\\x077\\xe8\\xdd\\xbb5\\x03-\\xef\\xd1;\\xff\\r\\xfcb\\xaf\\xd3\\xd1W\\x1b\\xeb\\xc3\\xd7h\\x07\\xcb\\x8frp\\xd1z\\xf2\\xec\\xc8\\xa7\\xfar\\xa0\\xf5\\xa0\\xeb\\xad\\x95\\xd5\\xc0\\x00\\x0f\\xd5\\xecs9s\\x1c\\xea\\x99cV\\x13\\xdc\\xdcm\\xd9\\xf9\\xde\\x94sQ?\\x8fw\\xf2\\xa8\\xc7t\\xd0;s\\xdc\\xcb\\xac>X\\x99\\x8aG\\xb7>\\x13\\xb0\\'\\x02\\xfcfM\\xcb\\xc3\\xd2q9X\\xad\\x19\\xab\\x8d\\xf3l>\\x97\\xaf&\\xf2S\\xe1\\xe4\\xd82\\x95\\xbf{\\xa5\\x81\\xb6V\\xf7M\\xdd)\\xe7\\xbb\\xed\\xa0\\xee\\xd4\\xeb;t\\xeaw\\xbe\\xb9N#\\x1d\\xef\\xce\\xd4\\x0f\\xfd\\xff\\xfc}\\xcf\\x08\\x97\\x83^\\x1dbq\\xaf.\\xde\\xd7\\xf9\\x10\\xab\\xa3\\xaf6\\x16\\xefx\\xf1\\xf2`\\xbd59\\x1flr~\\x9f\\xff\\x1e\\xf9\\xce\\xbb:\\x0fY\\xb5\\x9b\\x8788\\xec\\xbe\\xdc\\r\\xe0\\x81\\xd3Tt\\x9cRj\\x1e\\x9a6j\"YOp\\xc7\\x96?\\x8b\\xe9k\\xd5wi\\xda/\\xf5\\xe3\\xd8W\\x9dV\\xd5\\xc5(\\xc7\\xfa\\xad\\x11_\\xec\\xe1dy|\\x13\\xe7\\x0f\\t\\xec\\x8f\\x00\\xbf?\\xd3\\xd4m\\xe6\\x86\\xaf[<\\x96Mv\\x92/7\\xfb1\\xd6\\xcf\\xda\\x007L\\x13E9O\\x18\\x8b\\xeaz\\xd2^N*\\xc7d{1\\xcb\\xcc\\xb5r\\xda\\xf7\\\\>\\xfeh\\x7f9g\\x1eK\\xd7\\x7f\\xf6\\xba|o\\xb3o\\x9a\\xd2\\x1e\\xcf\\x96\\xd3\\x9b\\xdf\\xc3b\\x05\\xdc#\\xc0\\xef\\xcf4s\\x7f\\xd3\\x92\\x01CY?#\\xed\\xe6\\x99\\xe8\\xf0\\xb1\\xb6\\xf89\\x1e?\\x91\\x02P\\xa6\\xf9\\xb2\\xe6\\xf1\\xe3\\x7fZuX\\xa0j\\xfe\\x9c\\xd6*\\x93)\\xec\\x9a\\x00\\xbf?\\x02<\\xbc\\xca\\xf1A\\xa8\\xec\\xe6\\x17\\x8d\\xc3\\xa7\\xda\\xdeg\\xd9\\xe8\\x1f+\\x00l\\xd1yu\\x9ag\\xce\\xe5je.\\x85\\x9d\\x13\\xe0\\x01\\x00\\x00\\xa0\\x01\\x01\\x1e\\x00\\x00\\x00\\x1a\\x10\\xe0\\x01\\x00\\x00\\xa0\\x01\\x01\\x1e\\x00\\x00\\x00\\x1a\\x10\\xe0\\x01\\x00\\x00\\xa0\\x01\\x01\\x1e\\x00\\x00\\x00\\x1a\\x10\\xe0\\x01\\x00\\xd8\\x9b\\xe9_K\\xff\\xfa?\\xab{\\xe3\\xdf\\xb8\\xf4\\xef\\xf5\\x02\\xbfI\\x80\\x07\\xf6&\\xff\\x14.\\xc0Z\\xe6\\x08\\xc6\\xf0\\xf3\\x01~\\xf1\\xaf\\xb1\\x0b\\xf8\\xc0w\\xb1\\x98\\x01{\\x93\\xc7\\'\\x80\\xb5\\xcc\\x11\\x8c\\xe1\\xc7\\x03\\xfc\\xfb[\\xf5|\\xcd\\xa1\\x01n\\xb1\\x98\\x01{\\x93Gu\\x80\\xb5\\xcc\\x11t\\xb6\\xf8\\x95\\xfb\\x14\\xac\\x17\\xb5En>\\xa5\\xe8u\\x9c\\x9e:\\xd7\\x9e\\xb7w\\\\\\x94\\xff\\xfc\\xfd{/\\xc0O\\xa3\\xa6\\xcf\\xba\\xf9`y\\x8c\\xa9\\xdf\\x8d.?d~\\x97\\xbfw|\\xe0\\xf5,f\\xc0\\xde\\x1c\\x9f\\xa8\\x00.e\\x8e\\xa0\\xaf9;gcvL\\xdbU[n\\x9cs\\xfb2\\xc1/\\xb2\\xf5\\x9d\\xf2\\xe2\\xe5\\x9c\\x7f/\\xe3\\xef\\xf1 \\xcb\\xde\\xa7Qb\\xda\\xeb\\xb4\\xd3j#\\xd6\\xdd\\xbf\\xcf\\xe1\\xd8\\x7f\\xde\\xde\\xce\\x1f\\x07\\xd8\\x03\\x8b\\x19\\xb07\\xc7\\x07u\\x80K\\x99#\\xe8\\xeb:.O\\x95ea\\xca\\xacs\\\\\\x9d\\x92sZ\\xce/\\xcf\\xe9\\xfc\\xfcjV;^\\x0cx\\x1e\\xef\\xe4~\\x8f\\xe98G\\xcbwt\\xed\\xfd-/^hzSQ\\x07\\x9f\\xdf\\xe7\\xe5\\xe7\\x04\\xba\\xb3\\x98\\x01{\\x93G\\x98\\x92*0\\x9e\\xcc\\x02%UZ\\xab\\xa4\\x9aPz\\xce\\xe6\\xb3s\\xba^\\xb6\\xd4\\xebs\\xeb2\\xf1\\x96\\xe3\\x90\\x17\\x03\\x1e6\\xff\\x1d\\xe0\\x97\\x9b\\x93\\xe3\\xd8\\x17\\xb5\\x85\\xd7\\x07\\xf8\\xe9=\\x9c\\xff\\x14\\xe1\\xf8\\xaa\\xde\\xe5\\xf4\\xff/?\\x01\\xd0\\x99\\xc5\\x0c\\xd8\\x9b<\\x89\\x95T\\x81\\xf1d\\x16(\\xa9\\xb2\\x077\"\\xf9\\xd19p\\xaf\\x82\\xf5\\xdcm\\xd9\\xf9r\\xc7rQ?\\x8fw\\xf2\\xef\\x1e\\xc7.\\xf7S\\xf3\\xcb\\x03\\xfc\\xea\\xa3\\x1e\\x9d\\xdf\\xe3\\xe3\\xb7\\x02\\xf4c1\\x03\\xf6&\\x8f\\xea%U`<\\x99\\x05J\\xaa\\xec\\xc1)\\xa1N/N\\xe9u\\x99V\\xd7\\xa9\\xf6\\xd8\\xf2g\\x99\\xbc\\xef%\\xdbi\\xbf\\xd4\\x8fc_uZU\\xcf\\xa3\\x1c^-\\xdfF\\x1di1\\xdc\\xc9\\xe9=\\xbc\\xc8\\xe5\\x9f!L\\xc7\\xbfuJ\\x80=\\xb0\\x98\\x01{s|P?K\\x15\\x18Of\\x81\\x92*}Mi\\xb8\\x9c\\xa3\\xf8\\xa2\\xba\\x88\\xaaS\\xf5\\xdcg\\x0e\\xd5\\xcb\\xc2\\xc1\\\\+\\xa7}\\xcf\\xe5\\xe3\\x8f\\xf6\\x97\\xf1\\xf7Xz_\\xf49\\xd7SZ\\xbe\\x8f[\\x01\\xfe\\xd5.>\\xea\\xea4\\x95\\xef~\\x0f\\xc0O\\xb1\\x98\\x01{\\x93\\x87\\x95\\x92*0\\x9e\\xcc\\x02%U\\xd8\\x9b\\xe5\\x9f\\x12\\x9c\\xff9\\xfa\\xa3\\xe9\\x8f\\x15\\x84w\\xd8\\x13\\x8b\\x19\\xb07yT/\\xa9\\x02\\xe3\\xc9,PR\\x85\\xfd9\\xff\\xfc\\x7f\\x91\\xd6\\x05x\\xd8\\x1b\\x8b\\x19\\xb07y\\x86)\\xa9\\x02\\xe3\\xc9,PR\\x05\\x80\\xb6,f\\xc0\\xde\\xe4Q\\xbd\\xa4\\n\\x8c\\'\\xb3@I\\x15\\x00\\xda\\xb2\\x98\\x01{\\x93G\\xf5\\x92*0\\x9e\\xcc\\x02%U\\x00h\\xcbb\\x06\\xecM\\x1e\\xd5K\\xaa\\xc0x2\\x0b\\x94T\\x01\\xa0-\\x8b\\x19\\xb07yT/\\xa9\\x02\\xe3\\xc9,PR\\x05\\x80\\xb6,f\\xc0\\xde\\xe4Q\\xbd\\xa4\\n\\x8c\\'\\xb3@I\\x15\\x00\\xda\\xb2\\x98\\x01{\\x93G\\xf5\\x92*0\\x9e\\xcc\\x02%U\\x00h\\xcbb\\x06\\xecM\\x1e\\xd5K\\xaa\\xc0x2\\x0b\\x94T\\x01\\xa0-\\x8b\\x19\\xb07yT/\\xa9\\x02\\xe3\\xc9,PR\\x05\\x80\\xb6,f\\xc0\\xde\\xe4Q\\xbd\\xa4\\n\\x8c\\'\\xb3@I\\x15\\x00\\xda\\xb2\\x98\\x01{\\x93G\\xf5\\x92*0\\x9e\\xcc\\x02%U\\x00h\\xcbb\\x06\\xecM\\x1e\\xd5K\\xaa\\xc0x2\\x0b\\x94T\\x01\\xa0-\\x8b\\x19\\xb07yT/\\xa9~\\xde\\x7f\\x7f\\xff\\xfc\\xef\\xed=\\x1b_\\xf6\\xda\\xd1\\x80G2\\x0b\\x94T\\x01\\xa0-\\x8b\\x19\\xb07yT/\\xa9~\\xde\\xc7\"\\xf7\\xbfz\\xdfo\\x7f\\x7f\\xcb;\\xfe\\xdf\\xff\\xfe\\xfc\\xfdo\\xaeM\\xbd\\xe3\\xdfoa\\xee|\\xda\\x17\\x98o\\x9e\\x93T\\x01\\xa0-\\x8b\\x19\\xb07yT/\\xa9~\\xde\\xcf\\x04\\xf8C|\\xaf\\xe8=u\\x99_\\xbf\\xbfUmJ\\xf7\\x8f\\x86\\x9d\\xda\\xff\\xfc}?\\xed\\t\\x1cd\\x16(\\xa9\\x02@[\\x163`o\\xf2\\xa8^R\\xfd\\xbc9r\\x9f~\\x1f_\\x04\\xe4\\xa9%\\x8e\\xe1z\\xb1}\\xeaw\\xab\\xcf\\x8d\\xd1\\xe6\\xf2\\xf1\\xe5*\\xcc\\x97\\xa9\\xfd\\xdf\\xd1\\xfc\\xb9^0\\x8c\\xdcg%U\\x00h\\xcbb\\x06\\xecM\\x1e\\xd5K\\xaa\\x9f7G\\xf0e\\x1e\\x9f\\x93\\xf6\\xf9\\xe7\\xf1en\\x9e^\\x9f\\x7f*\\x9f\\x7f\\x18\\x9f[\\xe6\\xfe\\xab\\xd1\\xa6\\xe6\\xea|\\xcc\\xf4\\x87\\x8d\\xe5`\\'\\xcbq\\x1e\\xb8\\xb9/\\x8ck\\x9a\\x02\\x16R\\x05\\x80\\xb6,f\\xc0\\xde\\xe4Q\\xbd\\xa4\\xfay\\xebH>e\\xe9\\xab\\x8c\\xbc\\xe8\\xb2\\xea\\xbd\\x0c\\xe8\\xb1\\x1em=\\xd81\\xc3\\xaf\\x93zJW\\xc3\\xdc&\\xc0\\xc3Jn\\x9f\\x92*\\x00\\xb4e1\\x03\\xf6&\\x8f\\xea%\\xd5\\xcf\\xbb\\x0e\\xf0\\xd9\\x9c\\x1a\\xce\\xd2\\xe52\\xc0_\\xe6\\xe9{\\x01\\xfeb\\xd8[\\xbb-\\xf6\\xbbc\\xea%\\xc0\\xc3I\\xee\\xce\\x92*\\x00\\xb4e1\\x03\\xf6&\\x8f\\xea%\\xd5\\xcf[G\\xeeS\\xe6>\\'\\xeeU\\x97U\\xefe\\x9fX\\x8fV\\x83\\xad\\x93\\xf7zkv\\xabv\\xe5\\xa9N0\\x8e\\xcc\\x02%U\\x00h\\xcbb\\x06\\xecM\\x1e\\xd5K\\xaa\\xcf\\xc9>\\xab\\xbd\\xa6T|\\xfaI\\xfc\\x1c\\x91\\x17\\xe1|z\\xb9\\x0c\\xf0\\xe7\\x0c=\\xb5\\xd4\\xd6\\xf9\\xbf\\x81\\xbf\\x0e\\xf0\\xcb\\xd1\\xe6\\x03N\\x1b\\x87\\x17W\\xb5\\x87\\xd6\\x07\\x87\\xe1\\x1d\\xef\\xe6\\xb3T\\x01\\xa0-\\x8b\\x19\\xb07yT/\\xa9\\xfeKz/\\xa4aJ\\xc5\\xf3?\\xd06[\\xa5\\xef\\xd9\\x9f\\xbf\\x7f\\xdf\\xd6\\xf1\\xfbX<\\x06\\xe9\\xda\\xac\\xc2\\xb4\\xbd\\x1a\\xa2\\x02\\xf7i\\xb4\\x83\\xaa\\x9dw>\\xd7n[\\xee=y\\xdc\\x1b\\x06\\x91\\xfb\\xa1\\xa4\\n\\x00mY\\xcc\\x80\\xbd\\xc9\\xa3zI\\xf5\\xbe\\xf4\\xbb\\x92f\\xa0\\xad\\xdc\\xcc%U\\x00h\\xcbb\\x06\\xecM\\x1e\\xd5K\\xaaW\\xd2|_\\xfa\\x01m\\xe5f.\\xa9\\x02@[\\x163`o\\xf2\\xa8^R]H\\xc3C\\xe9\\xba9\\x97\\x7fU~\\xe6/\\xcc\\xc3M\\xb9CJ\\xaa\\x00\\xd0\\x96\\xc5\\x0c\\xd8\\x9b<\\xaa\\x97T\\x8fRz(]\\x81\\xferW\\x97T\\x01\\xa0-\\x8b\\x19\\xb07yT/7\\x8b7\\xcd=\\x81\\xdd\\xc8\\xbd]R\\x05\\x80\\xb6,f\\xc0\\xde\\xe4Q\\xfd#\\xb2\\'\\xb0/\\xb9\\xc3K\\xaa\\x00\\xd0\\x96\\xc5\\x0c\\xd8\\x9b<\\xaa?\\'\\xfb\\x00{\\x94\\xfb\\xbc\\xa4\\n\\x00mY\\xcc\\x80\\xbd\\xc9\\xa3\\xfaC\\xe9\\n\\xecZn\\xf8\\x92*\\x00\\xb4e1\\x03\\xf6#\\x0f\\xe9\\x0f\\xa5+0\\x80\\xdc\\xf6%U\\x00h\\xcbb\\x06\\xecA\\x1e\\xcf\\x1fJW`\\x18\\xb9\\xf9K\\xaa\\x00\\xd0\\x96\\xc5\\x0c\\xe8-\\x0f\\xe6\\x0f\\xa5+0\\x98L\\x01%U\\x00h\\xcbb\\x06t\\x95G\\xf2\\x7fIo`<\\x99\\x05J\\xaa\\x00\\xd0\\x96\\xc5\\x0c\\xe8\\'\\x0f\\xe3\\xcf\\xc9>\\xc0x2\\x0b\\x94T\\x01\\xa0-\\x8b\\x19\\xd0F\\x9e\\xc1\\x1f\\xba\\xee6\\xef\\x0b\\x0c(\\xb3@I\\x15\\x00\\xda\\xb2\\x98\\x01\\r\\xe4\\xe9\\xfb\\xa1t\\xf5\\xc8\\x0e\\x94\\xcc\\x02%U\\x00h\\xcbb\\x06lZ\\x9e\\xbb\\x1fJ\\xd7\\x92jI\\x15\\x18Of\\x81\\x92*\\x00\\xb4e1\\x036*O\\xdc\\x0f\\xa5\\xebZ\\xdaJ\\xaa\\xc0x2\\x0b\\x94T\\x01\\xa0-\\x8b\\x19\\xb09y\\xd6~(]oI\\x8f\\x92*0\\x9e\\xcc\\x02%U\\x00h\\xcbb\\xf6\\xfb\\xde\\xdf\\xfe\\xf7\\xbf\\xb7\\xf7l\\xc0\\xc0\\xf2\\x88\\xfdP\\xba>\\x94\\xae%U`<\\x99\\x05J\\xaa\\x00\\xd0\\x96\\xc5\\xec\\xf7}:\\xc0\\xff\\xf7\\xf7\\x8f\\xe4\\xcf>\\xe4\\xe1\\xfa\\xa1t}Bv(\\xa9\\x02\\xe3\\xc9,PR\\x05\\x80\\xb6,f\\xbfO\\x80gdy\\xac~(]\\x9f\\x96\\xddJ\\xaa\\xc0x2\\x0b\\x94T\\x01\\xa0-\\x8b\\xd9\\xef[\\x05\\xf8)\\x94G\\xd5\\x0e\\xa5?\\x7f\\xff\\x9bz\\x1d\\x1d^\\xaf\\xfbUi]\\\\\\x8ex\\xbd;\\xfc\\xbe\\\\\\x92\\x0f\\xa5\\xeb\\x07e\\xe7\\x92*0\\x9e\\xcc\\x02%U\\x00h\\xcbb\\xf6\\xfb\\x16\\x01\\xfe\\xfdm\\x99\\xc5\\xf3z\\x8e\\xe5\\xcb\\x8d\\xf4\\x9e^\\x9fr\\xfa\\xaae\\xb9qww\\xf8-\\xc7\\x07\\xe9\\x7fH\\xd7O\\xc9\\x10%U`<\\x99\\x05J\\xaa\\x00\\xd0\\x96\\xc5\\xec\\xf7\\xdd\\xfe+\\xf4\\xe7t~~ut\\xe8\\xbeH\\xe3\\xa7\\x86\\x8b^\\xe7nww\\x87\\x9f\\x97\\x87\\xe8\\x87\\xd2\\xf5\\x0b2PI\\x15\\x18Of\\x81\\x92*\\x00\\xb4e1\\xfb}\\xcb\\x00?\\xa5\\xed\\xb3\\xb9z\\x9d\\xc0o5,G\\x99\\x9c\\x1a\\xef\\xee\\x0e?&W\\xf4C\\xe9\\xfa\\n\\x19\\xb1\\xa4\\n\\x8c\\'\\xb3@I\\x15\\x00\\xda\\xb2\\x98\\xfd\\xbes\\xa4\\xbe\\x8c\\xf2\\xf3\\xeb\\xeb\\x04\\xee\\x17x\\xda\\xc8S\\xf3C\\xe9\\xfa:\\x19\\xb7\\xa4\\n\\x8c\\'\\xb3@I\\x15\\x00\\xda\\xb2\\x98\\xfd\\xbe\\x9b\\x01~z\\x99\\xd7S\\x02_\\xfdG\\xec\\x15\\xc0\\x97\\xaf\\xd3\\xad\\x92\\xfa\\xa2\\xe9\\xee\\xee\\xf0\\xad\\xa6\\x87\\xe5\\x7fI\\xd7W\\xcb\\xe8%U`<\\x99\\x05J\\xaa\\x00\\xd0\\x96\\xc5\\xec\\xf7-b\\xfb\\x9c\\xdb\\'\\x7f\\xfe\\xfe}[\\x04\\xf8\\xb7\\xf7SKu=\\x98\\xb3\\xf9)\\x9d\\x9f\\xf7>\\x97\\x1e\\xed\\x0e\\xdf#\\xd7\\xdaC\\xe9\\xfa=r\\x8c\\x92*0\\x9e\\xcc\\x02%U\\x00h\\xcbb\\xb6}s\\x02\\xcf\\xc6\\xc7}qw\\xf8\\x80<#?\\x94\\xae\\xdf)G*\\xa9\\x02\\xe3\\xc9,PR\\x05\\x80\\xb6,f\\xdb\\'\\xc0\\xd3@\\x9e\\x8e\\x1fJ\\xd7\\xef\\x97\\xe3\\x95T\\x81\\xf1d\\x16(\\xa9\\x02@[\\x16\\xb3\\xed\\x13\\xe0\\xd9\\xae<\\x14?\\x94\\xae?(\\x07.\\xa9\\x02\\xe3\\xc9,PR\\x05\\x80\\xb6,f0\\x82\\xd7\\xff9N\\x1e\\x87\\x1fJ\\xd7\\x1f\\x97\\xc3\\x97T\\x81\\xf1d\\x16(\\xa9\\x02@[\\x163\\x18\\xc1+\\x03|\\x1e\\x84\\x1fJ\\xd7_\\x927QR\\x05\\xc6\\x93Y\\xa0\\xa4\\n\\x00mY\\xcc`\\x04\\xaf\\t\\xf0y\\x04~(]\\x7fU\\xdeJI\\x15\\x18Of\\x81\\x92*\\x00\\xb4e1\\x83\\xed;\\xc4\\xef?\\x7f\\xff[\\xfc#\\x83\\xf9G\\x02\\xd7\\xb1\\xfc\\xd0^-SC\\xcc\\xa5\\xb9\\xe7\\xf5\\x08\\xcf\\xca~\\x0f\\xa5\\xeb\\x06\\xe4\\r\\x95T\\x81\\xf1d\\x16(\\xa9\\x02@[\\x163\\xd8\\xbe9\\x8f\\'u\\x1f7\\xe6\\xd8~\\'\\xc0\\xaf\\xcbG\\xab\\x11\\xa6\\x1c\\xff\\xf4\\xcf\\xf1\\xc7\\x87\\xde\\x7fH\\xd7\\xcd\\xc8\\xdb*\\xa9\\x02\\xe3\\xc9,PR\\x05\\x80\\xb6,f\\xb0}\\x17\\x89\\xfcNR_\\x95/\\x12\\xfa\\x9d\\x9e\\xf7\\xe5i\\xf7\\xa1t\\xdd\\x9e\\xbc\\xbf\\x92*0\\x9e\\xcc\\x02%U\\x00h\\xcbb\\x06\\xdbw\\x1d\\xe0\\xe7\\xcd\\xfb\\xb1\\xfc\\x98\\xe1\\x0f\\xaa\\xf0\\x81\\x00\\x7f\\xdc\\xef\\x1f\\xd2u\\xab\\xf2.K\\xaa\\xc0x2\\x0b\\x94T\\x01\\xa0-\\x8b\\x19l\\xdfu\\x80?\\xff\\xd4\\xfe0\\x96?\\x11\\xf5\\x17\\xf2\\x84\\xfbP\\xban[\\xdekI\\x15\\x18Of\\x81\\x92*\\x00\\xb4e1\\xdb\\xb9<\\xb3|\\x83\\x1c\\x80\\x9f0\\xff\\x9e\\x9e\\xcc=mT\\xfc>\\x05\\xf4u\\x97\\x93Sn\\xffG\\x80?~\\xa5\\xff\\x90\\xae\\x1d\\xe4\\x1d\\x97T\\x81\\xf1d\\x16(\\xa9\\x02@[\\x16\\xb3\\xde\\xf2H\\xb2Iy\\x8b\\xbc\\xc0\\x1c\\xbf\\xa7\\xb4~tN\\xe2s\\x84O\\xf1\\x14\\xcbO\\xb5\\x83\\xf4\\xbd\\x1b\\xe0\\xd3\\xed\\xa1c\\xc7N\\xf2\\xbeK\\xaa\\xc0x2\\x0b\\x94T\\x01\\xa0-\\x8bY\\x0fy\\xf4\\xd8\\x85|$>`\\x1d\\xbf_$\\xdf\\xc7}\\xe9\\xd7P>@I\\x15\\x18Of\\x81\\x92*\\x00\\xb4e1\\xdb\\xa2<h\\x0c#\\x1f\\x9b\\xbb^\\x19\\xe0s\\xd2\\x1fJ\\xd7\\xb6\\xf21J\\xaa\\xc0x2\\x0b\\x94T\\x01\\xa0-\\x8b\\xd9&\\xe4\\xc9\\x82\\xa3\\x9c\\x14\\xce^\\x13\\xe0s~\\x1fJ\\xd7\\xe6\\xf2aJ\\xaa\\xc0x2\\x0b\\x94T\\x01\\xa0-\\x8b\\xd9\\xef\\xc8\\xa3\\xc4\\xf7\\xcb\\xf1\\xbeA\\x0e\\xf0\\xfdr<\\xbe \\xa7\\xf2\\xa1t\\xdd\\x85|\\xa4\\x92*0\\x9e\\xcc\\x02%U\\x00h\\xcbb\\xf6s\\xf2\\xf8\\xf0:\\x19w\\xc3\\xf2F_*C\\xf3\\x9c\\x9c\\xb5\\x87\\xd2uG\\xf2\\xc1J\\xaa\\xc0x2\\x0b\\x94T\\x01\\xa0-\\x8b\\xd9\\xf7\\xca#\\xc3+d\\xc4\\xe6\\xf2a^!#rGN\\xd3C\\xe9\\xba;\\xf9x%U`<\\x99\\x05J\\xaa\\x00\\xd0\\x96\\xc5\\xec\\xf5\\xf2\\x98\\xf0\\x05\\x19h\\x18\\xf9\\xd8_\\x90\\x81x\\xeed\\xa6\\xeb~\\xe5s\\x96T\\x81\\xf1d\\x16(\\xa9\\x02@[\\x16\\xb3\\x97\\xc9\\xd3\\xc1\\xa7d\\x08\\x8erR>%C\\x0c)\\xa7\\xe0\\xa1t\\xdd\\xbb|\\xda\\x92*0\\x9e\\xcc\\x02%U\\x00h\\xcbb\\xf6Uy(\\xf8\\xa0\\xec\\xcc\\x13r\\xca>(;\\x8f!\\x9f\\xf9\\xa1t\\x1dC>sI\\x15\\x18Of\\x81\\x92*\\x00\\xb4e1\\xfb\\xa4<\\x0b|D\\xf6\\xe4\\x0br*?\"{\\xeeT>\\xe4C\\xe9:\\x92|\\xf2\\x92*0\\x9e\\xcc\\x02%U\\x00h\\xcbb\\xf61y\\x04\\xf8\\x88\\xec\\xc9\\xab\\xe5\\xfc>-\\xbb\\xedE>\\xd5C\\xe9:\\x9e|\\xfe\\x92*0\\x9e\\xcc\\x02%U\\x00h\\xcbb\\xf6\\x94\\xac\\xfcO\\xcbn\\xfc\\x88\\x9c\\xf4\\xa7e\\xb7\\xb6\\xf21\\x1eJ\\xd7Q\\xe5,\\x94T\\x81\\xf1d\\x16(\\xa9\\x02@[\\x16\\xb3\\x7f\\xc8\\x9a\\xff\\x9c\\xec\\xc3/\\xc9\\xd7\\xf0\\x9c\\xec\\xd3G\\xde\\xf7C\\xe9:\\xbc\\x9c\\x8e\\x92*0\\x9e\\xcc\\x02%U\\x00h\\xcbbvWV\\xfb\\'d\\x076#_\\xcc\\x13\\xb2\\xc3\\xb6\\xe5\\xbd>\\x94\\xae\\x1c\\xe5\\xa4\\x94T\\x81\\xf1d\\x16(\\xa9\\x02@[\\x16\\xb3KY\\xe4\\x9f\\x90\\x1d\\xd8\\xb0|UO\\xc8\\x0e\\x1b\\x937\\xf7P\\xba\\xb2\\x90SSR\\x05\\xc6\\x93Y\\xa0\\xa4\\n\\x00mY\\xcc\\xce\\xb2\\xbc\\xffKz\\xd3J\\xbe\\xbc\\x7fI\\xef\\r\\xc8\\x1bz(]\\xb9\\x92\\x13TR\\x05\\xc6\\x93Y\\xa0\\xa4\\n\\x00mY\\xcc&Y\\xd8\\x1fJW\\x9a\\xcb\\xd7\\xf9P\\xba\\xfe\\x92\\xbc\\x89\\x87\\xd2\\x95;r\\x9aJ\\xaa\\xc0x2\\x0b\\x94T\\x01\\xa0\\xad\\xd1\\x17\\xb3,\\xe9\\x0f\\xa5+;\\x92\\xaf\\xf6\\xa1t\\xfdA9\\xf0C\\xe9\\xcaC9Y%U`<\\x99\\x05J\\xaa\\x00\\xd0\\xd6\\xb8\\x8bY\\x16\\xf3\\x87\\xd2\\x95\\xfd\\xca7}_\\xfa}\\xa7\\x1c\\xe9\\xa1t\\xe599k%U`<\\x99\\x05J\\xaa\\x00\\xd0\\xd6\\x88\\x8bY\\x96\\xf1\\xfb\\xd2\\x8fa\\xe4\\x8b\\xbf/\\xfd^-\\xa3?\\x94\\xae|D\\xce]I\\x15\\x18Of\\x81\\x92*\\x00\\xb45\\xd6b\\x96\\x05\\xfc\\xbe\\xf4cH\\xb9\\x08\\xeeK\\xbfW\\xc8\\x88\\x0f\\xa5+\\x1f\\x973XR\\x05\\xc6\\x93Y\\xa0\\xa4\\n\\x00m\\r\\xb4\\x98e\\xf5\\xbe#\\x9d\\x18^.\\x88\\xfb\\xd2\\xef\\xb32\\xcaC\\xe9\\xcag\\xe5<\\x96T\\x81\\xf1d\\x16(\\xa9\\x02@[C,fY\\xb7\\xefH\\'X\\xc8\\xc5qG:}Pv~(]\\xf9\\x9a\\x9c\\xcd\\x92*0\\x9e\\xcc\\x02%U\\x00hk\\xe7\\x8bYV\\xec;\\xd2\\t\\xee\\xc8\\x85rG:=!;\\xdc\\x97~\\xbcHNkI\\x15\\x18Of\\x81\\x92*\\x00\\xb4\\xb5\\xe7\\xc5,\\xcb\\xf5-\\xe9\\x01O\\xc8EsKz\\xdc\\x91N\\x0f\\xa5+/\\x95\\x93[R\\x05\\xc6\\x93Y\\xa0\\xa4\\n\\x00m\\xeds1\\xcbB}G:\\xc1G\\xe4\\xea\\xb9%=\\x16\\xd2\\xf0P\\xba\\xf2\\rr\\x8aK\\xaa\\xc0x2\\x0b\\x94T\\x01\\xa0\\xad\\x1d.fY\\xa5oI\\x0f\\xf8\\x94\\\\F\\xb7\\xa4\\xc7\\xc3>\\'\\xe9\\xca\\xb7\\xc9\\x89.\\xa9\\x02\\xe3\\xc9,PR\\x05\\x80\\xb6v\\xb5\\x98e}\\xbe%=\\xe0\\xcbrI}J\\x86\\xe0\\x9b\\xe5t\\x97T\\x81\\xf1d\\x16(\\xa9\\x02@[\\xfbY\\xcc\\xb28\\xdf\\x92\\x1e\\xf0\"\\xb9\\xb0>\"{\\xf2#r\\xd2K\\xaa\\xc0x2\\x0b\\x94T\\x01\\xa0\\xad\\x9d,fY\\x99\\xaf\\xa4\\x19\\xbeA.\\xb2\\x87\\xd2\\x95\\x9f\\x95\\xb3_R\\x05\\xc6\\x93Y\\xa0\\xa4\\n\\x00m\\xb5_\\xcc\\xb2&\\xdf\\x92\\x1e\\xf0j\\xb9\\xc2\\x1eJW~C\\xbe\\x83\\x92*0\\x9e\\xcc\\x02%U\\x00h\\xab\\xf7b\\x96\\x05\\xf9J\\x9a\\xe1\\xd5r\\x85=\\'\\xfb\\xf0\\xe3\\xf2\\x05\\x94T\\x81\\xf1d\\x16(\\xa9\\x02@[\\x8d\\x17\\xb3\\xac\\xc6W\\xd2\\x0c/\\x95\\xcb\\xeb\\x83\\xb23?+g\\xbf\\xa4\\n\\x8c\\'\\xb3@I\\x15\\x00\\xda\\xea\\xba\\x98e)\\xbe\\x92fx\\xa9\\\\^\\xf7=\\xe83\\x8f\\xc0O\\xca\\xa9/\\xa9\\x02\\xe3\\xc9,PR\\x05\\x80\\xb6Z.fY\\x87\\xd7\\xd2\\x06\\xdf \\x17\\xd9-\\xe9QR]K\\x1b?%\\xe7\\xbd\\xa4\\n\\x8c\\'\\xb3@I\\x15\\x00\\xda\\xea\\xb7\\x98e\\x11^K\\x1b|\\x8f\\\\g\\x0bi\\xb8%=\\xd6\\xd2\\xc6\\x8f\\xc8I/\\xa9\\x02\\xe3\\xc9,PR\\x05\\x80\\xb6\\x9a-fY\\x81\\xd7\\xd2\\x06\\xdf)W\\xdbs\\xd7[\\xba^I3\\xdf,\\xa7\\xbb\\xa4\\n\\x8c\\'\\xb3@I\\x15\\x00\\xdaj\\xb3\\x98e\\xed\\xbd\\x92f\\xd8\\x98\\\\\\xa0W\\xd2\\xccw\\xca\\xb9.\\xa9\\x02\\xe3\\xc9,PR\\x05\\x80\\xb6z,fYx\\xaf\\xa4\\x196)\\x97\\xe9\\x954\\xf3mr\\xa2K\\xaa\\xc0x2\\x0b\\x94T\\x01\\xa0\\xad\\xc6\\x01>m\\xb0a\\xb9X\\xd7\\xd2\\xc6\\xb7\\xc9\\x89.\\xa9\\x02\\xe3\\xc9,PR\\x05\\x80\\xb6\\x1a,fYu\\xd7\\xd2\\x06\\x9b\\x97Kv-m|\\x8f\\x9c\\xe5\\x92*0\\x9e\\xcc\\x02%U\\x00hk\\xeb\\x8bY\\x96\\xdc\\xb5\\xb4A\\x1f\\xb9v\\x17\\xd2\\xc07\\xc8).\\xa9\\x02\\xe3\\xc9,PR\\x05\\x80\\xb66\\xbd\\x98e\\xbd]K\\xdb\\xb7\\xfb\\xef\\xef\\x9f\\xff\\xbd\\xbdg\\xe3\\xcb^;\\x1a\\xfd\\xe4\\xf2]K\\x1b\\xaf\\x96\\xf3[R\\x05\\xc6\\x93Y\\xa0\\xa4\\n\\x00mmw1\\xcbb\\xbb\\x96\\xb6\\x9f\\xf0\\xb1\\xc8\\xfd\\xaf\\xde\\xf7\\xdb\\xdf\\xdf\\xf2\\xd9\\xfe\\xf7\\xbf?\\x7f\\xffK\\xf1#\\xa6\\xa1?\\xbb/?i\\xfe\\x96/\\xa4\\x8d\\x97\\xca\\xc9-\\xa9\\x02\\xe3\\xc9,PR\\x05\\x80\\xb66\\xba\\x98e\\xa5]K\\xdb\\x0f\\xf9\\x99\\x00\\x7f\\x88\\xef\\x15\\xbd\\xa7.\\x7f\\x8e\\xaf\\x9e7\\xa5\\xff?\\x7f\\xdf\\xa7=\\x05\\xf8\\x0er)\\xaf\\xa5\\x8d\\xd7\\xc9\\x99-\\xa9\\x02\\xe3\\xc9,PR\\x05\\x80\\xb6\\xda\\x04\\xf84\\xfc\\x9c9r\\x9f~\\x1f_\\x04\\xe4\\xa9%\\x8e\\x99|\\xb1}\\xeaw\\xab\\xcf\\x8d\\xd1\\xe6\\xf2\\xf1\\xe5\\x1c\\xe6\\xf3\\xf2c\\xa6Q\\x04\\xf8.r\\t,\\xa4\\x81\\xd7\\xc9\\x99-\\xa9\\x02\\xe3\\xc9,PR\\x05\\x80\\xb6\\xb6\\xb8\\x98e\\x99]H\\xc3\\x8f\\x9a#\\xf82\\x8f\\xcfI\\xfb\\xfdm\\x99\\xbeo&\\xf1\\xfc0>\\xb7\\xcc\\xfdW\\xa3M\\xcd\\xd5\\xf9\\x98\\xe9\\x0f\\x1b\\xcb\\xc1>\\xea+\\xfb\\xf2\\x0b\\xa6kz-\\r\\xbcHNkI\\x15\\x18Of\\x81\\x92*\\x00\\xb4\\xb5\\xb9\\xc5,k\\xecB\\x1a~\\xda:\\x92OA\\xfb*#/\\xba\\xacz/\\x03z\\xacG[\\x0fv\\xcc\\xf0\\xe7\\xc4\\x7f2\\xedS.\\x86[\\x9b:\\n\\xf0\\xbd\\xe4{]H\\x03\\xaf\\x90sZR\\x05\\xc6\\x93Y\\xa0\\xa4\\n\\x00m\\t\\xf0\\xf7\\xac#\\xf7\"\\x94/s\\xf5)Y\\xafz\\xdf\\x08\\xfb\\xeb\\xd1\\xce\\x1d.\\x86]\\xfc\\x15\\xfa\\xc3v\\rrl:\\xef}ej\\x17\\xe0{\\xc9\\xe5\\xb3\\x90\\x06^!\\xe7\\xb4\\xa4\\n\\x8c\\'\\xb3@I\\x15\\x00\\xda\\xda\\xd6b\\x96\\x05v!\\r\\xbf`\\x1d\\xb9O\\x99\\xfb\\x9c\\xb8W]V\\xbd\\x97}b=Z\\r\\xb6N\\xde\\xd3V^^X\\xf7\\xbb\\xf2\\x8ff\\xb6)\\x97\\xf8B\\x1a\\xf8\\xb2\\x9c\\xd0\\x92*0\\x9e\\xcc\\x02%U\\x00hkC\\x8bYV\\xd7\\x854\\xfc\\x8e)\\x15\\xaf\\xfe\\x1b\\xf8\\xf9\\xe5\"\\x9cO/\\x97\\x01\\xfe\\x9c\\xa1\\xa7\\x96\\xda:\\xff7\\xf0\\xd7\\x01~9\\xda|\\xc0\\xf9\\xe5\\xa5e\\xb7\\x1b\\xd6\\x07\\xa7\\x8f\\xe3e\\xbe\\x92\\x06\\xbe&g\\xb3\\xa4\\n\\x8c\\'\\xb3@I\\x15\\x00\\xda\\xda\\xd0b\\x96\\xd5u!\\r\\xbf\\xe3\\x90\\x8a\\xe7\\x7f\\xa0m\\xb6J\\xdf\\xb3?\\x7f\\xff\\xbe\\xad\\xe3\\xf7\\xb1x\\x0c\\xd2\\xb5Y\\x85i\\xfbF\\x80_\\x8cvp\\'\\x84?\\xc8\\xe7\\xcb\\xbd\\'w\\xba\\xb1Q\\xf9\\xda\\x16\\xd2\\xc0\\xd7\\xe4l\\x96T\\x81\\xf1d\\x16(\\xa9\\x02@[[Y\\xcc\\xb2\\xb4.\\xa4axSF\\x97\\xcb\\xf7+\\x97\\xfbB\\x1a\\xf8\\x82\\x9c\\xca\\x92*0\\x9e\\xcc\\x02%U\\x00hk\\xa3\\x01>\\xd5\\xe1I\\xef#\\xc8E_R\\xe5\\x0br*K\\xaa\\xc0x2\\x0b\\x94T\\x01\\xa0\\xadM,fYW\\x17\\xd20\\xb4\\xe3\\xdf\\xc2Oz\\xbf\\xfc\\xab\\xf23\\xd1~\\x1f\\xf2u.\\xa4\\x81\\xcf\\xcay,\\xa9\\x02\\xe3\\xc9,PR\\x05\\x80\\xb6\\xb6\\x18\\xe0S\\x1d\\xdcuf\\x7f\\xf0?cGs\\xf9\\x8aK\\xaa|V\\xcecI\\x15\\x18Of\\x81\\x92*\\x00\\xb4\\xf5\\xfb\\x8bY\\x16\\xd5\\x854\\xc00r\\xe9/\\xa4\\x81O\\xc9I,\\xa9\\x02\\xe3\\xc9,PR\\x05\\x80\\xb66\\x17\\xe0S\\x85\\xc1\\xe4\\x06(\\xa9\\xf2)9\\x89%U`<\\x99\\x05J\\xaa\\x00\\xd0\\xd6//fYQ\\x17\\xd2\\x00\\x83\\xc9\\r\\xb0\\x90\\x06>.g\\xb0\\xa4\\n\\x8c\\'\\xb3@I\\x15\\x00\\xda\\xdaV\\x80O\\x15\\x86\\x94\\xdb\\xa0\\xa4\\xca\\xc7\\xe5\\x0c\\x96T\\x81\\xf1d\\x16(\\xa9\\x02@[\\x02<lEn\\x83\\x92*\\x1f\\x973XR\\x05\\xc6\\x93Y\\xa0\\xa4\\n\\x00m\\xfd\\xe6b\\x96\\xe5t!\\r0\\xaa\\xdc\\t%U>(\\xa7\\xaf\\xa4\\n\\x8c\\'\\xb3@I\\x15\\x00\\xda\\xdaP\\x80O\\x15\\x06\\x96\\x9b\\xa1\\xa4\\xca\\x07\\xe5\\xf4\\x95T\\x81\\xf1d\\x16(\\xa9\\x02@[\\x02<lHn\\x86\\x92*\\x1f\\x94\\xd3WR\\x05\\xc6\\x93Y\\xa0\\xa4\\n\\x00m\\t\\xf0\\xb0!\\xb9\\x19\\x16\\xd2\\xc0G\\xe4\\xdc\\x95T\\x81\\xf1d\\x16(\\xa9\\x02@[\\xbf\\xb6\\x98e--\\xa9\\xc2\\xf0rK\\x94T\\xf9\\x88\\x9c\\xbb\\x92*0\\x9e\\xcc\\x02%U\\x00hK\\x80\\x87m\\xc9-QR\\xe5#r\\xeeJ\\xaa\\xc0x2\\x0b\\x94T\\x01\\xa0-\\x01\\x1e\\xb6%\\xb7DI\\x95\\x8f\\xc8\\xb9+\\xa9\\x02\\xe3\\xc9,PR\\x05\\x80\\xb6\\x04x\\xd8\\x96\\xdc\\x12%U>\"\\xe7\\xae\\xa4\\n\\x8c\\'\\xb3@I\\x15\\x00\\xda\\x12\\xe0asrW\\x1c\\xa5\\xc4G\\xe4\\xdc\\x95T\\x81\\xf1d\\x16(\\xa9\\x02@[\\xbf\\xb3\\x98e!-\\xa9\\x02G\\xb91J\\xaa<-\\'\\xae\\xa4\\n\\x8c\\'\\xb3@I\\x15\\x00\\xda\\x12\\xe0asrc\\x94TyZN\\\\I\\x15\\x18Of\\x81\\x92*\\x00\\xb4%\\xc0\\xc3\\xe6\\xe4\\xc6(\\xa9\\xf2\\xb4\\x9c\\xb8\\x92*0\\x9e\\xcc\\x02%U\\x00hK\\x80\\x87\\xcd\\xc9\\x8dQR\\xe5i9q%U`<\\x99\\x05J\\xaa\\x00\\xd0\\x96\\x00\\x0f\\x9b\\x93\\x1b\\xa3\\xa4\\xca\\xd3r\\xe2J\\xaa\\xc0x2\\x0b\\x94T\\x01\\xa0-\\x01\\x1e6\\'7FI\\x95\\xa7\\xe5\\xc4\\x95T\\x81\\xf1d\\x16(\\xa9\\x02@[\\x02<lNn\\x8c\\x92*O\\xcb\\x89+\\xa9\\x02\\xe3\\xc9,PR\\x05\\x80\\xb6\\x04x\\xd8\\x9c\\xdc\\x18%U\\x9e\\x96\\x13WR\\x05\\xc6\\x93Y\\xa0\\xa4\\n\\x00m\\t\\xf0\\xb09\\xb91J\\xaa<-\\'\\xae\\xa4\\n\\x8c\\'\\xb3@I\\x15\\x00\\xda\\x12\\xe0asrc\\x94TyZN\\\\I\\x15\\x18Of\\x81\\x92*\\x00\\xb4%\\xc0\\xc3\\xe6\\xe4\\xc6(\\xa9\\xf2\\xb4\\x9c\\xb8\\x92*0\\x9e\\xcc\\x02%U\\x00h\\xeb\\xd7\\x16\\xb3\\xac\\xa5%U`}w\\xa4\\xc4G\\xe4\\xdc\\x95T\\x81\\xf1d\\x16(\\xa9\\x02@[\\x02<lKn\\x89\\x92*\\x1f\\x91sWR\\x05\\xc6\\x93Y\\xa0\\xa4\\n\\x00m\\t\\xf0\\xb0-\\xb9%J\\xaa|D\\xce]I\\x15\\x18Of\\x81\\x92*\\x00\\xb4%\\xc0\\xc3\\xb6\\xe4\\x96(\\xa9\\xf2\\x119w%U`<\\x99\\x05J\\xaa\\x00\\xd0\\x96\\x00\\x0f\\xdb\\x92[\\xa2\\xa4\\xcaG\\xe4\\xdc\\x95T\\x81\\xf1d\\x16(\\xa9\\x02@[\\xbf\\xb9\\x98e9-\\xa9\\xc2\\xc0r3,\\xa4\\x81\\x8f\\xc8\\xb9+\\xa9\\x02\\xe3\\xc9,PR\\x05\\x80\\xb6\\x04x\\xd8\\x90\\xdc\\x0c%U>(\\xa7\\xaf\\xa4\\n\\x8c\\'\\xb3@I\\x15\\x00\\xda\\x12\\xe0aCr3\\x94T\\xf9\\xa0\\x9c\\xbe\\x92*0\\x9e\\xcc\\x02%U\\x00hK\\x80\\x87\\r\\xc9\\xcdPR\\xe5\\x83r\\xfaJ\\xaa\\xc0x2\\x0b\\x94T\\x01\\xa0\\xad_^\\xcc\\xb2\\xa2\\x96TaH\\xb9\\rJ\\xaa|\\\\\\xce`I\\x15\\x18Of\\x81\\x92*\\x00\\xb4%\\xc0\\xc3V\\xe46(\\xa9\\xf2q9\\x83%U`<\\x99\\x05J\\xaa\\x00\\xd0\\xd6\\xb6\\x02\\xfcA\\x1a`0\\xb9\\x01\\x16\\xd2\\xc0\\xc7\\xe5\\x0c\\x96T\\x81\\xf1d\\x16(\\xa9\\x02@[\\xbf\\xbf\\x98eQ-\\xa9\\xc2`r\\x03\\x94T\\xf9\\x94\\x9c\\xc4\\x92*0\\x9e\\xcc\\x02%U\\x00hks\\x01\\xfe \\r0\\x8c\\\\\\xfa\\x0bi\\xe0Sr\\x12K\\xaa\\xc0x2\\x0b\\x94T\\x01\\xa0\\xadM,fYWK\\xaa0\\x8c\\\\\\xfa%U>+\\xe7\\xb1\\xa4\\n\\x8c\\'\\xb3@I\\x15\\x00\\xda\\xdab\\x80?H\\x03\\x0c \\x17\\xfdB\\x1a\\xf8\\xac\\x9c\\xc7\\x92*0\\x9e\\xcc\\x02%U\\x00hk+\\x8bY\\x96\\xd6\\x92*\\x0c \\x17}I\\x95/\\xc8\\xa9,\\xa9\\x02\\xe3\\xc9,PR\\x05\\x80\\xb66\\x1a\\xe0\\x0f\\xd2\\x00\\xbb\\x96\\xcb}!\\r|ANeI\\x15\\x18Of\\x81\\x92*\\x00\\xb4\\xb5\\xa1\\xc5,\\xab\\xebB\\x1a`\\xa7r\\xa1/\\xa4\\x81\\xaf\\xc9\\xd9,\\xa9\\x02\\xe3\\xc9,PR\\x05\\x80\\xb6\\x04x\\xf85\\xb9\\xd0\\x17\\xd2\\xc0\\xd7\\xe4l\\x96T\\x81\\xf1d\\x16(\\xa9\\x02@[\\xdbZ\\xcc\\xb2\\xc0.\\xa4\\x01v\\'\\x97\\xf8B\\x1a\\xf8\\xb2\\x9c\\xd0\\x92*0\\x9e\\xcc\\x02%U\\x00hks\\x8bY\\xd6\\xd8\\x854\\xc0\\xbe\\xe4\\xfa.\\xa9\\xf2\\n9\\xa7%U`<\\x99\\x05J\\xaa\\x00\\xd0\\x96\\x00\\x0f\\xbf \\x17\\xf7B\\x1ax\\x85\\x9c\\xd3\\x92*0\\x9e\\xcc\\x02%U\\x00hk\\x8b\\x8bY\\x96\\xd9\\x854\\xc0.\\xe4\\xb2^H\\x03/\\x92\\xd3ZR\\x05\\xc6\\x93Y\\xa0\\xa4\\n\\x00mmt1\\xcbJ\\xbb\\x90\\x06h.\\x17\\xf4B\\x1ax\\x9d\\x9c\\xd9\\x92*0\\x9e\\xcc\\x02%U\\x00h\\xabM\\x80?H\\x1b\\xb4\\x95Ky-m\\xbcN\\xcelI\\x15\\x18Of\\x81\\x92*\\x00\\xb4\\xb5\\xdd\\xc5,\\x8b\\xedZ\\xda\\xa0\\xa1\\\\\\xc4ki\\xe3\\xa5rrK\\xaa\\xc0x2\\x0b\\x94T\\x01\\xa0\\xadM/fYo\\xd7\\xd2\\x06\\xad\\xe4\\xf2]K\\x1b\\xaf\\x96\\xf3[R\\x05\\xc6\\x93Y\\xa0\\xa4\\n\\x00mm}1\\xcb\\x92\\xbb\\x90\\x06h%\\x97\\xefB\\x1a\\xf8\\x069\\xc5%U`<\\x99\\x05J\\xaa\\x00\\xd0V\\x83\\xc5,\\xab\\xeeZ\\xda\\xa0\\x83\\\\\\xb5\\x0bi\\xe0{\\xe4,\\x97T\\x81\\xf1d\\x16(\\xa9\\x02@[=\\x16\\xb3,\\xbcki\\x83\\r\\xcb\\xc5z%\\xcd|\\x8f\\x9c\\xe5\\x92*0\\x9e\\xcc\\x02%U\\x00h\\xabq\\x80?H3lR.\\xd3+i\\xe6\\xdb\\xe4D\\x97T\\x81\\xf1d\\x16(\\xa9\\x02@[m\\x16\\xb3\\xac\\xbdW\\xd2\\x0c\\x1b\\x93\\x0b\\xf4J\\x9a\\xf9N9\\xd7%U`<\\x99\\x05J\\xaa\\x00\\xd0V\\xa7\\xc5,\\xcb\\xef\\x954\\xc3f\\xe4\\xd2\\xbc\\x92f\\xbeYNwI\\x15\\x18Of\\x81\\x92*\\x00\\xb4\\xd5o1\\xcb\"\\xbc\\x966\\xd8\\x80\\\\\\x94W\\xd2\\xcc\\xf7\\xcb\\x19/\\xa9\\x02\\xe3\\xc9,PR\\x05\\x80\\xb6Z.fY\\x87\\xd7\\xd2\\x06\\xbf*\\x97\\xe3Z\\xda\\xf8)9\\xef%U`<\\x99\\x05J\\xaa\\x00\\xd0V\\xd7\\xc5,K\\xf1\\x954\\xc3\\x8f\\xcb%x%\\xcd\\xfc\\xa0\\x9c\\xfa\\x92*0\\x9e\\xcc\\x02%U\\x00h\\xab\\xf1b\\x96\\xd5\\xf8J\\x9a\\xe1\\x07\\xe5\\xe2\\xbb\\x92f~V\\xce~I\\x15\\x18Of\\x81\\x92*\\x00\\xb4\\xd5{1\\xcb\\x82|%\\xcd\\xf0#r\\xd9]I3?._@I\\x15\\x18Of\\x81\\x92*\\x00\\xb4\\xd5~1\\xcb\\x9a|Kz\\xc0\\xb7\\xc9\\xa5vKz\\xf0\\x1b\\xf2\\x1d\\x94T\\x81\\xf1d\\x16(\\xa9\\x02@[;Y\\xcc\\xb22_I3|\\x83\\\\dW\\xd2\\xcc\\xef\\xc97QR\\x05\\xc6\\x93Y\\xa0\\xa4\\n\\x00m\\xedg1\\xcb\\xe2|Kz\\xc0\\x8b\\xe4\\xc2\\xba%=\\xf8U\\xf92J\\xaa\\xc0x2\\x0b\\x94T\\x01\\xa0\\xad]-fY\\x9foI\\x0f\\xf8\\xb2\\\\R\\xb7\\xa4\\x07\\xbf-\\xdfGI\\x15\\x18Of\\x81\\x92*\\x00\\xb4\\xb5\\xc3\\xc5,\\xab\\xf4-\\xe9\\x01\\x9f\\x92\\xcb\\xe8\\x96\\xf4`\\x1b\\xf2\\xad\\x94T\\x81\\xf1d\\x16(\\xa9\\x02@[\\xfb\\\\\\xcc\\xb2P\\xdf\\x92\\x1e\\xf0A\\xb9\\x80nI\\x0f6#_LI\\x15\\x18Of\\x81\\x92*\\x00\\xb4\\xb5\\xe7\\xc5,\\xcb\\xf5-\\xe9\\x01O\\xc8EsKz\\xb01\\xf9zJ\\xaa\\xc0x2\\x0b\\x94T\\x01\\xa0\\xad\\x9d/fY\\xb1\\xefH\\'\\xb8#\\x17\\xca\\x1d\\xe9\\xc4\\xf6\\xe4\\x1b*\\xa9\\x02\\xe3\\xc9,PR\\x05\\x80\\xb6\\x86X\\xcc\\xb2n\\xdf\\x91N\\xb0\\x90\\x8b\\xe3\\x8etb\\xab\\xf2=\\x95T\\x81\\xf1d\\x16(\\xa9\\x02@[\\xa3,fY\\xba\\xefK?\\x86\\x97\\x0b\\xe2\\xbe\\xf4c\\xc3\\xf2U\\x95T\\x81\\xf1d\\x16(\\xa9\\x02@[c-fY\\xc0\\xefK?\\x86\\x94\\x8b\\xe0\\xbe\\xf4c\\xf3\\xf2\\x85\\x95T\\x81\\xf1d\\x16(\\xa9\\x02@[#.fY\\xc6\\xefK?\\x86\\x91/\\xfe\\xbe\\xf4\\xa3\\x89|m%U`<\\x99\\x05J\\xaa\\x00\\xd0\\xd6\\xb8\\x8bY\\x16\\xf3\\xfb\\xd2\\x8f]\\xcb\\x97}_\\xfa\\xd1J\\xbe\\xbc\\x92*0\\x9e\\xcc\\x02%U\\x00hk\\xf4\\xc5,K\\xfaC\\xe9\\xca\\x8e\\xe4\\xab}(]i(_aI\\x15\\x18Of\\x81\\x92*\\x00\\xb4e1\\x9bda\\x7f(]i._\\xe7C\\xe9J[\\xf9\"K\\xaa\\xc0x2\\x0b\\x94T\\x01\\xa0-\\x8b\\xd9Y\\x96\\xf7\\x7fIo\\xba\\xc9\\xf7\\xf7P\\xba\\xd2\\\\\\xbe\\xce\\x92*0\\x9e\\xcc\\x02%U\\x00h\\xcbbv)\\x8b\\xfc\\x13\\xb2\\x03\\xdb\\x96o\\xeb_\\xd2\\x9b]\\xc8\\x97ZR\\x05\\xc6\\x93Y\\xa0\\xa4\\n\\x00mY\\xcc\\xee\\xcaj\\xff/\\xe9\\xcd\\xc6\\xe4\\xebyBv`G\\xf2\\xd5\\x96T\\x81\\xf1d\\x16(\\xa9\\x02@[\\x16\\xb3\\x7f\\xc8\\x9a\\xff\\x84\\xec\\xc0\\xaf\\xca\\x97\\xf1\\x84\\xec\\xc0\\x1e\\xe5;.\\xa9\\x02\\xe3\\xc9,PR\\x05\\x80\\xb6,fO\\xc9\\xca\\xff\\xb4\\xec\\xc6\\x8f\\xc8I\\x7fZvc\\xbf\\xf2M\\x97T\\x81\\xf1d\\x16(\\xa9\\x02@[\\x16\\xb3\\x8f\\xc9#\\xc0\\xd3\\xb2\\x1b\\xdf \\xa7\\xf8i\\xd9\\x8d\\x01\\xe4+/\\xa9\\x02\\xe3\\xc9,PR\\x05\\x80\\xb6,f\\x9f\\x94g\\x81\\x8f\\xc8\\x9e|AN\\xe5GdOF\\x92\\xef\\xbe\\xa4\\n\\x8c\\'\\xb3@I\\x15\\x00\\xda\\xb2\\x98}U\\x1e\\n>(;\\xf3\\x84\\x9c\\xb2\\x0f\\xca\\xce\\x0c)\\x17AI\\x15\\x18Of\\x81\\x92*\\x00\\xb4e1{\\x99<\\x1d|J\\x86\\xe0(\\'\\xe5S2\\x04c\\xcb\\xd5PR\\x05\\xc6\\x93Y\\xa0\\xa4\\n\\x00mY\\xcc^/\\x8f\\t_\\x90\\x81\\x86\\x91\\x8f\\xfd\\x05\\x19\\x08\\x8erY\\x94T\\x81\\xf1d\\x16(\\xa9\\x02@[\\x16\\xb3\\xef\\x95G\\x86/\\xcbp\\xbb\\x90\\x8f\\xf4e\\x19\\x0e\\xae\\xe4\\x12)\\xa9\\x02\\xe3\\xc9,PR\\x05\\x80\\xb6,f?$\\xcf\\x0e/\\x95\\xa17,o\\xf4\\xa524\\xdc\\x97k\\x05`-s\\x04\\x00\\xb4e1\\xfb\\x05y\\x8e\\xf8\\x119\\xe4\\xf7\\xc81\\xbe_\\x8e\\x07\\xcf\\xc9u\\x03\\xb0\\x969\\x02\\x00\\xda\\xb2\\x98\\xfd\\xbe<V\\xb0\\x90S\\x03\\x9f\\x92\\xcb\\x08`-s\\x04\\x00\\xb4e1\\xdb\\x9c<e\\x0c&\\x1f\\x1e^!W\\x15\\xc0Z\\xe6\\x08\\x00h\\xcbb\\xd6C\\x1e=v!\\x1f\\t\\xbeM.5\\x80\\xb5\\xcc\\x11\\x00\\xd0\\x96\\xc5\\xac\\xb1<\\x8flX\\xde(\\x00\\x00\\x00_&b\\xed\\\\\\x92\\xf47\\xc8\\x01\\x00\\x00\\x00\\xf8\\x11b\\x18\\x00\\x00\\x004 \\xc0\\x03\\x00\\x00@\\x03\\x02<\\x00\\x00\\x004 \\xc0\\x03\\x00\\x00@\\x03\\x02<\\x00\\x00\\x004 \\xc0\\x03\\x00\\x00@\\x03\\x02<\\x00\\x00\\x004 \\xc0\\x03\\x00\\x00@\\x03\\x02<\\x00\\x00\\x004 \\xc0\\x03\\x00\\x00@\\x03\\x02<\\x00\\x00\\x004 \\xc0\\x03\\x00\\x00@\\x03\\x02<\\x00\\x00\\x004 \\xc0\\x03\\x00\\x00@\\x03\\x02<\\x00\\x00\\x004 \\xc0\\x03\\x00\\x00@\\x03\\x02<\\x00\\x00\\x004 \\xc0\\x03\\x00\\x00@\\x03\\x02<\\x00\\x00\\x004 \\xc0\\x03\\x00\\x00@\\x03\\x02<\\x00\\x00\\x004 \\xc0\\x03\\x00\\x00@\\x03\\x02<\\x00\\x00\\x004 \\xc0\\x03\\x00\\x00@\\x03\\x02<\\x00\\x00\\x004 \\xc0\\x03\\x00\\x00@\\x03\\x02<\\x00\\x00\\x004 \\xc0\\x03\\x00\\x00@\\x03\\x02<\\x00\\x00\\x004 \\xc0\\x03\\x00\\x00@\\x03\\x02<\\x00\\x00\\x004 \\xc0\\x03\\x00\\x00@\\x03\\x02<\\x00\\x00\\x004 \\xc0\\x03\\x00\\x00@\\x03\\x02<\\x00\\x00\\x004 \\xc0\\x03\\x00\\x00@\\x03\\x02<\\x00\\x00\\x004 \\xc0\\x03\\x00\\x00@\\x03\\x02<\\x00\\x00\\x004 \\xc0\\x03\\x00\\x00@\\x03\\x02<\\x00\\x00\\x004 \\xc0\\x03\\x00\\x00@\\x03\\x02<\\x00\\x00\\x004 \\xc0\\x03\\x00\\x00@\\x03\\x02<\\x00\\x00\\x004 \\xc0\\x03\\x00\\x00@\\x03\\x02<\\x00\\x00\\x004 \\xc0\\x03\\x00\\x00@\\x03\\x02<\\x00\\x00\\x004 \\xc0\\x03\\x00\\x00@\\x03\\x02<\\x00\\x00\\x004 \\xc0\\x03\\x00\\x00@\\x03\\x02<\\x00\\x00\\x004 \\xc0\\x03\\x00\\x00@\\x03\\x02<\\x00\\x00\\x004 \\xc0\\x03\\x00\\x00@\\x03\\x02<\\x00\\x00\\x004 \\xc0\\xef\\xd5\\x7f\\x7f\\xff\\xfco\\xe9\\xcf\\xdf\\xff\\xd2\\xf2Y\\x8b\\x11\\xdf\\xdeS\\x03\\x00\\x00\\xe0\\x87\\x08\\xf0{5\\xc5\\xed\\x97\\xe6\\xec\\xf7\\xb7\\xfa3\\x80\\xf77\\x11\\x1e\\x00\\x00\\xe0\\xa7\\t\\xf0{u3\\xc0\\x1f\\x8a\\x87\\x14>\\x05\\xf0\\xfa!\\xfd\\xf4\\xb3\\xfa\\xe9\\x17\\xfa\\x8b>7~\\xb9\\x9f\\xf6Y\\x86\\xf9\\x1b]\\x00\\x00\\x00x1\\x01~\\xaf\\xee\\x05\\xf8C&\\x9f\\xcb\\x89\\xee\\xe7\\x8d\\xe4\\xf0\\xb9\\xbe\\xdc\\xb8\\x18f\\x95\\xd9\\x05x\\x00\\x00\\x80\\x9f!\\xc0\\xefU\\xf2y9\\xe7\\xf4S\\x1c_mLA\\xfcF\\x9fcC\\x05\\xf4\\xa9\\xcfb0\\x00\\x00\\x00~\\x90\\x00\\xbfW\\x179|\\xf6\\xb9\\x00\\x7f9\\xce\\xd4\\xe3\\xb2\\x06\\x00\\x00\\xc0\\xf7\\x12\\xe0\\xf7\\xea\\x85\\x01\\xfe\\xea\\xaf\\xc8O]\\xfc\\xbdy\\x00\\x00\\x80\\x1f%\\xc0\\xef\\xd5\\x97\\x02\\xfc\\xea\\xbf\\x81\\x9f_\\x1e^U\\xe7c\\x8flL\\xfb\\xc9\\xf2\\x00\\x00\\x00\\xdfO\\x80\\xdf\\xab9\\x87\\x9f\\x1dS\\xf6T|&\\xc0\\xbf\\xbdO\\xdbG\\xab\\xee\\xe5\\x1c\\xd9\\x05x\\x00\\x00\\x80\\x9f!\\xc0sa\\x95\\xeb\\x01\\x00\\x00\\xd8\\x08\\x01\\x9e\\x0b\\x02<\\x00\\x00\\xc0\\x16\\t\\xf0\\\\\\x10\\xe0\\x01\\x00\\x00\\xb6H\\x80\\x07\\x00\\x00\\x80\\x06\\x04x\\x00\\x00\\x00h@\\x80\\x07\\x00\\x00\\x80\\x06\\x04x\\x00\\x00\\x00h@\\x80\\x07\\x00\\x00\\x80\\x06\\x04x\\x00\\x00\\x00h@\\x80\\x07\\x00\\x00\\x80\\x06\\x04x\\x00\\x00\\x00h@\\x80\\x07\\x00\\x00\\x80\\x06\\x04x\\x00\\x00\\x00h@\\x80\\x07\\x00\\x00\\x80\\x06\\x04x\\x00\\x00\\x00h@\\x80\\x07\\x00\\x00\\x80\\x06\\x04x\\x00\\x00\\x00h@\\x80\\x07\\x00\\x00\\x80\\x06\\x04x\\x00\\x00\\x00h@\\x80\\x07\\x00\\x00\\x80\\x06\\x04x\\x00\\x00\\x00h@\\x80\\x07\\x00\\x00\\x80\\x06\\x04x\\x00\\x00\\x00h@\\x80\\x07\\x00\\x00\\x80\\x06\\x04x\\x00\\x00\\x00h@\\x80\\x07\\x00\\x00\\x80\\x06\\x04x\\x00\\x00\\x00h@\\x80\\x07\\x00\\x00\\x80\\x06\\x04x\\x00\\x00\\x00h@\\x80\\x07\\x00\\x00\\x80\\x06\\x04x\\x00\\x00\\x00h@\\x80\\x07\\x00\\x00\\x80\\x06\\x04x\\x00\\x00\\x00h@\\x80\\x07\\x00\\x00\\x80\\x06\\x04x\\x00\\x00\\x00h@\\x80\\x07\\x00\\x00\\x80\\x06\\x04x\\x00\\x00\\x00h@\\x80\\x07\\x00\\x00\\x80\\x06\\x04x\\x00\\x00\\x00h@\\x80\\x07\\x00\\x00\\x80\\x06\\x04\\xf8\\xbd\\xfa\\xef\\xef\\x9f\\xff-\\xfd\\xf9\\xfb_Z\\xbe\\xe6\\xfd\\xed\\x95\\xa3\\x01\\x00\\x00\\xf0$\\x01~\\xaf\\xa6\\x00\\xff\\xf6\\x9e\\x8d\\x979\\xc4\\xf7?oo\\x7f\\x04x\\x00\\x00\\x80\\x9f&\\xc0\\xef\\xd5\\xcd\\x00\\x7f(\\x1e\\xa2\\xf7\\xfc#\\xfa\\xc1\\xa1\\xfd\\xf4C\\xfd)\\x92_\\xf4YF\\xf5y\\xcc\\xe9\\xff\\x9e\\xaaS\\xbfe\\x17\\x00\\x00\\x00\\xbe\\x87\\x00\\xbfWs\\xd8\\xceF\\x99\\xe3\\xfa\\\\\\x9e_/6\\x92\\xc3\\xe7\\xfar#\\xc3L\\xaf\\xa7\\x97\\x8b\\xbe\\x02<\\x00\\x00\\xc0O\\x11\\xe0\\xf7j\\xce\\xe1\\'\\xe7\\x9c\\x9e8~\\xb11\\x05\\xf1\\x1b}\\xe6\\xbf4?\\x05\\xf4syz%\\xb3\\x03\\x00\\x00\\xfc0\\x01~\\xaf.r\\xf8lU\\\\m<\\n\\xf0\\x87\\xcdeqz-\\xc0\\x03\\x00\\x00\\xfc0\\x01~\\xaf.r\\xf8lU\\\\m\\xfc\\xe3\\x17\\xf8\\xa9\\xf9\\x92\\x10\\x0f\\x00\\x00\\xf0\\x83\\x04\\xf8\\xbd\\xfaR\\x80_\\xfd7\\xf0\\x97A}U\\x9b\\xf6\\x93\\xe4\\x01\\x00\\x00\\xbe\\x9f\\x00\\xbfWs\\x0e?;\\xa6\\xecUf_m\\\\\\xfe\\x02\\x7f\\xfa\\xc9\\xfd\\xd4\\xe3D\\x80\\x07\\x00\\x00\\xf8\\x05\\x02<\\x17V\\xb9\\x1e\\x00\\x00\\x80\\x8d\\x10\\xe0\\xb9 \\xc0\\x03\\x00\\x00l\\x91\\x00\\xcf\\x05\\x01\\x1e\\x00\\x00`\\x8b\\x04x\\x00\\x00\\x00h@\\x80\\x07\\x00\\x00\\x80\\x06\\x04x\\x00\\x00\\x00h@\\x80\\x07\\x00\\x00\\x80\\x06\\x04x\\x00\\x00\\x00h@\\x80\\x07\\x00\\x00\\x80\\x06\\x04x\\x00\\x00\\x00h@\\x80\\x07\\x00\\x00\\x80\\x06\\x04x\\x00\\x00\\x00h@\\x80\\x07\\x00\\x00\\x80\\x06\\x04x\\x00\\x00\\x00h@\\x80\\x07\\x00\\x00\\x80\\x06\\x04x\\x00\\x00\\x00h@\\x80\\x07\\x00\\x00\\x80\\x06\\x04x\\x00\\x00\\x00h@\\x80\\x07\\x00\\x00\\x80\\x06\\x04x\\x00\\x00\\x00h@\\x80\\x07\\x00\\x00\\x80\\x06\\x04x\\x00\\x00\\x00h@\\x80\\x07\\x00\\x00\\x80\\x06\\x04x\\x00\\x00\\x00h@\\x80\\x07\\x00\\x00\\x80\\x06\\x04x\\x00\\x00\\x00h@\\x80\\x07\\x00\\x00\\x80\\x06\\x04x\\x00\\x00\\x00h@\\x80\\x07\\x00\\x00\\x80\\x06\\x04x\\x00\\x00\\x00h@\\x80\\x07\\x00\\x00\\x80\\x06\\x04x\\x00\\x00\\x00h@\\x80\\x07\\x00\\x00\\x80\\x06\\x04x\\x00\\x00\\x00h@\\x80\\x07\\x00\\x00\\x80\\x06\\x04x\\x00\\x00\\x00h@\\x80\\x07\\x00\\x00\\x80\\x06\\x04x\\x00\\x00\\x00h@\\x80\\x07\\x00\\x00\\x80\\x06\\x04x\\x00\\x00\\x00h@\\x80\\x07\\x00\\x00\\x80\\x06\\x04x\\x00\\x00\\x00h@\\x80\\x07\\x00\\x00\\x80\\x06\\x04x\\x00\\x00\\x00h@\\x80\\x07\\x00\\x00\\x80\\x06\\x04x\\x00\\x00\\x00h@\\x80\\x07\\x00\\x00\\x80\\x06\\x04x\\x00\\x00\\x00h@\\x80\\x07\\x00\\x00\\x80\\x06\\x04x\\x00\\x00\\x00h@\\x80\\x07\\x00\\x00\\x80\\x06\\x04x\\x00\\x00\\x00h@\\x80\\x07\\x00\\x00\\x80\\x06\\x04x\\x00\\x00\\x00h@\\x80\\x07\\x00\\x00\\x80\\x06\\x04x\\x00\\x00\\x00h@\\x80\\x07\\x00\\x00\\x80\\x06\\x04x\\x00\\x00\\x00h@\\x80\\x07\\x00\\x00\\x80\\x06\\x04x\\x00\\x00\\x00h@\\x80\\x07\\x00\\x00\\x80\\x06\\x04x\\x00\\x00\\x00h@\\x80\\x07\\x00\\x00\\x80\\x06\\x04x\\x00\\x00\\x00h@\\x80\\x07\\x00\\x00\\x80\\x06\\x04x\\x00\\x00\\x00h@\\x80\\x07\\x00\\x00\\x80\\x06\\x04x\\x00\\x00\\x00h@\\x80\\x07\\x00\\x00\\x80\\x06\\x04x\\x00\\x00\\x00h@\\x80\\x07\\x00\\x00\\x80\\x06\\x04x\\x00\\x00\\x00h@\\x80\\x07\\x00\\x00\\x80\\x06\\x04x\\x00\\x00\\x00h@\\x80\\x07\\x00\\x00\\x80\\x06\\x04x\\x00\\x00\\x00h@\\x80\\x07\\x00\\x00\\x80\\x06\\x04x\\x00\\x00\\x00h@\\x80\\x07\\x00\\x00\\x80\\x06\\x04x\\x00\\x00\\x00h@\\x80\\x07\\x00\\x00\\x80\\x06\\x04x\\x00\\x00\\x00h@\\x80\\x07\\x00\\x00\\x80\\x06\\x04x\\x00\\x00\\x00h@\\x80\\x07\\x00\\x00\\x80\\x06\\x04x\\x00\\x00\\x00h@\\x80\\x07\\x00\\x00\\x80\\x06\\x04x\\x00\\x00\\x00h@\\x80\\x07\\x00\\x00\\x80\\x06\\x04x\\x00\\x00\\x00h@\\x80\\x07\\x00\\x00\\x80\\x06\\x04x\\x00\\x00\\x00h@\\x80\\x07\\x00\\x00\\x80\\x06\\x04x\\x00\\x00\\x00h@\\x80\\x07\\x00\\x00\\x80\\x06\\x04x\\x00\\x00\\x00h@\\x80\\x07\\x00\\x00\\x80\\x06\\x04x\\x00\\x00\\x00h@\\x80\\x07\\x00\\x00\\x80\\x06\\x04x\\x00\\x00\\x00h@\\x80\\x07\\x00\\x00\\x80\\x06\\x04x\\x00\\x00\\x00h@\\x80\\x07\\x00\\x00\\x80\\x06\\x04x\\x00\\x00\\x00h@\\x80\\x07\\x00\\x00\\x80\\x06\\x04x\\x00\\x00\\x00h@\\x80\\x07\\x00\\x00\\x80\\x06\\x04x\\x00\\x00\\x00h@\\x80\\x07\\x00\\x00\\x80\\x06\\x04x\\x00\\x00\\x00h@\\x80\\x07\\x00\\x00\\x80\\x06\\x04x\\x00\\x00\\x00h@\\x80\\x07\\x00\\x00\\x80\\x06\\x04x\\x00\\x00\\x00h@\\x80\\x07\\x00\\x00\\x80\\x06\\x04x\\x00\\x00\\x00h@\\x80\\x07\\x00\\x00\\x80\\x06\\x04x\\x00\\x00\\x00h@\\x80\\x07\\x00\\x00\\x80\\x06\\x04x\\x00\\x00\\x00h@\\x80\\x07\\x00\\x00\\x80\\x06\\x04x\\x00\\x00\\x00h@\\x80\\x07\\x00\\x00\\x80\\x06\\x04x\\x00\\x00\\x00h@\\x80\\x07\\x00\\x00\\x80\\x06\\x04x\\x00\\x00\\x00h@\\x80\\x07\\x00\\x00\\x80\\x06\\x04x\\x00\\x00\\x00h@\\x80\\x07\\x00\\x00\\x80\\x06\\x04x\\x00\\x00\\x00h@\\x80\\x07\\x00\\x00\\x80\\x06\\x04x\\x00\\x00\\x00h@\\x80\\x07\\x00\\x00\\x80\\x06\\x04x\\x00\\x00\\x00h@\\x80\\x07\\x00\\x00\\x80\\x06\\x04x\\x00\\x00\\x00h@\\x80\\x07\\x00\\x00\\x80\\x06\\x04x\\x00\\x00\\x00h@\\x80\\x07\\x00\\x00\\x80\\x06\\x04x\\x00\\x00\\x00h@\\x80\\x07\\x00\\x00\\x80\\x06\\x04x\\x00\\x00\\x00h@\\x80\\x07\\x00\\x00\\x80\\x06\\x04x\\x00\\x00\\x00h@\\x80\\x07\\x00\\x00\\x80\\x06\\x04x\\x00\\x00\\x00h@\\x80\\x07\\x00\\x00\\x80\\x06\\x04x\\x00\\x00\\x00h@\\x80\\x07\\x00\\x00\\x80\\x06\\x04x\\x00\\x00\\x00h@\\x80\\x07\\x00\\x00\\x80\\x06\\x04x\\x00\\x00\\x00h@\\x80\\x07\\x00\\x00\\x80\\x06\\x04x\\x00\\x00\\x00h@\\x80\\x07\\x00\\x00\\x80\\x06\\x04x\\x00\\x00\\x00h@\\x80\\x07\\x00\\x00\\x80\\x06\\x04x\\x00\\x00\\x00h@\\x80\\x07\\x00\\x00\\x80\\x06\\x04x\\x00\\x00\\x00h@\\x80\\x07\\x00\\x00\\x80\\x06\\x04x\\x00\\x00\\x00h@\\x80\\x07\\x00\\x00\\x80\\x06\\x04x\\x00\\x00\\x00h@\\x80\\x07\\x00\\x00\\x80\\x06\\x04x\\x00\\x00\\x00h@\\x80\\x07\\x00\\x00\\x80\\x06\\x04x\\x00\\x00\\x00h@\\x80\\x07\\x00\\x00\\x80\\x06\\x04x\\x00\\x00\\x00h@\\x80\\x07\\x00\\x00\\x80\\x06\\x04x\\x00\\x00\\x00h@\\x80\\x07\\x00\\x00\\x80\\x06\\x04x\\x00\\x00\\x00h@\\x80\\x07\\x00\\x00\\x80\\x06\\x04x\\x00\\x00\\x00h@\\x80\\x07\\x00\\x00\\x80\\x06\\x04x\\x00\\x00\\x00h@\\x80\\x07\\x00\\x00\\x80\\x06\\x04x\\x00\\x00\\x00h@\\x80\\x07\\x00\\x00\\x80\\x06\\x04x\\x00\\x00\\x00h@\\x80\\x07\\x00\\x00\\x80\\xcd\\xfb\\xbf\\xff\\xfb\\x7f\\x1b\\xc2\\xe2v[YAW\\x00\\x00\\x00\\x00IEND\\xaeB`\\x82'\n"
     ]
    }
   ],
   "source": [
    "#copy\n",
    "#read data from source file.\n",
    "#write in to destination file.\n",
    "f=open(\"git.png\",\"rb\")\n",
    "data=f.read()\n",
    "print(data)"
   ]
  },
  {
   "cell_type": "code",
   "execution_count": 14,
   "metadata": {},
   "outputs": [],
   "source": [
    "#copy\n",
    "#read data from source file.\n",
    "#write in to destination file.\n",
    "f=open(\"git.png\",\"rb\")\n",
    "data=f.read()\n",
    "f.close()\n",
    "f=open(\"git1.png\",\"wb\")\n",
    "f.write(data)\n",
    "f.close()"
   ]
  },
  {
   "cell_type": "code",
   "execution_count": 15,
   "metadata": {},
   "outputs": [
    {
     "name": "stdout",
     "output_type": "stream",
     "text": [
      "Enter an id:1\n",
      "Enter name:hithaswi\n",
      "Enter salary1234567\n",
      "Want to add more rows?(yes/no)yes\n",
      "Enter an id:2\n",
      "Enter name:bhargav\n",
      "Enter salary1234567\n",
      "Want to add more rows?(yes/no)no\n"
     ]
    }
   ],
   "source": [
    "f=open(\"data.csv\",\"w\")\n",
    "f.write(\"EmpID,EmpName,EmpSalary\\n\")\n",
    "while True:\n",
    "    emp_id=input(\"Enter an id:\")\n",
    "    emp_name=input(\"Enter name:\")\n",
    "    emp_sal=input(\"Enter salary\")\n",
    "    want_to_next_row = input(\"Want to add more rows?(yes/no)\")\n",
    "    row = \"%s,%s,%s\\n\"%(emp_id,emp_name,emp_sal)\n",
    "    f.write(row)# this writes row in to cache. if you write thousands of rows in to cache. the cache memory may got full.\n",
    "    # thats why flush every row from cache to actual file. you are going to store only one row in cache.\n",
    "    f.flush()#flush every row. because if the user adds thousands of rows.\n",
    "    if want_to_next_row.casefold() not in [\"y\", \"yes\"]:\n",
    "        break\n",
    "f.close()\n",
    "        "
   ]
  },
  {
   "cell_type": "code",
   "execution_count": 16,
   "metadata": {},
   "outputs": [
    {
     "name": "stdout",
     "output_type": "stream",
     "text": [
      "EmpID,EmpName,EmpSalary\n",
      "1,hithaswi,1234567\n",
      "2,bhargav,1234567\n",
      "\n"
     ]
    }
   ],
   "source": [
    "f=open(\"data.csv\")# the default mode is read mode.\n",
    "data=f.read()\n",
    "print(data)\n",
    "f.close()"
   ]
  },
  {
   "cell_type": "code",
   "execution_count": 17,
   "metadata": {},
   "outputs": [],
   "source": [
    "import names"
   ]
  },
  {
   "cell_type": "code",
   "execution_count": 19,
   "metadata": {},
   "outputs": [
    {
     "data": {
      "text/plain": [
       "'Debra Garman'"
      ]
     },
     "execution_count": 19,
     "metadata": {},
     "output_type": "execute_result"
    }
   ],
   "source": [
    "names.get_full_name()"
   ]
  },
  {
   "cell_type": "code",
   "execution_count": 20,
   "metadata": {},
   "outputs": [
    {
     "data": {
      "text/plain": [
       "'David Gross'"
      ]
     },
     "execution_count": 20,
     "metadata": {},
     "output_type": "execute_result"
    }
   ],
   "source": [
    "names.get_full_name()"
   ]
  },
  {
   "cell_type": "code",
   "execution_count": 21,
   "metadata": {},
   "outputs": [
    {
     "data": {
      "text/plain": [
       "'Rachel Fitzgerald'"
      ]
     },
     "execution_count": 21,
     "metadata": {},
     "output_type": "execute_result"
    }
   ],
   "source": [
    "names.get_full_name()"
   ]
  },
  {
   "cell_type": "code",
   "execution_count": 22,
   "metadata": {},
   "outputs": [
    {
     "data": {
      "text/plain": [
       "'Louis Berger'"
      ]
     },
     "execution_count": 22,
     "metadata": {},
     "output_type": "execute_result"
    }
   ],
   "source": [
    "names.get_full_name()"
   ]
  },
  {
   "cell_type": "code",
   "execution_count": 23,
   "metadata": {},
   "outputs": [
    {
     "data": {
      "text/plain": [
       "'William Benavidez'"
      ]
     },
     "execution_count": 23,
     "metadata": {},
     "output_type": "execute_result"
    }
   ],
   "source": [
    "names.get_full_name()"
   ]
  },
  {
   "cell_type": "code",
   "execution_count": 24,
   "metadata": {},
   "outputs": [
    {
     "name": "stdout",
     "output_type": "stream",
     "text": [
      "343057\n"
     ]
    }
   ],
   "source": [
    "import random\n",
    "val = random.randint(1,10000000)\n",
    "print(val)"
   ]
  },
  {
   "cell_type": "code",
   "execution_count": 25,
   "metadata": {},
   "outputs": [
    {
     "name": "stdout",
     "output_type": "stream",
     "text": [
      "1946943\n"
     ]
    }
   ],
   "source": [
    "import random\n",
    "val = random.randint(1,10000000)\n",
    "print(val)"
   ]
  },
  {
   "cell_type": "code",
   "execution_count": 27,
   "metadata": {},
   "outputs": [
    {
     "name": "stdout",
     "output_type": "stream",
     "text": [
      "6712790\n"
     ]
    }
   ],
   "source": [
    "import random\n",
    "val = random.randint(100000,10000000)\n",
    "print(val)"
   ]
  },
  {
   "cell_type": "code",
   "execution_count": 28,
   "metadata": {},
   "outputs": [
    {
     "name": "stdout",
     "output_type": "stream",
     "text": [
      "3102878\n"
     ]
    }
   ],
   "source": [
    "import random\n",
    "val = random.randint(100000,10000000)\n",
    "print(val)"
   ]
  },
  {
   "cell_type": "code",
   "execution_count": 29,
   "metadata": {},
   "outputs": [
    {
     "name": "stdout",
     "output_type": "stream",
     "text": [
      "5829146\n"
     ]
    }
   ],
   "source": [
    "import random\n",
    "val = random.randint(100000,10000000)\n",
    "print(val)"
   ]
  },
  {
   "cell_type": "code",
   "execution_count": 30,
   "metadata": {},
   "outputs": [
    {
     "name": "stdout",
     "output_type": "stream",
     "text": [
      "268339\n"
     ]
    }
   ],
   "source": [
    "import random\n",
    "val = random.randint(100000,10000000)\n",
    "print(val)"
   ]
  },
  {
   "cell_type": "code",
   "execution_count": 31,
   "metadata": {},
   "outputs": [
    {
     "name": "stdout",
     "output_type": "stream",
     "text": [
      "7875374\n"
     ]
    }
   ],
   "source": [
    "import random\n",
    "val = random.randint(100000,10000000)\n",
    "print(val)"
   ]
  },
  {
   "cell_type": "code",
   "execution_count": 32,
   "metadata": {},
   "outputs": [
    {
     "name": "stdout",
     "output_type": "stream",
     "text": [
      "6805141\n"
     ]
    }
   ],
   "source": [
    "import random\n",
    "val = random.randint(100000,10000000)\n",
    "print(val)"
   ]
  },
  {
   "cell_type": "code",
   "execution_count": 36,
   "metadata": {},
   "outputs": [],
   "source": [
    "import names\n",
    "import random\n",
    "f=open(\"data.csv\",\"w\")\n",
    "f.write(\"EmpID,EmpName,EmpSalary\\n\")\n",
    "for i in range(100):\n",
    "    row=\"%s,%s,%s\\n\"%(i,names.get_full_name(),random.randint(100000,10000000))\n",
    "    f.write(row)\n",
    "    f.flush()\n",
    "f.close()"
   ]
  },
  {
   "cell_type": "code",
   "execution_count": 37,
   "metadata": {},
   "outputs": [],
   "source": [
    "#100-3KB\n",
    "#?-1024*1024*30"
   ]
  },
  {
   "cell_type": "code",
   "execution_count": 38,
   "metadata": {},
   "outputs": [],
   "source": [
    "# prepare 30 GB file by using above program.\n",
    "# find the average salary"
   ]
  },
  {
   "cell_type": "code",
   "execution_count": 39,
   "metadata": {},
   "outputs": [
    {
     "name": "stdout",
     "output_type": "stream",
     "text": [
      "EmpID,EmpName,EmpSalary\n",
      "0,Amy Towler,8987847\n",
      "1,Mario Rogers,593444\n",
      "2,Adam Garcia,9739120\n",
      "3,Rita Meadows,3568143\n",
      "4,Anthony Elliott,9742454\n",
      "5,Lloyd Gaskamp,9367193\n",
      "6,Shaun Lofty,9720638\n",
      "7,Robert Stauber,8722117\n",
      "8,Robert Eaton,1356644\n",
      "9,Diane Elmore,3964246\n",
      "10,William Welder,632454\n",
      "11,Elisa Jeffers,671080\n",
      "12,Elmer Whitesell,3618807\n",
      "13,Gary Nuzum,2546162\n",
      "14,Bobby Goebel,9095857\n",
      "15,Robert Manuel,1965274\n",
      "16,Lawrence Rybka,1968743\n",
      "17,Janice Frank,2754396\n",
      "18,Stephenie Bibber,9231067\n",
      "19,Raymond Muellerleile,9191858\n",
      "20,Joel Haaf,755928\n",
      "21,Beth Meyer,7422245\n",
      "22,Sharleen Barham,639142\n",
      "23,Louis Raines,3528447\n",
      "24,Maria Clark,3153406\n",
      "25,Joyce Davis,9889248\n",
      "26,Amy Elia,6310614\n",
      "27,George Helen,2787821\n",
      "28,Linsey Henderson,5936460\n",
      "29,Anthony Georges,8407702\n",
      "30,Anna Johnson,3497327\n",
      "31,Jesse Duvall,3402614\n",
      "32,Jill Robinson,417241\n",
      "33,Adeline Sake,3807381\n",
      "34,Carolyn Reynolds,8073352\n",
      "35,Ruth Alvarez,3684633\n",
      "36,Jennifer Sadler,405016\n",
      "37,Alma Johnson,1851078\n",
      "38,Arlene Saltsman,3312367\n",
      "39,Louise Cannon,7344418\n",
      "40,Daniel Wood,4279208\n",
      "41,Gina Weekley,9639767\n",
      "42,Sally Forsyth,8309757\n",
      "43,Charles Montoya,5474177\n",
      "44,Tommy Calderon,2871587\n",
      "45,Jean Kamphoefner,7454844\n",
      "46,Werner Giannone,8530308\n",
      "47,Michael Duke,3295536\n",
      "48,Phyllis Tith,6861998\n",
      "49,Terry Cromwell,6278587\n",
      "50,Vilma Johnson,8271104\n",
      "51,Dawn Kounthapanya,8599206\n",
      "52,Margareta Joplin,1534658\n",
      "53,Bianca Cummins,5861214\n",
      "54,David Trujillo,8856470\n",
      "55,Stacy Witcher,3991115\n",
      "56,Kenneth Jimenez,7298027\n",
      "57,Karina Surano,339934\n",
      "58,Sandra Stewart,1718968\n",
      "59,Owen Goree,6566604\n",
      "60,Laura Whitman,6277125\n",
      "61,Dee Bradley,7478943\n",
      "62,Harold Menard,5714584\n",
      "63,Mohammed Yurek,2065850\n",
      "64,Bryan Hollingsworth,4336893\n",
      "65,Richard Love,4450196\n",
      "66,Victoria Taylor,9931504\n",
      "67,Dexter Thomas,9076249\n",
      "68,Carol Graves,4935597\n",
      "69,Anthony Luft,2819024\n",
      "70,Lois Kenne,2628113\n",
      "71,Angela Vang,9735691\n",
      "72,Samuel Lester,3549106\n",
      "73,Mary Finnegan,8214936\n",
      "74,Edward Griffith,4792282\n",
      "75,Margaret Horton,8773246\n",
      "76,Eileen Negro,4972019\n",
      "77,Lee Postal,2845399\n",
      "78,Renee Slone,9362665\n",
      "79,Craig Donaldson,7624175\n",
      "80,Robert Volz,4083902\n",
      "81,Eugenia Puotinen,4389216\n",
      "82,Helen Clyde,8582695\n",
      "83,Lila Smith,7390335\n",
      "84,Walter Mitchell,1287144\n",
      "85,Anthony Walker,8714408\n",
      "86,Albert Kuhn,3324653\n",
      "87,David Kubik,4272821\n",
      "88,Arlene Rogers,5988636\n",
      "89,Steven Moir,3482745\n",
      "90,Daniel Rogers,5256792\n",
      "91,Ronald Luker,8206246\n",
      "92,Claudia Lowry,7009969\n",
      "93,David Jackson,6498625\n",
      "94,Jessica Core,6601054\n",
      "95,Jennifer Carrera,9661674\n",
      "96,Christine Witt,2934197\n",
      "97,Dianna Ruot,7116467\n",
      "98,Penny Robbins,9628145\n",
      "99,Martha Barnes,4448832\n",
      "\n"
     ]
    }
   ],
   "source": [
    "f=open(\"data.csv\")\n",
    "data = f.read()\n",
    "print(data)\n",
    "f.close()"
   ]
  },
  {
   "cell_type": "code",
   "execution_count": 40,
   "metadata": {},
   "outputs": [
    {
     "name": "stdout",
     "output_type": "stream",
     "text": [
      "EmpID,EmpName,EmpSalary\n",
      "0,Amy Towler,8987847\n",
      "1,Mario Rogers,593444\n",
      "2,Adam Garcia,9739120\n",
      "3,Rita Meadows,3568143\n",
      "4,Anthony Elliott,9742454\n",
      "5,Lloyd Gaskamp,9367193\n",
      "6,Shaun Lofty,9720638\n",
      "7,Robert Stauber,8722117\n",
      "8,Robert Eaton,1356644\n",
      "9,Diane Elmore,3964246\n",
      "10,William Welder,632454\n",
      "11,Elisa Jeffers,671080\n",
      "12,Elmer Whitesell,3618807\n",
      "13,Gary Nuzum,2546162\n",
      "14,Bobby Goebel,9095857\n",
      "15,Robert Manuel,1965274\n",
      "16,Lawrence Rybka,1968743\n",
      "17,Janice Frank,2754396\n",
      "18,Stephenie Bibber,9231067\n",
      "19,Raymond Muellerleile,9191858\n",
      "20,Joel Haaf,755928\n",
      "21,Beth Meyer,7422245\n",
      "22,Sharleen Barham,639142\n",
      "23,Louis Raines,3528447\n",
      "24,Maria Clark,3153406\n",
      "25,Joyce Davis,9889248\n",
      "26,Amy Elia,6310614\n",
      "27,George Helen,2787821\n",
      "28,Linsey Henderson,5936460\n",
      "29,Anthony Georges,8407702\n",
      "30,Anna Johnson,3497327\n",
      "31,Jesse Duvall,3402614\n",
      "32,Jill Robinson,417241\n",
      "33,Adeline Sake,3807381\n",
      "34,Carolyn Reynolds,8073352\n",
      "35,Ruth Alvarez,3684633\n",
      "36,Jennifer Sadler,405016\n",
      "37,Alma Johnson,1851078\n",
      "38,Arlene Saltsman,3312367\n",
      "39,Louise Cannon,7344418\n",
      "40,Daniel Wood,4279208\n",
      "41,Gina Weekley,9639767\n",
      "42,Sally Forsyth,8309757\n",
      "43,Charles Montoya,5474177\n",
      "44,Tommy Calderon,2871587\n",
      "45,Jean Kamphoefner,7454844\n",
      "46,Werner Giannone,8530308\n",
      "47,Michael Duke,3295536\n",
      "48,Phyllis Tith,6861998\n",
      "49,Terry Cromwell,6278587\n",
      "50,Vilma Johnson,8271104\n",
      "51,Dawn Kounthapanya,8599206\n",
      "52,Margareta Joplin,1534658\n",
      "53,Bianca Cummins,5861214\n",
      "54,David Trujillo,8856470\n",
      "55,Stacy Witcher,3991115\n",
      "56,Kenneth Jimenez,7298027\n",
      "57,Karina Surano,339934\n",
      "58,Sandra Stewart,1718968\n",
      "59,Owen Goree,6566604\n",
      "60,Laura Whitman,6277125\n",
      "61,Dee Bradley,7478943\n",
      "62,Harold Menard,5714584\n",
      "63,Mohammed Yurek,2065850\n",
      "64,Bryan Hollingsworth,4336893\n",
      "65,Richard Love,4450196\n",
      "66,Victoria Taylor,9931504\n",
      "67,Dexter Thomas,9076249\n",
      "68,Carol Graves,4935597\n",
      "69,Anthony Luft,2819024\n",
      "70,Lois Kenne,2628113\n",
      "71,Angela Vang,9735691\n",
      "72,Samuel Lester,3549106\n",
      "73,Mary Finnegan,8214936\n",
      "74,Edward Griffith,4792282\n",
      "75,Margaret Horton,8773246\n",
      "76,Eileen Negro,4972019\n",
      "77,Lee Postal,2845399\n",
      "78,Renee Slone,9362665\n",
      "79,Craig Donaldson,7624175\n",
      "80,Robert Volz,4083902\n",
      "81,Eugenia Puotinen,4389216\n",
      "82,Helen Clyde,8582695\n",
      "83,Lila Smith,7390335\n",
      "84,Walter Mitchell,1287144\n",
      "85,Anthony Walker,8714408\n",
      "86,Albert Kuhn,3324653\n",
      "87,David Kubik,4272821\n",
      "88,Arlene Rogers,5988636\n",
      "89,Steven Moir,3482745\n",
      "90,Daniel Rogers,5256792\n",
      "91,Ronald Luker,8206246\n",
      "92,Claudia Lowry,7009969\n",
      "93,David Jackson,6498625\n",
      "94,Jessica Core,6601054\n",
      "95,Jennifer Carrera,9661674\n",
      "96,Christine Witt,2934197\n",
      "97,Dianna Ruot,7116467\n",
      "98,Penny Robbins,9628145\n",
      "99,Martha Barnes,4448832\n",
      "\n",
      "EmpID,EmpName,EmpSalary\n",
      "0,Amy Towler,8987847\n",
      "1,Mario Rogers,593444\n",
      "2,Adam Garcia,9739120\n",
      "3,Rita Meadows,3568143\n",
      "4,Anthony Elliott,9742454\n",
      "5,Lloyd Gaskamp,9367193\n",
      "6,Shaun Lofty,9720638\n",
      "7,Robert Stauber,8722117\n",
      "8,Robert Eaton,1356644\n",
      "9,Diane Elmore,3964246\n",
      "10,William Welder,632454\n",
      "11,Elisa Jeffers,671080\n",
      "12,Elmer Whitesell,3618807\n",
      "13,Gary Nuzum,2546162\n",
      "14,Bobby Goebel,9095857\n",
      "15,Robert Manuel,1965274\n",
      "16,Lawrence Rybka,1968743\n",
      "17,Janice Frank,2754396\n",
      "18,Stephenie Bibber,9231067\n",
      "19,Raymond Muellerleile,9191858\n",
      "20,Joel Haaf,755928\n",
      "21,Beth Meyer,7422245\n",
      "22,Sharleen Barham,639142\n",
      "23,Louis Raines,3528447\n",
      "24,Maria Clark,3153406\n",
      "25,Joyce Davis,9889248\n",
      "26,Amy Elia,6310614\n",
      "27,George Helen,2787821\n",
      "28,Linsey Henderson,5936460\n",
      "29,Anthony Georges,8407702\n",
      "30,Anna Johnson,3497327\n",
      "31,Jesse Duvall,3402614\n",
      "32,Jill Robinson,417241\n",
      "33,Adeline Sake,3807381\n",
      "34,Carolyn Reynolds,8073352\n",
      "35,Ruth Alvarez,3684633\n",
      "36,Jennifer Sadler,405016\n",
      "37,Alma Johnson,1851078\n",
      "38,Arlene Saltsman,3312367\n",
      "39,Louise Cannon,7344418\n",
      "40,Daniel Wood,4279208\n",
      "41,Gina Weekley,9639767\n",
      "42,Sally Forsyth,8309757\n",
      "43,Charles Montoya,5474177\n",
      "44,Tommy Calderon,2871587\n",
      "45,Jean Kamphoefner,7454844\n",
      "46,Werner Giannone,8530308\n",
      "47,Michael Duke,3295536\n",
      "48,Phyllis Tith,6861998\n",
      "49,Terry Cromwell,6278587\n",
      "50,Vilma Johnson,8271104\n",
      "51,Dawn Kounthapanya,8599206\n",
      "52,Margareta Joplin,1534658\n",
      "53,Bianca Cummins,5861214\n",
      "54,David Trujillo,8856470\n",
      "55,Stacy Witcher,3991115\n",
      "56,Kenneth Jimenez,7298027\n",
      "57,Karina Surano,339934\n",
      "58,Sandra Stewart,1718968\n",
      "59,Owen Goree,6566604\n",
      "60,Laura Whitman,6277125\n",
      "61,Dee Bradley,7478943\n",
      "62,Harold Menard,5714584\n",
      "63,Mohammed Yurek,2065850\n",
      "64,Bryan Hollingsworth,4336893\n",
      "65,Richard Love,4450196\n",
      "66,Victoria Taylor,9931504\n",
      "67,Dexter Thomas,9076249\n",
      "68,Carol Graves,4935597\n",
      "69,Anthony Luft,2819024\n",
      "70,Lois Kenne,2628113\n",
      "71,Angela Vang,9735691\n",
      "72,Samuel Lester,3549106\n",
      "73,Mary Finnegan,8214936\n",
      "74,Edward Griffith,4792282\n",
      "75,Margaret Horton,8773246\n",
      "76,Eileen Negro,4972019\n",
      "77,Lee Postal,2845399\n",
      "78,Renee Slone,9362665\n",
      "79,Craig Donaldson,7624175\n",
      "80,Robert Volz,4083902\n",
      "81,Eugenia Puotinen,4389216\n",
      "82,Helen Clyde,8582695\n",
      "83,Lila Smith,7390335\n",
      "84,Walter Mitchell,1287144\n",
      "85,Anthony Walker,8714408\n",
      "86,Albert Kuhn,3324653\n",
      "87,David Kubik,4272821\n",
      "88,Arlene Rogers,5988636\n",
      "89,Steven Moir,3482745\n",
      "90,Daniel Rogers,5256792\n",
      "91,Ronald Luker,8206246\n",
      "92,Claudia Lowry,7009969\n",
      "93,David Jackson,6498625\n",
      "94,Jessica Core,6601054\n",
      "95,Jennifer Carrera,9661674\n",
      "96,Christine Witt,2934197\n",
      "97,Dianna Ruot,7116467\n",
      "98,Penny Robbins,9628145\n",
      "99,Martha Barnes,4448832\n"
     ]
    }
   ],
   "source": [
    "f=open(\"data.csv\")\n",
    "data = f.read()\n",
    "print(data)\n",
    "f.close()\n",
    "for row in data.splitlines():\n",
    "    print(row)"
   ]
  },
  {
   "cell_type": "code",
   "execution_count": 46,
   "metadata": {},
   "outputs": [
    {
     "name": "stdout",
     "output_type": "stream",
     "text": [
      "0,Amy Towler,8987847\n",
      "1,Mario Rogers,593444\n",
      "2,Adam Garcia,9739120\n",
      "3,Rita Meadows,3568143\n",
      "4,Anthony Elliott,9742454\n",
      "5,Lloyd Gaskamp,9367193\n",
      "6,Shaun Lofty,9720638\n",
      "7,Robert Stauber,8722117\n",
      "8,Robert Eaton,1356644\n",
      "9,Diane Elmore,3964246\n",
      "10,William Welder,632454\n",
      "11,Elisa Jeffers,671080\n",
      "12,Elmer Whitesell,3618807\n",
      "13,Gary Nuzum,2546162\n",
      "14,Bobby Goebel,9095857\n",
      "15,Robert Manuel,1965274\n",
      "16,Lawrence Rybka,1968743\n",
      "17,Janice Frank,2754396\n",
      "18,Stephenie Bibber,9231067\n",
      "19,Raymond Muellerleile,9191858\n",
      "20,Joel Haaf,755928\n",
      "21,Beth Meyer,7422245\n",
      "22,Sharleen Barham,639142\n",
      "23,Louis Raines,3528447\n",
      "24,Maria Clark,3153406\n",
      "25,Joyce Davis,9889248\n",
      "26,Amy Elia,6310614\n",
      "27,George Helen,2787821\n",
      "28,Linsey Henderson,5936460\n",
      "29,Anthony Georges,8407702\n",
      "30,Anna Johnson,3497327\n",
      "31,Jesse Duvall,3402614\n",
      "32,Jill Robinson,417241\n",
      "33,Adeline Sake,3807381\n",
      "34,Carolyn Reynolds,8073352\n",
      "35,Ruth Alvarez,3684633\n",
      "36,Jennifer Sadler,405016\n",
      "37,Alma Johnson,1851078\n",
      "38,Arlene Saltsman,3312367\n",
      "39,Louise Cannon,7344418\n",
      "40,Daniel Wood,4279208\n",
      "41,Gina Weekley,9639767\n",
      "42,Sally Forsyth,8309757\n",
      "43,Charles Montoya,5474177\n",
      "44,Tommy Calderon,2871587\n",
      "45,Jean Kamphoefner,7454844\n",
      "46,Werner Giannone,8530308\n",
      "47,Michael Duke,3295536\n",
      "48,Phyllis Tith,6861998\n",
      "49,Terry Cromwell,6278587\n",
      "50,Vilma Johnson,8271104\n",
      "51,Dawn Kounthapanya,8599206\n",
      "52,Margareta Joplin,1534658\n",
      "53,Bianca Cummins,5861214\n",
      "54,David Trujillo,8856470\n",
      "55,Stacy Witcher,3991115\n",
      "56,Kenneth Jimenez,7298027\n",
      "57,Karina Surano,339934\n",
      "58,Sandra Stewart,1718968\n",
      "59,Owen Goree,6566604\n",
      "60,Laura Whitman,6277125\n",
      "61,Dee Bradley,7478943\n",
      "62,Harold Menard,5714584\n",
      "63,Mohammed Yurek,2065850\n",
      "64,Bryan Hollingsworth,4336893\n",
      "65,Richard Love,4450196\n",
      "66,Victoria Taylor,9931504\n",
      "67,Dexter Thomas,9076249\n",
      "68,Carol Graves,4935597\n",
      "69,Anthony Luft,2819024\n",
      "70,Lois Kenne,2628113\n",
      "71,Angela Vang,9735691\n",
      "72,Samuel Lester,3549106\n",
      "73,Mary Finnegan,8214936\n",
      "74,Edward Griffith,4792282\n",
      "75,Margaret Horton,8773246\n",
      "76,Eileen Negro,4972019\n",
      "77,Lee Postal,2845399\n",
      "78,Renee Slone,9362665\n",
      "79,Craig Donaldson,7624175\n",
      "80,Robert Volz,4083902\n",
      "81,Eugenia Puotinen,4389216\n",
      "82,Helen Clyde,8582695\n",
      "83,Lila Smith,7390335\n",
      "84,Walter Mitchell,1287144\n",
      "85,Anthony Walker,8714408\n",
      "86,Albert Kuhn,3324653\n",
      "87,David Kubik,4272821\n",
      "88,Arlene Rogers,5988636\n",
      "89,Steven Moir,3482745\n",
      "90,Daniel Rogers,5256792\n",
      "91,Ronald Luker,8206246\n",
      "92,Claudia Lowry,7009969\n",
      "93,David Jackson,6498625\n",
      "94,Jessica Core,6601054\n",
      "95,Jennifer Carrera,9661674\n",
      "96,Christine Witt,2934197\n",
      "97,Dianna Ruot,7116467\n",
      "98,Penny Robbins,9628145\n",
      "99,Martha Barnes,4448832\n"
     ]
    }
   ],
   "source": [
    "f=open(\"data.csv\")\n",
    "data = f.read()\n",
    "f.close()\n",
    "rows =data.splitlines()[1:]\n",
    "for row in rows:\n",
    "    print(row)"
   ]
  },
  {
   "cell_type": "code",
   "execution_count": 47,
   "metadata": {},
   "outputs": [
    {
     "name": "stdout",
     "output_type": "stream",
     "text": [
      "8987847\n",
      "593444\n",
      "9739120\n",
      "3568143\n",
      "9742454\n",
      "9367193\n",
      "9720638\n",
      "8722117\n",
      "1356644\n",
      "3964246\n",
      "632454\n",
      "671080\n",
      "3618807\n",
      "2546162\n",
      "9095857\n",
      "1965274\n",
      "1968743\n",
      "2754396\n",
      "9231067\n",
      "9191858\n",
      "755928\n",
      "7422245\n",
      "639142\n",
      "3528447\n",
      "3153406\n",
      "9889248\n",
      "6310614\n",
      "2787821\n",
      "5936460\n",
      "8407702\n",
      "3497327\n",
      "3402614\n",
      "417241\n",
      "3807381\n",
      "8073352\n",
      "3684633\n",
      "405016\n",
      "1851078\n",
      "3312367\n",
      "7344418\n",
      "4279208\n",
      "9639767\n",
      "8309757\n",
      "5474177\n",
      "2871587\n",
      "7454844\n",
      "8530308\n",
      "3295536\n",
      "6861998\n",
      "6278587\n",
      "8271104\n",
      "8599206\n",
      "1534658\n",
      "5861214\n",
      "8856470\n",
      "3991115\n",
      "7298027\n",
      "339934\n",
      "1718968\n",
      "6566604\n",
      "6277125\n",
      "7478943\n",
      "5714584\n",
      "2065850\n",
      "4336893\n",
      "4450196\n",
      "9931504\n",
      "9076249\n",
      "4935597\n",
      "2819024\n",
      "2628113\n",
      "9735691\n",
      "3549106\n",
      "8214936\n",
      "4792282\n",
      "8773246\n",
      "4972019\n",
      "2845399\n",
      "9362665\n",
      "7624175\n",
      "4083902\n",
      "4389216\n",
      "8582695\n",
      "7390335\n",
      "1287144\n",
      "8714408\n",
      "3324653\n",
      "4272821\n",
      "5988636\n",
      "3482745\n",
      "5256792\n",
      "8206246\n",
      "7009969\n",
      "6498625\n",
      "6601054\n",
      "9661674\n",
      "2934197\n",
      "7116467\n",
      "9628145\n",
      "4448832\n"
     ]
    }
   ],
   "source": [
    "f=open(\"data.csv\")\n",
    "data = f.read()\n",
    "f.close()\n",
    "rows =data.splitlines()[1:]\n",
    "for row in rows:\n",
    "    print(row.split(\",\")[-1])"
   ]
  },
  {
   "cell_type": "code",
   "execution_count": 48,
   "metadata": {},
   "outputs": [
    {
     "name": "stdout",
     "output_type": "stream",
     "text": [
      "5465592.06\n"
     ]
    }
   ],
   "source": [
    "f=open(\"data.csv\")\n",
    "data = f.read()\n",
    "f.close()\n",
    "salaries = []\n",
    "rows =data.splitlines()[1:]\n",
    "for row in rows:\n",
    "    salaries.append(int(row.split(\",\")[-1]))\n",
    "print(sum(salaries)/len(salaries))"
   ]
  },
  {
   "cell_type": "code",
   "execution_count": 49,
   "metadata": {},
   "outputs": [
    {
     "name": "stdout",
     "output_type": "stream",
     "text": [
      "['EmpID,EmpName,EmpSalary\\n', '0,Amy Towler,8987847\\n', '1,Mario Rogers,593444\\n', '2,Adam Garcia,9739120\\n', '3,Rita Meadows,3568143\\n', '4,Anthony Elliott,9742454\\n', '5,Lloyd Gaskamp,9367193\\n', '6,Shaun Lofty,9720638\\n', '7,Robert Stauber,8722117\\n', '8,Robert Eaton,1356644\\n', '9,Diane Elmore,3964246\\n', '10,William Welder,632454\\n', '11,Elisa Jeffers,671080\\n', '12,Elmer Whitesell,3618807\\n', '13,Gary Nuzum,2546162\\n', '14,Bobby Goebel,9095857\\n', '15,Robert Manuel,1965274\\n', '16,Lawrence Rybka,1968743\\n', '17,Janice Frank,2754396\\n', '18,Stephenie Bibber,9231067\\n', '19,Raymond Muellerleile,9191858\\n', '20,Joel Haaf,755928\\n', '21,Beth Meyer,7422245\\n', '22,Sharleen Barham,639142\\n', '23,Louis Raines,3528447\\n', '24,Maria Clark,3153406\\n', '25,Joyce Davis,9889248\\n', '26,Amy Elia,6310614\\n', '27,George Helen,2787821\\n', '28,Linsey Henderson,5936460\\n', '29,Anthony Georges,8407702\\n', '30,Anna Johnson,3497327\\n', '31,Jesse Duvall,3402614\\n', '32,Jill Robinson,417241\\n', '33,Adeline Sake,3807381\\n', '34,Carolyn Reynolds,8073352\\n', '35,Ruth Alvarez,3684633\\n', '36,Jennifer Sadler,405016\\n', '37,Alma Johnson,1851078\\n', '38,Arlene Saltsman,3312367\\n', '39,Louise Cannon,7344418\\n', '40,Daniel Wood,4279208\\n', '41,Gina Weekley,9639767\\n', '42,Sally Forsyth,8309757\\n', '43,Charles Montoya,5474177\\n', '44,Tommy Calderon,2871587\\n', '45,Jean Kamphoefner,7454844\\n', '46,Werner Giannone,8530308\\n', '47,Michael Duke,3295536\\n', '48,Phyllis Tith,6861998\\n', '49,Terry Cromwell,6278587\\n', '50,Vilma Johnson,8271104\\n', '51,Dawn Kounthapanya,8599206\\n', '52,Margareta Joplin,1534658\\n', '53,Bianca Cummins,5861214\\n', '54,David Trujillo,8856470\\n', '55,Stacy Witcher,3991115\\n', '56,Kenneth Jimenez,7298027\\n', '57,Karina Surano,339934\\n', '58,Sandra Stewart,1718968\\n', '59,Owen Goree,6566604\\n', '60,Laura Whitman,6277125\\n', '61,Dee Bradley,7478943\\n', '62,Harold Menard,5714584\\n', '63,Mohammed Yurek,2065850\\n', '64,Bryan Hollingsworth,4336893\\n', '65,Richard Love,4450196\\n', '66,Victoria Taylor,9931504\\n', '67,Dexter Thomas,9076249\\n', '68,Carol Graves,4935597\\n', '69,Anthony Luft,2819024\\n', '70,Lois Kenne,2628113\\n', '71,Angela Vang,9735691\\n', '72,Samuel Lester,3549106\\n', '73,Mary Finnegan,8214936\\n', '74,Edward Griffith,4792282\\n', '75,Margaret Horton,8773246\\n', '76,Eileen Negro,4972019\\n', '77,Lee Postal,2845399\\n', '78,Renee Slone,9362665\\n', '79,Craig Donaldson,7624175\\n', '80,Robert Volz,4083902\\n', '81,Eugenia Puotinen,4389216\\n', '82,Helen Clyde,8582695\\n', '83,Lila Smith,7390335\\n', '84,Walter Mitchell,1287144\\n', '85,Anthony Walker,8714408\\n', '86,Albert Kuhn,3324653\\n', '87,David Kubik,4272821\\n', '88,Arlene Rogers,5988636\\n', '89,Steven Moir,3482745\\n', '90,Daniel Rogers,5256792\\n', '91,Ronald Luker,8206246\\n', '92,Claudia Lowry,7009969\\n', '93,David Jackson,6498625\\n', '94,Jessica Core,6601054\\n', '95,Jennifer Carrera,9661674\\n', '96,Christine Witt,2934197\\n', '97,Dianna Ruot,7116467\\n', '98,Penny Robbins,9628145\\n', '99,Martha Barnes,4448832\\n']\n"
     ]
    }
   ],
   "source": [
    "f=open(\"data.csv\")\n",
    "data = f.readlines()\n",
    "print(data)\n",
    "f.close()"
   ]
  },
  {
   "cell_type": "code",
   "execution_count": 50,
   "metadata": {},
   "outputs": [
    {
     "name": "stdout",
     "output_type": "stream",
     "text": [
      "EmpID,EmpName,EmpSalary\n",
      "\n",
      "0,Amy Towler,8987847\n",
      "\n",
      "1,Mario Rogers,593444\n",
      "\n",
      "2,Adam Garcia,9739120\n",
      "\n",
      "3,Rita Meadows,3568143\n",
      "\n",
      "4,Anthony Elliott,9742454\n",
      "\n",
      "5,Lloyd Gaskamp,9367193\n",
      "\n",
      "6,Shaun Lofty,9720638\n",
      "\n",
      "7,Robert Stauber,8722117\n",
      "\n",
      "8,Robert Eaton,1356644\n",
      "\n",
      "9,Diane Elmore,3964246\n",
      "\n",
      "10,William Welder,632454\n",
      "\n",
      "11,Elisa Jeffers,671080\n",
      "\n",
      "12,Elmer Whitesell,3618807\n",
      "\n",
      "13,Gary Nuzum,2546162\n",
      "\n",
      "14,Bobby Goebel,9095857\n",
      "\n",
      "15,Robert Manuel,1965274\n",
      "\n",
      "16,Lawrence Rybka,1968743\n",
      "\n",
      "17,Janice Frank,2754396\n",
      "\n",
      "18,Stephenie Bibber,9231067\n",
      "\n",
      "19,Raymond Muellerleile,9191858\n",
      "\n",
      "20,Joel Haaf,755928\n",
      "\n",
      "21,Beth Meyer,7422245\n",
      "\n",
      "22,Sharleen Barham,639142\n",
      "\n",
      "23,Louis Raines,3528447\n",
      "\n",
      "24,Maria Clark,3153406\n",
      "\n",
      "25,Joyce Davis,9889248\n",
      "\n",
      "26,Amy Elia,6310614\n",
      "\n",
      "27,George Helen,2787821\n",
      "\n",
      "28,Linsey Henderson,5936460\n",
      "\n",
      "29,Anthony Georges,8407702\n",
      "\n",
      "30,Anna Johnson,3497327\n",
      "\n",
      "31,Jesse Duvall,3402614\n",
      "\n",
      "32,Jill Robinson,417241\n",
      "\n",
      "33,Adeline Sake,3807381\n",
      "\n",
      "34,Carolyn Reynolds,8073352\n",
      "\n",
      "35,Ruth Alvarez,3684633\n",
      "\n",
      "36,Jennifer Sadler,405016\n",
      "\n",
      "37,Alma Johnson,1851078\n",
      "\n",
      "38,Arlene Saltsman,3312367\n",
      "\n",
      "39,Louise Cannon,7344418\n",
      "\n",
      "40,Daniel Wood,4279208\n",
      "\n",
      "41,Gina Weekley,9639767\n",
      "\n",
      "42,Sally Forsyth,8309757\n",
      "\n",
      "43,Charles Montoya,5474177\n",
      "\n",
      "44,Tommy Calderon,2871587\n",
      "\n",
      "45,Jean Kamphoefner,7454844\n",
      "\n",
      "46,Werner Giannone,8530308\n",
      "\n",
      "47,Michael Duke,3295536\n",
      "\n",
      "48,Phyllis Tith,6861998\n",
      "\n",
      "49,Terry Cromwell,6278587\n",
      "\n",
      "50,Vilma Johnson,8271104\n",
      "\n",
      "51,Dawn Kounthapanya,8599206\n",
      "\n",
      "52,Margareta Joplin,1534658\n",
      "\n",
      "53,Bianca Cummins,5861214\n",
      "\n",
      "54,David Trujillo,8856470\n",
      "\n",
      "55,Stacy Witcher,3991115\n",
      "\n",
      "56,Kenneth Jimenez,7298027\n",
      "\n",
      "57,Karina Surano,339934\n",
      "\n",
      "58,Sandra Stewart,1718968\n",
      "\n",
      "59,Owen Goree,6566604\n",
      "\n",
      "60,Laura Whitman,6277125\n",
      "\n",
      "61,Dee Bradley,7478943\n",
      "\n",
      "62,Harold Menard,5714584\n",
      "\n",
      "63,Mohammed Yurek,2065850\n",
      "\n",
      "64,Bryan Hollingsworth,4336893\n",
      "\n",
      "65,Richard Love,4450196\n",
      "\n",
      "66,Victoria Taylor,9931504\n",
      "\n",
      "67,Dexter Thomas,9076249\n",
      "\n",
      "68,Carol Graves,4935597\n",
      "\n",
      "69,Anthony Luft,2819024\n",
      "\n",
      "70,Lois Kenne,2628113\n",
      "\n",
      "71,Angela Vang,9735691\n",
      "\n",
      "72,Samuel Lester,3549106\n",
      "\n",
      "73,Mary Finnegan,8214936\n",
      "\n",
      "74,Edward Griffith,4792282\n",
      "\n",
      "75,Margaret Horton,8773246\n",
      "\n",
      "76,Eileen Negro,4972019\n",
      "\n",
      "77,Lee Postal,2845399\n",
      "\n",
      "78,Renee Slone,9362665\n",
      "\n",
      "79,Craig Donaldson,7624175\n",
      "\n",
      "80,Robert Volz,4083902\n",
      "\n",
      "81,Eugenia Puotinen,4389216\n",
      "\n",
      "82,Helen Clyde,8582695\n",
      "\n",
      "83,Lila Smith,7390335\n",
      "\n",
      "84,Walter Mitchell,1287144\n",
      "\n",
      "85,Anthony Walker,8714408\n",
      "\n",
      "86,Albert Kuhn,3324653\n",
      "\n",
      "87,David Kubik,4272821\n",
      "\n",
      "88,Arlene Rogers,5988636\n",
      "\n",
      "89,Steven Moir,3482745\n",
      "\n",
      "90,Daniel Rogers,5256792\n",
      "\n",
      "91,Ronald Luker,8206246\n",
      "\n",
      "92,Claudia Lowry,7009969\n",
      "\n",
      "93,David Jackson,6498625\n",
      "\n",
      "94,Jessica Core,6601054\n",
      "\n",
      "95,Jennifer Carrera,9661674\n",
      "\n",
      "96,Christine Witt,2934197\n",
      "\n",
      "97,Dianna Ruot,7116467\n",
      "\n",
      "98,Penny Robbins,9628145\n",
      "\n",
      "99,Martha Barnes,4448832\n",
      "\n"
     ]
    }
   ],
   "source": [
    "f=open(\"data.csv\")\n",
    "for i in f:\n",
    "    print(i)"
   ]
  },
  {
   "cell_type": "code",
   "execution_count": 52,
   "metadata": {},
   "outputs": [
    {
     "name": "stdout",
     "output_type": "stream",
     "text": [
      "EmpID,EmpName,EmpSalary\n",
      "0,Amy Towler,8987847\n",
      "1,Mario Rogers,593444\n",
      "2,Adam Garcia,9739120\n",
      "3,Rita Mead\n",
      "********************************************************************************************************************************************************************************************************\n",
      "ows,3568143\n",
      "4,Anthony Elliott,9742454\n",
      "5,Lloyd Gaskamp,9367193\n",
      "6,Shaun Lofty,9720638\n",
      "7,Robert Stauber\n"
     ]
    }
   ],
   "source": [
    "f=open(\"data.csv\")\n",
    "data = f.read(100)\n",
    "print(data)\n",
    "data1=f.read(100)\n",
    "print(\"*\"*200)\n",
    "print(data1)"
   ]
  },
  {
   "cell_type": "code",
   "execution_count": 53,
   "metadata": {},
   "outputs": [
    {
     "name": "stdout",
     "output_type": "stream",
     "text": [
      "hellohi\n",
      "written in append mode\n",
      "reading second time.\n",
      "\n"
     ]
    }
   ],
   "source": [
    "f=open(\"data1.txt\")\n",
    "data = f.read()\n",
    "print(data)\n",
    "print(\"reading second time.\")\n",
    "data=f.read()\n",
    "print(data)"
   ]
  },
  {
   "cell_type": "code",
   "execution_count": 54,
   "metadata": {},
   "outputs": [
    {
     "name": "stdout",
     "output_type": "stream",
     "text": [
      "hellohi\n",
      "written in append mode\n",
      "reading second time.\n",
      "\n"
     ]
    }
   ],
   "source": [
    "f=open(\"data1.txt\")# the read pointer at the 0th index\n",
    "data = f.read()# the read pointer at last index\n",
    "print(data)\n",
    "print(\"reading second time.\")\n",
    "data=f.read()# it's trying to read from the last.\n",
    "print(data)"
   ]
  },
  {
   "cell_type": "code",
   "execution_count": 55,
   "metadata": {},
   "outputs": [
    {
     "name": "stdout",
     "output_type": "stream",
     "text": [
      "hello\n",
      "reading second time.\n",
      "hi\n",
      "wr\n"
     ]
    }
   ],
   "source": [
    "f=open(\"data1.txt\")# the read pointer at the 0th index\n",
    "data = f.read(5)# the read from 0 to 4\n",
    "print(data)\n",
    "print(\"reading second time.\")\n",
    "data=f.read(5)# it's read from 5 to 9.\n",
    "print(data)"
   ]
  },
  {
   "cell_type": "code",
   "execution_count": 57,
   "metadata": {},
   "outputs": [
    {
     "name": "stdout",
     "output_type": "stream",
     "text": [
      "hello\n",
      "reading second time.\n",
      "hi\n",
      "wr\n",
      "itten\n",
      " in a\n",
      "ppend\n",
      " mode\n",
      "\n",
      "\n"
     ]
    }
   ],
   "source": [
    "f=open(\"data1.txt\")# the read pointer at the 0th index\n",
    "data = f.read(5)# the read from 0 to 4\n",
    "print(data)\n",
    "print(\"reading second time.\")\n",
    "data=f.read(5)# it's read from 5 to 9.\n",
    "print(data)\n",
    "data=f.read(5)# it's read from 5 to 9.\n",
    "print(data)\n",
    "data=f.read(5)# it's read from 5 to 9.\n",
    "print(data)\n",
    "data=f.read(5)# it's read from 5 to 9.\n",
    "print(data)\n",
    "data=f.read(5)# it's read from 5 to 9.\n",
    "print(data)\n",
    "data=f.read(5)# it's read from 5 to 9.\n",
    "print(data)\n",
    "data=f.read(5)# it's read from 5 to 9.\n",
    "print(data)\n"
   ]
  },
  {
   "cell_type": "code",
   "execution_count": 58,
   "metadata": {},
   "outputs": [
    {
     "name": "stdout",
     "output_type": "stream",
     "text": [
      "hello\n",
      "hi\n",
      "wr\n",
      "itten\n",
      " in a\n",
      "ppend\n",
      " mode\n",
      "\n"
     ]
    }
   ],
   "source": [
    "f=open(\"data1.txt\")# the read pointer at the 0th index\n",
    "while True:\n",
    "    data = f.read(5)\n",
    "    print(data)\n",
    "    if not data:\n",
    "        break"
   ]
  },
  {
   "cell_type": "code",
   "execution_count": null,
   "metadata": {},
   "outputs": [],
   "source": [
    "#read()\n",
    "#readlines()\n",
    "#read(some lenght)\n",
    "#looping approach: for row in f: print(row)"
   ]
  },
  {
   "cell_type": "code",
   "execution_count": 60,
   "metadata": {},
   "outputs": [
    {
     "name": "stdout",
     "output_type": "stream",
     "text": [
      "0\n",
      "hellohi\n",
      "written in append mode\n",
      "31\n",
      "tell after seek(0)\n",
      "0\n",
      "hellohi\n",
      "written in append mode\n"
     ]
    }
   ],
   "source": [
    "f=open(\"data1.txt\")# the read pointer at the 0th index\n",
    "print(f.tell())\n",
    "data =f.read()# the read pointer is an last index.\n",
    "print(data)\n",
    "print(f.tell())\n",
    "#Can we change the read pointer index now?\n",
    "f.seek(0)# this puts the read pointer agin at 0th index\n",
    "print(\"tell after seek(0)\")\n",
    "print(f.tell())\n",
    "data = f.read()\n",
    "print(data)\n"
   ]
  },
  {
   "cell_type": "code",
   "execution_count": 61,
   "metadata": {},
   "outputs": [],
   "source": [
    "f=open(\"data2.txt\",\"w\")\n",
    "f.write(\"sdfsd\")\n",
    "f.close()"
   ]
  },
  {
   "cell_type": "code",
   "execution_count": 62,
   "metadata": {},
   "outputs": [
    {
     "ename": "TypeError",
     "evalue": "write() argument must be str, not int",
     "output_type": "error",
     "traceback": [
      "\u001b[1;31m---------------------------------------------------------------------------\u001b[0m",
      "\u001b[1;31mTypeError\u001b[0m                                 Traceback (most recent call last)",
      "\u001b[1;32m<ipython-input-62-6d3c22b5d5c3>\u001b[0m in \u001b[0;36m<module>\u001b[1;34m\u001b[0m\n\u001b[0;32m      1\u001b[0m \u001b[0mf\u001b[0m\u001b[1;33m=\u001b[0m\u001b[0mopen\u001b[0m\u001b[1;33m(\u001b[0m\u001b[1;34m\"data2.txt\"\u001b[0m\u001b[1;33m,\u001b[0m\u001b[1;34m\"w\"\u001b[0m\u001b[1;33m)\u001b[0m\u001b[1;33m\u001b[0m\u001b[1;33m\u001b[0m\u001b[0m\n\u001b[1;32m----> 2\u001b[1;33m \u001b[0mf\u001b[0m\u001b[1;33m.\u001b[0m\u001b[0mwrite\u001b[0m\u001b[1;33m(\u001b[0m\u001b[1;36m12345\u001b[0m\u001b[1;33m)\u001b[0m\u001b[1;33m\u001b[0m\u001b[1;33m\u001b[0m\u001b[0m\n\u001b[0m\u001b[0;32m      3\u001b[0m \u001b[0mf\u001b[0m\u001b[1;33m.\u001b[0m\u001b[0mclose\u001b[0m\u001b[1;33m(\u001b[0m\u001b[1;33m)\u001b[0m\u001b[1;33m\u001b[0m\u001b[1;33m\u001b[0m\u001b[0m\n",
      "\u001b[1;31mTypeError\u001b[0m: write() argument must be str, not int"
     ]
    }
   ],
   "source": [
    "f=open(\"data2.txt\",\"w\")\n",
    "f.write(12345)\n",
    "f.close()"
   ]
  },
  {
   "cell_type": "code",
   "execution_count": 63,
   "metadata": {},
   "outputs": [
    {
     "name": "stdout",
     "output_type": "stream",
     "text": [
      "[{'name': 'Melissa Lafosse', 'ssalary': 6996470}, {'name': 'Carlos Thomas', 'ssalary': 741714}, {'name': 'Donald Meier', 'ssalary': 9474973}, {'name': 'Lydia Rosen', 'ssalary': 1681968}, {'name': 'Frances Funke', 'ssalary': 3033473}, {'name': 'Mary Jennings', 'ssalary': 3919850}, {'name': 'Carol Mccarty', 'ssalary': 1087575}, {'name': 'Travis Starr', 'ssalary': 5526624}, {'name': 'Glenn Bolt', 'ssalary': 4069501}, {'name': 'Lisa Applen', 'ssalary': 9650852}]\n"
     ]
    }
   ],
   "source": [
    "data = []\n",
    "for i in range(10):\n",
    "    data.append({\"name\":names.get_full_name(),\"ssalary\":random.randint(100000,10000000)})\n",
    "print(data)"
   ]
  },
  {
   "cell_type": "code",
   "execution_count": 64,
   "metadata": {},
   "outputs": [
    {
     "ename": "TypeError",
     "evalue": "write() argument must be str, not list",
     "output_type": "error",
     "traceback": [
      "\u001b[1;31m---------------------------------------------------------------------------\u001b[0m",
      "\u001b[1;31mTypeError\u001b[0m                                 Traceback (most recent call last)",
      "\u001b[1;32m<ipython-input-64-114f8366b86c>\u001b[0m in \u001b[0;36m<module>\u001b[1;34m\u001b[0m\n\u001b[0;32m      3\u001b[0m     \u001b[0mdata\u001b[0m\u001b[1;33m.\u001b[0m\u001b[0mappend\u001b[0m\u001b[1;33m(\u001b[0m\u001b[1;33m{\u001b[0m\u001b[1;34m\"name\"\u001b[0m\u001b[1;33m:\u001b[0m\u001b[0mnames\u001b[0m\u001b[1;33m.\u001b[0m\u001b[0mget_full_name\u001b[0m\u001b[1;33m(\u001b[0m\u001b[1;33m)\u001b[0m\u001b[1;33m,\u001b[0m\u001b[1;34m\"ssalary\"\u001b[0m\u001b[1;33m:\u001b[0m\u001b[0mrandom\u001b[0m\u001b[1;33m.\u001b[0m\u001b[0mrandint\u001b[0m\u001b[1;33m(\u001b[0m\u001b[1;36m100000\u001b[0m\u001b[1;33m,\u001b[0m\u001b[1;36m10000000\u001b[0m\u001b[1;33m)\u001b[0m\u001b[1;33m}\u001b[0m\u001b[1;33m)\u001b[0m\u001b[1;33m\u001b[0m\u001b[1;33m\u001b[0m\u001b[0m\n\u001b[0;32m      4\u001b[0m \u001b[0mf\u001b[0m\u001b[1;33m=\u001b[0m\u001b[0mopen\u001b[0m\u001b[1;33m(\u001b[0m\u001b[1;34m\"data2.txt\"\u001b[0m\u001b[1;33m,\u001b[0m\u001b[1;34m\"w\"\u001b[0m\u001b[1;33m)\u001b[0m\u001b[1;33m\u001b[0m\u001b[1;33m\u001b[0m\u001b[0m\n\u001b[1;32m----> 5\u001b[1;33m \u001b[0mf\u001b[0m\u001b[1;33m.\u001b[0m\u001b[0mwrite\u001b[0m\u001b[1;33m(\u001b[0m\u001b[0mdata\u001b[0m\u001b[1;33m)\u001b[0m\u001b[1;33m\u001b[0m\u001b[1;33m\u001b[0m\u001b[0m\n\u001b[0m\u001b[0;32m      6\u001b[0m \u001b[0mf\u001b[0m\u001b[1;33m.\u001b[0m\u001b[0mclose\u001b[0m\u001b[1;33m(\u001b[0m\u001b[1;33m)\u001b[0m\u001b[1;33m\u001b[0m\u001b[1;33m\u001b[0m\u001b[0m\n",
      "\u001b[1;31mTypeError\u001b[0m: write() argument must be str, not list"
     ]
    }
   ],
   "source": [
    "data = []\n",
    "for i in range(10):\n",
    "    data.append({\"name\":names.get_full_name(),\"ssalary\":random.randint(100000,10000000)})\n",
    "f=open(\"data2.txt\",\"w\")\n",
    "f.write(data)\n",
    "f.close()"
   ]
  },
  {
   "cell_type": "code",
   "execution_count": 65,
   "metadata": {},
   "outputs": [
    {
     "ename": "TypeError",
     "evalue": "write() argument must be str, not dict",
     "output_type": "error",
     "traceback": [
      "\u001b[1;31m---------------------------------------------------------------------------\u001b[0m",
      "\u001b[1;31mTypeError\u001b[0m                                 Traceback (most recent call last)",
      "\u001b[1;32m<ipython-input-65-fd0ce182fda3>\u001b[0m in \u001b[0;36m<module>\u001b[1;34m\u001b[0m\n\u001b[0;32m      3\u001b[0m     \u001b[0mdata\u001b[0m\u001b[1;33m.\u001b[0m\u001b[0mappend\u001b[0m\u001b[1;33m(\u001b[0m\u001b[1;33m{\u001b[0m\u001b[1;34m\"name\"\u001b[0m\u001b[1;33m:\u001b[0m\u001b[0mnames\u001b[0m\u001b[1;33m.\u001b[0m\u001b[0mget_full_name\u001b[0m\u001b[1;33m(\u001b[0m\u001b[1;33m)\u001b[0m\u001b[1;33m,\u001b[0m\u001b[1;34m\"ssalary\"\u001b[0m\u001b[1;33m:\u001b[0m\u001b[0mrandom\u001b[0m\u001b[1;33m.\u001b[0m\u001b[0mrandint\u001b[0m\u001b[1;33m(\u001b[0m\u001b[1;36m100000\u001b[0m\u001b[1;33m,\u001b[0m\u001b[1;36m10000000\u001b[0m\u001b[1;33m)\u001b[0m\u001b[1;33m}\u001b[0m\u001b[1;33m)\u001b[0m\u001b[1;33m\u001b[0m\u001b[1;33m\u001b[0m\u001b[0m\n\u001b[0;32m      4\u001b[0m \u001b[0mf\u001b[0m\u001b[1;33m=\u001b[0m\u001b[0mopen\u001b[0m\u001b[1;33m(\u001b[0m\u001b[1;34m\"data2.txt\"\u001b[0m\u001b[1;33m,\u001b[0m\u001b[1;34m\"w\"\u001b[0m\u001b[1;33m)\u001b[0m\u001b[1;33m\u001b[0m\u001b[1;33m\u001b[0m\u001b[0m\n\u001b[1;32m----> 5\u001b[1;33m \u001b[0mf\u001b[0m\u001b[1;33m.\u001b[0m\u001b[0mwritelines\u001b[0m\u001b[1;33m(\u001b[0m\u001b[0mdata\u001b[0m\u001b[1;33m)\u001b[0m\u001b[1;33m\u001b[0m\u001b[1;33m\u001b[0m\u001b[0m\n\u001b[0m\u001b[0;32m      6\u001b[0m \u001b[0mf\u001b[0m\u001b[1;33m.\u001b[0m\u001b[0mclose\u001b[0m\u001b[1;33m(\u001b[0m\u001b[1;33m)\u001b[0m\u001b[1;33m\u001b[0m\u001b[1;33m\u001b[0m\u001b[0m\n",
      "\u001b[1;31mTypeError\u001b[0m: write() argument must be str, not dict"
     ]
    }
   ],
   "source": [
    "data = []\n",
    "for i in range(10):\n",
    "    data.append({\"name\":names.get_full_name(),\"ssalary\":random.randint(100000,10000000)})\n",
    "f=open(\"data2.txt\",\"w\")\n",
    "f.writelines(data)\n",
    "f.close()"
   ]
  },
  {
   "cell_type": "code",
   "execution_count": 66,
   "metadata": {},
   "outputs": [],
   "source": [
    "data = []\n",
    "for i in range(10):\n",
    "    data.append({\"name\":names.get_full_name(),\"ssalary\":random.randint(100000,10000000)})\n",
    "f=open(\"data2.txt\",\"w\")\n",
    "f.write(str(data))\n",
    "f.close()"
   ]
  },
  {
   "cell_type": "code",
   "execution_count": 67,
   "metadata": {},
   "outputs": [
    {
     "name": "stdout",
     "output_type": "stream",
     "text": [
      "<class 'str'>\n"
     ]
    }
   ],
   "source": [
    "f=open(\"data2.txt\")\n",
    "data=f.read()\n",
    "print(type(data))"
   ]
  },
  {
   "cell_type": "code",
   "execution_count": null,
   "metadata": {},
   "outputs": [],
   "source": [
    "f=open(\"bigifle\")# it should be above 30GB\n",
    "f.read()"
   ]
  },
  {
   "cell_type": "code",
   "execution_count": 2,
   "metadata": {},
   "outputs": [
    {
     "name": "stdout",
     "output_type": "stream",
     "text": [
      "[{'name': 'Mary Shoals', 'ssalary': 7432405}, {'name': 'John Thompson', 'ssalary': 2229125}, {'name': 'Carol Price', 'ssalary': 6798179}, {'name': 'Donnette Richey', 'ssalary': 804531}, {'name': 'Joan Sitton', 'ssalary': 6413016}, {'name': 'Kenneth Cleveland', 'ssalary': 1595303}, {'name': 'Wayne Keller', 'ssalary': 5633259}, {'name': 'Nancy Custer', 'ssalary': 7214218}, {'name': 'Virginia Ramirez', 'ssalary': 5112400}, {'name': 'Joyce Fata', 'ssalary': 7150924}]\n"
     ]
    }
   ],
   "source": [
    "import names\n",
    "import random\n",
    "data = []\n",
    "for i in range(10):\n",
    "    data.append({\"name\":names.get_full_name(),\"ssalary\":random.randint(100000,10000000)})\n",
    "print(data)\n",
    "f=open(\"data2.txt\",\"w\")\n",
    "f.write(str(data))\n",
    "f.close()"
   ]
  },
  {
   "cell_type": "code",
   "execution_count": 6,
   "metadata": {},
   "outputs": [
    {
     "name": "stdout",
     "output_type": "stream",
     "text": [
      "[{'name': 'Jennifer Dickson', 'ssalary': 3946769}, {'name': 'Duane Trotter', 'ssalary': 2516286}, {'name': 'Christy Monson', 'ssalary': 5025982}, {'name': 'April Johnson', 'ssalary': 8379253}, {'name': 'Amy Jones', 'ssalary': 4968430}, {'name': 'Dennis Du', 'ssalary': 527334}, {'name': 'Marion Kimmel', 'ssalary': 6993804}, {'name': 'Diane Daniels', 'ssalary': 2677101}, {'name': 'Theodore Pankow', 'ssalary': 4363311}, {'name': 'Clarence Kline', 'ssalary': 1624481}] <class 'list'>\n",
      "[{'name': 'Jennifer Dickson', 'ssalary': 3946769}, {'name': 'Duane Trotter', 'ssalary': 2516286}, {'name': 'Christy Monson', 'ssalary': 5025982}, {'name': 'April Johnson', 'ssalary': 8379253}, {'name': 'Amy Jones', 'ssalary': 4968430}, {'name': 'Dennis Du', 'ssalary': 527334}, {'name': 'Marion Kimmel', 'ssalary': 6993804}, {'name': 'Diane Daniels', 'ssalary': 2677101}, {'name': 'Theodore Pankow', 'ssalary': 4363311}, {'name': 'Clarence Kline', 'ssalary': 1624481}] <class 'str'>\n"
     ]
    }
   ],
   "source": [
    "import names\n",
    "import random\n",
    "data = []\n",
    "for i in range(10):\n",
    "    data.append({\"name\":names.get_full_name(),\"ssalary\":random.randint(100000,10000000)})\n",
    "print(data, type(data))\n",
    "f=open(\"data2.txt\",\"w\")\n",
    "f.write(str(data))\n",
    "f.close()\n",
    "f=open(\"data2.txt\",\"r\")\n",
    "data1 = f.read()\n",
    "print(data1, type(data1))\n",
    "f.close()"
   ]
  },
  {
   "cell_type": "code",
   "execution_count": 7,
   "metadata": {},
   "outputs": [
    {
     "name": "stdout",
     "output_type": "stream",
     "text": [
      "[{'name': 'Larry Batiste', 'ssalary': 530459}, {'name': 'Laura Funderburk', 'ssalary': 7291415}, {'name': 'Thomas Ford', 'ssalary': 5771352}, {'name': 'Lisa Palo', 'ssalary': 7457758}, {'name': 'Thomas Casey', 'ssalary': 9140046}, {'name': 'Ronald Vallien', 'ssalary': 8111237}, {'name': 'Cherish Bradby', 'ssalary': 9905721}, {'name': 'Holli Bratton', 'ssalary': 1454313}, {'name': 'James Lubin', 'ssalary': 8956761}, {'name': 'Frieda Koger', 'ssalary': 5182402}] <class 'list'>\n",
      "[{'name': 'Larry Batiste', 'ssalary': 530459}, {'name': 'Laura Funderburk', 'ssalary': 7291415}, {'name': 'Thomas Ford', 'ssalary': 5771352}, {'name': 'Lisa Palo', 'ssalary': 7457758}, {'name': 'Thomas Casey', 'ssalary': 9140046}, {'name': 'Ronald Vallien', 'ssalary': 8111237}, {'name': 'Cherish Bradby', 'ssalary': 9905721}, {'name': 'Holli Bratton', 'ssalary': 1454313}, {'name': 'James Lubin', 'ssalary': 8956761}, {'name': 'Frieda Koger', 'ssalary': 5182402}] <class 'str'>\n"
     ]
    },
    {
     "ename": "JSONDecodeError",
     "evalue": "Expecting property name enclosed in double quotes: line 1 column 3 (char 2)",
     "output_type": "error",
     "traceback": [
      "\u001b[1;31m---------------------------------------------------------------------------\u001b[0m",
      "\u001b[1;31mJSONDecodeError\u001b[0m                           Traceback (most recent call last)",
      "\u001b[1;32m<ipython-input-7-7b750e555468>\u001b[0m in \u001b[0;36m<module>\u001b[1;34m\u001b[0m\n\u001b[0;32m     13\u001b[0m \u001b[0mf\u001b[0m\u001b[1;33m.\u001b[0m\u001b[0mclose\u001b[0m\u001b[1;33m(\u001b[0m\u001b[1;33m)\u001b[0m\u001b[1;33m\u001b[0m\u001b[1;33m\u001b[0m\u001b[0m\n\u001b[0;32m     14\u001b[0m \u001b[1;32mimport\u001b[0m \u001b[0mjson\u001b[0m\u001b[1;33m\u001b[0m\u001b[1;33m\u001b[0m\u001b[0m\n\u001b[1;32m---> 15\u001b[1;33m \u001b[0mdata2\u001b[0m\u001b[1;33m=\u001b[0m\u001b[0mjson\u001b[0m\u001b[1;33m.\u001b[0m\u001b[0mloads\u001b[0m\u001b[1;33m(\u001b[0m\u001b[0mdata1\u001b[0m\u001b[1;33m)\u001b[0m\u001b[1;33m\u001b[0m\u001b[1;33m\u001b[0m\u001b[0m\n\u001b[0m\u001b[0;32m     16\u001b[0m \u001b[0mprintn\u001b[0m\u001b[1;33m(\u001b[0m\u001b[0mdat2\u001b[0m\u001b[1;33m,\u001b[0m \u001b[0mtype\u001b[0m\u001b[1;33m(\u001b[0m\u001b[0mdata2\u001b[0m\u001b[1;33m)\u001b[0m\u001b[1;33m)\u001b[0m\u001b[1;33m\u001b[0m\u001b[1;33m\u001b[0m\u001b[0m\n",
      "\u001b[1;32mc:\\python38\\lib\\json\\__init__.py\u001b[0m in \u001b[0;36mloads\u001b[1;34m(s, cls, object_hook, parse_float, parse_int, parse_constant, object_pairs_hook, **kw)\u001b[0m\n\u001b[0;32m    355\u001b[0m             \u001b[0mparse_int\u001b[0m \u001b[1;32mis\u001b[0m \u001b[1;32mNone\u001b[0m \u001b[1;32mand\u001b[0m \u001b[0mparse_float\u001b[0m \u001b[1;32mis\u001b[0m \u001b[1;32mNone\u001b[0m \u001b[1;32mand\u001b[0m\u001b[1;33m\u001b[0m\u001b[1;33m\u001b[0m\u001b[0m\n\u001b[0;32m    356\u001b[0m             parse_constant is None and object_pairs_hook is None and not kw):\n\u001b[1;32m--> 357\u001b[1;33m         \u001b[1;32mreturn\u001b[0m \u001b[0m_default_decoder\u001b[0m\u001b[1;33m.\u001b[0m\u001b[0mdecode\u001b[0m\u001b[1;33m(\u001b[0m\u001b[0ms\u001b[0m\u001b[1;33m)\u001b[0m\u001b[1;33m\u001b[0m\u001b[1;33m\u001b[0m\u001b[0m\n\u001b[0m\u001b[0;32m    358\u001b[0m     \u001b[1;32mif\u001b[0m \u001b[0mcls\u001b[0m \u001b[1;32mis\u001b[0m \u001b[1;32mNone\u001b[0m\u001b[1;33m:\u001b[0m\u001b[1;33m\u001b[0m\u001b[1;33m\u001b[0m\u001b[0m\n\u001b[0;32m    359\u001b[0m         \u001b[0mcls\u001b[0m \u001b[1;33m=\u001b[0m \u001b[0mJSONDecoder\u001b[0m\u001b[1;33m\u001b[0m\u001b[1;33m\u001b[0m\u001b[0m\n",
      "\u001b[1;32mc:\\python38\\lib\\json\\decoder.py\u001b[0m in \u001b[0;36mdecode\u001b[1;34m(self, s, _w)\u001b[0m\n\u001b[0;32m    335\u001b[0m \u001b[1;33m\u001b[0m\u001b[0m\n\u001b[0;32m    336\u001b[0m         \"\"\"\n\u001b[1;32m--> 337\u001b[1;33m         \u001b[0mobj\u001b[0m\u001b[1;33m,\u001b[0m \u001b[0mend\u001b[0m \u001b[1;33m=\u001b[0m \u001b[0mself\u001b[0m\u001b[1;33m.\u001b[0m\u001b[0mraw_decode\u001b[0m\u001b[1;33m(\u001b[0m\u001b[0ms\u001b[0m\u001b[1;33m,\u001b[0m \u001b[0midx\u001b[0m\u001b[1;33m=\u001b[0m\u001b[0m_w\u001b[0m\u001b[1;33m(\u001b[0m\u001b[0ms\u001b[0m\u001b[1;33m,\u001b[0m \u001b[1;36m0\u001b[0m\u001b[1;33m)\u001b[0m\u001b[1;33m.\u001b[0m\u001b[0mend\u001b[0m\u001b[1;33m(\u001b[0m\u001b[1;33m)\u001b[0m\u001b[1;33m)\u001b[0m\u001b[1;33m\u001b[0m\u001b[1;33m\u001b[0m\u001b[0m\n\u001b[0m\u001b[0;32m    338\u001b[0m         \u001b[0mend\u001b[0m \u001b[1;33m=\u001b[0m \u001b[0m_w\u001b[0m\u001b[1;33m(\u001b[0m\u001b[0ms\u001b[0m\u001b[1;33m,\u001b[0m \u001b[0mend\u001b[0m\u001b[1;33m)\u001b[0m\u001b[1;33m.\u001b[0m\u001b[0mend\u001b[0m\u001b[1;33m(\u001b[0m\u001b[1;33m)\u001b[0m\u001b[1;33m\u001b[0m\u001b[1;33m\u001b[0m\u001b[0m\n\u001b[0;32m    339\u001b[0m         \u001b[1;32mif\u001b[0m \u001b[0mend\u001b[0m \u001b[1;33m!=\u001b[0m \u001b[0mlen\u001b[0m\u001b[1;33m(\u001b[0m\u001b[0ms\u001b[0m\u001b[1;33m)\u001b[0m\u001b[1;33m:\u001b[0m\u001b[1;33m\u001b[0m\u001b[1;33m\u001b[0m\u001b[0m\n",
      "\u001b[1;32mc:\\python38\\lib\\json\\decoder.py\u001b[0m in \u001b[0;36mraw_decode\u001b[1;34m(self, s, idx)\u001b[0m\n\u001b[0;32m    351\u001b[0m         \"\"\"\n\u001b[0;32m    352\u001b[0m         \u001b[1;32mtry\u001b[0m\u001b[1;33m:\u001b[0m\u001b[1;33m\u001b[0m\u001b[1;33m\u001b[0m\u001b[0m\n\u001b[1;32m--> 353\u001b[1;33m             \u001b[0mobj\u001b[0m\u001b[1;33m,\u001b[0m \u001b[0mend\u001b[0m \u001b[1;33m=\u001b[0m \u001b[0mself\u001b[0m\u001b[1;33m.\u001b[0m\u001b[0mscan_once\u001b[0m\u001b[1;33m(\u001b[0m\u001b[0ms\u001b[0m\u001b[1;33m,\u001b[0m \u001b[0midx\u001b[0m\u001b[1;33m)\u001b[0m\u001b[1;33m\u001b[0m\u001b[1;33m\u001b[0m\u001b[0m\n\u001b[0m\u001b[0;32m    354\u001b[0m         \u001b[1;32mexcept\u001b[0m \u001b[0mStopIteration\u001b[0m \u001b[1;32mas\u001b[0m \u001b[0merr\u001b[0m\u001b[1;33m:\u001b[0m\u001b[1;33m\u001b[0m\u001b[1;33m\u001b[0m\u001b[0m\n\u001b[0;32m    355\u001b[0m             \u001b[1;32mraise\u001b[0m \u001b[0mJSONDecodeError\u001b[0m\u001b[1;33m(\u001b[0m\u001b[1;34m\"Expecting value\"\u001b[0m\u001b[1;33m,\u001b[0m \u001b[0ms\u001b[0m\u001b[1;33m,\u001b[0m \u001b[0merr\u001b[0m\u001b[1;33m.\u001b[0m\u001b[0mvalue\u001b[0m\u001b[1;33m)\u001b[0m \u001b[1;32mfrom\u001b[0m \u001b[1;32mNone\u001b[0m\u001b[1;33m\u001b[0m\u001b[1;33m\u001b[0m\u001b[0m\n",
      "\u001b[1;31mJSONDecodeError\u001b[0m: Expecting property name enclosed in double quotes: line 1 column 3 (char 2)"
     ]
    }
   ],
   "source": [
    "import names\n",
    "import random\n",
    "data = []\n",
    "for i in range(10):\n",
    "    data.append({\"name\":names.get_full_name(),\"ssalary\":random.randint(100000,10000000)})\n",
    "print(data, type(data))\n",
    "f=open(\"data2.txt\",\"w\")\n",
    "f.write(str(data))\n",
    "f.close()\n",
    "f=open(\"data2.txt\",\"r\")\n",
    "data1 = f.read()\n",
    "print(data1, type(data1))\n",
    "f.close()\n",
    "import json\n",
    "data2=json.loads(data1)\n",
    "printn(dat2, type(data2))"
   ]
  },
  {
   "cell_type": "code",
   "execution_count": 12,
   "metadata": {},
   "outputs": [
    {
     "name": "stdout",
     "output_type": "stream",
     "text": [
      "[{'name': 'Susan Cox', 'ssalary': 3809510}, {'name': 'Jennifer Calderon', 'ssalary': 6551254}, {'name': 'Joshua Byers', 'ssalary': 7119439}, {'name': 'Betty Gardiner', 'ssalary': 7499327}, {'name': 'Florence Underwood', 'ssalary': 2761554}, {'name': 'Pamela Ocasio', 'ssalary': 4526274}, {'name': 'Rosaria Davis', 'ssalary': 2982180}, {'name': 'Maricela Temple', 'ssalary': 9322710}, {'name': 'Kenneth Chong', 'ssalary': 7761779}, {'name': 'Bertha Jaimes', 'ssalary': 2431542}] <class 'list'>\n",
      "[{'name': 'Susan Cox', 'ssalary': 3809510}, {'name': 'Jennifer Calderon', 'ssalary': 6551254}, {'name': 'Joshua Byers', 'ssalary': 7119439}, {'name': 'Betty Gardiner', 'ssalary': 7499327}, {'name': 'Florence Underwood', 'ssalary': 2761554}, {'name': 'Pamela Ocasio', 'ssalary': 4526274}, {'name': 'Rosaria Davis', 'ssalary': 2982180}, {'name': 'Maricela Temple', 'ssalary': 9322710}, {'name': 'Kenneth Chong', 'ssalary': 7761779}, {'name': 'Bertha Jaimes', 'ssalary': 2431542}] <class 'str'>\n",
      "[{'name': 'Susan Cox', 'ssalary': 3809510}, {'name': 'Jennifer Calderon', 'ssalary': 6551254}, {'name': 'Joshua Byers', 'ssalary': 7119439}, {'name': 'Betty Gardiner', 'ssalary': 7499327}, {'name': 'Florence Underwood', 'ssalary': 2761554}, {'name': 'Pamela Ocasio', 'ssalary': 4526274}, {'name': 'Rosaria Davis', 'ssalary': 2982180}, {'name': 'Maricela Temple', 'ssalary': 9322710}, {'name': 'Kenneth Chong', 'ssalary': 7761779}, {'name': 'Bertha Jaimes', 'ssalary': 2431542}] <class 'list'>\n"
     ]
    }
   ],
   "source": [
    "import names\n",
    "import random\n",
    "data = []\n",
    "for i in range(10):\n",
    "    data.append({\"name\":names.get_full_name(),\"ssalary\":random.randint(100000,10000000)})\n",
    "print(data, type(data))\n",
    "f=open(\"data2.txt\",\"w\")\n",
    "f.write(str(data))\n",
    "f.close()\n",
    "f=open(\"data2.txt\",\"r\")\n",
    "data1 = f.read()\n",
    "print(data1, type(data1))\n",
    "f.close()\n",
    "import json\n",
    "data1=data1.replace(\"'\",'\"')\n",
    "data2=json.loads(data1)\n",
    "print(data2, type(data2))"
   ]
  },
  {
   "cell_type": "code",
   "execution_count": 16,
   "metadata": {},
   "outputs": [],
   "source": [
    "import pickle\n",
    "data = [{'name': 'Bruce Eller', 'ssalary': 6830444},\n",
    "        {'name': 'Angie Owens', 'ssalary': 5958663}, \n",
    "        {'name': 'Ralph Brown', 'ssalary': 5635766}, \n",
    "        {'name': 'James Schick', 'ssalary': 9898985}, \n",
    "        {'name': 'Patricia Sarni', 'ssalary': 6916123},\n",
    "       ]\n",
    "f=open(\"data2.txt\",\"wb\")\n",
    "pickle.dump(data, f)\n",
    "f.close()"
   ]
  },
  {
   "cell_type": "code",
   "execution_count": 18,
   "metadata": {},
   "outputs": [
    {
     "name": "stdout",
     "output_type": "stream",
     "text": [
      "b'\\x80\\x04\\x95\\x9d\\x00\\x00\\x00\\x00\\x00\\x00\\x00]\\x94(}\\x94(\\x8c\\x04name\\x94\\x8c\\x0bBruce Eller\\x94\\x8c\\x07ssalary\\x94Jl9h\\x00u}\\x94(h\\x02\\x8c\\x0bAngie Owens\\x94h\\x04J\\x07\\xecZ\\x00u}\\x94(h\\x02\\x8c\\x0bRalph Brown\\x94h\\x04J\\xb6\\xfeU\\x00u}\\x94(h\\x02\\x8c\\x0cJames Schick\\x94h\\x04J\\xe9\\x0b\\x97\\x00u}\\x94(h\\x02\\x8c\\x0ePatricia Sarni\\x94h\\x04J\\x1b\\x88i\\x00ue.' <class 'bytes'>\n"
     ]
    }
   ],
   "source": [
    "f=open(\"data2.txt\",\"rb\")\n",
    "data=f.read()\n",
    "print(data, type(data))"
   ]
  },
  {
   "cell_type": "code",
   "execution_count": 19,
   "metadata": {},
   "outputs": [
    {
     "name": "stdout",
     "output_type": "stream",
     "text": [
      "[{'name': 'Bruce Eller', 'ssalary': 6830444}, {'name': 'Angie Owens', 'ssalary': 5958663}, {'name': 'Ralph Brown', 'ssalary': 5635766}, {'name': 'James Schick', 'ssalary': 9898985}, {'name': 'Patricia Sarni', 'ssalary': 6916123}] <class 'list'>\n"
     ]
    }
   ],
   "source": [
    "import pickle\n",
    "f=open(\"data2.txt\",\"rb\")\n",
    "data=pickle.load(f)\n",
    "print(data, type(data))\n",
    "f.close()"
   ]
  },
  {
   "cell_type": "code",
   "execution_count": null,
   "metadata": {},
   "outputs": [],
   "source": []
  }
 ],
 "metadata": {
  "kernelspec": {
   "display_name": "Python 3",
   "language": "python",
   "name": "python3"
  },
  "language_info": {
   "codemirror_mode": {
    "name": "ipython",
    "version": 3
   },
   "file_extension": ".py",
   "mimetype": "text/x-python",
   "name": "python",
   "nbconvert_exporter": "python",
   "pygments_lexer": "ipython3",
   "version": "3.8.3"
  }
 },
 "nbformat": 4,
 "nbformat_minor": 4
}
