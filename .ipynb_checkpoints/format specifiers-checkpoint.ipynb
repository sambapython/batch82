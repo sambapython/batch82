{
 "cells": [
  {
   "cell_type": "code",
   "execution_count": null,
   "metadata": {},
   "outputs": [],
   "source": [
    "#string formatting\n",
    "name=\"jayaram\"\n",
    "age=5\n",
    "height=2.45676543\n",
    "weight=19.234235\n",
    "#jayaram is 5 year old, his height:2.46FEET weight:19.23KG\n",
    "print(name,\"is\",age,'year old, his height:'+str(round(height,2))+\"FEET weight:\"+str(round(weight,2)))"
   ]
  },
  {
   "cell_type": "code",
   "execution_count": 1,
   "metadata": {},
   "outputs": [
    {
     "name": "stdout",
     "output_type": "stream",
     "text": [
      "ths cost of apple is 20\n"
     ]
    }
   ],
   "source": [
    "cost=20\n",
    "name=\"apple\"\n",
    "# the cost of apple is 20\n",
    "print(\"ths cost of \"+name+\" is\",cost)"
   ]
  },
  {
   "cell_type": "code",
   "execution_count": 2,
   "metadata": {},
   "outputs": [
    {
     "name": "stdout",
     "output_type": "stream",
     "text": [
      "ths cost of apple is 20\n",
      "the cost of name is cost\n"
     ]
    }
   ],
   "source": [
    "cost=20\n",
    "name=\"apple\"\n",
    "# the cost of apple is 20\n",
    "print(\"ths cost of \"+name+\" is\",cost)\n",
    "print(f\"the cost of name is cost\")"
   ]
  },
  {
   "cell_type": "code",
   "execution_count": 3,
   "metadata": {},
   "outputs": [
    {
     "name": "stdout",
     "output_type": "stream",
     "text": [
      "ths cost of apple is 20\n",
      "the cost of apple is 20\n"
     ]
    }
   ],
   "source": [
    "cost=20\n",
    "name=\"apple\"\n",
    "# the cost of apple is 20\n",
    "print(\"ths cost of \"+name+\" is\",cost)\n",
    "print(f\"the cost of {name} is {cost}\")# template string/ f strings."
   ]
  },
  {
   "cell_type": "code",
   "execution_count": 4,
   "metadata": {},
   "outputs": [
    {
     "name": "stdout",
     "output_type": "stream",
     "text": [
      "jayaram is 5 year old, his height:2.46FEET weight:19.23\n",
      "jayaram is 5 year old, his height:2.45676543FEET weight:19.234235KG\n"
     ]
    }
   ],
   "source": [
    "#string formatting\n",
    "name=\"jayaram\"\n",
    "age=5\n",
    "height=2.45676543\n",
    "weight=19.234235\n",
    "#jayaram is 5 year old, his height:2.46FEET weight:19.23KG\n",
    "print(name,\"is\",age,'year old, his height:'+str(round(height,2))+\"FEET weight:\"+str(round(weight,2)))\n",
    "print(f\"{name} is {age} year old, his height:{height}FEET weight:{weight}KG\")"
   ]
  },
  {
   "cell_type": "code",
   "execution_count": 5,
   "metadata": {},
   "outputs": [
    {
     "name": "stdout",
     "output_type": "stream",
     "text": [
      "jayaram is 5 year old, his height:2.46FEET weight:19.23\n",
      "jayaram is 5 year old, his height:2.46FEET weight:19.23KG\n"
     ]
    }
   ],
   "source": [
    "#string formatting\n",
    "name=\"jayaram\"\n",
    "age=5\n",
    "height=2.45676543\n",
    "weight=19.234235\n",
    "#jayaram is 5 year old, his height:2.46FEET weight:19.23KG\n",
    "print(name,\"is\",age,'year old, his height:'+str(round(height,2))+\"FEET weight:\"+str(round(weight,2)))\n",
    "print(f\"{name} is {age} year old, his height:{round(height,2)}FEET weight:{round(weight,2)}KG\")"
   ]
  },
  {
   "cell_type": "code",
   "execution_count": null,
   "metadata": {},
   "outputs": [],
   "source": [
    "#string formatting\n",
    "name=\"jayaram\"\n",
    "age=5\n",
    "height=2.45676543\n",
    "weight=19.234235\n",
    "#jayaram is 5 year old, his height:2.46FEET weight:19.23KG\n",
    "print(name,\"is\",age,'year old, his height:'+str(round(height,2))+\"FEET weight:\"+str(round(weight,2)))\n",
    "print(f\"{name} is {age} year old, his height:{round(height,2)}FEET weight:{round(weight,2)}KG\")\n",
    "#format specifiers"
   ]
  },
  {
   "cell_type": "code",
   "execution_count": 6,
   "metadata": {},
   "outputs": [
    {
     "name": "stdout",
     "output_type": "stream",
     "text": [
      "ths cost of apple is 20\n",
      "the cost of apple is 20\n",
      "the cost of %s is %s ('apple', 20)\n"
     ]
    }
   ],
   "source": [
    "cost=20\n",
    "name=\"apple\"\n",
    "# the cost of apple is 20\n",
    "print(\"ths cost of \"+name+\" is\",cost)\n",
    "print(f\"the cost of {name} is {cost}\")# template string/ f strings.\n",
    "print(\"the cost of %s is %s\",(name, cost))"
   ]
  },
  {
   "cell_type": "code",
   "execution_count": 7,
   "metadata": {},
   "outputs": [
    {
     "name": "stdout",
     "output_type": "stream",
     "text": [
      "ths cost of apple is 20\n",
      "the cost of apple is 20\n",
      "the cost of apple is 20\n"
     ]
    }
   ],
   "source": [
    "cost=20\n",
    "name=\"apple\"\n",
    "# the cost of apple is 20\n",
    "print(\"ths cost of \"+name+\" is\",cost)\n",
    "print(f\"the cost of {name} is {cost}\")# template string/ f strings.\n",
    "print(\"the cost of %s is %s\"%(name, cost))"
   ]
  },
  {
   "cell_type": "code",
   "execution_count": null,
   "metadata": {},
   "outputs": [],
   "source": [
    "#%d, %f, %r, %x,%o,%X"
   ]
  },
  {
   "cell_type": "code",
   "execution_count": 8,
   "metadata": {},
   "outputs": [
    {
     "name": "stdout",
     "output_type": "stream",
     "text": [
      "ths cost of apple is 20.34567\n",
      "the cost of apple is 20.34567\n",
      "the cost of apple is 20.34567\n"
     ]
    }
   ],
   "source": [
    "cost=20.34567\n",
    "name=\"apple\"\n",
    "# the cost of apple is 20\n",
    "print(\"ths cost of \"+name+\" is\",cost)\n",
    "print(f\"the cost of {name} is {cost}\")# template string/ f strings.\n",
    "print(\"the cost of %s is %s\"%(name, cost))"
   ]
  },
  {
   "cell_type": "code",
   "execution_count": 9,
   "metadata": {},
   "outputs": [
    {
     "name": "stdout",
     "output_type": "stream",
     "text": [
      "ths cost of apple is 20.34567\n",
      "the cost of apple is 20.34567\n",
      "the cost of apple is 20\n"
     ]
    }
   ],
   "source": [
    "cost=20.34567\n",
    "name=\"apple\"\n",
    "# the cost of apple is 20\n",
    "print(\"ths cost of \"+name+\" is\",cost)\n",
    "print(f\"the cost of {name} is {cost}\")# template string/ f strings.\n",
    "print(\"the cost of %s is %s\"%(name, int(cost)))"
   ]
  },
  {
   "cell_type": "code",
   "execution_count": 10,
   "metadata": {},
   "outputs": [
    {
     "name": "stdout",
     "output_type": "stream",
     "text": [
      "ths cost of apple is 20.34567\n",
      "the cost of apple is 20.34567\n",
      "the cost of apple is 20\n"
     ]
    }
   ],
   "source": [
    "cost=20.34567\n",
    "name=\"apple\"\n",
    "# the cost of apple is 20\n",
    "print(\"ths cost of \"+name+\" is\",cost)\n",
    "print(f\"the cost of {name} is {cost}\")# template string/ f strings.\n",
    "print(\"the cost of %s is %d\"%(name, cost))"
   ]
  },
  {
   "cell_type": "code",
   "execution_count": 11,
   "metadata": {},
   "outputs": [
    {
     "name": "stdout",
     "output_type": "stream",
     "text": [
      "ths cost of apple is 20.34567\n",
      "the cost of apple is 20.34567\n",
      "the cost of apple is 20.345670\n"
     ]
    }
   ],
   "source": [
    "cost=20.34567\n",
    "name=\"apple\"\n",
    "# the cost of apple is 20\n",
    "print(\"ths cost of \"+name+\" is\",cost)\n",
    "print(f\"the cost of {name} is {cost}\")# template string/ f strings.\n",
    "print(\"the cost of %s is %f\"%(name, cost))"
   ]
  },
  {
   "cell_type": "code",
   "execution_count": null,
   "metadata": {},
   "outputs": [],
   "source": [
    "cost=20.34567\n",
    "name=\"apple\"\n",
    "# the cost of apple is 20\n",
    "print(\"ths cost of \"+name+\" is\",cost)\n",
    "print(f\"the cost of {name} is {cost}\")# template string/ f strings.\n",
    "print(\"the cost of %s is %f\"%(name, cost))"
   ]
  },
  {
   "cell_type": "code",
   "execution_count": 12,
   "metadata": {},
   "outputs": [
    {
     "name": "stdout",
     "output_type": "stream",
     "text": [
      "20.000000\n"
     ]
    }
   ],
   "source": [
    "cost=20\n",
    "print(\"%f\"%cost)"
   ]
  },
  {
   "cell_type": "code",
   "execution_count": 13,
   "metadata": {},
   "outputs": [
    {
     "name": "stdout",
     "output_type": "stream",
     "text": [
      "23.450000\n"
     ]
    }
   ],
   "source": [
    "n=23.45\n",
    "print(\"%f\"%n)"
   ]
  },
  {
   "cell_type": "code",
   "execution_count": 15,
   "metadata": {},
   "outputs": [
    {
     "name": "stdout",
     "output_type": "stream",
     "text": [
      "23.46\n"
     ]
    }
   ],
   "source": [
    "n=23.45623456\n",
    "print(\"%.2f\"%n)"
   ]
  },
  {
   "cell_type": "code",
   "execution_count": 16,
   "metadata": {},
   "outputs": [
    {
     "name": "stdout",
     "output_type": "stream",
     "text": [
      "23.45623456\n"
     ]
    }
   ],
   "source": [
    "n=23.45623456\n",
    "print(\"%s\"%float(n))"
   ]
  },
  {
   "cell_type": "code",
   "execution_count": 17,
   "metadata": {},
   "outputs": [
    {
     "name": "stdout",
     "output_type": "stream",
     "text": [
      "23.456235\n"
     ]
    }
   ],
   "source": [
    "n=23.45623456\n",
    "print(\"%f\"%n)"
   ]
  },
  {
   "cell_type": "code",
   "execution_count": 18,
   "metadata": {},
   "outputs": [
    {
     "name": "stdout",
     "output_type": "stream",
     "text": [
      "23.46\n"
     ]
    }
   ],
   "source": [
    "n=23.45623456\n",
    "print(\"%.2f\"%n)"
   ]
  },
  {
   "cell_type": "code",
   "execution_count": 19,
   "metadata": {},
   "outputs": [
    {
     "name": "stdout",
     "output_type": "stream",
     "text": [
      "23.00\n"
     ]
    }
   ],
   "source": [
    "n=23\n",
    "print(\"%.2f\"%n)"
   ]
  },
  {
   "cell_type": "code",
   "execution_count": 21,
   "metadata": {},
   "outputs": [
    {
     "name": "stdout",
     "output_type": "stream",
     "text": [
      "23.0\n"
     ]
    }
   ],
   "source": [
    "n=23\n",
    "print(\"%s\"%float(n))"
   ]
  },
  {
   "cell_type": "code",
   "execution_count": 22,
   "metadata": {},
   "outputs": [
    {
     "name": "stdout",
     "output_type": "stream",
     "text": [
      "jayaram is 5 year old, his height:2.46FEET weight:19.23\n",
      "jayaram is 5 year old, his height:2.46FEET weight:19.23KG\n",
      "jayaram is 5 year old, his height:2.46FEET weight:19.23KG\n"
     ]
    }
   ],
   "source": [
    "#string formatting\n",
    "name=\"jayaram\"\n",
    "age=5\n",
    "height=2.45676543\n",
    "weight=19.234235\n",
    "#jayaram is 5 year old, his height:2.46FEET weight:19.23KG\n",
    "print(name,\"is\",age,'year old, his height:'+str(round(height,2))+\"FEET weight:\"+str(round(weight,2)))\n",
    "print(f\"{name} is {age} year old, his height:{round(height,2)}FEET weight:{round(weight,2)}KG\")\n",
    "print(\"%s is %s year old, his height:%.2fFEET weight:%.2fKG\"%(name, age, height, weight))"
   ]
  },
  {
   "cell_type": "code",
   "execution_count": 23,
   "metadata": {},
   "outputs": [
    {
     "name": "stdout",
     "output_type": "stream",
     "text": [
      "dsfsd\n",
      "sfsd\tsdfds\n",
      "sdfds\n",
      "dsfsd\n",
      "sfsd\tsdfds\n",
      "sdfds\n"
     ]
    }
   ],
   "source": [
    "st = \"dsfsd\\nsfsd\\tsdfds\\nsdfds\"\n",
    "print(st)\n",
    "print(\"%s\"%st)"
   ]
  },
  {
   "cell_type": "code",
   "execution_count": 24,
   "metadata": {},
   "outputs": [
    {
     "name": "stdout",
     "output_type": "stream",
     "text": [
      "dsfsd\n",
      "sfsd\tsdfds\n",
      "sdfds\n",
      "dsfsd\n",
      "sfsd\tsdfds\n",
      "sdfds\n",
      "'dsfsd\\nsfsd\\tsdfds\\nsdfds'\n"
     ]
    }
   ],
   "source": [
    "st = \"dsfsd\\nsfsd\\tsdfds\\nsdfds\"\n",
    "print(st)\n",
    "print(\"%s\"%st)\n",
    "print(\"%r\"%st)"
   ]
  },
  {
   "cell_type": "code",
   "execution_count": 25,
   "metadata": {},
   "outputs": [
    {
     "name": "stdout",
     "output_type": "stream",
     "text": [
      "4d2\n"
     ]
    }
   ],
   "source": [
    "a=1234\n",
    "print(\"%x\"%a)"
   ]
  },
  {
   "cell_type": "code",
   "execution_count": 26,
   "metadata": {},
   "outputs": [
    {
     "name": "stdout",
     "output_type": "stream",
     "text": [
      "4d2\n",
      "2322\n"
     ]
    }
   ],
   "source": [
    "a=1234\n",
    "print(\"%x\"%a)\n",
    "print(\"%o\"%a)"
   ]
  },
  {
   "cell_type": "code",
   "execution_count": 1,
   "metadata": {},
   "outputs": [
    {
     "ename": "TypeError",
     "evalue": "not enough arguments for format string",
     "output_type": "error",
     "traceback": [
      "\u001b[1;31m---------------------------------------------------------------------------\u001b[0m",
      "\u001b[1;31mTypeError\u001b[0m                                 Traceback (most recent call last)",
      "\u001b[1;32m<ipython-input-1-5c7a95eefade>\u001b[0m in \u001b[0;36m<module>\u001b[1;34m\u001b[0m\n\u001b[0;32m      2\u001b[0m \u001b[0mname\u001b[0m\u001b[1;33m=\u001b[0m\u001b[1;34m\"jayaram\"\u001b[0m\u001b[1;33m\u001b[0m\u001b[1;33m\u001b[0m\u001b[0m\n\u001b[0;32m      3\u001b[0m \u001b[1;31m#jayaram got 10% marks in MATHS\u001b[0m\u001b[1;33m\u001b[0m\u001b[1;33m\u001b[0m\u001b[1;33m\u001b[0m\u001b[0m\n\u001b[1;32m----> 4\u001b[1;33m \u001b[0mprint\u001b[0m\u001b[1;33m(\u001b[0m\u001b[1;34m\"%s got %s% marks in MATHS\"\u001b[0m\u001b[1;33m%\u001b[0m\u001b[1;33m(\u001b[0m\u001b[0mname\u001b[0m\u001b[1;33m,\u001b[0m \u001b[0mpercentage\u001b[0m\u001b[1;33m)\u001b[0m\u001b[1;33m)\u001b[0m\u001b[1;33m\u001b[0m\u001b[1;33m\u001b[0m\u001b[0m\n\u001b[0m",
      "\u001b[1;31mTypeError\u001b[0m: not enough arguments for format string"
     ]
    }
   ],
   "source": [
    "percentage=10\n",
    "name=\"jayaram\"\n",
    "#jayaram got 10% marks in MATHS\n",
    "print(\"%s got %s% marks in MATHS\"%(name, percentage))"
   ]
  },
  {
   "cell_type": "code",
   "execution_count": 2,
   "metadata": {},
   "outputs": [
    {
     "ename": "TypeError",
     "evalue": "not enough arguments for format string",
     "output_type": "error",
     "traceback": [
      "\u001b[1;31m---------------------------------------------------------------------------\u001b[0m",
      "\u001b[1;31mTypeError\u001b[0m                                 Traceback (most recent call last)",
      "\u001b[1;32m<ipython-input-2-2d6b3095b975>\u001b[0m in \u001b[0;36m<module>\u001b[1;34m\u001b[0m\n\u001b[0;32m      2\u001b[0m \u001b[0mname\u001b[0m\u001b[1;33m=\u001b[0m\u001b[1;34m\"jayaram\"\u001b[0m\u001b[1;33m\u001b[0m\u001b[1;33m\u001b[0m\u001b[0m\n\u001b[0;32m      3\u001b[0m \u001b[1;31m#jayaram got 10% marks in MATHS\u001b[0m\u001b[1;33m\u001b[0m\u001b[1;33m\u001b[0m\u001b[1;33m\u001b[0m\u001b[0m\n\u001b[1;32m----> 4\u001b[1;33m \u001b[0mprint\u001b[0m\u001b[1;33m(\u001b[0m\u001b[1;34m\"%s got %s'%' marks in MATHS\"\u001b[0m\u001b[1;33m%\u001b[0m\u001b[1;33m(\u001b[0m\u001b[0mname\u001b[0m\u001b[1;33m,\u001b[0m \u001b[0mpercentage\u001b[0m\u001b[1;33m)\u001b[0m\u001b[1;33m)\u001b[0m\u001b[1;33m\u001b[0m\u001b[1;33m\u001b[0m\u001b[0m\n\u001b[0m",
      "\u001b[1;31mTypeError\u001b[0m: not enough arguments for format string"
     ]
    }
   ],
   "source": [
    "percentage=10\n",
    "name=\"jayaram\"\n",
    "#jayaram got 10% marks in MATHS\n",
    "print(\"%s got %s'%' marks in MATHS\"%(name, percentage))"
   ]
  },
  {
   "cell_type": "code",
   "execution_count": 4,
   "metadata": {},
   "outputs": [
    {
     "ename": "TypeError",
     "evalue": "not enough arguments for format string",
     "output_type": "error",
     "traceback": [
      "\u001b[1;31m---------------------------------------------------------------------------\u001b[0m",
      "\u001b[1;31mTypeError\u001b[0m                                 Traceback (most recent call last)",
      "\u001b[1;32m<ipython-input-4-e221f5dca866>\u001b[0m in \u001b[0;36m<module>\u001b[1;34m\u001b[0m\n\u001b[0;32m      2\u001b[0m \u001b[0mname\u001b[0m\u001b[1;33m=\u001b[0m\u001b[1;34m\"jayaram\"\u001b[0m\u001b[1;33m\u001b[0m\u001b[1;33m\u001b[0m\u001b[0m\n\u001b[0;32m      3\u001b[0m \u001b[1;31m#jayaram got 10% marks in MATHS\u001b[0m\u001b[1;33m\u001b[0m\u001b[1;33m\u001b[0m\u001b[1;33m\u001b[0m\u001b[0m\n\u001b[1;32m----> 4\u001b[1;33m \u001b[0mprint\u001b[0m\u001b[1;33m(\u001b[0m\u001b[1;34m'%s got %s\"%\" marks in MATHS'\u001b[0m\u001b[1;33m%\u001b[0m\u001b[1;33m(\u001b[0m\u001b[0mname\u001b[0m\u001b[1;33m,\u001b[0m \u001b[0mpercentage\u001b[0m\u001b[1;33m)\u001b[0m\u001b[1;33m)\u001b[0m\u001b[1;33m\u001b[0m\u001b[1;33m\u001b[0m\u001b[0m\n\u001b[0m",
      "\u001b[1;31mTypeError\u001b[0m: not enough arguments for format string"
     ]
    }
   ],
   "source": [
    "percentage=10\n",
    "name=\"jayaram\"\n",
    "#jayaram got 10% marks in MATHS\n",
    "print('%s got %s\"%\" marks in MATHS'%(name, percentage))"
   ]
  },
  {
   "cell_type": "code",
   "execution_count": 5,
   "metadata": {},
   "outputs": [
    {
     "ename": "TypeError",
     "evalue": "not enough arguments for format string",
     "output_type": "error",
     "traceback": [
      "\u001b[1;31m---------------------------------------------------------------------------\u001b[0m",
      "\u001b[1;31mTypeError\u001b[0m                                 Traceback (most recent call last)",
      "\u001b[1;32m<ipython-input-5-4ccf6eb8a1a3>\u001b[0m in \u001b[0;36m<module>\u001b[1;34m\u001b[0m\n\u001b[0;32m      2\u001b[0m \u001b[0mname\u001b[0m\u001b[1;33m=\u001b[0m\u001b[1;34m\"jayaram\"\u001b[0m\u001b[1;33m\u001b[0m\u001b[1;33m\u001b[0m\u001b[0m\n\u001b[0;32m      3\u001b[0m \u001b[1;31m#jayaram got 10% marks in MATHS\u001b[0m\u001b[1;33m\u001b[0m\u001b[1;33m\u001b[0m\u001b[1;33m\u001b[0m\u001b[0m\n\u001b[1;32m----> 4\u001b[1;33m \u001b[0mprint\u001b[0m\u001b[1;33m(\u001b[0m\u001b[1;34m\"%s got %s\\% marks in MATHS\"\u001b[0m\u001b[1;33m%\u001b[0m\u001b[1;33m(\u001b[0m\u001b[0mname\u001b[0m\u001b[1;33m,\u001b[0m \u001b[0mpercentage\u001b[0m\u001b[1;33m)\u001b[0m\u001b[1;33m)\u001b[0m\u001b[1;33m\u001b[0m\u001b[1;33m\u001b[0m\u001b[0m\n\u001b[0m",
      "\u001b[1;31mTypeError\u001b[0m: not enough arguments for format string"
     ]
    }
   ],
   "source": [
    "percentage=10\n",
    "name=\"jayaram\"\n",
    "#jayaram got 10% marks in MATHS\n",
    "print(\"%s got %s\\% marks in MATHS\"%(name, percentage))"
   ]
  },
  {
   "cell_type": "code",
   "execution_count": 6,
   "metadata": {},
   "outputs": [
    {
     "name": "stdout",
     "output_type": "stream",
     "text": [
      "jayaram got 10% marks in MATHS\n"
     ]
    }
   ],
   "source": [
    "percentage=10\n",
    "name=\"jayaram\"\n",
    "#jayaram got 10% marks in MATHS\n",
    "print(\"%s got %s%% marks in MATHS\"%(name, percentage))"
   ]
  },
  {
   "cell_type": "code",
   "execution_count": 7,
   "metadata": {},
   "outputs": [
    {
     "name": "stdout",
     "output_type": "stream",
     "text": [
      "the number: 10\n"
     ]
    }
   ],
   "source": [
    "number=10\n",
    "print(f\"the number: {number}\")"
   ]
  },
  {
   "cell_type": "code",
   "execution_count": 8,
   "metadata": {},
   "outputs": [
    {
     "name": "stdout",
     "output_type": "stream",
     "text": [
      "the number: 10.000000\n"
     ]
    }
   ],
   "source": [
    "number=10\n",
    "print(f\"the number: {number:f}\")"
   ]
  },
  {
   "cell_type": "code",
   "execution_count": 9,
   "metadata": {},
   "outputs": [
    {
     "name": "stdout",
     "output_type": "stream",
     "text": [
      "the number: 10.00\n"
     ]
    }
   ],
   "source": [
    "number=10\n",
    "print(f\"the number: {number:.2f}\")"
   ]
  },
  {
   "cell_type": "code",
   "execution_count": 10,
   "metadata": {},
   "outputs": [
    {
     "name": "stdout",
     "output_type": "stream",
     "text": [
      "jayaram is 5 year old, his height:2.46FEET weight:19.23\n",
      "jayaram is 5 year old, his height:2.46FEET weight:19.23KG\n",
      "jayaram is 5 year old, his height:2.46FEET weight:19.23KG\n",
      "jayaram is 5 year old, his height:2.46FEET weight:19.23KG\n"
     ]
    }
   ],
   "source": [
    "#string formatting\n",
    "name=\"jayaram\"\n",
    "age=5\n",
    "height=2.45676543\n",
    "weight=19.234235\n",
    "#jayaram is 5 year old, his height:2.46FEET weight:19.23KG\n",
    "print(name,\"is\",age,'year old, his height:'+str(round(height,2))+\"FEET weight:\"+str(round(weight,2)))\n",
    "print(f\"{name} is {age} year old, his height:{round(height,2)}FEET weight:{round(weight,2)}KG\")\n",
    "print(\"%s is %s year old, his height:%.2fFEET weight:%.2fKG\"%(name, age, height, weight))\n",
    "print(f\"{name} is {age} year old, his height:{height:.2f}FEET weight:{weight:.2f}KG\")"
   ]
  },
  {
   "cell_type": "code",
   "execution_count": null,
   "metadata": {},
   "outputs": [],
   "source": []
  }
 ],
 "metadata": {
  "kernelspec": {
   "display_name": "Python 3",
   "language": "python",
   "name": "python3"
  },
  "language_info": {
   "codemirror_mode": {
    "name": "ipython",
    "version": 3
   },
   "file_extension": ".py",
   "mimetype": "text/x-python",
   "name": "python",
   "nbconvert_exporter": "python",
   "pygments_lexer": "ipython3",
   "version": "3.8.3"
  }
 },
 "nbformat": 4,
 "nbformat_minor": 4
}
