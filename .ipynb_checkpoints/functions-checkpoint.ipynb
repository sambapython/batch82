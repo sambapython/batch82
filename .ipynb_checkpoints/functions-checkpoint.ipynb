{
 "cells": [
  {
   "cell_type": "code",
   "execution_count": 2,
   "metadata": {},
   "outputs": [
    {
     "name": "stdout",
     "output_type": "stream",
     "text": [
      "started\n",
      "result= 30\n",
      "hyd\n",
      "a=100, b=200\n",
      "result= 300\n",
      "banglore\n",
      "chennai\n",
      "a=1000, b=2000\n",
      "result= 3000\n",
      "delhi\n",
      "a=10000, b=2000\n",
      "result= 12000\n",
      "ended\n"
     ]
    }
   ],
   "source": [
    "print(\"started\")\n",
    "a=10\n",
    "b=20\n",
    "res=a+b\n",
    "print(\"result=\",res)\n",
    "print(\"hyd\")\n",
    "a=100\n",
    "b=200\n",
    "print(f\"a={a}, b={b}\")\n",
    "res=a+b\n",
    "print(\"result=\",res)\n",
    "print(\"banglore\")\n",
    "print(\"chennai\")\n",
    "a=1000\n",
    "b=2000\n",
    "print(f\"a={a}, b={b}\")\n",
    "res=a+b\n",
    "print(\"result=\",res)\n",
    "print(\"delhi\")\n",
    "a=10000\n",
    "b=2000\n",
    "print(f\"a={a}, b={b}\")\n",
    "res=a+b\n",
    "print(\"result=\",res)\n",
    "print(\"ended\")"
   ]
  },
  {
   "cell_type": "code",
   "execution_count": 3,
   "metadata": {},
   "outputs": [
    {
     "name": "stdout",
     "output_type": "stream",
     "text": [
      "started\n",
      "a=10, b=20\n",
      "result= 30\n",
      "hyd\n",
      "a=100, b=200\n",
      "result= 300\n",
      "banglore\n",
      "chennai\n",
      "a=1000, b=2000\n",
      "result= 3000\n",
      "delhi\n",
      "a=10000, b=20000\n",
      "result= 30000\n",
      "ended\n"
     ]
    }
   ],
   "source": [
    "def add(a,b):\n",
    "    print(f\"a={a}, b={b}\")\n",
    "    res=a+b\n",
    "    print(\"result=\",res)\n",
    "print(\"started\")\n",
    "add(10,20)\n",
    "print(\"hyd\")\n",
    "add(100,200)\n",
    "print(\"banglore\")\n",
    "print(\"chennai\")\n",
    "add(1000,2000)\n",
    "print(\"delhi\")\n",
    "add(10000,20000)\n",
    "print(\"ended\")"
   ]
  },
  {
   "cell_type": "code",
   "execution_count": null,
   "metadata": {},
   "outputs": [],
   "source": [
    "print(\"started\")\n",
    "#function definition\n",
    "def add():# signature\n",
    "    #function body\n",
    "    print(\"this is function\")\n",
    "    #print(\"which will helps to add two numbers..\")\n",
    "print(\"ended\")"
   ]
  },
  {
   "cell_type": "code",
   "execution_count": 4,
   "metadata": {},
   "outputs": [
    {
     "name": "stdout",
     "output_type": "stream",
     "text": [
      "started\n",
      "ended\n"
     ]
    }
   ],
   "source": [
    "print(\"started\")\n",
    "#define\n",
    "def add():\n",
    "    print(\"this is function\")\n",
    "print(\"ended\")"
   ]
  },
  {
   "cell_type": "code",
   "execution_count": 5,
   "metadata": {},
   "outputs": [
    {
     "name": "stdout",
     "output_type": "stream",
     "text": [
      "started\n",
      "ended\n",
      "this is function\n"
     ]
    }
   ],
   "source": [
    "print(\"started\")\n",
    "#definition...\n",
    "def add():\n",
    "    print(\"this is function\")\n",
    "print(\"ended\")\n",
    "# function call..\n",
    "add()"
   ]
  },
  {
   "cell_type": "code",
   "execution_count": 6,
   "metadata": {},
   "outputs": [
    {
     "name": "stdout",
     "output_type": "stream",
     "text": [
      "started\n",
      "ended\n",
      "this is function\n"
     ]
    }
   ],
   "source": [
    "print(\"started\")\n",
    "#definition...\n",
    "def abc():\n",
    "    print(\"this is function\")\n",
    "print(\"ended\")\n",
    "# function call..\n",
    "abc()"
   ]
  },
  {
   "cell_type": "code",
   "execution_count": 7,
   "metadata": {},
   "outputs": [
    {
     "name": "stdout",
     "output_type": "stream",
     "text": [
      "started\n",
      "ended\n",
      "this is function\n",
      "hello\n",
      "this is function\n",
      "this is function\n",
      "HI\n"
     ]
    }
   ],
   "source": [
    "print(\"started\")\n",
    "def add():\n",
    "    print(\"this is function\")\n",
    "print(\"ended\")\n",
    "add()\n",
    "print(\"hello\")\n",
    "add()\n",
    "add()\n",
    "print(\"HI\")"
   ]
  },
  {
   "cell_type": "code",
   "execution_count": 8,
   "metadata": {},
   "outputs": [
    {
     "name": "stdout",
     "output_type": "stream",
     "text": [
      "x=10,y=20\n",
      "res= 30\n"
     ]
    }
   ],
   "source": [
    "def add(x,y):#x,y are parameters\n",
    "    print(f\"x={x},y={y}\")\n",
    "    res=x+y\n",
    "    print(\"res=\",res)\n",
    "add(10,20)# it will pass 10 to x, 20 to y. 10, 20 are arguments."
   ]
  },
  {
   "cell_type": "code",
   "execution_count": 9,
   "metadata": {},
   "outputs": [
    {
     "name": "stdout",
     "output_type": "stream",
     "text": [
      "x=10,y=20\n",
      "res= 30\n",
      "x=100,y=200\n",
      "res= 300\n"
     ]
    }
   ],
   "source": [
    "def add(x,y):#x,y are parameters\n",
    "    print(f\"x={x},y={y}\")\n",
    "    res=x+y\n",
    "    print(\"res=\",res)\n",
    "add(10,20)# it will pass 10 to x, 20 to y. 10, 20 are arguments.\n",
    "add(100,200)"
   ]
  },
  {
   "cell_type": "code",
   "execution_count": null,
   "metadata": {},
   "outputs": [],
   "source": [
    "# add, sub, mul, div\n",
    "# four functions, each function has to take two areguments"
   ]
  },
  {
   "cell_type": "code",
   "execution_count": 10,
   "metadata": {},
   "outputs": [
    {
     "name": "stdout",
     "output_type": "stream",
     "text": [
      "x=10,y=20\n",
      "res= -10\n",
      "x=100,y=200\n",
      "res= -100\n"
     ]
    }
   ],
   "source": [
    "def add(x,y):#x,y are parameters\n",
    "    print(f\"x={x},y={y}\")\n",
    "    res=x-y\n",
    "    print(\"res=\",res)\n",
    "add(10,20)# it will pass 10 to x, 20 to y. 10, 20 are arguments.\n",
    "add(100,200)"
   ]
  },
  {
   "cell_type": "code",
   "execution_count": 11,
   "metadata": {},
   "outputs": [
    {
     "name": "stdout",
     "output_type": "stream",
     "text": [
      "x=10,y=20\n",
      "res= 30\n"
     ]
    },
    {
     "ename": "TypeError",
     "evalue": "add() missing 1 required positional argument: 'y'",
     "output_type": "error",
     "traceback": [
      "\u001b[1;31m---------------------------------------------------------------------------\u001b[0m",
      "\u001b[1;31mTypeError\u001b[0m                                 Traceback (most recent call last)",
      "\u001b[1;32m<ipython-input-11-bd1cde6ca029>\u001b[0m in \u001b[0;36m<module>\u001b[1;34m\u001b[0m\n\u001b[0;32m      4\u001b[0m     \u001b[0mprint\u001b[0m\u001b[1;33m(\u001b[0m\u001b[1;34m\"res=\"\u001b[0m\u001b[1;33m,\u001b[0m\u001b[0mres\u001b[0m\u001b[1;33m)\u001b[0m\u001b[1;33m\u001b[0m\u001b[1;33m\u001b[0m\u001b[0m\n\u001b[0;32m      5\u001b[0m \u001b[0madd\u001b[0m\u001b[1;33m(\u001b[0m\u001b[1;36m10\u001b[0m\u001b[1;33m,\u001b[0m\u001b[1;36m20\u001b[0m\u001b[1;33m)\u001b[0m\u001b[1;33m\u001b[0m\u001b[1;33m\u001b[0m\u001b[0m\n\u001b[1;32m----> 6\u001b[1;33m \u001b[0madd\u001b[0m\u001b[1;33m(\u001b[0m\u001b[1;36m10\u001b[0m\u001b[1;33m)\u001b[0m\u001b[1;33m\u001b[0m\u001b[1;33m\u001b[0m\u001b[0m\n\u001b[0m",
      "\u001b[1;31mTypeError\u001b[0m: add() missing 1 required positional argument: 'y'"
     ]
    }
   ],
   "source": [
    "def add(x,y):\n",
    "    print(f\"x={x},y={y}\")\n",
    "    res=x+y\n",
    "    print(\"res=\",res)\n",
    "add(10,20)\n",
    "add(10)"
   ]
  },
  {
   "cell_type": "code",
   "execution_count": 12,
   "metadata": {},
   "outputs": [
    {
     "name": "stdout",
     "output_type": "stream",
     "text": [
      "x=10,y=20\n",
      "res= 30\n",
      "x=str1,y=str2\n",
      "res= str1str2\n",
      "x=[1, 2],y=[2, 3]\n",
      "res= [1, 2, 2, 3]\n"
     ]
    }
   ],
   "source": [
    "def add(x,y):\n",
    "    print(f\"x={x},y={y}\")\n",
    "    res=x+y\n",
    "    print(\"res=\",res)\n",
    "add(10,20)\n",
    "add(\"str1\",\"str2\")\n",
    "add([1,2],[2,3])"
   ]
  },
  {
   "cell_type": "code",
   "execution_count": 13,
   "metadata": {},
   "outputs": [
    {
     "name": "stdout",
     "output_type": "stream",
     "text": [
      "x=10,y=20\n",
      "res= 30\n",
      "x=str1,y=str2\n",
      "res= str1str2\n",
      "x=[1, 2],y=[2, 3]\n",
      "res= [1, 2, 2, 3]\n",
      "x=10,y=python\n"
     ]
    },
    {
     "ename": "TypeError",
     "evalue": "unsupported operand type(s) for +: 'int' and 'str'",
     "output_type": "error",
     "traceback": [
      "\u001b[1;31m---------------------------------------------------------------------------\u001b[0m",
      "\u001b[1;31mTypeError\u001b[0m                                 Traceback (most recent call last)",
      "\u001b[1;32m<ipython-input-13-faf4bb9fecce>\u001b[0m in \u001b[0;36m<module>\u001b[1;34m\u001b[0m\n\u001b[0;32m      6\u001b[0m \u001b[0madd\u001b[0m\u001b[1;33m(\u001b[0m\u001b[1;34m\"str1\"\u001b[0m\u001b[1;33m,\u001b[0m\u001b[1;34m\"str2\"\u001b[0m\u001b[1;33m)\u001b[0m\u001b[1;33m\u001b[0m\u001b[1;33m\u001b[0m\u001b[0m\n\u001b[0;32m      7\u001b[0m \u001b[0madd\u001b[0m\u001b[1;33m(\u001b[0m\u001b[1;33m[\u001b[0m\u001b[1;36m1\u001b[0m\u001b[1;33m,\u001b[0m\u001b[1;36m2\u001b[0m\u001b[1;33m]\u001b[0m\u001b[1;33m,\u001b[0m\u001b[1;33m[\u001b[0m\u001b[1;36m2\u001b[0m\u001b[1;33m,\u001b[0m\u001b[1;36m3\u001b[0m\u001b[1;33m]\u001b[0m\u001b[1;33m)\u001b[0m\u001b[1;33m\u001b[0m\u001b[1;33m\u001b[0m\u001b[0m\n\u001b[1;32m----> 8\u001b[1;33m \u001b[0madd\u001b[0m\u001b[1;33m(\u001b[0m\u001b[1;36m10\u001b[0m\u001b[1;33m,\u001b[0m\u001b[1;34m\"python\"\u001b[0m\u001b[1;33m)\u001b[0m\u001b[1;33m\u001b[0m\u001b[1;33m\u001b[0m\u001b[0m\n\u001b[0m",
      "\u001b[1;32m<ipython-input-13-faf4bb9fecce>\u001b[0m in \u001b[0;36madd\u001b[1;34m(x, y)\u001b[0m\n\u001b[0;32m      1\u001b[0m \u001b[1;32mdef\u001b[0m \u001b[0madd\u001b[0m\u001b[1;33m(\u001b[0m\u001b[0mx\u001b[0m\u001b[1;33m,\u001b[0m\u001b[0my\u001b[0m\u001b[1;33m)\u001b[0m\u001b[1;33m:\u001b[0m\u001b[1;33m\u001b[0m\u001b[1;33m\u001b[0m\u001b[0m\n\u001b[0;32m      2\u001b[0m     \u001b[0mprint\u001b[0m\u001b[1;33m(\u001b[0m\u001b[1;34mf\"x={x},y={y}\"\u001b[0m\u001b[1;33m)\u001b[0m\u001b[1;33m\u001b[0m\u001b[1;33m\u001b[0m\u001b[0m\n\u001b[1;32m----> 3\u001b[1;33m     \u001b[0mres\u001b[0m\u001b[1;33m=\u001b[0m\u001b[0mx\u001b[0m\u001b[1;33m+\u001b[0m\u001b[0my\u001b[0m\u001b[1;33m\u001b[0m\u001b[1;33m\u001b[0m\u001b[0m\n\u001b[0m\u001b[0;32m      4\u001b[0m     \u001b[0mprint\u001b[0m\u001b[1;33m(\u001b[0m\u001b[1;34m\"res=\"\u001b[0m\u001b[1;33m,\u001b[0m\u001b[0mres\u001b[0m\u001b[1;33m)\u001b[0m\u001b[1;33m\u001b[0m\u001b[1;33m\u001b[0m\u001b[0m\n\u001b[0;32m      5\u001b[0m \u001b[0madd\u001b[0m\u001b[1;33m(\u001b[0m\u001b[1;36m10\u001b[0m\u001b[1;33m,\u001b[0m\u001b[1;36m20\u001b[0m\u001b[1;33m)\u001b[0m\u001b[1;33m\u001b[0m\u001b[1;33m\u001b[0m\u001b[0m\n",
      "\u001b[1;31mTypeError\u001b[0m: unsupported operand type(s) for +: 'int' and 'str'"
     ]
    }
   ],
   "source": [
    "def add(x,y):\n",
    "    print(f\"x={x},y={y}\")\n",
    "    res=x+y\n",
    "    print(\"res=\",res)\n",
    "add(10,20)\n",
    "add(\"str1\",\"str2\")\n",
    "add([1,2],[2,3])\n",
    "add(10,\"python\")\n"
   ]
  },
  {
   "cell_type": "code",
   "execution_count": 14,
   "metadata": {},
   "outputs": [
    {
     "name": "stdout",
     "output_type": "stream",
     "text": [
      "x=10,y=20\n",
      "res= 30\n",
      "x=str1,y=str2\n",
      "res= str1str2\n",
      "x=[1, 2],y=[2, 3]\n",
      "res= [1, 2, 2, 3]\n",
      "x={'name': 'jay'},y={'name': 'vedha'}\n"
     ]
    },
    {
     "ename": "TypeError",
     "evalue": "unsupported operand type(s) for +: 'dict' and 'dict'",
     "output_type": "error",
     "traceback": [
      "\u001b[1;31m---------------------------------------------------------------------------\u001b[0m",
      "\u001b[1;31mTypeError\u001b[0m                                 Traceback (most recent call last)",
      "\u001b[1;32m<ipython-input-14-c5e74f0b3556>\u001b[0m in \u001b[0;36m<module>\u001b[1;34m\u001b[0m\n\u001b[0;32m      6\u001b[0m \u001b[0madd\u001b[0m\u001b[1;33m(\u001b[0m\u001b[1;34m\"str1\"\u001b[0m\u001b[1;33m,\u001b[0m\u001b[1;34m\"str2\"\u001b[0m\u001b[1;33m)\u001b[0m\u001b[1;33m\u001b[0m\u001b[1;33m\u001b[0m\u001b[0m\n\u001b[0;32m      7\u001b[0m \u001b[0madd\u001b[0m\u001b[1;33m(\u001b[0m\u001b[1;33m[\u001b[0m\u001b[1;36m1\u001b[0m\u001b[1;33m,\u001b[0m\u001b[1;36m2\u001b[0m\u001b[1;33m]\u001b[0m\u001b[1;33m,\u001b[0m\u001b[1;33m[\u001b[0m\u001b[1;36m2\u001b[0m\u001b[1;33m,\u001b[0m\u001b[1;36m3\u001b[0m\u001b[1;33m]\u001b[0m\u001b[1;33m)\u001b[0m\u001b[1;33m\u001b[0m\u001b[1;33m\u001b[0m\u001b[0m\n\u001b[1;32m----> 8\u001b[1;33m \u001b[0madd\u001b[0m\u001b[1;33m(\u001b[0m\u001b[1;33m{\u001b[0m\u001b[1;34m\"name\"\u001b[0m\u001b[1;33m:\u001b[0m\u001b[1;34m\"jay\"\u001b[0m\u001b[1;33m}\u001b[0m\u001b[1;33m,\u001b[0m\u001b[1;33m{\u001b[0m\u001b[1;34m\"name\"\u001b[0m\u001b[1;33m:\u001b[0m\u001b[1;34m\"vedha\"\u001b[0m\u001b[1;33m}\u001b[0m\u001b[1;33m)\u001b[0m\u001b[1;33m\u001b[0m\u001b[1;33m\u001b[0m\u001b[0m\n\u001b[0m",
      "\u001b[1;32m<ipython-input-14-c5e74f0b3556>\u001b[0m in \u001b[0;36madd\u001b[1;34m(x, y)\u001b[0m\n\u001b[0;32m      1\u001b[0m \u001b[1;32mdef\u001b[0m \u001b[0madd\u001b[0m\u001b[1;33m(\u001b[0m\u001b[0mx\u001b[0m\u001b[1;33m,\u001b[0m\u001b[0my\u001b[0m\u001b[1;33m)\u001b[0m\u001b[1;33m:\u001b[0m\u001b[1;33m\u001b[0m\u001b[1;33m\u001b[0m\u001b[0m\n\u001b[0;32m      2\u001b[0m     \u001b[0mprint\u001b[0m\u001b[1;33m(\u001b[0m\u001b[1;34mf\"x={x},y={y}\"\u001b[0m\u001b[1;33m)\u001b[0m\u001b[1;33m\u001b[0m\u001b[1;33m\u001b[0m\u001b[0m\n\u001b[1;32m----> 3\u001b[1;33m     \u001b[0mres\u001b[0m\u001b[1;33m=\u001b[0m\u001b[0mx\u001b[0m\u001b[1;33m+\u001b[0m\u001b[0my\u001b[0m\u001b[1;33m\u001b[0m\u001b[1;33m\u001b[0m\u001b[0m\n\u001b[0m\u001b[0;32m      4\u001b[0m     \u001b[0mprint\u001b[0m\u001b[1;33m(\u001b[0m\u001b[1;34m\"res=\"\u001b[0m\u001b[1;33m,\u001b[0m\u001b[0mres\u001b[0m\u001b[1;33m)\u001b[0m\u001b[1;33m\u001b[0m\u001b[1;33m\u001b[0m\u001b[0m\n\u001b[0;32m      5\u001b[0m \u001b[0madd\u001b[0m\u001b[1;33m(\u001b[0m\u001b[1;36m10\u001b[0m\u001b[1;33m,\u001b[0m\u001b[1;36m20\u001b[0m\u001b[1;33m)\u001b[0m\u001b[1;33m\u001b[0m\u001b[1;33m\u001b[0m\u001b[0m\n",
      "\u001b[1;31mTypeError\u001b[0m: unsupported operand type(s) for +: 'dict' and 'dict'"
     ]
    }
   ],
   "source": [
    "def add(x,y):\n",
    "    print(f\"x={x},y={y}\")\n",
    "    res=x+y\n",
    "    print(\"res=\",res)\n",
    "add(10,20)\n",
    "add(\"str1\",\"str2\")\n",
    "add([1,2],[2,3])\n",
    "add({\"name\":\"jay\"},{\"name\":\"vedha\"})"
   ]
  },
  {
   "cell_type": "code",
   "execution_count": 16,
   "metadata": {},
   "outputs": [
    {
     "name": "stdout",
     "output_type": "stream",
     "text": [
      "a=10,b=20,c=30,d=40\n",
      "res= 150\n"
     ]
    }
   ],
   "source": [
    "def add(a,b,c,d,e):\n",
    "    print(f\"a={a},b={b},c={c},d={d}\")\n",
    "    res=a+b+c+d+e\n",
    "    print(\"res=\",res)\n",
    "add(10,20,30,40,50)"
   ]
  },
  {
   "cell_type": "code",
   "execution_count": 17,
   "metadata": {},
   "outputs": [
    {
     "name": "stdout",
     "output_type": "stream",
     "text": [
      "a=10,b=20,c=30,d=40\n",
      "res= 150\n"
     ]
    },
    {
     "ename": "TypeError",
     "evalue": "add() missing 3 required positional arguments: 'c', 'd', and 'e'",
     "output_type": "error",
     "traceback": [
      "\u001b[1;31m---------------------------------------------------------------------------\u001b[0m",
      "\u001b[1;31mTypeError\u001b[0m                                 Traceback (most recent call last)",
      "\u001b[1;32m<ipython-input-17-9f1a03e3c2c3>\u001b[0m in \u001b[0;36m<module>\u001b[1;34m\u001b[0m\n\u001b[0;32m      4\u001b[0m     \u001b[0mprint\u001b[0m\u001b[1;33m(\u001b[0m\u001b[1;34m\"res=\"\u001b[0m\u001b[1;33m,\u001b[0m\u001b[0mres\u001b[0m\u001b[1;33m)\u001b[0m\u001b[1;33m\u001b[0m\u001b[1;33m\u001b[0m\u001b[0m\n\u001b[0;32m      5\u001b[0m \u001b[0madd\u001b[0m\u001b[1;33m(\u001b[0m\u001b[1;36m10\u001b[0m\u001b[1;33m,\u001b[0m\u001b[1;36m20\u001b[0m\u001b[1;33m,\u001b[0m\u001b[1;36m30\u001b[0m\u001b[1;33m,\u001b[0m\u001b[1;36m40\u001b[0m\u001b[1;33m,\u001b[0m\u001b[1;36m50\u001b[0m\u001b[1;33m)\u001b[0m\u001b[1;33m\u001b[0m\u001b[1;33m\u001b[0m\u001b[0m\n\u001b[1;32m----> 6\u001b[1;33m \u001b[0madd\u001b[0m\u001b[1;33m(\u001b[0m\u001b[1;36m10\u001b[0m\u001b[1;33m,\u001b[0m\u001b[1;36m20\u001b[0m\u001b[1;33m)\u001b[0m\u001b[1;33m\u001b[0m\u001b[1;33m\u001b[0m\u001b[0m\n\u001b[0m",
      "\u001b[1;31mTypeError\u001b[0m: add() missing 3 required positional arguments: 'c', 'd', and 'e'"
     ]
    }
   ],
   "source": [
    "def add(a,b,c,d,e):\n",
    "    print(f\"a={a},b={b},c={c},d={d}\")\n",
    "    res=a+b+c+d+e\n",
    "    print(\"res=\",res)\n",
    "add(10,20,30,40,50)\n",
    "add(10,20)"
   ]
  },
  {
   "cell_type": "code",
   "execution_count": 18,
   "metadata": {},
   "outputs": [
    {
     "name": "stdout",
     "output_type": "stream",
     "text": [
      "a=10,b=20,c=30,d=40\n",
      "res= 150\n",
      "a=100,b=200,c=0,d=0\n",
      "res= 300\n"
     ]
    }
   ],
   "source": [
    "def add(a,b,c=0,d=0,e=0):# default argument values\n",
    "    #a,b are mandatory parameters..\n",
    "    #c,d,e are optional parameters..\n",
    "    print(f\"a={a},b={b},c={c},d={d}\")\n",
    "    res=a+b+c+d+e\n",
    "    print(\"res=\",res)\n",
    "add(10,20,30,40,50)\n",
    "add(100,200)"
   ]
  },
  {
   "cell_type": "code",
   "execution_count": 19,
   "metadata": {},
   "outputs": [
    {
     "name": "stdout",
     "output_type": "stream",
     "text": [
      "a=10,b=20,c=30,d=40\n",
      "res= 150\n",
      "a=100,b=200,c=300,d=0\n",
      "res= 600\n"
     ]
    }
   ],
   "source": [
    "def add(a,b,c=0,d=0,e=0):# default argument values\n",
    "    #a,b are mandatory parameters..\n",
    "    #c,d,e are optional parameters..\n",
    "    print(f\"a={a},b={b},c={c},d={d}\")\n",
    "    res=a+b+c+d+e\n",
    "    print(\"res=\",res)\n",
    "add(10,20,30,40,50)\n",
    "add(100,200,300)"
   ]
  },
  {
   "cell_type": "code",
   "execution_count": 20,
   "metadata": {},
   "outputs": [
    {
     "name": "stdout",
     "output_type": "stream",
     "text": [
      "a=10,b=20,c=30,d=40\n",
      "res= 150\n",
      "a=100,b=200,c=300,d=0\n",
      "res= 600\n",
      "a=1000,b=2000,c=3000,d=4000\n",
      "res= 10000\n"
     ]
    }
   ],
   "source": [
    "def add(a,b,c=0,d=0,e=0):# default argument values\n",
    "    #a,b are mandatory parameters..\n",
    "    #c,d,e are optional parameters..\n",
    "    print(f\"a={a},b={b},c={c},d={d}\")\n",
    "    res=a+b+c+d+e\n",
    "    print(\"res=\",res)\n",
    "add(10,20,30,40,50)\n",
    "add(100,200,300)\n",
    "add(1000,2000,3000,4000)"
   ]
  },
  {
   "cell_type": "code",
   "execution_count": 21,
   "metadata": {},
   "outputs": [
    {
     "name": "stdout",
     "output_type": "stream",
     "text": [
      "a=10,b=20,c=30,d=40\n",
      "res= 150\n",
      "a=100,b=200,c=300,d=0\n",
      "res= 600\n",
      "a=1000,b=2000,c=3000,d=4000\n",
      "res= 10000\n",
      "a=10000,b=20000,c=0,d=0\n",
      "res= 30000\n"
     ]
    }
   ],
   "source": [
    "def add(a,b,c=0,d=0,e=0):# default argument values\n",
    "    #a,b are mandatory parameters..\n",
    "    #c,d,e are optional parameters..\n",
    "    print(f\"a={a},b={b},c={c},d={d}\")\n",
    "    res=a+b+c+d+e\n",
    "    print(\"res=\",res)\n",
    "add(10,20,30,40,50)\n",
    "add(100,200,300)\n",
    "add(1000,2000,3000,4000)\n",
    "add(10000,20000)"
   ]
  },
  {
   "cell_type": "code",
   "execution_count": 22,
   "metadata": {},
   "outputs": [
    {
     "name": "stdout",
     "output_type": "stream",
     "text": [
      "the user details are:name=Jay, age=5, pan=pan@1234, adhar=\n",
      "the user details are:name=vedha, age=4, pan=None, adhar=\n",
      "the user details are:name=sai, age=33, pan=pan@123, adhar=adhar@234\n"
     ]
    }
   ],
   "source": [
    "def user_registration(name,age,pan=None,adhar=\"\"):\n",
    "    print(f\"the user details are:name={name}, age={age}, pan={pan}, adhar={adhar}\")\n",
    "\n",
    "user_registration(\"Jay\",5,\"pan@1234\")\n",
    "user_registration(\"vedha\",4)\n",
    "user_registration(\"sai\",33,\"pan@123\",\"adhar@234\")\n",
    "    "
   ]
  },
  {
   "cell_type": "code",
   "execution_count": 23,
   "metadata": {},
   "outputs": [
    {
     "name": "stdout",
     "output_type": "stream",
     "text": [
      "the user details are:name=Jay, age=5, pan=pan@1234, adhar=adhar_XXXXX\n",
      "the user details are:name=vedha, age=4, pan=pan_XXXXXX, adhar=adhar_XXXXX\n",
      "the user details are:name=sai, age=33, pan=pan@123, adhar=adhar@234\n"
     ]
    }
   ],
   "source": [
    "def user_registration(name,age,pan=\"pan_XXXXXX\",adhar=\"adhar_XXXXX\"):\n",
    "    print(f\"the user details are:name={name}, age={age}, pan={pan}, adhar={adhar}\")\n",
    "\n",
    "user_registration(\"Jay\",5,\"pan@1234\")\n",
    "user_registration(\"vedha\",4)\n",
    "user_registration(\"sai\",33,\"pan@123\",\"adhar@234\")\n",
    "    "
   ]
  },
  {
   "cell_type": "code",
   "execution_count": null,
   "metadata": {},
   "outputs": [],
   "source": [
    "def user_registration(name,age,pan=\"pan_XXXXXX\",adhar=\"adhar_XXXXX\"):\n",
    "    print(f\"the user details are:name={name}, age={age}, pan={pan}, adhar={adhar}\")\n",
    "\n",
    "user_registration(\"Jay\",5,\"pan@1234\")#positional arguments\n",
    "user_registration(\"vedha\",4)\n",
    "user_registration(\"sai\",33,\"pan@123\",\"adhar@234\")\n",
    "    "
   ]
  },
  {
   "cell_type": "code",
   "execution_count": 24,
   "metadata": {},
   "outputs": [
    {
     "name": "stdout",
     "output_type": "stream",
     "text": [
      "the user details are:name=Jay, age=5, pan=adhar_1234, adhar=adhar_XXXXX\n"
     ]
    }
   ],
   "source": [
    "def user_registration(name,age,pan=\"pan_XXXXXX\",adhar=\"adhar_XXXXX\"):\n",
    "    print(f\"the user details are:name={name}, age={age}, pan={pan}, adhar={adhar}\")\n",
    "\n",
    "user_registration(\"Jay\",5,\"adhar_1234\")"
   ]
  },
  {
   "cell_type": "code",
   "execution_count": 25,
   "metadata": {},
   "outputs": [
    {
     "name": "stdout",
     "output_type": "stream",
     "text": [
      "the user details are:name=Jay, age=5, pan=None, adhar=adhar_1234\n"
     ]
    }
   ],
   "source": [
    "def user_registration(name,age,pan=\"pan_XXXXXX\",adhar=\"adhar_XXXXX\"):\n",
    "    print(f\"the user details are:name={name}, age={age}, pan={pan}, adhar={adhar}\")\n",
    "\n",
    "user_registration(\"Jay\",5,None,\"adhar_1234\")"
   ]
  },
  {
   "cell_type": "code",
   "execution_count": 26,
   "metadata": {},
   "outputs": [
    {
     "name": "stdout",
     "output_type": "stream",
     "text": [
      "the user details are:name=Jay, age=5, pan=pan_XXXXXX, adhar=adhar_1234\n"
     ]
    }
   ],
   "source": [
    "def user_registration(name,age,pan=\"pan_XXXXXX\",adhar=\"adhar_XXXXX\"):\n",
    "    print(f\"the user details are:name={name}, age={age}, pan={pan}, adhar={adhar}\")\n",
    "\n",
    "user_registration(\"Jay\",5,adhar=\"adhar_1234\")#positional arguments, keyword argument...\n",
    "#\"Jay\",5 are positional arguments.\n",
    "#adhar=\"adhar_1234\": keyword argument"
   ]
  },
  {
   "cell_type": "code",
   "execution_count": 27,
   "metadata": {},
   "outputs": [
    {
     "name": "stdout",
     "output_type": "stream",
     "text": [
      "the user details are:name=Jay, age=5, pan=pan_XXXXXX, adhar=adhar_1234\n"
     ]
    }
   ],
   "source": [
    "def user_registration(name,age,pan=\"pan_XXXXXX\",adhar=\"adhar_XXXXX\"):\n",
    "    print(f\"the user details are:name={name}, age={age}, pan={pan}, adhar={adhar}\")\n",
    "\n",
    "user_registration(name=\"Jay\",age=5,adhar=\"adhar_1234\")"
   ]
  },
  {
   "cell_type": "code",
   "execution_count": 28,
   "metadata": {},
   "outputs": [
    {
     "name": "stdout",
     "output_type": "stream",
     "text": [
      "the user details are:name=Jay, age=5, pan=pan_XXXXXX, adhar=adhar_1234\n"
     ]
    }
   ],
   "source": [
    "def user_registration(name,age,pan=\"pan_XXXXXX\",adhar=\"adhar_XXXXX\"):\n",
    "    print(f\"the user details are:name={name}, age={age}, pan={pan}, adhar={adhar}\")\n",
    "\n",
    "user_registration(age=5,name=\"Jay\",adhar=\"adhar_1234\")"
   ]
  },
  {
   "cell_type": "code",
   "execution_count": null,
   "metadata": {},
   "outputs": [],
   "source": []
  }
 ],
 "metadata": {
  "kernelspec": {
   "display_name": "Python 3",
   "language": "python",
   "name": "python3"
  },
  "language_info": {
   "codemirror_mode": {
    "name": "ipython",
    "version": 3
   },
   "file_extension": ".py",
   "mimetype": "text/x-python",
   "name": "python",
   "nbconvert_exporter": "python",
   "pygments_lexer": "ipython3",
   "version": "3.8.3"
  }
 },
 "nbformat": 4,
 "nbformat_minor": 4
}
