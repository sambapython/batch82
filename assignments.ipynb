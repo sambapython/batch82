{
 "cells": [
  {
   "cell_type": "code",
   "execution_count": null,
   "metadata": {},
   "outputs": [],
   "source": [
    "#take four number from the user (variables name it as x1,x2,x3,x4) find the standard deviation\n",
    "x1=float(input(\"Enter X1:\"))\n",
    "x2=float(input(\"Enter X2:\"))\n",
    "x3=float(input(\"Enter X3:\"))\n",
    "x4=float(input(\"Enter X4:\"))\n",
    "numbers = [x1,x2,x3,x4]\n",
    "n=len(numbers)\n",
    "sum_values=sum(numbers)"
   ]
  },
  {
   "cell_type": "code",
   "execution_count": 1,
   "metadata": {},
   "outputs": [
    {
     "ename": "TypeError",
     "evalue": "sum() takes at most 2 arguments (4 given)",
     "output_type": "error",
     "traceback": [
      "\u001b[1;31m---------------------------------------------------------------------------\u001b[0m",
      "\u001b[1;31mTypeError\u001b[0m                                 Traceback (most recent call last)",
      "\u001b[1;32m<ipython-input-1-91d8ea3a7fc6>\u001b[0m in \u001b[0;36m<module>\u001b[1;34m\u001b[0m\n\u001b[1;32m----> 1\u001b[1;33m \u001b[0msum\u001b[0m\u001b[1;33m(\u001b[0m\u001b[1;36m1\u001b[0m\u001b[1;33m,\u001b[0m\u001b[1;36m2\u001b[0m\u001b[1;33m,\u001b[0m\u001b[1;36m3\u001b[0m\u001b[1;33m,\u001b[0m\u001b[1;36m4\u001b[0m\u001b[1;33m)\u001b[0m\u001b[1;33m\u001b[0m\u001b[1;33m\u001b[0m\u001b[0m\n\u001b[0m",
      "\u001b[1;31mTypeError\u001b[0m: sum() takes at most 2 arguments (4 given)"
     ]
    }
   ],
   "source": [
    "sum(1,2,3,4)"
   ]
  },
  {
   "cell_type": "code",
   "execution_count": 2,
   "metadata": {},
   "outputs": [
    {
     "data": {
      "text/plain": [
       "10"
      ]
     },
     "execution_count": 2,
     "metadata": {},
     "output_type": "execute_result"
    }
   ],
   "source": [
    "sum([1,2,3,4])"
   ]
  },
  {
   "cell_type": "code",
   "execution_count": null,
   "metadata": {},
   "outputs": [],
   "source": [
    "#take four number from the user (variables name it as x1,x2,x3,x4) find the standard deviation\n",
    "x1=float(input(\"Enter X1:\"))\n",
    "x2=float(input(\"Enter X2:\"))\n",
    "x3=float(input(\"Enter X3:\"))\n",
    "x4=float(input(\"Enter X4:\"))\n",
    "numbers = [x1,x2,x3,x4]\n",
    "n=len(numbers)\n",
    "sum_values=sum(numbers)\n",
    "mean = sum_values/n\n",
    "nom = (x1-mean)**2+(x2-mean)**2+(x3-mean)**2+(x4-mean)**2\n",
    "res1 = nom/n\n",
    "print(res1)"
   ]
  },
  {
   "cell_type": "code",
   "execution_count": 3,
   "metadata": {},
   "outputs": [
    {
     "data": {
      "text/plain": [
       "2.0"
      ]
     },
     "execution_count": 3,
     "metadata": {},
     "output_type": "execute_result"
    }
   ],
   "source": [
    "4**0.5"
   ]
  },
  {
   "cell_type": "code",
   "execution_count": 4,
   "metadata": {},
   "outputs": [
    {
     "name": "stdout",
     "output_type": "stream",
     "text": [
      "Enter X1:1\n",
      "Enter X2:2\n",
      "Enter X3:3\n",
      "Enter X4:4\n",
      "1.118033988749895\n"
     ]
    }
   ],
   "source": [
    "#take four number from the user (variables name it as x1,x2,x3,x4) find the standard deviation\n",
    "x1=float(input(\"Enter X1:\"))\n",
    "x2=float(input(\"Enter X2:\"))\n",
    "x3=float(input(\"Enter X3:\"))\n",
    "x4=float(input(\"Enter X4:\"))\n",
    "numbers = [x1,x2,x3,x4]\n",
    "n=len(numbers)\n",
    "sum_values=sum(numbers)\n",
    "mean = sum_values/n\n",
    "nom = (x1-mean)**2+(x2-mean)**2+(x3-mean)**2+(x4-mean)**2\n",
    "res1 = (nom/n)**0.5\n",
    "print(res1)"
   ]
  },
  {
   "cell_type": "code",
   "execution_count": null,
   "metadata": {},
   "outputs": [],
   "source": []
  }
 ],
 "metadata": {
  "kernelspec": {
   "display_name": "Python 3",
   "language": "python",
   "name": "python3"
  },
  "language_info": {
   "codemirror_mode": {
    "name": "ipython",
    "version": 3
   },
   "file_extension": ".py",
   "mimetype": "text/x-python",
   "name": "python",
   "nbconvert_exporter": "python",
   "pygments_lexer": "ipython3",
   "version": "3.8.3"
  }
 },
 "nbformat": 4,
 "nbformat_minor": 4
}
