{
 "cells": [
  {
   "cell_type": "code",
   "execution_count": null,
   "metadata": {},
   "outputs": [],
   "source": [
    "#take four number from the user (variables name it as x1,x2,x3,x4) find the standard deviation\n",
    "x1=float(input(\"Enter X1:\"))\n",
    "x2=float(input(\"Enter X2:\"))\n",
    "x3=float(input(\"Enter X3:\"))\n",
    "x4=float(input(\"Enter X4:\"))\n",
    "numbers = [x1,x2,x3,x4]\n",
    "n=len(numbers)\n",
    "sum_values=sum(numbers)"
   ]
  },
  {
   "cell_type": "code",
   "execution_count": 1,
   "metadata": {},
   "outputs": [
    {
     "ename": "TypeError",
     "evalue": "sum() takes at most 2 arguments (4 given)",
     "output_type": "error",
     "traceback": [
      "\u001b[1;31m---------------------------------------------------------------------------\u001b[0m",
      "\u001b[1;31mTypeError\u001b[0m                                 Traceback (most recent call last)",
      "\u001b[1;32m<ipython-input-1-91d8ea3a7fc6>\u001b[0m in \u001b[0;36m<module>\u001b[1;34m\u001b[0m\n\u001b[1;32m----> 1\u001b[1;33m \u001b[0msum\u001b[0m\u001b[1;33m(\u001b[0m\u001b[1;36m1\u001b[0m\u001b[1;33m,\u001b[0m\u001b[1;36m2\u001b[0m\u001b[1;33m,\u001b[0m\u001b[1;36m3\u001b[0m\u001b[1;33m,\u001b[0m\u001b[1;36m4\u001b[0m\u001b[1;33m)\u001b[0m\u001b[1;33m\u001b[0m\u001b[1;33m\u001b[0m\u001b[0m\n\u001b[0m",
      "\u001b[1;31mTypeError\u001b[0m: sum() takes at most 2 arguments (4 given)"
     ]
    }
   ],
   "source": [
    "sum(1,2,3,4)"
   ]
  },
  {
   "cell_type": "code",
   "execution_count": 2,
   "metadata": {},
   "outputs": [
    {
     "data": {
      "text/plain": [
       "10"
      ]
     },
     "execution_count": 2,
     "metadata": {},
     "output_type": "execute_result"
    }
   ],
   "source": [
    "sum([1,2,3,4])"
   ]
  },
  {
   "cell_type": "code",
   "execution_count": null,
   "metadata": {},
   "outputs": [],
   "source": [
    "#take four number from the user (variables name it as x1,x2,x3,x4) find the standard deviation\n",
    "x1=float(input(\"Enter X1:\"))\n",
    "x2=float(input(\"Enter X2:\"))\n",
    "x3=float(input(\"Enter X3:\"))\n",
    "x4=float(input(\"Enter X4:\"))\n",
    "numbers = [x1,x2,x3,x4]\n",
    "n=len(numbers)\n",
    "sum_values=sum(numbers)\n",
    "mean = sum_values/n\n",
    "nom = (x1-mean)**2+(x2-mean)**2+(x3-mean)**2+(x4-mean)**2\n",
    "res1 = nom/n\n",
    "print(res1)"
   ]
  },
  {
   "cell_type": "code",
   "execution_count": 3,
   "metadata": {},
   "outputs": [
    {
     "data": {
      "text/plain": [
       "2.0"
      ]
     },
     "execution_count": 3,
     "metadata": {},
     "output_type": "execute_result"
    }
   ],
   "source": [
    "4**0.5"
   ]
  },
  {
   "cell_type": "code",
   "execution_count": 4,
   "metadata": {},
   "outputs": [
    {
     "name": "stdout",
     "output_type": "stream",
     "text": [
      "Enter X1:1\n",
      "Enter X2:2\n",
      "Enter X3:3\n",
      "Enter X4:4\n",
      "1.118033988749895\n"
     ]
    }
   ],
   "source": [
    "#take four number from the user (variables name it as x1,x2,x3,x4) find the standard deviation\n",
    "x1=float(input(\"Enter X1:\"))\n",
    "x2=float(input(\"Enter X2:\"))\n",
    "x3=float(input(\"Enter X3:\"))\n",
    "x4=float(input(\"Enter X4:\"))\n",
    "numbers = [x1,x2,x3,x4]\n",
    "n=len(numbers)\n",
    "sum_values=sum(numbers)\n",
    "mean = sum_values/n\n",
    "nom = (x1-mean)**2+(x2-mean)**2+(x3-mean)**2+(x4-mean)**2\n",
    "res1 = (nom/n)**0.5\n",
    "print(res1)"
   ]
  },
  {
   "cell_type": "code",
   "execution_count": 2,
   "metadata": {},
   "outputs": [
    {
     "name": "stdout",
     "output_type": "stream",
     "text": [
      "Enter gender(M/F)M\n",
      "Enter an Age:25\n",
      "Enligible for marriage in India.\n"
     ]
    }
   ],
   "source": [
    "\"\"\"\n",
    "Take age and gender from the user and decide whether he is eligible for \tmarriage in India or not.\n",
    "Age criteria: men age>24, women>21\n",
    "\"\"\"\n",
    "gender = input(\"Enter gender(M/F)\")\n",
    "age = int(input(\"Enter an Age:\"))\n",
    "eligible = \"Enligible for marriage in India.\"\n",
    "not_eligible = \"Not eligible for marriage in India\"\n",
    "if gender == \"M\":\n",
    "    if age>=24:\n",
    "        print(eligible)\n",
    "    else:\n",
    "        print(not_eligible)\n",
    "elif gender==\"F\":\n",
    "    if age>=21:\n",
    "        print(eligible)\n",
    "    else:\n",
    "        print(not_eligible)\n",
    "else:\n",
    "    print(\"Invalid gender, type M or F\")"
   ]
  },
  {
   "cell_type": "code",
   "execution_count": 3,
   "metadata": {},
   "outputs": [
    {
     "name": "stdout",
     "output_type": "stream",
     "text": [
      "Enter gender(M/F)F\n",
      "Enter an Age:22\n",
      "Enligible for marriage in India.\n"
     ]
    }
   ],
   "source": [
    "\"\"\"\n",
    "Take age and gender from the user and decide whether he is eligible for \tmarriage in India or not.\n",
    "Age criteria: men age>24, women>21\n",
    "\"\"\"\n",
    "gender = input(\"Enter gender(M/F)\")\n",
    "age = int(input(\"Enter an Age:\"))\n",
    "eligible = \"Enligible for marriage in India.\"\n",
    "not_eligible = \"Not eligible for marriage in India\"\n",
    "if gender == \"M\":\n",
    "    if age>=24:\n",
    "        print(eligible)\n",
    "    else:\n",
    "        print(not_eligible)\n",
    "elif gender==\"F\":\n",
    "    if age>=21:\n",
    "        print(eligible)\n",
    "    else:\n",
    "        print(not_eligible)\n",
    "else:\n",
    "    print(\"Invalid gender, type M or F\")"
   ]
  },
  {
   "cell_type": "code",
   "execution_count": 4,
   "metadata": {},
   "outputs": [
    {
     "name": "stdout",
     "output_type": "stream",
     "text": [
      "Enter gender(M/F)M\n",
      "Enter an Age:22\n",
      "Not eligible for marriage in India\n"
     ]
    }
   ],
   "source": [
    "\"\"\"\n",
    "Take age and gender from the user and decide whether he is eligible for \tmarriage in India or not.\n",
    "Age criteria: men age>24, women>21\n",
    "\"\"\"\n",
    "gender = input(\"Enter gender(M/F)\")\n",
    "age = int(input(\"Enter an Age:\"))\n",
    "eligible = \"Enligible for marriage in India.\"\n",
    "not_eligible = \"Not eligible for marriage in India\"\n",
    "if gender == \"M\":\n",
    "    if age>=24:\n",
    "        print(eligible)\n",
    "    else:\n",
    "        print(not_eligible)\n",
    "elif gender==\"F\":\n",
    "    if age>=21:\n",
    "        print(eligible)\n",
    "    else:\n",
    "        print(not_eligible)\n",
    "else:\n",
    "    print(\"Invalid gender, type M or F\")"
   ]
  },
  {
   "cell_type": "code",
   "execution_count": 5,
   "metadata": {},
   "outputs": [
    {
     "name": "stdout",
     "output_type": "stream",
     "text": [
      "65\n"
     ]
    }
   ],
   "source": [
    "s=\"A\"\n",
    "print(ord(\"A\"))"
   ]
  },
  {
   "cell_type": "code",
   "execution_count": 6,
   "metadata": {},
   "outputs": [
    {
     "data": {
      "text/plain": [
       "90"
      ]
     },
     "execution_count": 6,
     "metadata": {},
     "output_type": "execute_result"
    }
   ],
   "source": [
    "ord(\"Z\")"
   ]
  },
  {
   "cell_type": "code",
   "execution_count": 7,
   "metadata": {},
   "outputs": [
    {
     "name": "stdout",
     "output_type": "stream",
     "text": [
      "enter a letter:R\n",
      "it's capital letter\n"
     ]
    }
   ],
   "source": [
    "s=input(\"enter a letter:\")\n",
    "ord_s = ord(s)\n",
    "if ord_s>=ord(\"A\") and ord_s<=ord(\"Z\"):\n",
    "    print(\"it's capital letter\")\n",
    "else:\n",
    "    print(\"It's not a capital letter\")\n",
    "    "
   ]
  },
  {
   "cell_type": "code",
   "execution_count": 8,
   "metadata": {},
   "outputs": [
    {
     "name": "stdout",
     "output_type": "stream",
     "text": [
      "enter a letter:3\n",
      "It's not a capital letter\n"
     ]
    }
   ],
   "source": [
    "s=input(\"enter a letter:\")\n",
    "ord_s = ord(s)\n",
    "if ord_s>=ord(\"A\") and ord_s<=ord(\"Z\"):\n",
    "    print(\"it's capital letter\")\n",
    "else:\n",
    "    print(\"It's not a capital letter\")\n",
    "    "
   ]
  },
  {
   "cell_type": "code",
   "execution_count": 9,
   "metadata": {},
   "outputs": [
    {
     "name": "stdout",
     "output_type": "stream",
     "text": [
      "enter a letter:r\n",
      "It's not a capital letter\n"
     ]
    }
   ],
   "source": [
    "s=input(\"enter a letter:\")\n",
    "ord_s = ord(s)\n",
    "if ord_s>=ord(\"A\") and ord_s<=ord(\"Z\"):\n",
    "    print(\"it's capital letter\")\n",
    "else:\n",
    "    print(\"It's not a capital letter\")\n",
    "    "
   ]
  },
  {
   "cell_type": "code",
   "execution_count": 10,
   "metadata": {},
   "outputs": [
    {
     "data": {
      "text/plain": [
       "True"
      ]
     },
     "execution_count": 10,
     "metadata": {},
     "output_type": "execute_result"
    }
   ],
   "source": [
    "2 in range(1,10)"
   ]
  },
  {
   "cell_type": "code",
   "execution_count": 11,
   "metadata": {},
   "outputs": [
    {
     "data": {
      "text/plain": [
       "True"
      ]
     },
     "execution_count": 11,
     "metadata": {},
     "output_type": "execute_result"
    }
   ],
   "source": [
    "1 in range(1,10)"
   ]
  },
  {
   "cell_type": "code",
   "execution_count": 12,
   "metadata": {},
   "outputs": [
    {
     "data": {
      "text/plain": [
       "True"
      ]
     },
     "execution_count": 12,
     "metadata": {},
     "output_type": "execute_result"
    }
   ],
   "source": [
    "9 in range(1,10)"
   ]
  },
  {
   "cell_type": "code",
   "execution_count": 13,
   "metadata": {},
   "outputs": [
    {
     "data": {
      "text/plain": [
       "False"
      ]
     },
     "execution_count": 13,
     "metadata": {},
     "output_type": "execute_result"
    }
   ],
   "source": [
    "10 in range(1,10)"
   ]
  },
  {
   "cell_type": "code",
   "execution_count": 14,
   "metadata": {},
   "outputs": [
    {
     "data": {
      "text/plain": [
       "True"
      ]
     },
     "execution_count": 14,
     "metadata": {},
     "output_type": "execute_result"
    }
   ],
   "source": [
    "10 in range(1,11)"
   ]
  },
  {
   "cell_type": "code",
   "execution_count": 15,
   "metadata": {},
   "outputs": [
    {
     "data": {
      "text/plain": [
       "[1, 2, 3, 4, 5, 6, 7, 8, 9]"
      ]
     },
     "execution_count": 15,
     "metadata": {},
     "output_type": "execute_result"
    }
   ],
   "source": [
    "list(range(1,10))"
   ]
  },
  {
   "cell_type": "code",
   "execution_count": 17,
   "metadata": {},
   "outputs": [
    {
     "name": "stdout",
     "output_type": "stream",
     "text": [
      "enter a letter:Z\n",
      "It's not a capital letter\n"
     ]
    }
   ],
   "source": [
    "s=input(\"enter a letter:\")\n",
    "ord_s = ord(s)\n",
    "#if ord_s>=ord(\"A\") and ord_s<=ord(\"Z\"):\n",
    "if ord_s in range(ord(\"A\"),ord(\"Z\")):\n",
    "    print(\"it's capital letter\")\n",
    "else:\n",
    "    print(\"It's not a capital letter\")\n",
    "    "
   ]
  },
  {
   "cell_type": "code",
   "execution_count": 18,
   "metadata": {},
   "outputs": [
    {
     "name": "stdout",
     "output_type": "stream",
     "text": [
      "enter a letter:A\n",
      "it's capital letter\n"
     ]
    }
   ],
   "source": [
    "s=input(\"enter a letter:\")\n",
    "ord_s = ord(s)\n",
    "#if ord_s>=ord(\"A\") and ord_s<=ord(\"Z\"):\n",
    "if ord_s in range(ord(\"A\"),ord(\"Z\")+1):\n",
    "    print(\"it's capital letter\")\n",
    "else:\n",
    "    print(\"It's not a capital letter\")\n",
    "    "
   ]
  },
  {
   "cell_type": "code",
   "execution_count": 19,
   "metadata": {},
   "outputs": [
    {
     "name": "stdout",
     "output_type": "stream",
     "text": [
      "enter a letter:R\n",
      "it's capital letter\n"
     ]
    }
   ],
   "source": [
    "s=input(\"enter a letter:\")\n",
    "ord_s = ord(s)\n",
    "#if ord_s>=ord(\"A\") and ord_s<=ord(\"Z\"):\n",
    "if ord_s in range(ord(\"A\"),ord(\"Z\")+1):\n",
    "    print(\"it's capital letter\")\n",
    "else:\n",
    "    print(\"It's not a capital letter\")\n",
    "    "
   ]
  },
  {
   "cell_type": "code",
   "execution_count": 20,
   "metadata": {},
   "outputs": [
    {
     "name": "stdout",
     "output_type": "stream",
     "text": [
      "enter a letter:Z\n",
      "it's capital letter\n"
     ]
    }
   ],
   "source": [
    "s=input(\"enter a letter:\")\n",
    "ord_s = ord(s)\n",
    "#if ord_s>=ord(\"A\") and ord_s<=ord(\"Z\"):\n",
    "if ord_s in range(ord(\"A\"),ord(\"Z\")+1):\n",
    "    print(\"it's capital letter\")\n",
    "else:\n",
    "    print(\"It's not a capital letter\")\n",
    "    "
   ]
  },
  {
   "cell_type": "code",
   "execution_count": 21,
   "metadata": {},
   "outputs": [
    {
     "name": "stdout",
     "output_type": "stream",
     "text": [
      "enter a letter:D\n",
      "it's capital letter\n"
     ]
    }
   ],
   "source": [
    "s=input(\"enter a letter:\")\n",
    "ord_s = ord(s)\n",
    "if ord_s in range(ord(\"A\"),ord(\"Z\")+1):\n",
    "    print(\"it's capital letter\")\n",
    "elif ord_s in range(ord(\"a\"),ord(\"z\")+1):\n",
    "    print(\"It's small letter\")\n",
    "elif ord_s in range(ord(\"1\"),ord(\"9\")+1):\n",
    "    print(\"it's a number\")\n",
    "else:\n",
    "    print(\"It's a special symbol\")\n",
    "    "
   ]
  },
  {
   "cell_type": "code",
   "execution_count": 22,
   "metadata": {},
   "outputs": [
    {
     "name": "stdout",
     "output_type": "stream",
     "text": [
      "enter a letter:5\n",
      "it's a number\n"
     ]
    }
   ],
   "source": [
    "s=input(\"enter a letter:\")\n",
    "ord_s = ord(s)\n",
    "if ord_s in range(ord(\"A\"),ord(\"Z\")+1):\n",
    "    print(\"it's capital letter\")\n",
    "elif ord_s in range(ord(\"a\"),ord(\"z\")+1):\n",
    "    print(\"It's small letter\")\n",
    "elif ord_s in range(ord(\"1\"),ord(\"9\")+1):\n",
    "    print(\"it's a number\")\n",
    "else:\n",
    "    print(\"It's a special symbol\")\n",
    "    "
   ]
  },
  {
   "cell_type": "code",
   "execution_count": 23,
   "metadata": {},
   "outputs": [
    {
     "name": "stdout",
     "output_type": "stream",
     "text": [
      "enter a letter:w\n",
      "It's small letter\n"
     ]
    }
   ],
   "source": [
    "s=input(\"enter a letter:\")\n",
    "ord_s = ord(s)\n",
    "if ord_s in range(ord(\"A\"),ord(\"Z\")+1):\n",
    "    print(\"it's capital letter\")\n",
    "elif ord_s in range(ord(\"a\"),ord(\"z\")+1):\n",
    "    print(\"It's small letter\")\n",
    "elif ord_s in range(ord(\"1\"),ord(\"9\")+1):\n",
    "    print(\"it's a number\")\n",
    "else:\n",
    "    print(\"It's a special symbol\")\n",
    "    "
   ]
  },
  {
   "cell_type": "code",
   "execution_count": 24,
   "metadata": {},
   "outputs": [
    {
     "name": "stdout",
     "output_type": "stream",
     "text": [
      "enter a letter:$\n",
      "It's a special symbol\n"
     ]
    }
   ],
   "source": [
    "s=input(\"enter a letter:\")\n",
    "ord_s = ord(s)\n",
    "if ord_s in range(ord(\"A\"),ord(\"Z\")+1):\n",
    "    print(\"it's capital letter\")\n",
    "elif ord_s in range(ord(\"a\"),ord(\"z\")+1):\n",
    "    print(\"It's small letter\")\n",
    "elif ord_s in range(ord(\"0\"),ord(\"9\")+1):\n",
    "    print(\"it's a number\")\n",
    "else:\n",
    "    print(\"It's a special symbol\")\n",
    "    "
   ]
  },
  {
   "cell_type": "code",
   "execution_count": 25,
   "metadata": {},
   "outputs": [
    {
     "name": "stdout",
     "output_type": "stream",
     "text": [
      "enter a letter:0\n",
      "it's a number\n"
     ]
    }
   ],
   "source": [
    "s=input(\"enter a letter:\")\n",
    "ord_s = ord(s)\n",
    "if ord_s in range(ord(\"A\"),ord(\"Z\")+1):\n",
    "    print(\"it's capital letter\")\n",
    "elif ord_s in range(ord(\"a\"),ord(\"z\")+1):\n",
    "    print(\"It's small letter\")\n",
    "elif ord_s in range(ord(\"0\"),ord(\"9\")+1):\n",
    "    print(\"it's a number\")\n",
    "else:\n",
    "    print(\"It's a special symbol\")\n",
    "    "
   ]
  },
  {
   "cell_type": "code",
   "execution_count": 26,
   "metadata": {
    "scrolled": true
   },
   "outputs": [
    {
     "name": "stdout",
     "output_type": "stream",
     "text": [
      "enter a letter:1q\n"
     ]
    },
    {
     "ename": "TypeError",
     "evalue": "ord() expected a character, but string of length 2 found",
     "output_type": "error",
     "traceback": [
      "\u001b[1;31m---------------------------------------------------------------------------\u001b[0m",
      "\u001b[1;31mTypeError\u001b[0m                                 Traceback (most recent call last)",
      "\u001b[1;32m<ipython-input-26-bf240f44021b>\u001b[0m in \u001b[0;36m<module>\u001b[1;34m\u001b[0m\n\u001b[0;32m      1\u001b[0m \u001b[0ms\u001b[0m\u001b[1;33m=\u001b[0m\u001b[0minput\u001b[0m\u001b[1;33m(\u001b[0m\u001b[1;34m\"enter a letter:\"\u001b[0m\u001b[1;33m)\u001b[0m\u001b[1;33m\u001b[0m\u001b[1;33m\u001b[0m\u001b[0m\n\u001b[1;32m----> 2\u001b[1;33m \u001b[0mord_s\u001b[0m \u001b[1;33m=\u001b[0m \u001b[0mord\u001b[0m\u001b[1;33m(\u001b[0m\u001b[0ms\u001b[0m\u001b[1;33m)\u001b[0m\u001b[1;33m\u001b[0m\u001b[1;33m\u001b[0m\u001b[0m\n\u001b[0m\u001b[0;32m      3\u001b[0m \u001b[1;32mif\u001b[0m \u001b[0mord_s\u001b[0m \u001b[1;32min\u001b[0m \u001b[0mrange\u001b[0m\u001b[1;33m(\u001b[0m\u001b[0mord\u001b[0m\u001b[1;33m(\u001b[0m\u001b[1;34m\"A\"\u001b[0m\u001b[1;33m)\u001b[0m\u001b[1;33m,\u001b[0m\u001b[0mord\u001b[0m\u001b[1;33m(\u001b[0m\u001b[1;34m\"Z\"\u001b[0m\u001b[1;33m)\u001b[0m\u001b[1;33m+\u001b[0m\u001b[1;36m1\u001b[0m\u001b[1;33m)\u001b[0m\u001b[1;33m:\u001b[0m\u001b[1;33m\u001b[0m\u001b[1;33m\u001b[0m\u001b[0m\n\u001b[0;32m      4\u001b[0m     \u001b[0mprint\u001b[0m\u001b[1;33m(\u001b[0m\u001b[1;34m\"it's capital letter\"\u001b[0m\u001b[1;33m)\u001b[0m\u001b[1;33m\u001b[0m\u001b[1;33m\u001b[0m\u001b[0m\n\u001b[0;32m      5\u001b[0m \u001b[1;32melif\u001b[0m \u001b[0mord_s\u001b[0m \u001b[1;32min\u001b[0m \u001b[0mrange\u001b[0m\u001b[1;33m(\u001b[0m\u001b[0mord\u001b[0m\u001b[1;33m(\u001b[0m\u001b[1;34m\"a\"\u001b[0m\u001b[1;33m)\u001b[0m\u001b[1;33m,\u001b[0m\u001b[0mord\u001b[0m\u001b[1;33m(\u001b[0m\u001b[1;34m\"z\"\u001b[0m\u001b[1;33m)\u001b[0m\u001b[1;33m+\u001b[0m\u001b[1;36m1\u001b[0m\u001b[1;33m)\u001b[0m\u001b[1;33m:\u001b[0m\u001b[1;33m\u001b[0m\u001b[1;33m\u001b[0m\u001b[0m\n",
      "\u001b[1;31mTypeError\u001b[0m: ord() expected a character, but string of length 2 found"
     ]
    }
   ],
   "source": [
    "s=input(\"enter a letter:\")\n",
    "ord_s = ord(s)\n",
    "if ord_s in range(ord(\"A\"),ord(\"Z\")+1):\n",
    "    print(\"it's capital letter\")\n",
    "elif ord_s in range(ord(\"a\"),ord(\"z\")+1):\n",
    "    print(\"It's small letter\")\n",
    "elif ord_s in range(ord(\"0\"),ord(\"9\")+1):\n",
    "    print(\"it's a number\")\n",
    "else:\n",
    "    print(\"It's a special symbol\")\n",
    "    "
   ]
  },
  {
   "cell_type": "code",
   "execution_count": 27,
   "metadata": {},
   "outputs": [
    {
     "name": "stdout",
     "output_type": "stream",
     "text": [
      "enter a letter:2e\n",
      "Expecting only one letter.\n"
     ]
    }
   ],
   "source": [
    "s=input(\"enter a letter:\")\n",
    "if len(s)==1:\n",
    "    ord_s = ord(s)\n",
    "    if ord_s in range(ord(\"A\"),ord(\"Z\")+1):\n",
    "        print(\"it's capital letter\")\n",
    "    elif ord_s in range(ord(\"a\"),ord(\"z\")+1):\n",
    "        print(\"It's small letter\")\n",
    "    elif ord_s in range(ord(\"0\"),ord(\"9\")+1):\n",
    "        print(\"it's a number\")\n",
    "    else:\n",
    "        print(\"It's a special symbol\")\n",
    "else:\n",
    "    print(\"Expecting only one letter.\")\n",
    "    "
   ]
  },
  {
   "cell_type": "code",
   "execution_count": 28,
   "metadata": {},
   "outputs": [],
   "source": [
    "#take a string from the user and check contains only  special chars or not\n",
    "s=\"a#$@$%\"\n",
    "#no\n",
    "s=\"#$@$%\"\n",
    "#yes\n",
    "s=\"1#$@$%\"\n",
    "#no\n",
    "s=\"#$@$%!@QWER\"\n",
    "#no"
   ]
  },
  {
   "cell_type": "code",
   "execution_count": 29,
   "metadata": {},
   "outputs": [
    {
     "data": {
      "text/plain": [
       "65"
      ]
     },
     "execution_count": 29,
     "metadata": {},
     "output_type": "execute_result"
    }
   ],
   "source": [
    "ord(\"A\")"
   ]
  },
  {
   "cell_type": "code",
   "execution_count": 30,
   "metadata": {},
   "outputs": [
    {
     "data": {
      "text/plain": [
       "90"
      ]
     },
     "execution_count": 30,
     "metadata": {},
     "output_type": "execute_result"
    }
   ],
   "source": [
    "ord(\"Z\")"
   ]
  },
  {
   "cell_type": "code",
   "execution_count": 31,
   "metadata": {},
   "outputs": [
    {
     "data": {
      "text/plain": [
       "97"
      ]
     },
     "execution_count": 31,
     "metadata": {},
     "output_type": "execute_result"
    }
   ],
   "source": [
    "ord(\"a\")"
   ]
  },
  {
   "cell_type": "code",
   "execution_count": 32,
   "metadata": {},
   "outputs": [
    {
     "data": {
      "text/plain": [
       "'['"
      ]
     },
     "execution_count": 32,
     "metadata": {},
     "output_type": "execute_result"
    }
   ],
   "source": [
    "chr(91)"
   ]
  },
  {
   "cell_type": "code",
   "execution_count": 33,
   "metadata": {},
   "outputs": [
    {
     "name": "stdout",
     "output_type": "stream",
     "text": [
      "enter a letter:qw@#$%^#12345\n",
      "q\n",
      "w\n",
      "@\n",
      "#\n",
      "$\n",
      "%\n",
      "^\n",
      "#\n",
      "1\n",
      "2\n",
      "3\n",
      "4\n",
      "5\n"
     ]
    }
   ],
   "source": [
    "s=input(\"enter a letter:\")\n",
    "for i in s:\n",
    "    print(i)"
   ]
  },
  {
   "cell_type": "code",
   "execution_count": 34,
   "metadata": {},
   "outputs": [
    {
     "name": "stdout",
     "output_type": "stream",
     "text": [
      "enter a letter:@#$%^&*\n",
      "it contains only spcial sysmbols\n"
     ]
    }
   ],
   "source": [
    "s=input(\"enter a letter:\")\n",
    "for i in s:\n",
    "    ord_i = ord(i)\n",
    "    if ord_i in range(ord(\"A\"),ord(\"Z\")+1)   or ord_i in range(ord(\"a\"), ord(\"z\")+1) or ord_i in range(ord(\"0\"),ord(\"9\")):\n",
    "        print(\"it contains other letters also..\")\n",
    "        break\n",
    "else:\n",
    "    print(\"it contains only spcial sysmbols\")\n",
    "        "
   ]
  },
  {
   "cell_type": "code",
   "execution_count": 35,
   "metadata": {},
   "outputs": [
    {
     "name": "stdout",
     "output_type": "stream",
     "text": [
      "enter a letter:q!@#$%^&\n",
      "it contains other letters also..\n"
     ]
    }
   ],
   "source": [
    "s=input(\"enter a letter:\")\n",
    "for i in s:\n",
    "    ord_i = ord(i)\n",
    "    if ord_i in range(ord(\"A\"),ord(\"Z\")+1)   or ord_i in range(ord(\"a\"), ord(\"z\")+1) or ord_i in range(ord(\"0\"),ord(\"9\")):\n",
    "        print(\"it contains other letters also..\")\n",
    "        break\n",
    "else:\n",
    "    print(\"it contains only spcial sysmbols\")\n",
    "        "
   ]
  },
  {
   "cell_type": "code",
   "execution_count": 1,
   "metadata": {},
   "outputs": [],
   "source": [
    "s=\"ASFWERs\"\n",
    "#yes"
   ]
  },
  {
   "cell_type": "code",
   "execution_count": 2,
   "metadata": {},
   "outputs": [],
   "source": [
    "s=\"ASFWER!@#$%^12345W\"\n",
    "#no"
   ]
  },
  {
   "cell_type": "code",
   "execution_count": 4,
   "metadata": {},
   "outputs": [
    {
     "name": "stdout",
     "output_type": "stream",
     "text": [
      "enter string:QWERTYU123456!@#$%\n",
      "No\n"
     ]
    }
   ],
   "source": [
    "s=input(\"enter string:\")\n",
    "for letter in s:\n",
    "    if ord(letter) in range(ord(\"a\"),ord(\"z\")+1):\n",
    "        print(\"yes\")\n",
    "        break\n",
    "else:\n",
    "    print(\"No\")"
   ]
  },
  {
   "cell_type": "code",
   "execution_count": 5,
   "metadata": {},
   "outputs": [
    {
     "name": "stdout",
     "output_type": "stream",
     "text": [
      "enter string:QWERT!@#$%76543d\n",
      "yes\n"
     ]
    }
   ],
   "source": [
    "s=input(\"enter string:\")\n",
    "for letter in s:\n",
    "    if ord(letter) in range(ord(\"a\"),ord(\"z\")+1):\n",
    "        print(\"yes\")\n",
    "        break\n",
    "else:\n",
    "    print(\"No\")"
   ]
  },
  {
   "cell_type": "code",
   "execution_count": 6,
   "metadata": {},
   "outputs": [
    {
     "name": "stdout",
     "output_type": "stream",
     "text": [
      "enter numbers:431456765\n",
      "431456765\n"
     ]
    }
   ],
   "source": [
    "#Take some single digit numbers from the user and findout min, maximum, sum, average\n",
    "s=input(\"enter numbers:\")\n",
    "print(s)"
   ]
  },
  {
   "cell_type": "code",
   "execution_count": 7,
   "metadata": {},
   "outputs": [
    {
     "name": "stdout",
     "output_type": "stream",
     "text": [
      "enter numbers:1234\n",
      "1 <class 'str'>\n",
      "2 <class 'str'>\n",
      "3 <class 'str'>\n",
      "4 <class 'str'>\n"
     ]
    }
   ],
   "source": [
    "#Take some single digit numbers from the user and findout min, maximum, sum, average\n",
    "s=input(\"enter numbers:\")\n",
    "for digit in s:\n",
    "    print(digit, type(digit))"
   ]
  },
  {
   "cell_type": "code",
   "execution_count": 8,
   "metadata": {},
   "outputs": [
    {
     "name": "stdout",
     "output_type": "stream",
     "text": [
      "enter numbers:2134\n",
      "2 <class 'str'>\n",
      "2.0 <class 'float'>\n",
      "1 <class 'str'>\n",
      "1.0 <class 'float'>\n",
      "3 <class 'str'>\n",
      "3.0 <class 'float'>\n",
      "4 <class 'str'>\n",
      "4.0 <class 'float'>\n",
      "10.0\n"
     ]
    }
   ],
   "source": [
    "#Take some single digit numbers from the user and findout min, maximum, sum, average\n",
    "s=input(\"enter numbers:\")\n",
    "sum_numbers=0\n",
    "for digit in s:\n",
    "    print(digit, type(digit))\n",
    "    number = float(digit)\n",
    "    print(number, type(number))\n",
    "    sum_numbers = sum_numbers+number\n",
    "print(sum_numbers)"
   ]
  },
  {
   "cell_type": "code",
   "execution_count": 9,
   "metadata": {},
   "outputs": [
    {
     "name": "stdout",
     "output_type": "stream",
     "text": [
      "enter numbers:374856\n",
      "33.0\n"
     ]
    }
   ],
   "source": [
    "#Take some single digit numbers from the user and findout min, maximum, sum, average\n",
    "s=input(\"enter numbers:\")\n",
    "sum_numbers=0\n",
    "for digit in s:\n",
    "    number = float(digit)\n",
    "    sum_numbers = sum_numbers+number\n",
    "print(sum_numbers)"
   ]
  },
  {
   "cell_type": "code",
   "execution_count": null,
   "metadata": {},
   "outputs": [],
   "source": [
    "#Take some single digit numbers from the user and findout min, maximum, sum, average\n",
    "s=input(\"enter numbers:\")\n",
    "sum_numbers=0\n",
    "for digit in s:\n",
    "    number = float(digit)\n",
    "    sum_numbers = sum_numbers+number\n",
    "average= sum_numbers/len(s)\n",
    "print(\"sum=\",sum_numbers)\n",
    "print(\"average=\",average)"
   ]
  },
  {
   "cell_type": "code",
   "execution_count": 10,
   "metadata": {},
   "outputs": [
    {
     "name": "stdout",
     "output_type": "stream",
     "text": [
      "10\n",
      "2.5\n",
      "4\n",
      "1\n"
     ]
    }
   ],
   "source": [
    "l=[1,3,2,4]\n",
    "print(sum(l))\n",
    "print(sum(l)/len(l))\n",
    "print(max(l))\n",
    "print(min(l))"
   ]
  },
  {
   "cell_type": "code",
   "execution_count": 11,
   "metadata": {},
   "outputs": [
    {
     "name": "stdout",
     "output_type": "stream",
     "text": [
      "['2', '3', '4', '2', '2', '1', '5']\n"
     ]
    }
   ],
   "source": [
    "s=\"2342215\"\n",
    "l=list(s)\n",
    "print(l)"
   ]
  },
  {
   "cell_type": "code",
   "execution_count": 12,
   "metadata": {},
   "outputs": [
    {
     "name": "stdout",
     "output_type": "stream",
     "text": [
      "[2.0, 3.0, 4.0, 2.0, 2.0, 1.0, 5.0]\n"
     ]
    }
   ],
   "source": [
    "s=\"2342215\"\n",
    "l=[]\n",
    "for i in s:\n",
    "    number = float(i)\n",
    "    l=l+[number]\n",
    "print(l)"
   ]
  },
  {
   "cell_type": "code",
   "execution_count": 13,
   "metadata": {},
   "outputs": [
    {
     "name": "stdout",
     "output_type": "stream",
     "text": [
      "enter numbers:2412324346456\n",
      "summation: 46.0\n",
      "average: 3.5384615384615383\n",
      "max: 6.0\n",
      "min: 1.0\n"
     ]
    }
   ],
   "source": [
    "s=input(\"enter numbers:\")\n",
    "l=[]\n",
    "for i in s:\n",
    "    number = float(i)\n",
    "    l=l+[number]\n",
    "print(\"summation:\",sum(l))\n",
    "print(\"average:\",sum(l)/len(l))\n",
    "print(\"max:\",max(l))\n",
    "print(\"min:\",min(l))"
   ]
  },
  {
   "cell_type": "code",
   "execution_count": 14,
   "metadata": {},
   "outputs": [
    {
     "name": "stdout",
     "output_type": "stream",
     "text": [
      "enter numbers:12,45,2,3,5,7,9\n",
      "12,45,2,3,5,7,9\n"
     ]
    }
   ],
   "source": [
    "s=input(\"enter numbers:\")\n",
    "print(s)"
   ]
  },
  {
   "cell_type": "code",
   "execution_count": null,
   "metadata": {},
   "outputs": [],
   "source": [
    "s=\"12,45,2,3,5,7,9\"\n",
    "l=[12.0,45.0,2.0,3.0,5.0,7.0,9.0]"
   ]
  },
  {
   "cell_type": "code",
   "execution_count": 15,
   "metadata": {},
   "outputs": [
    {
     "data": {
      "text/plain": [
       "['12', '45', '2', '3', '5', '7', '9']"
      ]
     },
     "execution_count": 15,
     "metadata": {},
     "output_type": "execute_result"
    }
   ],
   "source": [
    "s=\"12,45,2,3,5,7,9\"\n",
    "s.split(\",\")"
   ]
  },
  {
   "cell_type": "code",
   "execution_count": 16,
   "metadata": {},
   "outputs": [
    {
     "name": "stdout",
     "output_type": "stream",
     "text": [
      "1\n",
      "2\n",
      ",\n",
      "4\n",
      "5\n",
      ",\n",
      "2\n",
      ",\n",
      "3\n",
      ",\n",
      "5\n",
      "4\n",
      ",\n",
      "7\n",
      "1\n",
      ",\n",
      "9\n"
     ]
    }
   ],
   "source": [
    "s=\"12,45,2,3,54,71,9\"\n",
    "for i in s:\n",
    "    print(i)"
   ]
  },
  {
   "cell_type": "code",
   "execution_count": 18,
   "metadata": {},
   "outputs": [
    {
     "name": "stdout",
     "output_type": "stream",
     "text": [
      "12\n",
      "452\n",
      "2\n",
      "3\n",
      "54\n",
      "71\n"
     ]
    }
   ],
   "source": [
    "s=\"12,452,2,3,54,71,9\"\n",
    "sub=\"\"\n",
    "for i in s:#1,2,,,4,5,2,,,\n",
    "    if i==\",\":#false,false,true,false,false,false,true\n",
    "        print(sub)\n",
    "        sub=\"\"#\"\"\n",
    "    else:\n",
    "        sub=sub+i#1,12,4,45,452"
   ]
  },
  {
   "cell_type": "code",
   "execution_count": 20,
   "metadata": {},
   "outputs": [
    {
     "name": "stdout",
     "output_type": "stream",
     "text": [
      "12\n",
      "452\n",
      "2\n",
      "3\n",
      "54\n",
      "71\n",
      "9\n"
     ]
    }
   ],
   "source": [
    "s=\"12,452,2,3,54,71,9\"\n",
    "sub=\"\"\n",
    "for i in s:#1,2,,,4,5,2,,,\n",
    "    if i==\",\":#false,false,true,false,false,false,true\n",
    "        print(sub)\n",
    "        sub=\"\"#\"\"\n",
    "    else:\n",
    "        sub=sub+i#1,12,4,45,452\n",
    "print(sub)"
   ]
  },
  {
   "cell_type": "code",
   "execution_count": 21,
   "metadata": {},
   "outputs": [
    {
     "name": "stdout",
     "output_type": "stream",
     "text": [
      "1\n",
      "2\n",
      ",\n",
      "4\n",
      "5\n",
      "2\n",
      ",\n",
      "2\n",
      ",\n",
      "3\n",
      ",\n",
      "5\n",
      "4\n",
      ",\n",
      "7\n",
      "1\n",
      ",\n",
      "9\n"
     ]
    }
   ],
   "source": [
    "s=\"12,452,2,3,54,71,9\"\n",
    "for i in s:\n",
    "    print(i)"
   ]
  },
  {
   "cell_type": "code",
   "execution_count": 22,
   "metadata": {},
   "outputs": [
    {
     "name": "stdout",
     "output_type": "stream",
     "text": [
      ",\n",
      ",\n",
      ",\n",
      ",\n",
      ",\n",
      ",\n"
     ]
    }
   ],
   "source": [
    "s=\"12,452,2,3,54,71,9\"\n",
    "for i in s:\n",
    "    if i==\",\":\n",
    "        print(i)\n",
    "    "
   ]
  },
  {
   "cell_type": "code",
   "execution_count": 23,
   "metadata": {},
   "outputs": [
    {
     "name": "stdout",
     "output_type": "stream",
     "text": [
      "12\n",
      "12452\n",
      "124522\n",
      "1245223\n",
      "124522354\n",
      "12452235471\n"
     ]
    }
   ],
   "source": [
    "s=\"12,452,2,3,54,71,9\"\n",
    "sub=\"\"\n",
    "for i in s:\n",
    "    if i==\",\":\n",
    "        print(sub)\n",
    "    else:\n",
    "        sub=sub+i\n",
    "            \n",
    "    "
   ]
  },
  {
   "cell_type": "code",
   "execution_count": 24,
   "metadata": {},
   "outputs": [
    {
     "name": "stdout",
     "output_type": "stream",
     "text": [
      "12\n",
      "452\n",
      "2\n",
      "3\n",
      "54\n",
      "71\n"
     ]
    }
   ],
   "source": [
    "s=\"12,452,2,3,54,71,9\"\n",
    "sub=\"\"\n",
    "for i in s:\n",
    "    if i==\",\":\n",
    "        print(sub)\n",
    "        sub=\"\"\n",
    "    else:\n",
    "        sub=sub+i\n",
    "            \n",
    "    "
   ]
  },
  {
   "cell_type": "code",
   "execution_count": 25,
   "metadata": {},
   "outputs": [
    {
     "name": "stdout",
     "output_type": "stream",
     "text": [
      "12\n",
      "452\n",
      "2\n",
      "3\n",
      "54\n",
      "71\n",
      "9\n"
     ]
    }
   ],
   "source": [
    "s=\"12,452,2,3,54,71,9\"\n",
    "sub=\"\"\n",
    "for i in s:\n",
    "    if i==\",\":\n",
    "        print(sub)\n",
    "        sub=\"\"\n",
    "    else:\n",
    "        sub=sub+i\n",
    "print(sub)"
   ]
  },
  {
   "cell_type": "code",
   "execution_count": 28,
   "metadata": {},
   "outputs": [
    {
     "name": "stdout",
     "output_type": "stream",
     "text": [
      "[12.0, 452.0, 2.0, 3.0, 54.0, 71.0, 9.0]\n"
     ]
    }
   ],
   "source": [
    "s=\"12,452,2,3,54,71,9\"\n",
    "sub=\"\"\n",
    "numbers=[]\n",
    "for i in s:\n",
    "    if i==\",\":\n",
    "        number = float(sub)\n",
    "        numbers=numbers+[float(number)]\n",
    "        sub=\"\"\n",
    "    else:\n",
    "        sub=sub+i\n",
    "numbers=numbers+[float(sub)]\n",
    "print(numbers)"
   ]
  },
  {
   "cell_type": "code",
   "execution_count": 29,
   "metadata": {},
   "outputs": [
    {
     "name": "stdout",
     "output_type": "stream",
     "text": [
      "[12.0, 452.0, 2.0, 3.0, 54.0, 71.0, 71.0]\n"
     ]
    }
   ],
   "source": [
    "def add_number(numbers, i):\n",
    "    numbers=numbers+[float(number)]\n",
    "    return numbers\n",
    "s=\"12,452,2,3,54,71,9\"\n",
    "sub=\"\"\n",
    "numbers=[]\n",
    "for i in s:\n",
    "    if i==\",\":\n",
    "        number = float(sub)\n",
    "        numbers=add_number(numbers,i)\n",
    "        sub=\"\"\n",
    "    else:\n",
    "        sub=sub+i\n",
    "numbers=add_number(numbers,i)\n",
    "print(numbers)"
   ]
  },
  {
   "cell_type": "code",
   "execution_count": 30,
   "metadata": {},
   "outputs": [
    {
     "name": "stdout",
     "output_type": "stream",
     "text": [
      "665.0\n",
      "95.0\n",
      "2.0\n",
      "452.0\n"
     ]
    }
   ],
   "source": [
    "def add_number(numbers, i):\n",
    "    numbers=numbers+[float(number)]\n",
    "    return numbers\n",
    "s=\"12,452,2,3,54,71,9\"\n",
    "sub=\"\"\n",
    "numbers=[]\n",
    "for i in s:\n",
    "    if i==\",\":\n",
    "        number = float(sub)\n",
    "        numbers=add_number(numbers,i)\n",
    "        sub=\"\"\n",
    "    else:\n",
    "        sub=sub+i\n",
    "numbers=add_number(numbers,i)\n",
    "print(sum(numbers))\n",
    "print(sum(numbers)/len(numbers))\n",
    "print(min(numbers))\n",
    "print(max(numbers))"
   ]
  },
  {
   "cell_type": "code",
   "execution_count": null,
   "metadata": {},
   "outputs": [],
   "source": []
  }
 ],
 "metadata": {
  "kernelspec": {
   "display_name": "Python 3",
   "language": "python",
   "name": "python3"
  },
  "language_info": {
   "codemirror_mode": {
    "name": "ipython",
    "version": 3
   },
   "file_extension": ".py",
   "mimetype": "text/x-python",
   "name": "python",
   "nbconvert_exporter": "python",
   "pygments_lexer": "ipython3",
   "version": "3.8.3"
  }
 },
 "nbformat": 4,
 "nbformat_minor": 4
}
