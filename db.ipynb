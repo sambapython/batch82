{
 "cells": [
  {
   "cell_type": "code",
   "execution_count": 2,
   "metadata": {},
   "outputs": [],
   "source": [
    "import sqlite3\n",
    "con = sqlite3.connect(\"db1.sqlite3\")"
   ]
  },
  {
   "cell_type": "code",
   "execution_count": 3,
   "metadata": {},
   "outputs": [
    {
     "name": "stdout",
     "output_type": "stream",
     "text": [
      "<sqlite3.Connection object at 0x0000021334C406C0>\n"
     ]
    }
   ],
   "source": [
    "print(con)"
   ]
  },
  {
   "cell_type": "code",
   "execution_count": 5,
   "metadata": {},
   "outputs": [],
   "source": [
    "query=\"create table customer(id int, name varchar(250))\""
   ]
  },
  {
   "cell_type": "code",
   "execution_count": 6,
   "metadata": {},
   "outputs": [
    {
     "data": {
      "text/plain": [
       "<sqlite3.Cursor at 0x21334d29b90>"
      ]
     },
     "execution_count": 6,
     "metadata": {},
     "output_type": "execute_result"
    }
   ],
   "source": [
    "con.execute(query)"
   ]
  },
  {
   "cell_type": "code",
   "execution_count": 7,
   "metadata": {},
   "outputs": [
    {
     "data": {
      "text/plain": [
       "<sqlite3.Cursor at 0x21334d29dc0>"
      ]
     },
     "execution_count": 7,
     "metadata": {},
     "output_type": "execute_result"
    }
   ],
   "source": [
    "query = \"insert into customer(id, name) values(1,'JAYARAM')\"\n",
    "con.execute(query)"
   ]
  },
  {
   "cell_type": "code",
   "execution_count": 9,
   "metadata": {},
   "outputs": [],
   "source": [
    "con.commit()# writes the above insert statement in to database from cache."
   ]
  },
  {
   "cell_type": "code",
   "execution_count": 10,
   "metadata": {},
   "outputs": [],
   "source": [
    "import names\n",
    "for i in range(2,100):\n",
    "    query=\"insert into customer(id, name) values(%s,'%s')\"%(i, names.get_full_name())\n",
    "    con.execute(query)\n",
    "con.commit()\n",
    "    "
   ]
  },
  {
   "cell_type": "code",
   "execution_count": 11,
   "metadata": {},
   "outputs": [],
   "source": [
    "query=\"update customer set name='Vedhanvesh' where id=2\"\n",
    "con.execute(query)\n",
    "con.commit()"
   ]
  },
  {
   "cell_type": "code",
   "execution_count": 12,
   "metadata": {},
   "outputs": [],
   "source": [
    "query = \"delete from customer where id=2\"\n",
    "con.execute(query)\n",
    "con.commit()"
   ]
  },
  {
   "cell_type": "code",
   "execution_count": 3,
   "metadata": {},
   "outputs": [],
   "source": [
    "query = \"delete from customer where id in (3,4,5)\"\n",
    "con.execute(query)\n",
    "con.commit()"
   ]
  },
  {
   "cell_type": "code",
   "execution_count": 4,
   "metadata": {},
   "outputs": [
    {
     "data": {
      "text/plain": [
       "<sqlite3.Cursor at 0x20725ed2880>"
      ]
     },
     "execution_count": 4,
     "metadata": {},
     "output_type": "execute_result"
    }
   ],
   "source": [
    "query=\"select * from customer\"\n",
    "cur = con.cursor()\n",
    "cur.execute(query)\n"
   ]
  },
  {
   "cell_type": "code",
   "execution_count": 5,
   "metadata": {},
   "outputs": [],
   "source": [
    "data = cur.fetchall()"
   ]
  },
  {
   "cell_type": "code",
   "execution_count": 6,
   "metadata": {},
   "outputs": [
    {
     "name": "stdout",
     "output_type": "stream",
     "text": [
      "[(1, 'JAYARAM'), (6, 'Dolores Lillis'), (7, 'Janet Lawson'), (8, 'Walter Reyna'), (9, 'Greg Fredrickson'), (10, 'Steven Wilcox'), (11, 'Lynn Snyder'), (12, 'Miranda Threatt'), (13, 'Marion Whitener'), (14, 'Kenneth Wynn'), (15, 'James Robertson'), (16, 'Albert Frazier'), (17, 'Brittany Evans'), (18, 'Gerald Pearson'), (19, 'Scott Nigro'), (20, 'Pearl West'), (21, 'Jay Thurman'), (22, 'Edmund Halliday'), (23, 'Ricky Delgadillo'), (24, 'Gary Arnone'), (25, 'Addie Huntley'), (26, 'Leslie Pate'), (27, 'John Kirk'), (28, 'Katherine Switzer'), (29, 'Joshua Crawford'), (30, 'Steven Li'), (31, 'Suzanne Calahan'), (32, 'Peggy Koslosky'), (33, 'Beatrice Womack'), (34, 'Paul Cheeseman'), (35, 'Dessie Lopez'), (36, 'Richard Swan'), (37, 'John Kirk'), (38, 'Tommy Smith'), (39, 'Vanessa Campbell'), (40, 'Tabitha Mcgowan'), (41, 'Mary Brown'), (42, 'Loretta Younger'), (43, 'Howard Sietsma'), (44, 'Sandra Eggimann'), (45, 'Michael Knoll'), (46, 'Megan Hovermale'), (47, 'Loretta Spencer'), (48, 'Howard Johnson'), (49, 'Joanna Broadway'), (50, 'Bette Dayton'), (51, 'Steven Betters'), (52, 'Cynthia Lambert'), (53, 'Antoinette Sparks'), (54, 'Angela Lamar'), (55, 'Howard Robinson'), (56, 'Kevin Yee'), (57, 'Gordon Orosz'), (58, 'Michael Pennington'), (59, 'Kenneth Andrews'), (60, 'Marita Anderson'), (61, 'Jim Fuston'), (62, 'Christopher Greenbaum'), (63, 'Danny Snyder'), (64, 'Lula Gellert'), (65, 'Sanjuanita Holmes'), (66, 'Valerie Mills'), (67, 'Angelica Adams'), (68, 'Larry Arnold'), (69, 'Mary Roberts'), (70, 'Ricky Wright'), (71, 'Rachelle Cox'), (72, 'David Mills'), (73, 'Michele Covino'), (74, 'James Medina'), (75, 'Elizabeth Gearhart'), (76, 'Laureen Young'), (77, 'Thomas Young'), (78, 'Janis Kelly'), (79, 'Thomas Kim'), (80, 'Marianne Roberts'), (81, 'Danielle Kaczmarek'), (82, 'Melissa Collins'), (83, 'Henry Donnelly'), (84, 'Trinh Arrington'), (85, 'Maria Shults'), (86, 'Michael Quintal'), (87, 'Ashley Hall'), (88, 'Carlton Kight'), (89, 'John Hoffman'), (90, 'Teresa Alvarez'), (91, 'Jerry Briscoe'), (92, 'Carlos Fontaine'), (93, 'Margaret Wardlow'), (94, 'David Bussmann'), (95, 'Doris Rowe'), (96, 'Elizabeth Spears'), (97, 'James John'), (98, 'Steve Adams'), (99, 'Dennis Tillman')]\n"
     ]
    }
   ],
   "source": [
    "print(data)"
   ]
  },
  {
   "cell_type": "code",
   "execution_count": null,
   "metadata": {},
   "outputs": [],
   "source": []
  }
 ],
 "metadata": {
  "kernelspec": {
   "display_name": "Python 3",
   "language": "python",
   "name": "python3"
  },
  "language_info": {
   "codemirror_mode": {
    "name": "ipython",
    "version": 3
   },
   "file_extension": ".py",
   "mimetype": "text/x-python",
   "name": "python",
   "nbconvert_exporter": "python",
   "pygments_lexer": "ipython3",
   "version": "3.8.3"
  }
 },
 "nbformat": 4,
 "nbformat_minor": 4
}
