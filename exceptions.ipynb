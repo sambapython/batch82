{
 "cells": [
  {
   "cell_type": "code",
   "execution_count": 1,
   "metadata": {},
   "outputs": [
    {
     "name": "stdout",
     "output_type": "stream",
     "text": [
      "hello\n",
      "5.0\n",
      "hi\n"
     ]
    }
   ],
   "source": [
    "print(\"hello\")\n",
    "print(10/2)\n",
    "print(\"hi\")"
   ]
  },
  {
   "cell_type": "code",
   "execution_count": 2,
   "metadata": {},
   "outputs": [
    {
     "name": "stdout",
     "output_type": "stream",
     "text": [
      "hello\n"
     ]
    },
    {
     "ename": "ZeroDivisionError",
     "evalue": "division by zero",
     "output_type": "error",
     "traceback": [
      "\u001b[1;31m---------------------------------------------------------------------------\u001b[0m",
      "\u001b[1;31mZeroDivisionError\u001b[0m                         Traceback (most recent call last)",
      "\u001b[1;32m<ipython-input-2-d77b2e0541b2>\u001b[0m in \u001b[0;36m<module>\u001b[1;34m\u001b[0m\n\u001b[0;32m      1\u001b[0m \u001b[0mprint\u001b[0m\u001b[1;33m(\u001b[0m\u001b[1;34m\"hello\"\u001b[0m\u001b[1;33m)\u001b[0m\u001b[1;33m\u001b[0m\u001b[1;33m\u001b[0m\u001b[0m\n\u001b[1;32m----> 2\u001b[1;33m \u001b[0mprint\u001b[0m\u001b[1;33m(\u001b[0m\u001b[1;36m10\u001b[0m\u001b[1;33m/\u001b[0m\u001b[1;36m0\u001b[0m\u001b[1;33m)\u001b[0m\u001b[1;33m\u001b[0m\u001b[1;33m\u001b[0m\u001b[0m\n\u001b[0m\u001b[0;32m      3\u001b[0m \u001b[0mprint\u001b[0m\u001b[1;33m(\u001b[0m\u001b[1;34m\"hi\"\u001b[0m\u001b[1;33m)\u001b[0m\u001b[1;33m\u001b[0m\u001b[1;33m\u001b[0m\u001b[0m\n",
      "\u001b[1;31mZeroDivisionError\u001b[0m: division by zero"
     ]
    }
   ],
   "source": [
    "print(\"hello\")\n",
    "print(10/0)\n",
    "print(\"hi\")\n",
    "# it's failed in execution phase"
   ]
  },
  {
   "cell_type": "code",
   "execution_count": 3,
   "metadata": {},
   "outputs": [
    {
     "ename": "SyntaxError",
     "evalue": "EOL while scanning string literal (<ipython-input-3-62d658691f33>, line 3)",
     "output_type": "error",
     "traceback": [
      "\u001b[1;36m  File \u001b[1;32m\"<ipython-input-3-62d658691f33>\"\u001b[1;36m, line \u001b[1;32m3\u001b[0m\n\u001b[1;33m    print(\"hi)\u001b[0m\n\u001b[1;37m              ^\u001b[0m\n\u001b[1;31mSyntaxError\u001b[0m\u001b[1;31m:\u001b[0m EOL while scanning string literal\n"
     ]
    }
   ],
   "source": [
    "print(\"hello\")\n",
    "print(10/2)\n",
    "print(\"hi)\n",
    "# it's failed in compilation phase."
   ]
  },
  {
   "cell_type": "code",
   "execution_count": 6,
   "metadata": {},
   "outputs": [
    {
     "name": "stdout",
     "output_type": "stream",
     "text": [
      "hello\n",
      "Error\n",
      "continue with main\n"
     ]
    }
   ],
   "source": [
    "try:\n",
    "    print(\"hello\")\n",
    "    print(10/0)\n",
    "    print(\"hi\")\n",
    "except:\n",
    "    print(\"Error\")\n",
    "print(\"continue with main\")"
   ]
  },
  {
   "cell_type": "code",
   "execution_count": 5,
   "metadata": {},
   "outputs": [
    {
     "name": "stdout",
     "output_type": "stream",
     "text": [
      "hello\n"
     ]
    },
    {
     "ename": "ZeroDivisionError",
     "evalue": "division by zero",
     "output_type": "error",
     "traceback": [
      "\u001b[1;31m---------------------------------------------------------------------------\u001b[0m",
      "\u001b[1;31mZeroDivisionError\u001b[0m                         Traceback (most recent call last)",
      "\u001b[1;32m<ipython-input-5-d77b2e0541b2>\u001b[0m in \u001b[0;36m<module>\u001b[1;34m\u001b[0m\n\u001b[0;32m      1\u001b[0m \u001b[0mprint\u001b[0m\u001b[1;33m(\u001b[0m\u001b[1;34m\"hello\"\u001b[0m\u001b[1;33m)\u001b[0m\u001b[1;33m\u001b[0m\u001b[1;33m\u001b[0m\u001b[0m\n\u001b[1;32m----> 2\u001b[1;33m \u001b[0mprint\u001b[0m\u001b[1;33m(\u001b[0m\u001b[1;36m10\u001b[0m\u001b[1;33m/\u001b[0m\u001b[1;36m0\u001b[0m\u001b[1;33m)\u001b[0m\u001b[1;33m\u001b[0m\u001b[1;33m\u001b[0m\u001b[0m\n\u001b[0m\u001b[0;32m      3\u001b[0m \u001b[0mprint\u001b[0m\u001b[1;33m(\u001b[0m\u001b[1;34m\"hi\"\u001b[0m\u001b[1;33m)\u001b[0m\u001b[1;33m\u001b[0m\u001b[1;33m\u001b[0m\u001b[0m\n",
      "\u001b[1;31mZeroDivisionError\u001b[0m: division by zero"
     ]
    }
   ],
   "source": [
    "print(\"hello\")\n",
    "print(10/0)\n",
    "print(\"hi\")"
   ]
  },
  {
   "cell_type": "code",
   "execution_count": 7,
   "metadata": {},
   "outputs": [
    {
     "name": "stdout",
     "output_type": "stream",
     "text": [
      "enter a:10\n",
      "enter b:2\n",
      "before conversion: a=10,b=2\n",
      "after conversion: a=10,b=2\n",
      "result: 5.0\n",
      "End\n"
     ]
    }
   ],
   "source": [
    "a=input(\"enter a:\")\n",
    "b=input(\"enter b:\")\n",
    "print(f\"before conversion: a={a},b={b}\")\n",
    "a=int(a)\n",
    "b=int(b)\n",
    "print(f\"after conversion: a={a},b={b}\")\n",
    "res=a/b\n",
    "print(\"result:\",res)\n",
    "print(\"End\")"
   ]
  },
  {
   "cell_type": "code",
   "execution_count": 8,
   "metadata": {},
   "outputs": [
    {
     "name": "stdout",
     "output_type": "stream",
     "text": [
      "enter a:10\n",
      "enter b:0\n",
      "before conversion: a=10,b=0\n",
      "after conversion: a=10,b=0\n"
     ]
    },
    {
     "ename": "ZeroDivisionError",
     "evalue": "division by zero",
     "output_type": "error",
     "traceback": [
      "\u001b[1;31m---------------------------------------------------------------------------\u001b[0m",
      "\u001b[1;31mZeroDivisionError\u001b[0m                         Traceback (most recent call last)",
      "\u001b[1;32m<ipython-input-8-945ed9970301>\u001b[0m in \u001b[0;36m<module>\u001b[1;34m\u001b[0m\n\u001b[0;32m      5\u001b[0m \u001b[0mb\u001b[0m\u001b[1;33m=\u001b[0m\u001b[0mint\u001b[0m\u001b[1;33m(\u001b[0m\u001b[0mb\u001b[0m\u001b[1;33m)\u001b[0m\u001b[1;33m\u001b[0m\u001b[1;33m\u001b[0m\u001b[0m\n\u001b[0;32m      6\u001b[0m \u001b[0mprint\u001b[0m\u001b[1;33m(\u001b[0m\u001b[1;34mf\"after conversion: a={a},b={b}\"\u001b[0m\u001b[1;33m)\u001b[0m\u001b[1;33m\u001b[0m\u001b[1;33m\u001b[0m\u001b[0m\n\u001b[1;32m----> 7\u001b[1;33m \u001b[0mres\u001b[0m\u001b[1;33m=\u001b[0m\u001b[0ma\u001b[0m\u001b[1;33m/\u001b[0m\u001b[0mb\u001b[0m\u001b[1;33m\u001b[0m\u001b[1;33m\u001b[0m\u001b[0m\n\u001b[0m\u001b[0;32m      8\u001b[0m \u001b[0mprint\u001b[0m\u001b[1;33m(\u001b[0m\u001b[1;34m\"result:\"\u001b[0m\u001b[1;33m,\u001b[0m\u001b[0mres\u001b[0m\u001b[1;33m)\u001b[0m\u001b[1;33m\u001b[0m\u001b[1;33m\u001b[0m\u001b[0m\n\u001b[0;32m      9\u001b[0m \u001b[0mprint\u001b[0m\u001b[1;33m(\u001b[0m\u001b[1;34m\"End\"\u001b[0m\u001b[1;33m)\u001b[0m\u001b[1;33m\u001b[0m\u001b[1;33m\u001b[0m\u001b[0m\n",
      "\u001b[1;31mZeroDivisionError\u001b[0m: division by zero"
     ]
    }
   ],
   "source": [
    "a=input(\"enter a:\")\n",
    "b=input(\"enter b:\")\n",
    "print(f\"before conversion: a={a},b={b}\")\n",
    "a=int(a)\n",
    "b=int(b)\n",
    "print(f\"after conversion: a={a},b={b}\")\n",
    "res=a/b\n",
    "print(\"result:\",res)\n",
    "print(\"End\")"
   ]
  },
  {
   "cell_type": "code",
   "execution_count": 9,
   "metadata": {},
   "outputs": [
    {
     "name": "stdout",
     "output_type": "stream",
     "text": [
      "enter a:12.34\n",
      "enter b:3\n",
      "before conversion: a=12.34,b=3\n"
     ]
    },
    {
     "ename": "ValueError",
     "evalue": "invalid literal for int() with base 10: '12.34'",
     "output_type": "error",
     "traceback": [
      "\u001b[1;31m---------------------------------------------------------------------------\u001b[0m",
      "\u001b[1;31mValueError\u001b[0m                                Traceback (most recent call last)",
      "\u001b[1;32m<ipython-input-9-945ed9970301>\u001b[0m in \u001b[0;36m<module>\u001b[1;34m\u001b[0m\n\u001b[0;32m      2\u001b[0m \u001b[0mb\u001b[0m\u001b[1;33m=\u001b[0m\u001b[0minput\u001b[0m\u001b[1;33m(\u001b[0m\u001b[1;34m\"enter b:\"\u001b[0m\u001b[1;33m)\u001b[0m\u001b[1;33m\u001b[0m\u001b[1;33m\u001b[0m\u001b[0m\n\u001b[0;32m      3\u001b[0m \u001b[0mprint\u001b[0m\u001b[1;33m(\u001b[0m\u001b[1;34mf\"before conversion: a={a},b={b}\"\u001b[0m\u001b[1;33m)\u001b[0m\u001b[1;33m\u001b[0m\u001b[1;33m\u001b[0m\u001b[0m\n\u001b[1;32m----> 4\u001b[1;33m \u001b[0ma\u001b[0m\u001b[1;33m=\u001b[0m\u001b[0mint\u001b[0m\u001b[1;33m(\u001b[0m\u001b[0ma\u001b[0m\u001b[1;33m)\u001b[0m\u001b[1;33m\u001b[0m\u001b[1;33m\u001b[0m\u001b[0m\n\u001b[0m\u001b[0;32m      5\u001b[0m \u001b[0mb\u001b[0m\u001b[1;33m=\u001b[0m\u001b[0mint\u001b[0m\u001b[1;33m(\u001b[0m\u001b[0mb\u001b[0m\u001b[1;33m)\u001b[0m\u001b[1;33m\u001b[0m\u001b[1;33m\u001b[0m\u001b[0m\n\u001b[0;32m      6\u001b[0m \u001b[0mprint\u001b[0m\u001b[1;33m(\u001b[0m\u001b[1;34mf\"after conversion: a={a},b={b}\"\u001b[0m\u001b[1;33m)\u001b[0m\u001b[1;33m\u001b[0m\u001b[1;33m\u001b[0m\u001b[0m\n",
      "\u001b[1;31mValueError\u001b[0m: invalid literal for int() with base 10: '12.34'"
     ]
    }
   ],
   "source": [
    "a=input(\"enter a:\")\n",
    "b=input(\"enter b:\")\n",
    "print(f\"before conversion: a={a},b={b}\")\n",
    "a=int(a)\n",
    "b=int(b)\n",
    "print(f\"after conversion: a={a},b={b}\")\n",
    "res=a/b\n",
    "print(\"result:\",res)\n",
    "print(\"End\")"
   ]
  },
  {
   "cell_type": "code",
   "execution_count": 10,
   "metadata": {},
   "outputs": [
    {
     "name": "stdout",
     "output_type": "stream",
     "text": [
      "enter a:qwe\n",
      "enter b:2\n",
      "before conversion: a=qwe,b=2\n"
     ]
    },
    {
     "ename": "ValueError",
     "evalue": "invalid literal for int() with base 10: 'qwe'",
     "output_type": "error",
     "traceback": [
      "\u001b[1;31m---------------------------------------------------------------------------\u001b[0m",
      "\u001b[1;31mValueError\u001b[0m                                Traceback (most recent call last)",
      "\u001b[1;32m<ipython-input-10-945ed9970301>\u001b[0m in \u001b[0;36m<module>\u001b[1;34m\u001b[0m\n\u001b[0;32m      2\u001b[0m \u001b[0mb\u001b[0m\u001b[1;33m=\u001b[0m\u001b[0minput\u001b[0m\u001b[1;33m(\u001b[0m\u001b[1;34m\"enter b:\"\u001b[0m\u001b[1;33m)\u001b[0m\u001b[1;33m\u001b[0m\u001b[1;33m\u001b[0m\u001b[0m\n\u001b[0;32m      3\u001b[0m \u001b[0mprint\u001b[0m\u001b[1;33m(\u001b[0m\u001b[1;34mf\"before conversion: a={a},b={b}\"\u001b[0m\u001b[1;33m)\u001b[0m\u001b[1;33m\u001b[0m\u001b[1;33m\u001b[0m\u001b[0m\n\u001b[1;32m----> 4\u001b[1;33m \u001b[0ma\u001b[0m\u001b[1;33m=\u001b[0m\u001b[0mint\u001b[0m\u001b[1;33m(\u001b[0m\u001b[0ma\u001b[0m\u001b[1;33m)\u001b[0m\u001b[1;33m\u001b[0m\u001b[1;33m\u001b[0m\u001b[0m\n\u001b[0m\u001b[0;32m      5\u001b[0m \u001b[0mb\u001b[0m\u001b[1;33m=\u001b[0m\u001b[0mint\u001b[0m\u001b[1;33m(\u001b[0m\u001b[0mb\u001b[0m\u001b[1;33m)\u001b[0m\u001b[1;33m\u001b[0m\u001b[1;33m\u001b[0m\u001b[0m\n\u001b[0;32m      6\u001b[0m \u001b[0mprint\u001b[0m\u001b[1;33m(\u001b[0m\u001b[1;34mf\"after conversion: a={a},b={b}\"\u001b[0m\u001b[1;33m)\u001b[0m\u001b[1;33m\u001b[0m\u001b[1;33m\u001b[0m\u001b[0m\n",
      "\u001b[1;31mValueError\u001b[0m: invalid literal for int() with base 10: 'qwe'"
     ]
    }
   ],
   "source": [
    "a=input(\"enter a:\")\n",
    "b=input(\"enter b:\")\n",
    "print(f\"before conversion: a={a},b={b}\")\n",
    "a=int(a)\n",
    "b=int(b)\n",
    "print(f\"after conversion: a={a},b={b}\")\n",
    "res=a/b\n",
    "print(\"result:\",res)\n",
    "print(\"End\")"
   ]
  },
  {
   "cell_type": "code",
   "execution_count": 11,
   "metadata": {},
   "outputs": [
    {
     "name": "stdout",
     "output_type": "stream",
     "text": [
      "enter a:12\n",
      "enter b:3\n",
      "before conversion: a=12,b=3\n",
      "after conversion: a=12,b=3\n",
      "result: 4.0\n",
      "End\n"
     ]
    }
   ],
   "source": [
    "try:\n",
    "    a=input(\"enter a:\")\n",
    "    b=input(\"enter b:\")\n",
    "    print(f\"before conversion: a={a},b={b}\")\n",
    "    a=int(a)\n",
    "    b=int(b)\n",
    "    print(f\"after conversion: a={a},b={b}\")\n",
    "    res=a/b\n",
    "    print(\"result:\",res)\n",
    "    print(\"End\")\n",
    "except:\n",
    "    print(\"ERROR\")"
   ]
  },
  {
   "cell_type": "code",
   "execution_count": 12,
   "metadata": {},
   "outputs": [
    {
     "name": "stdout",
     "output_type": "stream",
     "text": [
      "enter a:10\n",
      "enter b:0\n",
      "before conversion: a=10,b=0\n",
      "after conversion: a=10,b=0\n",
      "ERROR\n"
     ]
    }
   ],
   "source": [
    "try:\n",
    "    a=input(\"enter a:\")\n",
    "    b=input(\"enter b:\")\n",
    "    print(f\"before conversion: a={a},b={b}\")\n",
    "    a=int(a)\n",
    "    b=int(b)\n",
    "    print(f\"after conversion: a={a},b={b}\")\n",
    "    res=a/b\n",
    "    print(\"result:\",res)\n",
    "    print(\"End\")\n",
    "except:\n",
    "    print(\"ERROR\")\n"
   ]
  },
  {
   "cell_type": "code",
   "execution_count": 13,
   "metadata": {},
   "outputs": [
    {
     "name": "stdout",
     "output_type": "stream",
     "text": [
      "enter a:1.2\n",
      "enter b:0.6\n",
      "before conversion: a=1.2,b=0.6\n",
      "after conversion: a=1.2,b=0.6\n",
      "result: 2.0\n",
      "End\n"
     ]
    }
   ],
   "source": [
    "try:\n",
    "    a=input(\"enter a:\")\n",
    "    b=input(\"enter b:\")\n",
    "    print(f\"before conversion: a={a},b={b}\")\n",
    "    a=float(a)\n",
    "    b=float(b)\n",
    "    print(f\"after conversion: a={a},b={b}\")\n",
    "    res=a/b\n",
    "    print(\"result:\",res)\n",
    "    print(\"End\")\n",
    "except:\n",
    "    print(\"ERROR\")\n"
   ]
  },
  {
   "cell_type": "code",
   "execution_count": 14,
   "metadata": {},
   "outputs": [
    {
     "name": "stdout",
     "output_type": "stream",
     "text": [
      "enter a:12\n",
      "enter b:wer\n",
      "before conversion: a=12,b=wer\n",
      "ERROR\n"
     ]
    }
   ],
   "source": [
    "try:\n",
    "    a=input(\"enter a:\")\n",
    "    b=input(\"enter b:\")\n",
    "    print(f\"before conversion: a={a},b={b}\")\n",
    "    a=float(a)\n",
    "    b=float(b)\n",
    "    print(f\"after conversion: a={a},b={b}\")\n",
    "    res=a/b\n",
    "    print(\"result:\",res)\n",
    "    print(\"End\")\n",
    "except:\n",
    "    print(\"ERROR\")\n"
   ]
  },
  {
   "cell_type": "code",
   "execution_count": 15,
   "metadata": {},
   "outputs": [
    {
     "name": "stdout",
     "output_type": "stream",
     "text": [
      "enter a:12\n",
      "enter b:6\n",
      "before conversion: a=12,b=6\n",
      "after conversion: a=12.0,b=6.0\n",
      "result: 2.0\n",
      "End\n"
     ]
    }
   ],
   "source": [
    "a=input(\"enter a:\")\n",
    "b=input(\"enter b:\")\n",
    "print(f\"before conversion: a={a},b={b}\")\n",
    "try:\n",
    "    a=float(a)\n",
    "    b=float(b)\n",
    "    print(f\"after conversion: a={a},b={b}\")\n",
    "    res=a/b\n",
    "    print(\"result:\",res)\n",
    "except:\n",
    "    print(\"ERROR\")\n",
    "print(\"End\")\n"
   ]
  },
  {
   "cell_type": "code",
   "execution_count": 16,
   "metadata": {},
   "outputs": [
    {
     "name": "stdout",
     "output_type": "stream",
     "text": [
      "enter a:12\n",
      "enter b:0\n",
      "before conversion: a=12,b=0\n",
      "after conversion: a=12.0,b=0.0\n",
      "ERROR\n",
      "End\n"
     ]
    }
   ],
   "source": [
    "a=input(\"enter a:\")\n",
    "b=input(\"enter b:\")\n",
    "print(f\"before conversion: a={a},b={b}\")\n",
    "try:\n",
    "    a=float(a)\n",
    "    b=float(b)\n",
    "    print(f\"after conversion: a={a},b={b}\")\n",
    "    res=a/b\n",
    "    print(\"result:\",res)\n",
    "except:\n",
    "    print(\"ERROR\")\n",
    "print(\"End\")\n"
   ]
  },
  {
   "cell_type": "code",
   "execution_count": 17,
   "metadata": {},
   "outputs": [
    {
     "name": "stdout",
     "output_type": "stream",
     "text": [
      "enter a:12\n",
      "enter b:rty\n",
      "before conversion: a=12,b=rty\n",
      "ERROR\n",
      "End\n"
     ]
    }
   ],
   "source": [
    "a=input(\"enter a:\")\n",
    "b=input(\"enter b:\")\n",
    "print(f\"before conversion: a={a},b={b}\")\n",
    "try:\n",
    "    a=float(a)\n",
    "    b=float(b)\n",
    "    print(f\"after conversion: a={a},b={b}\")\n",
    "    res=a/b\n",
    "    print(\"result:\",res)\n",
    "except:\n",
    "    print(\"ERROR\")\n",
    "print(\"End\")\n"
   ]
  },
  {
   "cell_type": "code",
   "execution_count": 18,
   "metadata": {},
   "outputs": [
    {
     "name": "stdout",
     "output_type": "stream",
     "text": [
      "enter a:12\n",
      "enter b:6\n",
      "before conversion: a=12,b=6\n",
      "after conversion: a=12.0,b=6.0\n",
      "result: 2.0\n",
      "End\n"
     ]
    }
   ],
   "source": [
    "a=input(\"enter a:\")\n",
    "b=input(\"enter b:\")\n",
    "print(f\"before conversion: a={a},b={b}\")\n",
    "try:\n",
    "    a=float(a)\n",
    "    b=float(b)\n",
    "    print(f\"after conversion: a={a},b={b}\")\n",
    "    res=a/b\n",
    "    print(\"result:\",res)\n",
    "except Exception as err:\n",
    "    print(\"ERROR: %s\"%err)\n",
    "print(\"End\")\n"
   ]
  },
  {
   "cell_type": "code",
   "execution_count": 19,
   "metadata": {},
   "outputs": [
    {
     "name": "stdout",
     "output_type": "stream",
     "text": [
      "enter a:12\n",
      "enter b:0\n",
      "before conversion: a=12,b=0\n",
      "after conversion: a=12.0,b=0.0\n",
      "ERROR: float division by zero\n",
      "End\n"
     ]
    }
   ],
   "source": [
    "a=input(\"enter a:\")\n",
    "b=input(\"enter b:\")\n",
    "print(f\"before conversion: a={a},b={b}\")\n",
    "try:\n",
    "    a=float(a)\n",
    "    b=float(b)\n",
    "    print(f\"after conversion: a={a},b={b}\")\n",
    "    res=a/b\n",
    "    print(\"result:\",res)\n",
    "except Exception as err:\n",
    "    print(\"ERROR: %s\"%err)\n",
    "print(\"End\")\n"
   ]
  },
  {
   "cell_type": "code",
   "execution_count": 20,
   "metadata": {},
   "outputs": [
    {
     "name": "stdout",
     "output_type": "stream",
     "text": [
      "enter a:23\n",
      "enter b:er\n",
      "before conversion: a=23,b=er\n",
      "ERROR: could not convert string to float: 'er'\n",
      "End\n"
     ]
    }
   ],
   "source": [
    "a=input(\"enter a:\")\n",
    "b=input(\"enter b:\")\n",
    "print(f\"before conversion: a={a},b={b}\")\n",
    "try:\n",
    "    a=float(a)\n",
    "    b=float(b)\n",
    "    print(f\"after conversion: a={a},b={b}\")\n",
    "    res=a/b\n",
    "    print(\"result:\",res)\n",
    "except Exception as err:\n",
    "    print(\"ERROR: %s\"%err)\n",
    "print(\"End\")\n"
   ]
  },
  {
   "cell_type": "code",
   "execution_count": 21,
   "metadata": {},
   "outputs": [
    {
     "name": "stdout",
     "output_type": "stream",
     "text": [
      "enter a:12\n",
      "enter b:0\n",
      "before conversion: a=12,b=0\n",
      "after conversion: a=12.0,b=0.0\n",
      "ERROR: float division by zero\n",
      "not expected zero value to b\n",
      "End\n"
     ]
    }
   ],
   "source": [
    "a=input(\"enter a:\")\n",
    "b=input(\"enter b:\")\n",
    "print(f\"before conversion: a={a},b={b}\")\n",
    "try:\n",
    "    a=float(a)\n",
    "    b=float(b)\n",
    "    print(f\"after conversion: a={a},b={b}\")\n",
    "    res=a/b\n",
    "    print(\"result:\",res)\n",
    "except ZeroDivisionError as err:\n",
    "    print(\"ERROR:\",err)\n",
    "    print(\"not expected zero value to b\")\n",
    "except Exception as err:\n",
    "    print(\"ERROR: %s\"%err)\n",
    "print(\"End\")\n"
   ]
  },
  {
   "cell_type": "code",
   "execution_count": 22,
   "metadata": {},
   "outputs": [
    {
     "name": "stdout",
     "output_type": "stream",
     "text": [
      "enter a:sd\n",
      "enter b:2\n",
      "before conversion: a=sd,b=2\n",
      "ERROR: could not convert string to float: 'sd'\n",
      "End\n"
     ]
    }
   ],
   "source": [
    "a=input(\"enter a:\")\n",
    "b=input(\"enter b:\")\n",
    "print(f\"before conversion: a={a},b={b}\")\n",
    "try:\n",
    "    a=float(a)\n",
    "    b=float(b)\n",
    "    print(f\"after conversion: a={a},b={b}\")\n",
    "    res=a/b\n",
    "    print(\"result:\",res)\n",
    "except ZeroDivisionError as err:\n",
    "    print(\"ERROR:\",err)\n",
    "    print(\"not expected zero value to b\")\n",
    "except Exception as err:\n",
    "    print(\"ERROR: %s\"%err)\n",
    "print(\"End\")\n"
   ]
  },
  {
   "cell_type": "code",
   "execution_count": 23,
   "metadata": {},
   "outputs": [
    {
     "name": "stdout",
     "output_type": "stream",
     "text": [
      "enter a:12\n",
      "enter b:6\n",
      "before conversion: a=12,b=6\n",
      "after conversion: a=12.0,b=6.0\n",
      "result: 2.0\n",
      "End\n"
     ]
    }
   ],
   "source": [
    "a=input(\"enter a:\")\n",
    "b=input(\"enter b:\")\n",
    "print(f\"before conversion: a={a},b={b}\")\n",
    "try:\n",
    "    a=float(a)\n",
    "    b=float(b)\n",
    "    print(f\"after conversion: a={a},b={b}\")\n",
    "    res=a/b\n",
    "    print(\"result:\",res)\n",
    "except ZeroDivisionError as err:\n",
    "    print(\"ERROR:\",err)\n",
    "    print(\"not expected zero value to b\")\n",
    "except ValueError as err:\n",
    "    print(\"Error:\",err)\n",
    "    print(\"Enter 0-9 values, not expected alphabets\")\n",
    "except Exception as err:\n",
    "    print(\"ERROR: %s\"%err)\n",
    "print(\"End\")\n"
   ]
  },
  {
   "cell_type": "code",
   "execution_count": 24,
   "metadata": {},
   "outputs": [
    {
     "name": "stdout",
     "output_type": "stream",
     "text": [
      "enter a:112\n",
      "enter b:0\n",
      "before conversion: a=112,b=0\n",
      "after conversion: a=112.0,b=0.0\n",
      "ERROR: float division by zero\n",
      "not expected zero value to b\n",
      "End\n"
     ]
    }
   ],
   "source": [
    "a=input(\"enter a:\")\n",
    "b=input(\"enter b:\")\n",
    "print(f\"before conversion: a={a},b={b}\")\n",
    "try:\n",
    "    a=float(a)\n",
    "    b=float(b)\n",
    "    print(f\"after conversion: a={a},b={b}\")\n",
    "    res=a/b\n",
    "    print(\"result:\",res)\n",
    "except ZeroDivisionError as err:\n",
    "    print(\"ERROR:\",err)\n",
    "    print(\"not expected zero value to b\")\n",
    "except ValueError as err:\n",
    "    print(\"Error:\",err)\n",
    "    print(\"Enter 0-9 values, not expected alphabets\")\n",
    "except Exception as err:\n",
    "    print(\"ERROR: %s\"%err)\n",
    "print(\"End\")\n"
   ]
  },
  {
   "cell_type": "code",
   "execution_count": 25,
   "metadata": {},
   "outputs": [
    {
     "name": "stdout",
     "output_type": "stream",
     "text": [
      "enter a:we\n",
      "enter b:23\n",
      "before conversion: a=we,b=23\n",
      "Error: could not convert string to float: 'we'\n",
      "Enter 0-9 values, not expected alphabets\n",
      "End\n"
     ]
    }
   ],
   "source": [
    "a=input(\"enter a:\")\n",
    "b=input(\"enter b:\")\n",
    "print(f\"before conversion: a={a},b={b}\")\n",
    "try:\n",
    "    a=float(a)\n",
    "    b=float(b)\n",
    "    print(f\"after conversion: a={a},b={b}\")\n",
    "    res=a/b\n",
    "    print(\"result:\",res)\n",
    "except ZeroDivisionError as err:\n",
    "    print(\"ERROR:\",err)\n",
    "    print(\"not expected zero value to b\")\n",
    "except ValueError as err:\n",
    "    print(\"Error:\",err)\n",
    "    print(\"Enter 0-9 values, not expected alphabets\")\n",
    "except Exception as err:\n",
    "    print(\"ERROR: %s\"%err)\n",
    "print(\"End\")\n"
   ]
  },
  {
   "cell_type": "code",
   "execution_count": null,
   "metadata": {},
   "outputs": [],
   "source": [
    "a=input(\"enter a:\")\n",
    "b=input(\"enter b:\")\n",
    "print(f\"before conversion: a={a},b={b}\")\n",
    "try:\n",
    "    a=float(a)\n",
    "    b=float(b)\n",
    "    print(f\"after conversion: a={a},b={b}\")\n",
    "    res=a/b\n",
    "    print(\"result:\",res)\n",
    "except ZeroDivisionError as err:\n",
    "    print(\"ERROR:\",err)\n",
    "    print(\"not expected zero value to b\")\n",
    "except ValueError as err:\n",
    "    print(\"Error:\",err)\n",
    "    print(\"Enter 0-9 values, not expected alphabets\")\n",
    "except Exception as err:\n",
    "    print(\"ERROR: %s\"%err)\n",
    "print(\"End\")\n"
   ]
  },
  {
   "cell_type": "code",
   "execution_count": 2,
   "metadata": {},
   "outputs": [
    {
     "name": "stdout",
     "output_type": "stream",
     "text": [
      "started\n",
      "try\n",
      "else\n",
      "finally\n",
      "END\n"
     ]
    }
   ],
   "source": [
    "print(\"started\")\n",
    "try:\n",
    "    print(\"try\")\n",
    "except:\n",
    "    print(\"except\")\n",
    "else:\n",
    "    print(\"else\")\n",
    "finally:\n",
    "    print(\"finally\")\n",
    "print(\"END\")"
   ]
  },
  {
   "cell_type": "code",
   "execution_count": 3,
   "metadata": {},
   "outputs": [
    {
     "name": "stdout",
     "output_type": "stream",
     "text": [
      "started\n",
      "try\n",
      "except\n",
      "finally\n",
      "END\n"
     ]
    }
   ],
   "source": [
    "print(\"started\")\n",
    "try:\n",
    "    print(\"try\")\n",
    "    print(1/0)\n",
    "except:\n",
    "    print(\"except\")\n",
    "else:\n",
    "    print(\"else\")\n",
    "finally:\n",
    "    print(\"finally\")\n",
    "print(\"END\")"
   ]
  },
  {
   "cell_type": "code",
   "execution_count": 4,
   "metadata": {},
   "outputs": [
    {
     "name": "stdout",
     "output_type": "stream",
     "text": [
      "started\n",
      "try\n",
      "else\n",
      "finally\n",
      "END\n"
     ]
    }
   ],
   "source": [
    "print(\"started\")\n",
    "try:\n",
    "    print(\"try\")\n",
    "except:\n",
    "    print(\"except\")\n",
    "else:\n",
    "    print(\"else\")\n",
    "print(\"finally\")\n",
    "print(\"END\")"
   ]
  },
  {
   "cell_type": "code",
   "execution_count": 5,
   "metadata": {},
   "outputs": [
    {
     "name": "stdout",
     "output_type": "stream",
     "text": [
      "started\n",
      "try\n",
      "except\n",
      "finally\n",
      "END\n"
     ]
    }
   ],
   "source": [
    "print(\"started\")\n",
    "try:\n",
    "    print(\"try\")\n",
    "    print(1/0)\n",
    "except:\n",
    "    print(\"except\")\n",
    "else:\n",
    "    print(\"else\")\n",
    "print(\"finally\")\n",
    "print(\"END\")"
   ]
  },
  {
   "cell_type": "code",
   "execution_count": 7,
   "metadata": {},
   "outputs": [
    {
     "ename": "SyntaxError",
     "evalue": "invalid syntax (<ipython-input-7-f2444df59649>, line 5)",
     "output_type": "error",
     "traceback": [
      "\u001b[1;36m  File \u001b[1;32m\"<ipython-input-7-f2444df59649>\"\u001b[1;36m, line \u001b[1;32m5\u001b[0m\n\u001b[1;33m    print(\"finally\")\u001b[0m\n\u001b[1;37m    ^\u001b[0m\n\u001b[1;31mSyntaxError\u001b[0m\u001b[1;31m:\u001b[0m invalid syntax\n"
     ]
    }
   ],
   "source": [
    "print(\"started\")\n",
    "try:\n",
    "    print(\"try\")\n",
    "    print(1/0)\n",
    "print(\"finally\")\n",
    "print(\"END\")"
   ]
  },
  {
   "cell_type": "code",
   "execution_count": 8,
   "metadata": {},
   "outputs": [
    {
     "name": "stdout",
     "output_type": "stream",
     "text": [
      "started\n",
      "try\n",
      "finally\n"
     ]
    },
    {
     "ename": "ZeroDivisionError",
     "evalue": "division by zero",
     "output_type": "error",
     "traceback": [
      "\u001b[1;31m---------------------------------------------------------------------------\u001b[0m",
      "\u001b[1;31mZeroDivisionError\u001b[0m                         Traceback (most recent call last)",
      "\u001b[1;32m<ipython-input-8-857b48fce75b>\u001b[0m in \u001b[0;36m<module>\u001b[1;34m\u001b[0m\n\u001b[0;32m      2\u001b[0m \u001b[1;32mtry\u001b[0m\u001b[1;33m:\u001b[0m\u001b[1;33m\u001b[0m\u001b[1;33m\u001b[0m\u001b[0m\n\u001b[0;32m      3\u001b[0m     \u001b[0mprint\u001b[0m\u001b[1;33m(\u001b[0m\u001b[1;34m\"try\"\u001b[0m\u001b[1;33m)\u001b[0m\u001b[1;33m\u001b[0m\u001b[1;33m\u001b[0m\u001b[0m\n\u001b[1;32m----> 4\u001b[1;33m     \u001b[0mprint\u001b[0m\u001b[1;33m(\u001b[0m\u001b[1;36m1\u001b[0m\u001b[1;33m/\u001b[0m\u001b[1;36m0\u001b[0m\u001b[1;33m)\u001b[0m\u001b[1;33m\u001b[0m\u001b[1;33m\u001b[0m\u001b[0m\n\u001b[0m\u001b[0;32m      5\u001b[0m \u001b[1;32mfinally\u001b[0m\u001b[1;33m:\u001b[0m\u001b[1;33m\u001b[0m\u001b[1;33m\u001b[0m\u001b[0m\n\u001b[0;32m      6\u001b[0m     \u001b[0mprint\u001b[0m\u001b[1;33m(\u001b[0m\u001b[1;34m\"finally\"\u001b[0m\u001b[1;33m)\u001b[0m\u001b[1;33m\u001b[0m\u001b[1;33m\u001b[0m\u001b[0m\n",
      "\u001b[1;31mZeroDivisionError\u001b[0m: division by zero"
     ]
    }
   ],
   "source": [
    "print(\"started\")\n",
    "try:\n",
    "    print(\"try\")\n",
    "    print(1/0)\n",
    "finally:\n",
    "    print(\"finally\")\n",
    "print(\"END\")"
   ]
  },
  {
   "cell_type": "code",
   "execution_count": 9,
   "metadata": {},
   "outputs": [
    {
     "name": "stdout",
     "output_type": "stream",
     "text": [
      "try\n",
      "finally..\n",
      "result= 30\n"
     ]
    }
   ],
   "source": [
    "def fun():\n",
    "    try:\n",
    "        print(\"try\")\n",
    "        return 10\n",
    "    except:\n",
    "        return 20\n",
    "    finally:\n",
    "        print(\"finally..\")\n",
    "        return 30\n",
    "    print(\"func main\")\n",
    "    return 40\n",
    "res=fun()\n",
    "print(\"result=\",res)"
   ]
  },
  {
   "cell_type": "code",
   "execution_count": 10,
   "metadata": {},
   "outputs": [
    {
     "name": "stdout",
     "output_type": "stream",
     "text": [
      "try\n",
      "finally..\n",
      "result= 30\n"
     ]
    }
   ],
   "source": [
    "def fun():\n",
    "    try:\n",
    "        print(\"try\")\n",
    "        print(1/0)\n",
    "        return 10\n",
    "    except:\n",
    "        return 20\n",
    "    finally:\n",
    "        print(\"finally..\")\n",
    "        return 30\n",
    "    print(\"func main\")\n",
    "    return 40\n",
    "res=fun()\n",
    "print(\"result=\",res)"
   ]
  },
  {
   "cell_type": "code",
   "execution_count": 11,
   "metadata": {},
   "outputs": [
    {
     "name": "stdout",
     "output_type": "stream",
     "text": [
      "try\n",
      "finally..\n",
      "func main\n",
      "result= 20\n"
     ]
    }
   ],
   "source": [
    "def fun():\n",
    "    try:\n",
    "        print(\"try\")\n",
    "        print(1/0)\n",
    "        res = 10\n",
    "    except:\n",
    "        res = 20\n",
    "    finally:\n",
    "        print(\"finally..\")\n",
    "    print(\"func main\")\n",
    "    return res\n",
    "res=fun()\n",
    "print(\"result=\",res)"
   ]
  },
  {
   "cell_type": "code",
   "execution_count": null,
   "metadata": {},
   "outputs": [],
   "source": []
  }
 ],
 "metadata": {
  "kernelspec": {
   "display_name": "Python 3",
   "language": "python",
   "name": "python3"
  },
  "language_info": {
   "codemirror_mode": {
    "name": "ipython",
    "version": 3
   },
   "file_extension": ".py",
   "mimetype": "text/x-python",
   "name": "python",
   "nbconvert_exporter": "python",
   "pygments_lexer": "ipython3",
   "version": "3.8.3"
  }
 },
 "nbformat": 4,
 "nbformat_minor": 4
}
