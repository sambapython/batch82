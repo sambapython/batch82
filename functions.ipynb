{
 "cells": [
  {
   "cell_type": "code",
   "execution_count": 2,
   "metadata": {},
   "outputs": [
    {
     "name": "stdout",
     "output_type": "stream",
     "text": [
      "started\n",
      "result= 30\n",
      "hyd\n",
      "a=100, b=200\n",
      "result= 300\n",
      "banglore\n",
      "chennai\n",
      "a=1000, b=2000\n",
      "result= 3000\n",
      "delhi\n",
      "a=10000, b=2000\n",
      "result= 12000\n",
      "ended\n"
     ]
    }
   ],
   "source": [
    "print(\"started\")\n",
    "a=10\n",
    "b=20\n",
    "res=a+b\n",
    "print(\"result=\",res)\n",
    "print(\"hyd\")\n",
    "a=100\n",
    "b=200\n",
    "print(f\"a={a}, b={b}\")\n",
    "res=a+b\n",
    "print(\"result=\",res)\n",
    "print(\"banglore\")\n",
    "print(\"chennai\")\n",
    "a=1000\n",
    "b=2000\n",
    "print(f\"a={a}, b={b}\")\n",
    "res=a+b\n",
    "print(\"result=\",res)\n",
    "print(\"delhi\")\n",
    "a=10000\n",
    "b=2000\n",
    "print(f\"a={a}, b={b}\")\n",
    "res=a+b\n",
    "print(\"result=\",res)\n",
    "print(\"ended\")"
   ]
  },
  {
   "cell_type": "code",
   "execution_count": 3,
   "metadata": {},
   "outputs": [
    {
     "name": "stdout",
     "output_type": "stream",
     "text": [
      "started\n",
      "a=10, b=20\n",
      "result= 30\n",
      "hyd\n",
      "a=100, b=200\n",
      "result= 300\n",
      "banglore\n",
      "chennai\n",
      "a=1000, b=2000\n",
      "result= 3000\n",
      "delhi\n",
      "a=10000, b=20000\n",
      "result= 30000\n",
      "ended\n"
     ]
    }
   ],
   "source": [
    "def add(a,b):\n",
    "    print(f\"a={a}, b={b}\")\n",
    "    res=a+b\n",
    "    print(\"result=\",res)\n",
    "print(\"started\")\n",
    "add(10,20)\n",
    "print(\"hyd\")\n",
    "add(100,200)\n",
    "print(\"banglore\")\n",
    "print(\"chennai\")\n",
    "add(1000,2000)\n",
    "print(\"delhi\")\n",
    "add(10000,20000)\n",
    "print(\"ended\")"
   ]
  },
  {
   "cell_type": "code",
   "execution_count": null,
   "metadata": {},
   "outputs": [],
   "source": [
    "print(\"started\")\n",
    "#function definition\n",
    "def add():# signature\n",
    "    #function body\n",
    "    print(\"this is function\")\n",
    "    #print(\"which will helps to add two numbers..\")\n",
    "print(\"ended\")"
   ]
  },
  {
   "cell_type": "code",
   "execution_count": 4,
   "metadata": {},
   "outputs": [
    {
     "name": "stdout",
     "output_type": "stream",
     "text": [
      "started\n",
      "ended\n"
     ]
    }
   ],
   "source": [
    "print(\"started\")\n",
    "#define\n",
    "def add():\n",
    "    print(\"this is function\")\n",
    "print(\"ended\")"
   ]
  },
  {
   "cell_type": "code",
   "execution_count": 5,
   "metadata": {},
   "outputs": [
    {
     "name": "stdout",
     "output_type": "stream",
     "text": [
      "started\n",
      "ended\n",
      "this is function\n"
     ]
    }
   ],
   "source": [
    "print(\"started\")\n",
    "#definition...\n",
    "def add():\n",
    "    print(\"this is function\")\n",
    "print(\"ended\")\n",
    "# function call..\n",
    "add()"
   ]
  },
  {
   "cell_type": "code",
   "execution_count": 6,
   "metadata": {},
   "outputs": [
    {
     "name": "stdout",
     "output_type": "stream",
     "text": [
      "started\n",
      "ended\n",
      "this is function\n"
     ]
    }
   ],
   "source": [
    "print(\"started\")\n",
    "#definition...\n",
    "def abc():\n",
    "    print(\"this is function\")\n",
    "print(\"ended\")\n",
    "# function call..\n",
    "abc()"
   ]
  },
  {
   "cell_type": "code",
   "execution_count": 7,
   "metadata": {},
   "outputs": [
    {
     "name": "stdout",
     "output_type": "stream",
     "text": [
      "started\n",
      "ended\n",
      "this is function\n",
      "hello\n",
      "this is function\n",
      "this is function\n",
      "HI\n"
     ]
    }
   ],
   "source": [
    "print(\"started\")\n",
    "def add():\n",
    "    print(\"this is function\")\n",
    "print(\"ended\")\n",
    "add()\n",
    "print(\"hello\")\n",
    "add()\n",
    "add()\n",
    "print(\"HI\")"
   ]
  },
  {
   "cell_type": "code",
   "execution_count": 8,
   "metadata": {},
   "outputs": [
    {
     "name": "stdout",
     "output_type": "stream",
     "text": [
      "x=10,y=20\n",
      "res= 30\n"
     ]
    }
   ],
   "source": [
    "def add(x,y):#x,y are parameters\n",
    "    print(f\"x={x},y={y}\")\n",
    "    res=x+y\n",
    "    print(\"res=\",res)\n",
    "add(10,20)# it will pass 10 to x, 20 to y. 10, 20 are arguments."
   ]
  },
  {
   "cell_type": "code",
   "execution_count": 9,
   "metadata": {},
   "outputs": [
    {
     "name": "stdout",
     "output_type": "stream",
     "text": [
      "x=10,y=20\n",
      "res= 30\n",
      "x=100,y=200\n",
      "res= 300\n"
     ]
    }
   ],
   "source": [
    "def add(x,y):#x,y are parameters\n",
    "    print(f\"x={x},y={y}\")\n",
    "    res=x+y\n",
    "    print(\"res=\",res)\n",
    "add(10,20)# it will pass 10 to x, 20 to y. 10, 20 are arguments.\n",
    "add(100,200)"
   ]
  },
  {
   "cell_type": "code",
   "execution_count": null,
   "metadata": {},
   "outputs": [],
   "source": [
    "# add, sub, mul, div\n",
    "# four functions, each function has to take two areguments"
   ]
  },
  {
   "cell_type": "code",
   "execution_count": 10,
   "metadata": {},
   "outputs": [
    {
     "name": "stdout",
     "output_type": "stream",
     "text": [
      "x=10,y=20\n",
      "res= -10\n",
      "x=100,y=200\n",
      "res= -100\n"
     ]
    }
   ],
   "source": [
    "def add(x,y):#x,y are parameters\n",
    "    print(f\"x={x},y={y}\")\n",
    "    res=x-y\n",
    "    print(\"res=\",res)\n",
    "add(10,20)# it will pass 10 to x, 20 to y. 10, 20 are arguments.\n",
    "add(100,200)"
   ]
  },
  {
   "cell_type": "code",
   "execution_count": 11,
   "metadata": {},
   "outputs": [
    {
     "name": "stdout",
     "output_type": "stream",
     "text": [
      "x=10,y=20\n",
      "res= 30\n"
     ]
    },
    {
     "ename": "TypeError",
     "evalue": "add() missing 1 required positional argument: 'y'",
     "output_type": "error",
     "traceback": [
      "\u001b[1;31m---------------------------------------------------------------------------\u001b[0m",
      "\u001b[1;31mTypeError\u001b[0m                                 Traceback (most recent call last)",
      "\u001b[1;32m<ipython-input-11-bd1cde6ca029>\u001b[0m in \u001b[0;36m<module>\u001b[1;34m\u001b[0m\n\u001b[0;32m      4\u001b[0m     \u001b[0mprint\u001b[0m\u001b[1;33m(\u001b[0m\u001b[1;34m\"res=\"\u001b[0m\u001b[1;33m,\u001b[0m\u001b[0mres\u001b[0m\u001b[1;33m)\u001b[0m\u001b[1;33m\u001b[0m\u001b[1;33m\u001b[0m\u001b[0m\n\u001b[0;32m      5\u001b[0m \u001b[0madd\u001b[0m\u001b[1;33m(\u001b[0m\u001b[1;36m10\u001b[0m\u001b[1;33m,\u001b[0m\u001b[1;36m20\u001b[0m\u001b[1;33m)\u001b[0m\u001b[1;33m\u001b[0m\u001b[1;33m\u001b[0m\u001b[0m\n\u001b[1;32m----> 6\u001b[1;33m \u001b[0madd\u001b[0m\u001b[1;33m(\u001b[0m\u001b[1;36m10\u001b[0m\u001b[1;33m)\u001b[0m\u001b[1;33m\u001b[0m\u001b[1;33m\u001b[0m\u001b[0m\n\u001b[0m",
      "\u001b[1;31mTypeError\u001b[0m: add() missing 1 required positional argument: 'y'"
     ]
    }
   ],
   "source": [
    "def add(x,y):\n",
    "    print(f\"x={x},y={y}\")\n",
    "    res=x+y\n",
    "    print(\"res=\",res)\n",
    "add(10,20)\n",
    "add(10)"
   ]
  },
  {
   "cell_type": "code",
   "execution_count": 12,
   "metadata": {},
   "outputs": [
    {
     "name": "stdout",
     "output_type": "stream",
     "text": [
      "x=10,y=20\n",
      "res= 30\n",
      "x=str1,y=str2\n",
      "res= str1str2\n",
      "x=[1, 2],y=[2, 3]\n",
      "res= [1, 2, 2, 3]\n"
     ]
    }
   ],
   "source": [
    "def add(x,y):\n",
    "    print(f\"x={x},y={y}\")\n",
    "    res=x+y\n",
    "    print(\"res=\",res)\n",
    "add(10,20)\n",
    "add(\"str1\",\"str2\")\n",
    "add([1,2],[2,3])"
   ]
  },
  {
   "cell_type": "code",
   "execution_count": 13,
   "metadata": {},
   "outputs": [
    {
     "name": "stdout",
     "output_type": "stream",
     "text": [
      "x=10,y=20\n",
      "res= 30\n",
      "x=str1,y=str2\n",
      "res= str1str2\n",
      "x=[1, 2],y=[2, 3]\n",
      "res= [1, 2, 2, 3]\n",
      "x=10,y=python\n"
     ]
    },
    {
     "ename": "TypeError",
     "evalue": "unsupported operand type(s) for +: 'int' and 'str'",
     "output_type": "error",
     "traceback": [
      "\u001b[1;31m---------------------------------------------------------------------------\u001b[0m",
      "\u001b[1;31mTypeError\u001b[0m                                 Traceback (most recent call last)",
      "\u001b[1;32m<ipython-input-13-faf4bb9fecce>\u001b[0m in \u001b[0;36m<module>\u001b[1;34m\u001b[0m\n\u001b[0;32m      6\u001b[0m \u001b[0madd\u001b[0m\u001b[1;33m(\u001b[0m\u001b[1;34m\"str1\"\u001b[0m\u001b[1;33m,\u001b[0m\u001b[1;34m\"str2\"\u001b[0m\u001b[1;33m)\u001b[0m\u001b[1;33m\u001b[0m\u001b[1;33m\u001b[0m\u001b[0m\n\u001b[0;32m      7\u001b[0m \u001b[0madd\u001b[0m\u001b[1;33m(\u001b[0m\u001b[1;33m[\u001b[0m\u001b[1;36m1\u001b[0m\u001b[1;33m,\u001b[0m\u001b[1;36m2\u001b[0m\u001b[1;33m]\u001b[0m\u001b[1;33m,\u001b[0m\u001b[1;33m[\u001b[0m\u001b[1;36m2\u001b[0m\u001b[1;33m,\u001b[0m\u001b[1;36m3\u001b[0m\u001b[1;33m]\u001b[0m\u001b[1;33m)\u001b[0m\u001b[1;33m\u001b[0m\u001b[1;33m\u001b[0m\u001b[0m\n\u001b[1;32m----> 8\u001b[1;33m \u001b[0madd\u001b[0m\u001b[1;33m(\u001b[0m\u001b[1;36m10\u001b[0m\u001b[1;33m,\u001b[0m\u001b[1;34m\"python\"\u001b[0m\u001b[1;33m)\u001b[0m\u001b[1;33m\u001b[0m\u001b[1;33m\u001b[0m\u001b[0m\n\u001b[0m",
      "\u001b[1;32m<ipython-input-13-faf4bb9fecce>\u001b[0m in \u001b[0;36madd\u001b[1;34m(x, y)\u001b[0m\n\u001b[0;32m      1\u001b[0m \u001b[1;32mdef\u001b[0m \u001b[0madd\u001b[0m\u001b[1;33m(\u001b[0m\u001b[0mx\u001b[0m\u001b[1;33m,\u001b[0m\u001b[0my\u001b[0m\u001b[1;33m)\u001b[0m\u001b[1;33m:\u001b[0m\u001b[1;33m\u001b[0m\u001b[1;33m\u001b[0m\u001b[0m\n\u001b[0;32m      2\u001b[0m     \u001b[0mprint\u001b[0m\u001b[1;33m(\u001b[0m\u001b[1;34mf\"x={x},y={y}\"\u001b[0m\u001b[1;33m)\u001b[0m\u001b[1;33m\u001b[0m\u001b[1;33m\u001b[0m\u001b[0m\n\u001b[1;32m----> 3\u001b[1;33m     \u001b[0mres\u001b[0m\u001b[1;33m=\u001b[0m\u001b[0mx\u001b[0m\u001b[1;33m+\u001b[0m\u001b[0my\u001b[0m\u001b[1;33m\u001b[0m\u001b[1;33m\u001b[0m\u001b[0m\n\u001b[0m\u001b[0;32m      4\u001b[0m     \u001b[0mprint\u001b[0m\u001b[1;33m(\u001b[0m\u001b[1;34m\"res=\"\u001b[0m\u001b[1;33m,\u001b[0m\u001b[0mres\u001b[0m\u001b[1;33m)\u001b[0m\u001b[1;33m\u001b[0m\u001b[1;33m\u001b[0m\u001b[0m\n\u001b[0;32m      5\u001b[0m \u001b[0madd\u001b[0m\u001b[1;33m(\u001b[0m\u001b[1;36m10\u001b[0m\u001b[1;33m,\u001b[0m\u001b[1;36m20\u001b[0m\u001b[1;33m)\u001b[0m\u001b[1;33m\u001b[0m\u001b[1;33m\u001b[0m\u001b[0m\n",
      "\u001b[1;31mTypeError\u001b[0m: unsupported operand type(s) for +: 'int' and 'str'"
     ]
    }
   ],
   "source": [
    "def add(x,y):\n",
    "    print(f\"x={x},y={y}\")\n",
    "    res=x+y\n",
    "    print(\"res=\",res)\n",
    "add(10,20)\n",
    "add(\"str1\",\"str2\")\n",
    "add([1,2],[2,3])\n",
    "add(10,\"python\")\n"
   ]
  },
  {
   "cell_type": "code",
   "execution_count": 14,
   "metadata": {},
   "outputs": [
    {
     "name": "stdout",
     "output_type": "stream",
     "text": [
      "x=10,y=20\n",
      "res= 30\n",
      "x=str1,y=str2\n",
      "res= str1str2\n",
      "x=[1, 2],y=[2, 3]\n",
      "res= [1, 2, 2, 3]\n",
      "x={'name': 'jay'},y={'name': 'vedha'}\n"
     ]
    },
    {
     "ename": "TypeError",
     "evalue": "unsupported operand type(s) for +: 'dict' and 'dict'",
     "output_type": "error",
     "traceback": [
      "\u001b[1;31m---------------------------------------------------------------------------\u001b[0m",
      "\u001b[1;31mTypeError\u001b[0m                                 Traceback (most recent call last)",
      "\u001b[1;32m<ipython-input-14-c5e74f0b3556>\u001b[0m in \u001b[0;36m<module>\u001b[1;34m\u001b[0m\n\u001b[0;32m      6\u001b[0m \u001b[0madd\u001b[0m\u001b[1;33m(\u001b[0m\u001b[1;34m\"str1\"\u001b[0m\u001b[1;33m,\u001b[0m\u001b[1;34m\"str2\"\u001b[0m\u001b[1;33m)\u001b[0m\u001b[1;33m\u001b[0m\u001b[1;33m\u001b[0m\u001b[0m\n\u001b[0;32m      7\u001b[0m \u001b[0madd\u001b[0m\u001b[1;33m(\u001b[0m\u001b[1;33m[\u001b[0m\u001b[1;36m1\u001b[0m\u001b[1;33m,\u001b[0m\u001b[1;36m2\u001b[0m\u001b[1;33m]\u001b[0m\u001b[1;33m,\u001b[0m\u001b[1;33m[\u001b[0m\u001b[1;36m2\u001b[0m\u001b[1;33m,\u001b[0m\u001b[1;36m3\u001b[0m\u001b[1;33m]\u001b[0m\u001b[1;33m)\u001b[0m\u001b[1;33m\u001b[0m\u001b[1;33m\u001b[0m\u001b[0m\n\u001b[1;32m----> 8\u001b[1;33m \u001b[0madd\u001b[0m\u001b[1;33m(\u001b[0m\u001b[1;33m{\u001b[0m\u001b[1;34m\"name\"\u001b[0m\u001b[1;33m:\u001b[0m\u001b[1;34m\"jay\"\u001b[0m\u001b[1;33m}\u001b[0m\u001b[1;33m,\u001b[0m\u001b[1;33m{\u001b[0m\u001b[1;34m\"name\"\u001b[0m\u001b[1;33m:\u001b[0m\u001b[1;34m\"vedha\"\u001b[0m\u001b[1;33m}\u001b[0m\u001b[1;33m)\u001b[0m\u001b[1;33m\u001b[0m\u001b[1;33m\u001b[0m\u001b[0m\n\u001b[0m",
      "\u001b[1;32m<ipython-input-14-c5e74f0b3556>\u001b[0m in \u001b[0;36madd\u001b[1;34m(x, y)\u001b[0m\n\u001b[0;32m      1\u001b[0m \u001b[1;32mdef\u001b[0m \u001b[0madd\u001b[0m\u001b[1;33m(\u001b[0m\u001b[0mx\u001b[0m\u001b[1;33m,\u001b[0m\u001b[0my\u001b[0m\u001b[1;33m)\u001b[0m\u001b[1;33m:\u001b[0m\u001b[1;33m\u001b[0m\u001b[1;33m\u001b[0m\u001b[0m\n\u001b[0;32m      2\u001b[0m     \u001b[0mprint\u001b[0m\u001b[1;33m(\u001b[0m\u001b[1;34mf\"x={x},y={y}\"\u001b[0m\u001b[1;33m)\u001b[0m\u001b[1;33m\u001b[0m\u001b[1;33m\u001b[0m\u001b[0m\n\u001b[1;32m----> 3\u001b[1;33m     \u001b[0mres\u001b[0m\u001b[1;33m=\u001b[0m\u001b[0mx\u001b[0m\u001b[1;33m+\u001b[0m\u001b[0my\u001b[0m\u001b[1;33m\u001b[0m\u001b[1;33m\u001b[0m\u001b[0m\n\u001b[0m\u001b[0;32m      4\u001b[0m     \u001b[0mprint\u001b[0m\u001b[1;33m(\u001b[0m\u001b[1;34m\"res=\"\u001b[0m\u001b[1;33m,\u001b[0m\u001b[0mres\u001b[0m\u001b[1;33m)\u001b[0m\u001b[1;33m\u001b[0m\u001b[1;33m\u001b[0m\u001b[0m\n\u001b[0;32m      5\u001b[0m \u001b[0madd\u001b[0m\u001b[1;33m(\u001b[0m\u001b[1;36m10\u001b[0m\u001b[1;33m,\u001b[0m\u001b[1;36m20\u001b[0m\u001b[1;33m)\u001b[0m\u001b[1;33m\u001b[0m\u001b[1;33m\u001b[0m\u001b[0m\n",
      "\u001b[1;31mTypeError\u001b[0m: unsupported operand type(s) for +: 'dict' and 'dict'"
     ]
    }
   ],
   "source": [
    "def add(x,y):\n",
    "    print(f\"x={x},y={y}\")\n",
    "    res=x+y\n",
    "    print(\"res=\",res)\n",
    "add(10,20)\n",
    "add(\"str1\",\"str2\")\n",
    "add([1,2],[2,3])\n",
    "add({\"name\":\"jay\"},{\"name\":\"vedha\"})"
   ]
  },
  {
   "cell_type": "code",
   "execution_count": 16,
   "metadata": {},
   "outputs": [
    {
     "name": "stdout",
     "output_type": "stream",
     "text": [
      "a=10,b=20,c=30,d=40\n",
      "res= 150\n"
     ]
    }
   ],
   "source": [
    "def add(a,b,c,d,e):\n",
    "    print(f\"a={a},b={b},c={c},d={d}\")\n",
    "    res=a+b+c+d+e\n",
    "    print(\"res=\",res)\n",
    "add(10,20,30,40,50)"
   ]
  },
  {
   "cell_type": "code",
   "execution_count": 17,
   "metadata": {},
   "outputs": [
    {
     "name": "stdout",
     "output_type": "stream",
     "text": [
      "a=10,b=20,c=30,d=40\n",
      "res= 150\n"
     ]
    },
    {
     "ename": "TypeError",
     "evalue": "add() missing 3 required positional arguments: 'c', 'd', and 'e'",
     "output_type": "error",
     "traceback": [
      "\u001b[1;31m---------------------------------------------------------------------------\u001b[0m",
      "\u001b[1;31mTypeError\u001b[0m                                 Traceback (most recent call last)",
      "\u001b[1;32m<ipython-input-17-9f1a03e3c2c3>\u001b[0m in \u001b[0;36m<module>\u001b[1;34m\u001b[0m\n\u001b[0;32m      4\u001b[0m     \u001b[0mprint\u001b[0m\u001b[1;33m(\u001b[0m\u001b[1;34m\"res=\"\u001b[0m\u001b[1;33m,\u001b[0m\u001b[0mres\u001b[0m\u001b[1;33m)\u001b[0m\u001b[1;33m\u001b[0m\u001b[1;33m\u001b[0m\u001b[0m\n\u001b[0;32m      5\u001b[0m \u001b[0madd\u001b[0m\u001b[1;33m(\u001b[0m\u001b[1;36m10\u001b[0m\u001b[1;33m,\u001b[0m\u001b[1;36m20\u001b[0m\u001b[1;33m,\u001b[0m\u001b[1;36m30\u001b[0m\u001b[1;33m,\u001b[0m\u001b[1;36m40\u001b[0m\u001b[1;33m,\u001b[0m\u001b[1;36m50\u001b[0m\u001b[1;33m)\u001b[0m\u001b[1;33m\u001b[0m\u001b[1;33m\u001b[0m\u001b[0m\n\u001b[1;32m----> 6\u001b[1;33m \u001b[0madd\u001b[0m\u001b[1;33m(\u001b[0m\u001b[1;36m10\u001b[0m\u001b[1;33m,\u001b[0m\u001b[1;36m20\u001b[0m\u001b[1;33m)\u001b[0m\u001b[1;33m\u001b[0m\u001b[1;33m\u001b[0m\u001b[0m\n\u001b[0m",
      "\u001b[1;31mTypeError\u001b[0m: add() missing 3 required positional arguments: 'c', 'd', and 'e'"
     ]
    }
   ],
   "source": [
    "def add(a,b,c,d,e):\n",
    "    print(f\"a={a},b={b},c={c},d={d}\")\n",
    "    res=a+b+c+d+e\n",
    "    print(\"res=\",res)\n",
    "add(10,20,30,40,50)\n",
    "add(10,20)"
   ]
  },
  {
   "cell_type": "code",
   "execution_count": 18,
   "metadata": {},
   "outputs": [
    {
     "name": "stdout",
     "output_type": "stream",
     "text": [
      "a=10,b=20,c=30,d=40\n",
      "res= 150\n",
      "a=100,b=200,c=0,d=0\n",
      "res= 300\n"
     ]
    }
   ],
   "source": [
    "def add(a,b,c=0,d=0,e=0):# default argument values\n",
    "    #a,b are mandatory parameters..\n",
    "    #c,d,e are optional parameters..\n",
    "    print(f\"a={a},b={b},c={c},d={d}\")\n",
    "    res=a+b+c+d+e\n",
    "    print(\"res=\",res)\n",
    "add(10,20,30,40,50)\n",
    "add(100,200)"
   ]
  },
  {
   "cell_type": "code",
   "execution_count": 19,
   "metadata": {},
   "outputs": [
    {
     "name": "stdout",
     "output_type": "stream",
     "text": [
      "a=10,b=20,c=30,d=40\n",
      "res= 150\n",
      "a=100,b=200,c=300,d=0\n",
      "res= 600\n"
     ]
    }
   ],
   "source": [
    "def add(a,b,c=0,d=0,e=0):# default argument values\n",
    "    #a,b are mandatory parameters..\n",
    "    #c,d,e are optional parameters..\n",
    "    print(f\"a={a},b={b},c={c},d={d}\")\n",
    "    res=a+b+c+d+e\n",
    "    print(\"res=\",res)\n",
    "add(10,20,30,40,50)\n",
    "add(100,200,300)"
   ]
  },
  {
   "cell_type": "code",
   "execution_count": 20,
   "metadata": {},
   "outputs": [
    {
     "name": "stdout",
     "output_type": "stream",
     "text": [
      "a=10,b=20,c=30,d=40\n",
      "res= 150\n",
      "a=100,b=200,c=300,d=0\n",
      "res= 600\n",
      "a=1000,b=2000,c=3000,d=4000\n",
      "res= 10000\n"
     ]
    }
   ],
   "source": [
    "def add(a,b,c=0,d=0,e=0):# default argument values\n",
    "    #a,b are mandatory parameters..\n",
    "    #c,d,e are optional parameters..\n",
    "    print(f\"a={a},b={b},c={c},d={d}\")\n",
    "    res=a+b+c+d+e\n",
    "    print(\"res=\",res)\n",
    "add(10,20,30,40,50)\n",
    "add(100,200,300)\n",
    "add(1000,2000,3000,4000)"
   ]
  },
  {
   "cell_type": "code",
   "execution_count": 21,
   "metadata": {},
   "outputs": [
    {
     "name": "stdout",
     "output_type": "stream",
     "text": [
      "a=10,b=20,c=30,d=40\n",
      "res= 150\n",
      "a=100,b=200,c=300,d=0\n",
      "res= 600\n",
      "a=1000,b=2000,c=3000,d=4000\n",
      "res= 10000\n",
      "a=10000,b=20000,c=0,d=0\n",
      "res= 30000\n"
     ]
    }
   ],
   "source": [
    "def add(a,b,c=0,d=0,e=0):# default argument values\n",
    "    #a,b are mandatory parameters..\n",
    "    #c,d,e are optional parameters..\n",
    "    print(f\"a={a},b={b},c={c},d={d}\")\n",
    "    res=a+b+c+d+e\n",
    "    print(\"res=\",res)\n",
    "add(10,20,30,40,50)\n",
    "add(100,200,300)\n",
    "add(1000,2000,3000,4000)\n",
    "add(10000,20000)"
   ]
  },
  {
   "cell_type": "code",
   "execution_count": 22,
   "metadata": {},
   "outputs": [
    {
     "name": "stdout",
     "output_type": "stream",
     "text": [
      "the user details are:name=Jay, age=5, pan=pan@1234, adhar=\n",
      "the user details are:name=vedha, age=4, pan=None, adhar=\n",
      "the user details are:name=sai, age=33, pan=pan@123, adhar=adhar@234\n"
     ]
    }
   ],
   "source": [
    "def user_registration(name,age,pan=None,adhar=\"\"):\n",
    "    print(f\"the user details are:name={name}, age={age}, pan={pan}, adhar={adhar}\")\n",
    "\n",
    "user_registration(\"Jay\",5,\"pan@1234\")\n",
    "user_registration(\"vedha\",4)\n",
    "user_registration(\"sai\",33,\"pan@123\",\"adhar@234\")\n",
    "    "
   ]
  },
  {
   "cell_type": "code",
   "execution_count": 23,
   "metadata": {},
   "outputs": [
    {
     "name": "stdout",
     "output_type": "stream",
     "text": [
      "the user details are:name=Jay, age=5, pan=pan@1234, adhar=adhar_XXXXX\n",
      "the user details are:name=vedha, age=4, pan=pan_XXXXXX, adhar=adhar_XXXXX\n",
      "the user details are:name=sai, age=33, pan=pan@123, adhar=adhar@234\n"
     ]
    }
   ],
   "source": [
    "def user_registration(name,age,pan=\"pan_XXXXXX\",adhar=\"adhar_XXXXX\"):\n",
    "    print(f\"the user details are:name={name}, age={age}, pan={pan}, adhar={adhar}\")\n",
    "\n",
    "user_registration(\"Jay\",5,\"pan@1234\")\n",
    "user_registration(\"vedha\",4)\n",
    "user_registration(\"sai\",33,\"pan@123\",\"adhar@234\")\n",
    "    "
   ]
  },
  {
   "cell_type": "code",
   "execution_count": null,
   "metadata": {},
   "outputs": [],
   "source": [
    "def user_registration(name,age,pan=\"pan_XXXXXX\",adhar=\"adhar_XXXXX\"):\n",
    "    print(f\"the user details are:name={name}, age={age}, pan={pan}, adhar={adhar}\")\n",
    "\n",
    "user_registration(\"Jay\",5,\"pan@1234\")#positional arguments\n",
    "user_registration(\"vedha\",4)\n",
    "user_registration(\"sai\",33,\"pan@123\",\"adhar@234\")\n",
    "    "
   ]
  },
  {
   "cell_type": "code",
   "execution_count": 24,
   "metadata": {},
   "outputs": [
    {
     "name": "stdout",
     "output_type": "stream",
     "text": [
      "the user details are:name=Jay, age=5, pan=adhar_1234, adhar=adhar_XXXXX\n"
     ]
    }
   ],
   "source": [
    "def user_registration(name,age,pan=\"pan_XXXXXX\",adhar=\"adhar_XXXXX\"):\n",
    "    print(f\"the user details are:name={name}, age={age}, pan={pan}, adhar={adhar}\")\n",
    "\n",
    "user_registration(\"Jay\",5,\"adhar_1234\")"
   ]
  },
  {
   "cell_type": "code",
   "execution_count": 25,
   "metadata": {},
   "outputs": [
    {
     "name": "stdout",
     "output_type": "stream",
     "text": [
      "the user details are:name=Jay, age=5, pan=None, adhar=adhar_1234\n"
     ]
    }
   ],
   "source": [
    "def user_registration(name,age,pan=\"pan_XXXXXX\",adhar=\"adhar_XXXXX\"):\n",
    "    print(f\"the user details are:name={name}, age={age}, pan={pan}, adhar={adhar}\")\n",
    "\n",
    "user_registration(\"Jay\",5,None,\"adhar_1234\")"
   ]
  },
  {
   "cell_type": "code",
   "execution_count": 26,
   "metadata": {},
   "outputs": [
    {
     "name": "stdout",
     "output_type": "stream",
     "text": [
      "the user details are:name=Jay, age=5, pan=pan_XXXXXX, adhar=adhar_1234\n"
     ]
    }
   ],
   "source": [
    "def user_registration(name,age,pan=\"pan_XXXXXX\",adhar=\"adhar_XXXXX\"):\n",
    "    print(f\"the user details are:name={name}, age={age}, pan={pan}, adhar={adhar}\")\n",
    "\n",
    "user_registration(\"Jay\",5,adhar=\"adhar_1234\")#positional arguments, keyword argument...\n",
    "#\"Jay\",5 are positional arguments.\n",
    "#adhar=\"adhar_1234\": keyword argument"
   ]
  },
  {
   "cell_type": "code",
   "execution_count": 27,
   "metadata": {},
   "outputs": [
    {
     "name": "stdout",
     "output_type": "stream",
     "text": [
      "the user details are:name=Jay, age=5, pan=pan_XXXXXX, adhar=adhar_1234\n"
     ]
    }
   ],
   "source": [
    "def user_registration(name,age,pan=\"pan_XXXXXX\",adhar=\"adhar_XXXXX\"):\n",
    "    print(f\"the user details are:name={name}, age={age}, pan={pan}, adhar={adhar}\")\n",
    "\n",
    "user_registration(name=\"Jay\",age=5,adhar=\"adhar_1234\")"
   ]
  },
  {
   "cell_type": "code",
   "execution_count": 28,
   "metadata": {},
   "outputs": [
    {
     "name": "stdout",
     "output_type": "stream",
     "text": [
      "the user details are:name=Jay, age=5, pan=pan_XXXXXX, adhar=adhar_1234\n"
     ]
    }
   ],
   "source": [
    "def user_registration(name,age,pan=\"pan_XXXXXX\",adhar=\"adhar_XXXXX\"):\n",
    "    print(f\"the user details are:name={name}, age={age}, pan={pan}, adhar={adhar}\")\n",
    "\n",
    "user_registration(age=5,name=\"Jay\",adhar=\"adhar_1234\")"
   ]
  },
  {
   "cell_type": "code",
   "execution_count": 1,
   "metadata": {},
   "outputs": [
    {
     "name": "stdout",
     "output_type": "stream",
     "text": [
      "a=10,b=20,c=0,d=0\n",
      "res= 30\n"
     ]
    }
   ],
   "source": [
    "def add(a,b,c=0,d=0,e=0):\n",
    "    print(f\"a={a},b={b},c={c},d={d}\")\n",
    "    res=a+b+c+d+e\n",
    "    print(\"res=\",res)\n",
    "add(10,20)"
   ]
  },
  {
   "cell_type": "code",
   "execution_count": 2,
   "metadata": {},
   "outputs": [
    {
     "ename": "TypeError",
     "evalue": "add() missing 1 required positional argument: 'b'",
     "output_type": "error",
     "traceback": [
      "\u001b[1;31m---------------------------------------------------------------------------\u001b[0m",
      "\u001b[1;31mTypeError\u001b[0m                                 Traceback (most recent call last)",
      "\u001b[1;32m<ipython-input-2-57c79bc94daa>\u001b[0m in \u001b[0;36m<module>\u001b[1;34m\u001b[0m\n\u001b[0;32m      3\u001b[0m     \u001b[0mres\u001b[0m\u001b[1;33m=\u001b[0m\u001b[0ma\u001b[0m\u001b[1;33m+\u001b[0m\u001b[0mb\u001b[0m\u001b[1;33m+\u001b[0m\u001b[0mc\u001b[0m\u001b[1;33m+\u001b[0m\u001b[0md\u001b[0m\u001b[1;33m+\u001b[0m\u001b[0me\u001b[0m\u001b[1;33m\u001b[0m\u001b[1;33m\u001b[0m\u001b[0m\n\u001b[0;32m      4\u001b[0m     \u001b[0mprint\u001b[0m\u001b[1;33m(\u001b[0m\u001b[1;34m\"res=\"\u001b[0m\u001b[1;33m,\u001b[0m\u001b[0mres\u001b[0m\u001b[1;33m)\u001b[0m\u001b[1;33m\u001b[0m\u001b[1;33m\u001b[0m\u001b[0m\n\u001b[1;32m----> 5\u001b[1;33m \u001b[0madd\u001b[0m\u001b[1;33m(\u001b[0m\u001b[1;36m10\u001b[0m\u001b[1;33m)\u001b[0m\u001b[1;33m\u001b[0m\u001b[1;33m\u001b[0m\u001b[0m\n\u001b[0m",
      "\u001b[1;31mTypeError\u001b[0m: add() missing 1 required positional argument: 'b'"
     ]
    }
   ],
   "source": [
    "def add(a,b,c=0,d=0,e=0):\n",
    "    print(f\"a={a},b={b},c={c},d={d}\")\n",
    "    res=a+b+c+d+e\n",
    "    print(\"res=\",res)\n",
    "add(10)"
   ]
  },
  {
   "cell_type": "code",
   "execution_count": 3,
   "metadata": {},
   "outputs": [
    {
     "ename": "TypeError",
     "evalue": "add() missing 2 required positional arguments: 'a' and 'b'",
     "output_type": "error",
     "traceback": [
      "\u001b[1;31m---------------------------------------------------------------------------\u001b[0m",
      "\u001b[1;31mTypeError\u001b[0m                                 Traceback (most recent call last)",
      "\u001b[1;32m<ipython-input-3-c90e9a977dc6>\u001b[0m in \u001b[0;36m<module>\u001b[1;34m\u001b[0m\n\u001b[0;32m      3\u001b[0m     \u001b[0mres\u001b[0m\u001b[1;33m=\u001b[0m\u001b[0ma\u001b[0m\u001b[1;33m+\u001b[0m\u001b[0mb\u001b[0m\u001b[1;33m+\u001b[0m\u001b[0mc\u001b[0m\u001b[1;33m+\u001b[0m\u001b[0md\u001b[0m\u001b[1;33m+\u001b[0m\u001b[0me\u001b[0m\u001b[1;33m\u001b[0m\u001b[1;33m\u001b[0m\u001b[0m\n\u001b[0;32m      4\u001b[0m     \u001b[0mprint\u001b[0m\u001b[1;33m(\u001b[0m\u001b[1;34m\"res=\"\u001b[0m\u001b[1;33m,\u001b[0m\u001b[0mres\u001b[0m\u001b[1;33m)\u001b[0m\u001b[1;33m\u001b[0m\u001b[1;33m\u001b[0m\u001b[0m\n\u001b[1;32m----> 5\u001b[1;33m \u001b[0madd\u001b[0m\u001b[1;33m(\u001b[0m\u001b[1;33m)\u001b[0m\u001b[1;33m\u001b[0m\u001b[1;33m\u001b[0m\u001b[0m\n\u001b[0m",
      "\u001b[1;31mTypeError\u001b[0m: add() missing 2 required positional arguments: 'a' and 'b'"
     ]
    }
   ],
   "source": [
    "def add(a,b,c=0,d=0,e=0):\n",
    "    print(f\"a={a},b={b},c={c},d={d}\")\n",
    "    res=a+b+c+d+e\n",
    "    print(\"res=\",res)\n",
    "add()"
   ]
  },
  {
   "cell_type": "code",
   "execution_count": 5,
   "metadata": {},
   "outputs": [
    {
     "ename": "TypeError",
     "evalue": "add() takes from 2 to 5 positional arguments but 6 were given",
     "output_type": "error",
     "traceback": [
      "\u001b[1;31m---------------------------------------------------------------------------\u001b[0m",
      "\u001b[1;31mTypeError\u001b[0m                                 Traceback (most recent call last)",
      "\u001b[1;32m<ipython-input-5-ec0db901949a>\u001b[0m in \u001b[0;36m<module>\u001b[1;34m\u001b[0m\n\u001b[0;32m      3\u001b[0m     \u001b[0mres\u001b[0m\u001b[1;33m=\u001b[0m\u001b[0ma\u001b[0m\u001b[1;33m+\u001b[0m\u001b[0mb\u001b[0m\u001b[1;33m+\u001b[0m\u001b[0mc\u001b[0m\u001b[1;33m+\u001b[0m\u001b[0md\u001b[0m\u001b[1;33m+\u001b[0m\u001b[0me\u001b[0m\u001b[1;33m\u001b[0m\u001b[1;33m\u001b[0m\u001b[0m\n\u001b[0;32m      4\u001b[0m     \u001b[0mprint\u001b[0m\u001b[1;33m(\u001b[0m\u001b[1;34m\"res=\"\u001b[0m\u001b[1;33m,\u001b[0m\u001b[0mres\u001b[0m\u001b[1;33m)\u001b[0m\u001b[1;33m\u001b[0m\u001b[1;33m\u001b[0m\u001b[0m\n\u001b[1;32m----> 5\u001b[1;33m \u001b[0madd\u001b[0m\u001b[1;33m(\u001b[0m\u001b[1;36m10\u001b[0m\u001b[1;33m,\u001b[0m\u001b[1;36m20\u001b[0m\u001b[1;33m,\u001b[0m\u001b[1;36m30\u001b[0m\u001b[1;33m,\u001b[0m\u001b[1;36m40\u001b[0m\u001b[1;33m,\u001b[0m\u001b[1;36m50\u001b[0m\u001b[1;33m,\u001b[0m\u001b[1;36m60\u001b[0m\u001b[1;33m)\u001b[0m\u001b[1;33m\u001b[0m\u001b[1;33m\u001b[0m\u001b[0m\n\u001b[0m",
      "\u001b[1;31mTypeError\u001b[0m: add() takes from 2 to 5 positional arguments but 6 were given"
     ]
    }
   ],
   "source": [
    "def add(a,b,c=0,d=0,e=0):\n",
    "    print(f\"a={a},b={b},c={c},d={d}\")\n",
    "    res=a+b+c+d+e\n",
    "    print(\"res=\",res)\n",
    "add(10,20,30,40,50,60)"
   ]
  },
  {
   "cell_type": "code",
   "execution_count": 6,
   "metadata": {},
   "outputs": [
    {
     "name": "stdout",
     "output_type": "stream",
     "text": [
      "() <class 'tuple'>\n",
      "(10, 20) <class 'tuple'>\n",
      "(1, 2, 3, 4, 5, 6, 7) <class 'tuple'>\n",
      "(100, 200, 300, 400, 50, 60, 70, 80, 1, 2, 3, 4, 5, 6, 7, 8, 9) <class 'tuple'>\n"
     ]
    }
   ],
   "source": [
    "#define function which can take any number of arguments\n",
    "def add(*k):#*args\n",
    "    print(k, type(k))\n",
    "add()\n",
    "add(10,20)\n",
    "add(1,2,3,4,5,6,7)\n",
    "add(100,200,300,400,50,60,70,80,1,2,3,4,5,6,7,8,9)"
   ]
  },
  {
   "cell_type": "code",
   "execution_count": 7,
   "metadata": {},
   "outputs": [
    {
     "name": "stdout",
     "output_type": "stream",
     "text": [
      "() <class 'tuple'>\n",
      "(10, 20.34) <class 'tuple'>\n",
      "(1, 2, 3, 4, 5.45, 6, 7) <class 'tuple'>\n",
      "(100, 200, 300, 400, 50, 60, 70.56, 80, 1, 2, 3, 4, 5, 6, 7, 8, 9) <class 'tuple'>\n"
     ]
    }
   ],
   "source": [
    "#define function which can take any number of arguments\n",
    "def add(*k):#*args\n",
    "    print(k, type(k))\n",
    "add()\n",
    "add(10,20.34)\n",
    "add(1,2,3,4,5.45,6,7)\n",
    "add(100,200,300,400,50,60,70.56,80,1,2,3,4,5,6,7,8,9)"
   ]
  },
  {
   "cell_type": "code",
   "execution_count": 8,
   "metadata": {},
   "outputs": [
    {
     "name": "stdout",
     "output_type": "stream",
     "text": [
      "() <class 'tuple'>\n",
      "0\n",
      "(10, 20.34) <class 'tuple'>\n",
      "30.34\n",
      "(1, 2, 3, 4, 5.45, 6, 7) <class 'tuple'>\n",
      "28.45\n",
      "(100, 200, 300, 400, 50, 60, 70.56, 80, 1, 2, 3, 4, 5, 6, 7, 8, 9) <class 'tuple'>\n",
      "1305.56\n"
     ]
    }
   ],
   "source": [
    "#define function which can take any number of arguments\n",
    "def add(*k):#*args\n",
    "    print(k, type(k))\n",
    "    print(sum(k))\n",
    "add()\n",
    "add(10,20.34)\n",
    "add(1,2,3,4,5.45,6,7)\n",
    "add(100,200,300,400,50,60,70.56,80,1,2,3,4,5,6,7,8,9)#positional arguments."
   ]
  },
  {
   "cell_type": "code",
   "execution_count": 9,
   "metadata": {},
   "outputs": [
    {
     "name": "stdout",
     "output_type": "stream",
     "text": [
      "() <class 'tuple'>\n",
      "0\n"
     ]
    },
    {
     "ename": "TypeError",
     "evalue": "add() got an unexpected keyword argument 'a'",
     "output_type": "error",
     "traceback": [
      "\u001b[1;31m---------------------------------------------------------------------------\u001b[0m",
      "\u001b[1;31mTypeError\u001b[0m                                 Traceback (most recent call last)",
      "\u001b[1;32m<ipython-input-9-db6ba347ee48>\u001b[0m in \u001b[0;36m<module>\u001b[1;34m\u001b[0m\n\u001b[0;32m      4\u001b[0m     \u001b[0mprint\u001b[0m\u001b[1;33m(\u001b[0m\u001b[0msum\u001b[0m\u001b[1;33m(\u001b[0m\u001b[0mk\u001b[0m\u001b[1;33m)\u001b[0m\u001b[1;33m)\u001b[0m\u001b[1;33m\u001b[0m\u001b[1;33m\u001b[0m\u001b[0m\n\u001b[0;32m      5\u001b[0m \u001b[0madd\u001b[0m\u001b[1;33m(\u001b[0m\u001b[1;33m)\u001b[0m\u001b[1;33m\u001b[0m\u001b[1;33m\u001b[0m\u001b[0m\n\u001b[1;32m----> 6\u001b[1;33m \u001b[0madd\u001b[0m\u001b[1;33m(\u001b[0m\u001b[0ma\u001b[0m\u001b[1;33m=\u001b[0m\u001b[1;36m10\u001b[0m\u001b[1;33m,\u001b[0m\u001b[0mb\u001b[0m\u001b[1;33m=\u001b[0m\u001b[1;36m20\u001b[0m\u001b[1;33m,\u001b[0m\u001b[0mc\u001b[0m\u001b[1;33m=\u001b[0m\u001b[1;36m30\u001b[0m\u001b[1;33m)\u001b[0m\u001b[1;33m\u001b[0m\u001b[1;33m\u001b[0m\u001b[0m\n\u001b[0m",
      "\u001b[1;31mTypeError\u001b[0m: add() got an unexpected keyword argument 'a'"
     ]
    }
   ],
   "source": [
    "#define function which can take any number of keyword arguments\n",
    "def add(*k):#*args\n",
    "    print(k, type(k))\n",
    "    print(sum(k))\n",
    "add()\n",
    "add(a=10,b=20,c=30)"
   ]
  },
  {
   "cell_type": "code",
   "execution_count": 11,
   "metadata": {},
   "outputs": [
    {
     "name": "stdout",
     "output_type": "stream",
     "text": [
      "{} <class 'dict'>\n",
      "{'a': 10, 'b': 20, 'c': 30} <class 'dict'>\n"
     ]
    }
   ],
   "source": [
    "#define function which can take any number of keyword arguments\n",
    "def add(**k):#**KWargs\n",
    "    print(k, type(k))\n",
    "add()\n",
    "add(a=10,b=20,c=30)"
   ]
  },
  {
   "cell_type": "code",
   "execution_count": 12,
   "metadata": {},
   "outputs": [
    {
     "name": "stdout",
     "output_type": "stream",
     "text": [
      "{} <class 'dict'>\n",
      "{'a': 10, 'b': 20, 'c': 30} <class 'dict'>\n",
      "{'x': 1, 'y': 2, 'z': 3, 'a': 4, 'b': 5, 'c': 6, 'p': 7, 'q': 8, 'r': 9} <class 'dict'>\n"
     ]
    }
   ],
   "source": [
    "#define function which can take any number of keyword arguments\n",
    "def add(**k):#**KWargs\n",
    "    print(k, type(k))\n",
    "add()\n",
    "add(a=10,b=20,c=30)\n",
    "add(x=1,y=2,z=3,a=4,b=5,c=6,p=7,q=8,r=9)"
   ]
  },
  {
   "cell_type": "code",
   "execution_count": 13,
   "metadata": {},
   "outputs": [
    {
     "ename": "NameError",
     "evalue": "name 'mean' is not defined",
     "output_type": "error",
     "traceback": [
      "\u001b[1;31m---------------------------------------------------------------------------\u001b[0m",
      "\u001b[1;31mNameError\u001b[0m                                 Traceback (most recent call last)",
      "\u001b[1;32m<ipython-input-13-24ee79b6fc23>\u001b[0m in \u001b[0;36m<module>\u001b[1;34m\u001b[0m\n\u001b[1;32m----> 1\u001b[1;33m \u001b[0mmean\u001b[0m\u001b[1;33m(\u001b[0m\u001b[1;33m[\u001b[0m\u001b[1;36m1\u001b[0m\u001b[1;33m,\u001b[0m\u001b[1;36m2\u001b[0m\u001b[1;33m,\u001b[0m\u001b[1;36m3\u001b[0m\u001b[1;33m,\u001b[0m\u001b[1;36m4\u001b[0m\u001b[1;33m]\u001b[0m\u001b[1;33m)\u001b[0m\u001b[1;33m\u001b[0m\u001b[1;33m\u001b[0m\u001b[0m\n\u001b[0m",
      "\u001b[1;31mNameError\u001b[0m: name 'mean' is not defined"
     ]
    }
   ],
   "source": [
    "mean([1,2,3,4])"
   ]
  },
  {
   "cell_type": "code",
   "execution_count": 14,
   "metadata": {},
   "outputs": [],
   "source": [
    "import math"
   ]
  },
  {
   "cell_type": "code",
   "execution_count": 15,
   "metadata": {},
   "outputs": [
    {
     "name": "stdout",
     "output_type": "stream",
     "text": [
      "['__doc__', '__loader__', '__name__', '__package__', '__spec__', 'acos', 'acosh', 'asin', 'asinh', 'atan', 'atan2', 'atanh', 'ceil', 'comb', 'copysign', 'cos', 'cosh', 'degrees', 'dist', 'e', 'erf', 'erfc', 'exp', 'expm1', 'fabs', 'factorial', 'floor', 'fmod', 'frexp', 'fsum', 'gamma', 'gcd', 'hypot', 'inf', 'isclose', 'isfinite', 'isinf', 'isnan', 'isqrt', 'ldexp', 'lgamma', 'log', 'log10', 'log1p', 'log2', 'modf', 'nan', 'perm', 'pi', 'pow', 'prod', 'radians', 'remainder', 'sin', 'sinh', 'sqrt', 'tan', 'tanh', 'tau', 'trunc']\n"
     ]
    }
   ],
   "source": [
    "print(dir(math))"
   ]
  },
  {
   "cell_type": "code",
   "execution_count": 16,
   "metadata": {},
   "outputs": [
    {
     "data": {
      "text/plain": [
       "2.5"
      ]
     },
     "execution_count": 16,
     "metadata": {},
     "output_type": "execute_result"
    }
   ],
   "source": [
    "l=[1,2,3,4]\n",
    "sum(l)/len(l)"
   ]
  },
  {
   "cell_type": "code",
   "execution_count": 17,
   "metadata": {},
   "outputs": [
    {
     "name": "stdout",
     "output_type": "stream",
     "text": [
      "1\n",
      "2\n",
      "3\n",
      "4\n"
     ]
    }
   ],
   "source": [
    "def add_elements(l):\n",
    "    s=0\n",
    "    for i in l:\n",
    "        print(i)\n",
    "    \n",
    "add_elements([1,2,3,4])    "
   ]
  },
  {
   "cell_type": "code",
   "execution_count": 20,
   "metadata": {},
   "outputs": [
    {
     "name": "stdout",
     "output_type": "stream",
     "text": [
      "(1, 2, 3, 4) <class 'tuple'>\n",
      "10\n"
     ]
    }
   ],
   "source": [
    "def add_elements(*l):\n",
    "    print(l, type(l))\n",
    "    s=0\n",
    "    for i in l:\n",
    "        s=s+i\n",
    "    print(s)\n",
    "    \n",
    "add_elements(1,2,3,4)    "
   ]
  },
  {
   "cell_type": "code",
   "execution_count": 22,
   "metadata": {},
   "outputs": [
    {
     "name": "stdout",
     "output_type": "stream",
     "text": [
      "a= 10 <class 'int'>\n",
      "b= 0 <class 'int'>\n",
      "c= () <class 'tuple'>\n",
      "d= {} <class 'dict'>\n"
     ]
    }
   ],
   "source": [
    "# mandatory, default, *args, **kwargs\n",
    "#def add(a,b=0):\n",
    "#def add(a,*b):\n",
    "#def add(a,**b)\n",
    "def fun1(a,b=0,*c,**d):\n",
    "    print(\"a=\",a, type(a))\n",
    "    print(\"b=\",b, type(b))\n",
    "    print(\"c=\",c, type(c))\n",
    "    print(\"d=\",d, type(d))\n",
    "fun1(10)\n",
    "    "
   ]
  },
  {
   "cell_type": "code",
   "execution_count": 24,
   "metadata": {},
   "outputs": [
    {
     "name": "stdout",
     "output_type": "stream",
     "text": [
      "********************\n",
      "a= 10 <class 'int'>\n",
      "b= 0 <class 'int'>\n",
      "c= () <class 'tuple'>\n",
      "d= {} <class 'dict'>\n",
      "********************\n",
      "a= 10 <class 'int'>\n",
      "b= 20 <class 'int'>\n",
      "c= (30, 40) <class 'tuple'>\n",
      "d= {} <class 'dict'>\n"
     ]
    }
   ],
   "source": [
    "# mandatory, default, *args, **kwargs\n",
    "#def add(a,b=0):\n",
    "#def add(a,*b):\n",
    "#def add(a,**b)\n",
    "def fun1(a,b=0,*c,**d):\n",
    "    print(\"*\"*20)\n",
    "    print(\"a=\",a, type(a))\n",
    "    print(\"b=\",b, type(b))\n",
    "    print(\"c=\",c, type(c))\n",
    "    print(\"d=\",d, type(d))\n",
    "fun1(10)\n",
    "fun1(10,20,30,40)"
   ]
  },
  {
   "cell_type": "code",
   "execution_count": 25,
   "metadata": {},
   "outputs": [
    {
     "name": "stdout",
     "output_type": "stream",
     "text": [
      "********************\n",
      "a= 10 <class 'int'>\n",
      "b= 0 <class 'int'>\n",
      "c= () <class 'tuple'>\n",
      "d= {} <class 'dict'>\n",
      "********************\n",
      "a= 10 <class 'int'>\n",
      "b= 20 <class 'int'>\n",
      "c= (30, 40) <class 'tuple'>\n",
      "d= {} <class 'dict'>\n",
      "********************\n",
      "a= 10 <class 'int'>\n",
      "b= 20 <class 'int'>\n",
      "c= (30, 40) <class 'tuple'>\n",
      "d= {'x': 50, 'y': 60, 'z': 70} <class 'dict'>\n"
     ]
    }
   ],
   "source": [
    "# mandatory, default, *args, **kwargs\n",
    "#def add(a,b=0):\n",
    "#def add(a,*b):\n",
    "#def add(a,**b)\n",
    "def fun1(a,b=0,*c,**d):\n",
    "    print(\"*\"*20)\n",
    "    print(\"a=\",a, type(a))\n",
    "    print(\"b=\",b, type(b))\n",
    "    print(\"c=\",c, type(c))\n",
    "    print(\"d=\",d, type(d))\n",
    "fun1(10)\n",
    "fun1(10,20,30,40)\n",
    "fun1(10,20,30,40,x=50,y=60,z=70)"
   ]
  },
  {
   "cell_type": "code",
   "execution_count": 26,
   "metadata": {},
   "outputs": [
    {
     "name": "stdout",
     "output_type": "stream",
     "text": [
      "********************\n",
      "a= 10 <class 'int'>\n",
      "b= 0 <class 'int'>\n",
      "c= () <class 'tuple'>\n",
      "d= {} <class 'dict'>\n",
      "********************\n",
      "a= 10 <class 'int'>\n",
      "b= 0 <class 'int'>\n",
      "c= (20, 30, 40) <class 'tuple'>\n",
      "d= {} <class 'dict'>\n",
      "********************\n",
      "a= 10 <class 'int'>\n",
      "b= 0 <class 'int'>\n",
      "c= (20, 30, 40) <class 'tuple'>\n",
      "d= {'x': 50, 'y': 60, 'z': 70} <class 'dict'>\n"
     ]
    }
   ],
   "source": [
    "def fun1(a,*c,b=0,**d):\n",
    "    print(\"*\"*20)\n",
    "    print(\"a=\",a, type(a))\n",
    "    print(\"b=\",b, type(b))\n",
    "    print(\"c=\",c, type(c))\n",
    "    print(\"d=\",d, type(d))\n",
    "fun1(10)\n",
    "fun1(10,20,30,40)\n",
    "fun1(10,20,30,40,x=50,y=60,z=70)"
   ]
  },
  {
   "cell_type": "code",
   "execution_count": 27,
   "metadata": {},
   "outputs": [
    {
     "name": "stdout",
     "output_type": "stream",
     "text": [
      "********************\n",
      "a= 10 <class 'int'>\n",
      "b= 20 <class 'int'>\n",
      "c= () <class 'tuple'>\n",
      "d= {} <class 'dict'>\n",
      "********************\n",
      "a= 10 <class 'int'>\n",
      "b= 50 <class 'int'>\n",
      "c= (20, 30, 40) <class 'tuple'>\n",
      "d= {} <class 'dict'>\n",
      "********************\n",
      "a= 10 <class 'int'>\n",
      "b= 0 <class 'int'>\n",
      "c= (20, 30, 40) <class 'tuple'>\n",
      "d= {'x': 50, 'y': 60, 'z': 70} <class 'dict'>\n"
     ]
    }
   ],
   "source": [
    "def fun1(a,*c,b=0,**d):\n",
    "    print(\"*\"*20)\n",
    "    print(\"a=\",a, type(a))\n",
    "    print(\"b=\",b, type(b))\n",
    "    print(\"c=\",c, type(c))\n",
    "    print(\"d=\",d, type(d))\n",
    "fun1(10,b=20)\n",
    "fun1(10,20,30,40,b=50)\n",
    "fun1(10,20,30,40,x=50,y=60,z=70)"
   ]
  },
  {
   "cell_type": "code",
   "execution_count": 28,
   "metadata": {},
   "outputs": [
    {
     "ename": "SyntaxError",
     "evalue": "positional argument follows keyword argument (<ipython-input-28-2c2f0e3a368d>, line 7)",
     "output_type": "error",
     "traceback": [
      "\u001b[1;36m  File \u001b[1;32m\"<ipython-input-28-2c2f0e3a368d>\"\u001b[1;36m, line \u001b[1;32m7\u001b[0m\n\u001b[1;33m    fun1(b=20,10)\u001b[0m\n\u001b[1;37m              ^\u001b[0m\n\u001b[1;31mSyntaxError\u001b[0m\u001b[1;31m:\u001b[0m positional argument follows keyword argument\n"
     ]
    }
   ],
   "source": [
    "def fun1(a,b=0,*c,**d):\n",
    "    print(\"*\"*20)\n",
    "    print(\"a=\",a, type(a))\n",
    "    print(\"b=\",b, type(b))\n",
    "    print(\"c=\",c, type(c))\n",
    "    print(\"d=\",d, type(d))\n",
    "fun1(b=20,10)"
   ]
  },
  {
   "cell_type": "code",
   "execution_count": 29,
   "metadata": {},
   "outputs": [
    {
     "name": "stdout",
     "output_type": "stream",
     "text": [
      "********************\n",
      "a= 10 <class 'int'>\n",
      "b= 20 <class 'int'>\n",
      "c= () <class 'tuple'>\n",
      "d= {} <class 'dict'>\n"
     ]
    }
   ],
   "source": [
    "def fun1(a,b=0,*c,**d):\n",
    "    print(\"*\"*20)\n",
    "    print(\"a=\",a, type(a))\n",
    "    print(\"b=\",b, type(b))\n",
    "    print(\"c=\",c, type(c))\n",
    "    print(\"d=\",d, type(d))\n",
    "fun1(10,b=20)"
   ]
  },
  {
   "cell_type": "code",
   "execution_count": 30,
   "metadata": {},
   "outputs": [
    {
     "ename": "SyntaxError",
     "evalue": "invalid syntax (<ipython-input-30-a9e7edee0e62>, line 1)",
     "output_type": "error",
     "traceback": [
      "\u001b[1;36m  File \u001b[1;32m\"<ipython-input-30-a9e7edee0e62>\"\u001b[1;36m, line \u001b[1;32m1\u001b[0m\n\u001b[1;33m    def fun1(a,*c,**d,b=0):\u001b[0m\n\u001b[1;37m                      ^\u001b[0m\n\u001b[1;31mSyntaxError\u001b[0m\u001b[1;31m:\u001b[0m invalid syntax\n"
     ]
    }
   ],
   "source": [
    "def fun1(a,*c,**d,b=0):\n",
    "    print(\"*\"*20)\n",
    "    print(\"a=\",a, type(a))\n",
    "    print(\"b=\",b, type(b))\n",
    "    print(\"c=\",c, type(c))\n",
    "    print(\"d=\",d, type(d))\n",
    "fun1(10,b=20)"
   ]
  },
  {
   "cell_type": "code",
   "execution_count": 31,
   "metadata": {},
   "outputs": [
    {
     "name": "stdout",
     "output_type": "stream",
     "text": [
      "********************\n",
      "a= 10 <class 'int'>\n",
      "b= 20 <class 'int'>\n",
      "c= () <class 'tuple'>\n",
      "d= {} <class 'dict'>\n"
     ]
    }
   ],
   "source": [
    "def fun1(a,b=0,*c,**d):\n",
    "    print(\"*\"*20)\n",
    "    print(\"a=\",a, type(a))\n",
    "    print(\"b=\",b, type(b))\n",
    "    print(\"c=\",c, type(c))\n",
    "    print(\"d=\",d, type(d))\n",
    "fun1(10,b=20)"
   ]
  },
  {
   "cell_type": "code",
   "execution_count": 32,
   "metadata": {},
   "outputs": [
    {
     "name": "stdout",
     "output_type": "stream",
     "text": [
      "result= None\n"
     ]
    }
   ],
   "source": [
    "def add(x,y):\n",
    "    z=x+y\n",
    "res=add(10,20)# res will refer the return value of add function. here it is None, because we are not added return statement\n",
    "print(\"result=\",res)"
   ]
  },
  {
   "cell_type": "code",
   "execution_count": 33,
   "metadata": {},
   "outputs": [
    {
     "name": "stdout",
     "output_type": "stream",
     "text": [
      "result= None\n"
     ]
    }
   ],
   "source": [
    "def add(x,y):\n",
    "    a=x+y\n",
    "    b=x-y\n",
    "    c=x*y\n",
    "    d=x/y\n",
    "res=add(10,20)# res will refer the return value of add function. here it is None, because we are not added return statement\n",
    "print(\"result=\",res)"
   ]
  },
  {
   "cell_type": "code",
   "execution_count": 34,
   "metadata": {},
   "outputs": [
    {
     "name": "stdout",
     "output_type": "stream",
     "text": [
      "result= 20\n"
     ]
    }
   ],
   "source": [
    "def add(x,y):\n",
    "    a=x+y\n",
    "    b=x-y\n",
    "    c=x*y\n",
    "    d=x/y\n",
    "    return 20\n",
    "res=add(10,20)# res will refer the return value of add function. here it is 20.\n",
    "print(\"result=\",res)"
   ]
  },
  {
   "cell_type": "code",
   "execution_count": 35,
   "metadata": {},
   "outputs": [
    {
     "name": "stdout",
     "output_type": "stream",
     "text": [
      "result= 30\n"
     ]
    }
   ],
   "source": [
    "def add(x,y):\n",
    "    a=x+y\n",
    "    b=x-y\n",
    "    c=x*y\n",
    "    d=x/y\n",
    "    return a\n",
    "res=add(10,20)# res will refer the return value of add function. here it is 20.\n",
    "print(\"result=\",res)"
   ]
  },
  {
   "cell_type": "code",
   "execution_count": 36,
   "metadata": {},
   "outputs": [
    {
     "name": "stdout",
     "output_type": "stream",
     "text": [
      "result= (30, -10)\n"
     ]
    }
   ],
   "source": [
    "def add(x,y):\n",
    "    a=x+y\n",
    "    b=x-y\n",
    "    c=x*y\n",
    "    d=x/y\n",
    "    return a,b\n",
    "res=add(10,20)# res will refer the return value of add function. here it is 20.\n",
    "print(\"result=\",res)"
   ]
  },
  {
   "cell_type": "code",
   "execution_count": 37,
   "metadata": {},
   "outputs": [
    {
     "name": "stdout",
     "output_type": "stream",
     "text": [
      "result= (30, -10, 200, 0.5)\n"
     ]
    }
   ],
   "source": [
    "def add(x,y):\n",
    "    a=x+y\n",
    "    b=x-y\n",
    "    c=x*y\n",
    "    d=x/y\n",
    "    return a,b,c,d\n",
    "res=add(10,20)# res will refer the return value of add function. here it is 20.\n",
    "print(\"result=\",res)"
   ]
  },
  {
   "cell_type": "code",
   "execution_count": 39,
   "metadata": {},
   "outputs": [
    {
     "name": "stdout",
     "output_type": "stream",
     "text": [
      "result= (30, -10)\n"
     ]
    }
   ],
   "source": [
    "def add(x,y):\n",
    "    a=x+y\n",
    "    b=x-y\n",
    "    c=x*y\n",
    "    d=x/y\n",
    "    return a,b\n",
    "res=add(10,20)# res will refer the return value of add function. here it is 20.\n",
    "print(\"result=\",res)"
   ]
  },
  {
   "cell_type": "code",
   "execution_count": 40,
   "metadata": {},
   "outputs": [
    {
     "name": "stdout",
     "output_type": "stream",
     "text": [
      "result= (100, 30, 200, -10)\n"
     ]
    }
   ],
   "source": [
    "def add(x,y):\n",
    "    a=x+y\n",
    "    b=x-y\n",
    "    c=x*y\n",
    "    d=x/y\n",
    "    return 100,a,200,b\n",
    "res=add(10,20)# res will refer the return value of add function. here it is 20.\n",
    "print(\"result=\",res)"
   ]
  },
  {
   "cell_type": "code",
   "execution_count": 41,
   "metadata": {},
   "outputs": [
    {
     "name": "stdout",
     "output_type": "stream",
     "text": [
      "hello\n",
      "res= 20\n"
     ]
    }
   ],
   "source": [
    "def fun():\n",
    "    print(\"hello\")\n",
    "    return 20\n",
    "res=fun()\n",
    "print(\"res=\",res)\n",
    "#hello\n",
    "#res=20"
   ]
  },
  {
   "cell_type": "code",
   "execution_count": 42,
   "metadata": {},
   "outputs": [
    {
     "name": "stdout",
     "output_type": "stream",
     "text": [
      "hello\n"
     ]
    }
   ],
   "source": [
    "def fun():\n",
    "    print(\"hello\")\n",
    "    return 20\n",
    "res=fun()"
   ]
  },
  {
   "cell_type": "code",
   "execution_count": 43,
   "metadata": {},
   "outputs": [
    {
     "ename": "TypeError",
     "evalue": "fun() missing 2 required positional arguments: 'x' and 'y'",
     "output_type": "error",
     "traceback": [
      "\u001b[1;31m---------------------------------------------------------------------------\u001b[0m",
      "\u001b[1;31mTypeError\u001b[0m                                 Traceback (most recent call last)",
      "\u001b[1;32m<ipython-input-43-1bc05f498e4c>\u001b[0m in \u001b[0;36m<module>\u001b[1;34m\u001b[0m\n\u001b[0;32m      2\u001b[0m     \u001b[0ma\u001b[0m\u001b[1;33m=\u001b[0m\u001b[0mx\u001b[0m\u001b[1;33m+\u001b[0m\u001b[0my\u001b[0m\u001b[1;33m\u001b[0m\u001b[1;33m\u001b[0m\u001b[0m\n\u001b[0;32m      3\u001b[0m     \u001b[0mprint\u001b[0m\u001b[1;33m(\u001b[0m\u001b[1;34m\"a=\"\u001b[0m\u001b[1;33m,\u001b[0m\u001b[0ma\u001b[0m\u001b[1;33m)\u001b[0m\u001b[1;33m\u001b[0m\u001b[1;33m\u001b[0m\u001b[0m\n\u001b[1;32m----> 4\u001b[1;33m \u001b[0mres\u001b[0m\u001b[1;33m=\u001b[0m\u001b[0mfun\u001b[0m\u001b[1;33m(\u001b[0m\u001b[1;33m)\u001b[0m\u001b[1;33m\u001b[0m\u001b[1;33m\u001b[0m\u001b[0m\n\u001b[0m\u001b[0;32m      5\u001b[0m \u001b[0mprint\u001b[0m\u001b[1;33m(\u001b[0m\u001b[1;34m\"res=\"\u001b[0m\u001b[1;33m,\u001b[0m\u001b[0mres\u001b[0m\u001b[1;33m)\u001b[0m\u001b[1;33m\u001b[0m\u001b[1;33m\u001b[0m\u001b[0m\n",
      "\u001b[1;31mTypeError\u001b[0m: fun() missing 2 required positional arguments: 'x' and 'y'"
     ]
    }
   ],
   "source": [
    "def fun(x,y):\n",
    "    a=x+y\n",
    "    print(\"a=\",a)\n",
    "res=fun()\n",
    "print(\"res=\",res)"
   ]
  },
  {
   "cell_type": "code",
   "execution_count": 44,
   "metadata": {},
   "outputs": [
    {
     "name": "stdout",
     "output_type": "stream",
     "text": [
      "a= 3\n",
      "res= None\n"
     ]
    }
   ],
   "source": [
    "def fun(x,y):\n",
    "    a=x+y\n",
    "    print(\"a=\",a)\n",
    "res=fun(1,2)\n",
    "print(\"res=\",res)"
   ]
  },
  {
   "cell_type": "code",
   "execution_count": null,
   "metadata": {},
   "outputs": [],
   "source": [
    "def fun():\n",
    "    print(\"hello\")\n",
    "    return 10\n",
    "    print(\"hi\")\n",
    "    return 20\n",
    "    print(\"hyderabad\")\n",
    "    return 30\n",
    "res1=fun()\n",
    "print(\"res1=\",res1)\n",
    "res2=fun()\n",
    "print(\"res2=\",res2)\n",
    "res3=fun()\n",
    "print(\"res3=\",res3)"
   ]
  },
  {
   "cell_type": "code",
   "execution_count": 45,
   "metadata": {},
   "outputs": [
    {
     "name": "stdout",
     "output_type": "stream",
     "text": [
      "hello\n"
     ]
    }
   ],
   "source": [
    "def fun():\n",
    "    print(\"hello\")\n",
    "    return 10\n",
    "res=fun()"
   ]
  },
  {
   "cell_type": "code",
   "execution_count": 46,
   "metadata": {},
   "outputs": [
    {
     "name": "stdout",
     "output_type": "stream",
     "text": [
      "hello\n",
      "res1= 10\n",
      "hello\n",
      "res2= 10\n",
      "hello\n",
      "res3= 10\n"
     ]
    }
   ],
   "source": [
    "def fun():\n",
    "    print(\"hello\")\n",
    "    return 10# once the return statment executed, it will come out from the function execution\n",
    "    print(\"hi\")\n",
    "    return 20\n",
    "    print(\"hyderabad\")\n",
    "    return 30\n",
    "res1=fun()\n",
    "print(\"res1=\",res1)\n",
    "res2=fun()\n",
    "print(\"res2=\",res2)\n",
    "res3=fun()\n",
    "print(\"res3=\",res3)"
   ]
  },
  {
   "cell_type": "code",
   "execution_count": 1,
   "metadata": {},
   "outputs": [
    {
     "name": "stdout",
     "output_type": "stream",
     "text": [
      "res1= <generator object fun at 0x000001FBFD98AEB0>\n"
     ]
    }
   ],
   "source": [
    "def fun():\n",
    "    print(\"hello\")\n",
    "    yield 10\n",
    "    print(\"hi\")\n",
    "    yield 20\n",
    "    print(\"hyderabad\")\n",
    "    yield 30\n",
    "res1=fun()# eventhough we are caaling function, the function execition is not started.\n",
    "print(\"res1=\",res1)"
   ]
  },
  {
   "cell_type": "code",
   "execution_count": 4,
   "metadata": {},
   "outputs": [
    {
     "name": "stdout",
     "output_type": "stream",
     "text": [
      "res= <generator object fun at 0x000001FBFD98AAC0>\n",
      "hello\n",
      "res1= 10\n",
      "hi\n",
      "res2= 20\n"
     ]
    }
   ],
   "source": [
    "def fun():\n",
    "    print(\"hello\")\n",
    "    yield 10\n",
    "    print(\"hi\")\n",
    "    yield 20\n",
    "    print(\"hyderabad\")\n",
    "    yield 30\n",
    "res=fun()# eventhough we are caaling function, the function execition is not started.\n",
    "print(\"res=\",res)\n",
    "# the fucntion execution gets started if we do next(res)\n",
    "res1=next(res)# next will execute up to first yield. the yielded value assigned to res1\n",
    "print(\"res1=\",res1)\n",
    "res2=next(res)# next will exeute from first yield to the second yield. \n",
    "print(\"res2=\",res2)"
   ]
  },
  {
   "cell_type": "code",
   "execution_count": 5,
   "metadata": {},
   "outputs": [
    {
     "name": "stdout",
     "output_type": "stream",
     "text": [
      "res= <generator object fun at 0x000001FBFDA9E900>\n",
      "hello\n",
      "res1= 10\n",
      "hi\n",
      "res2= 20\n",
      "hyderabad\n",
      "res3= 30\n"
     ]
    }
   ],
   "source": [
    "def fun():\n",
    "    print(\"hello\")\n",
    "    yield 10\n",
    "    print(\"hi\")\n",
    "    yield 20\n",
    "    print(\"hyderabad\")\n",
    "    yield 30\n",
    "res=fun()# eventhough we are caaling function, the function execition is not started.\n",
    "print(\"res=\",res)\n",
    "# the fucntion execution gets started if we do next(res)\n",
    "res1=next(res)# next will execute up to first yield. the yielded value assigned to res1\n",
    "print(\"res1=\",res1)\n",
    "res2=next(res)# next will exeute from first yield to the second yield. \n",
    "print(\"res2=\",res2)\n",
    "res3=next(res)\n",
    "print(\"res3=\",res3)"
   ]
  },
  {
   "cell_type": "code",
   "execution_count": 6,
   "metadata": {},
   "outputs": [
    {
     "name": "stdout",
     "output_type": "stream",
     "text": [
      "res= <generator object fun at 0x000001FBFDA9E820>\n",
      "hello\n",
      "res1= 10\n",
      "hi\n",
      "res2= 20\n",
      "hyderabad\n",
      "res3= 30\n"
     ]
    },
    {
     "ename": "StopIteration",
     "evalue": "",
     "output_type": "error",
     "traceback": [
      "\u001b[1;31m---------------------------------------------------------------------------\u001b[0m",
      "\u001b[1;31mStopIteration\u001b[0m                             Traceback (most recent call last)",
      "\u001b[1;32m<ipython-input-6-c5a257a33136>\u001b[0m in \u001b[0;36m<module>\u001b[1;34m\u001b[0m\n\u001b[0;32m     15\u001b[0m \u001b[0mres3\u001b[0m\u001b[1;33m=\u001b[0m\u001b[0mnext\u001b[0m\u001b[1;33m(\u001b[0m\u001b[0mres\u001b[0m\u001b[1;33m)\u001b[0m\u001b[1;33m\u001b[0m\u001b[1;33m\u001b[0m\u001b[0m\n\u001b[0;32m     16\u001b[0m \u001b[0mprint\u001b[0m\u001b[1;33m(\u001b[0m\u001b[1;34m\"res3=\"\u001b[0m\u001b[1;33m,\u001b[0m\u001b[0mres3\u001b[0m\u001b[1;33m)\u001b[0m\u001b[1;33m\u001b[0m\u001b[1;33m\u001b[0m\u001b[0m\n\u001b[1;32m---> 17\u001b[1;33m \u001b[0mres4\u001b[0m\u001b[1;33m=\u001b[0m\u001b[0mnext\u001b[0m\u001b[1;33m(\u001b[0m\u001b[0mres\u001b[0m\u001b[1;33m)\u001b[0m\u001b[1;31m# throw an error, stop iteration.\u001b[0m\u001b[1;33m\u001b[0m\u001b[1;33m\u001b[0m\u001b[0m\n\u001b[0m\u001b[0;32m     18\u001b[0m \u001b[0mprint\u001b[0m\u001b[1;33m(\u001b[0m\u001b[1;34m\"res4=\"\u001b[0m\u001b[1;33m,\u001b[0m\u001b[0mres4\u001b[0m\u001b[1;33m)\u001b[0m\u001b[1;33m\u001b[0m\u001b[1;33m\u001b[0m\u001b[0m\n",
      "\u001b[1;31mStopIteration\u001b[0m: "
     ]
    }
   ],
   "source": [
    "def fun():\n",
    "    print(\"hello\")\n",
    "    yield 10\n",
    "    print(\"hi\")\n",
    "    yield 20\n",
    "    print(\"hyderabad\")\n",
    "    yield 30\n",
    "res=fun()# eventhough we are caaling function, the function execition is not started.\n",
    "print(\"res=\",res)\n",
    "# the fucntion execution gets started if we do next(res)\n",
    "res1=next(res)# next will execute up to first yield. the yielded value assigned to res1\n",
    "print(\"res1=\",res1)\n",
    "res2=next(res)# next will exeute from first yield to the second yield. \n",
    "print(\"res2=\",res2)\n",
    "res3=next(res)\n",
    "print(\"res3=\",res3)\n",
    "res4=next(res)# throw an error, stop iteration.\n",
    "print(\"res4=\",res4)"
   ]
  },
  {
   "cell_type": "code",
   "execution_count": null,
   "metadata": {},
   "outputs": [],
   "source": []
  }
 ],
 "metadata": {
  "kernelspec": {
   "display_name": "Python 3",
   "language": "python",
   "name": "python3"
  },
  "language_info": {
   "codemirror_mode": {
    "name": "ipython",
    "version": 3
   },
   "file_extension": ".py",
   "mimetype": "text/x-python",
   "name": "python",
   "nbconvert_exporter": "python",
   "pygments_lexer": "ipython3",
   "version": "3.8.3"
  }
 },
 "nbformat": 4,
 "nbformat_minor": 4
}
