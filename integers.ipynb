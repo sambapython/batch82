{
 "cells": [
  {
   "cell_type": "code",
   "execution_count": 1,
   "metadata": {},
   "outputs": [],
   "source": [
    "# number systems\n",
    "#binary\n",
    "#octal\n",
    "#decimal\n",
    "#hexa decimal"
   ]
  },
  {
   "cell_type": "code",
   "execution_count": 2,
   "metadata": {},
   "outputs": [
    {
     "name": "stdout",
     "output_type": "stream",
     "text": [
      "10 <class 'int'>\n",
      "18 <class 'int'>\n",
      "940 <class 'int'>\n",
      "4780 <class 'int'>\n"
     ]
    }
   ],
   "source": [
    "a=10#decimal\n",
    "print(a, type(a))\n",
    "a=0b10010# binary\n",
    "print(a, type(a))\n",
    "a=0o1654#octal\n",
    "print(a, type(a))\n",
    "a=0x12ac\n",
    "print(a, type(a))\n"
   ]
  },
  {
   "cell_type": "code",
   "execution_count": 3,
   "metadata": {},
   "outputs": [
    {
     "name": "stdout",
     "output_type": "stream",
     "text": [
      "4780\n"
     ]
    }
   ],
   "source": [
    "a=0x12ac\n",
    "print(12*16**0+10*16**1+2*16**2+1*16**3)"
   ]
  },
  {
   "cell_type": "code",
   "execution_count": 4,
   "metadata": {},
   "outputs": [
    {
     "name": "stdout",
     "output_type": "stream",
     "text": [
      "940\n"
     ]
    }
   ],
   "source": [
    "a=0o1654#octal\n",
    "print(4*8**0+5*8**1+6*8**2+1*8**3)"
   ]
  },
  {
   "cell_type": "code",
   "execution_count": null,
   "metadata": {},
   "outputs": [],
   "source": []
  }
 ],
 "metadata": {
  "kernelspec": {
   "display_name": "Python 3",
   "language": "python",
   "name": "python3"
  },
  "language_info": {
   "codemirror_mode": {
    "name": "ipython",
    "version": 3
   },
   "file_extension": ".py",
   "mimetype": "text/x-python",
   "name": "python",
   "nbconvert_exporter": "python",
   "pygments_lexer": "ipython3",
   "version": "3.8.3"
  }
 },
 "nbformat": 4,
 "nbformat_minor": 4
}
