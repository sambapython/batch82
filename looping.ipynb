{
 "cells": [
  {
   "cell_type": "code",
   "execution_count": 1,
   "metadata": {},
   "outputs": [
    {
     "name": "stdout",
     "output_type": "stream",
     "text": [
      "10\n",
      "40\n"
     ]
    }
   ],
   "source": [
    "l=[10,20,30,40]\n",
    "print(l[0])\n",
    "print(l[3])"
   ]
  },
  {
   "cell_type": "code",
   "execution_count": 2,
   "metadata": {},
   "outputs": [
    {
     "name": "stdout",
     "output_type": "stream",
     "text": [
      "10\n",
      "20\n",
      "30\n",
      "40\n"
     ]
    }
   ],
   "source": [
    "l=[10,20,30,40]\n",
    "print(l[0])\n",
    "print(l[1])\n",
    "print(l[2])\n",
    "print(l[3])"
   ]
  },
  {
   "cell_type": "code",
   "execution_count": 3,
   "metadata": {},
   "outputs": [
    {
     "name": "stdout",
     "output_type": "stream",
     "text": [
      "positive\n"
     ]
    }
   ],
   "source": [
    "l=[10,20,-30,40]\n",
    "n=10\n",
    "if n>=0:\n",
    "    print(\"positive\")\n",
    "else:\n",
    "    print(\"negative\")"
   ]
  },
  {
   "cell_type": "code",
   "execution_count": 4,
   "metadata": {},
   "outputs": [
    {
     "name": "stdout",
     "output_type": "stream",
     "text": [
      "positive\n",
      "positive\n",
      "negative\n",
      "positive\n"
     ]
    }
   ],
   "source": [
    "l=[10,20,-30,40]\n",
    "n=l[0]\n",
    "if n>=0:\n",
    "    print(\"positive\")\n",
    "else:\n",
    "    print(\"negative\")\n",
    "n=l[1]\n",
    "if n>=0:\n",
    "    print(\"positive\")\n",
    "else:\n",
    "    print(\"negative\")\n",
    "n=l[2]\n",
    "if n>=0:\n",
    "    print(\"positive\")\n",
    "else:\n",
    "    print(\"negative\")\n",
    "n=l[3]\n",
    "if n>=0:\n",
    "    print(\"positive\")\n",
    "else:\n",
    "    print(\"negative\")"
   ]
  },
  {
   "cell_type": "code",
   "execution_count": 5,
   "metadata": {},
   "outputs": [
    {
     "name": "stdout",
     "output_type": "stream",
     "text": [
      "10\n",
      "20\n",
      "-30\n",
      "40\n"
     ]
    }
   ],
   "source": [
    "l=[10,20,-30,40]\n",
    "for n in l:\n",
    "    print(n)"
   ]
  },
  {
   "cell_type": "code",
   "execution_count": 7,
   "metadata": {},
   "outputs": [
    {
     "name": "stdout",
     "output_type": "stream",
     "text": [
      "10\n",
      "20\n",
      "-30\n",
      "40\n"
     ]
    }
   ],
   "source": [
    "l=[10,20,-30,40]\n",
    "print(l[0])\n",
    "print(l[1])\n",
    "print(l[2])\n",
    "print(l[3])"
   ]
  },
  {
   "cell_type": "code",
   "execution_count": 8,
   "metadata": {},
   "outputs": [
    {
     "name": "stdout",
     "output_type": "stream",
     "text": [
      "10\n",
      "20\n",
      "-30\n",
      "40\n"
     ]
    }
   ],
   "source": [
    "l=[10,20,-30,40,50,60,70]\n",
    "print(l[0])\n",
    "print(l[1])\n",
    "print(l[2])\n",
    "print(l[3])"
   ]
  },
  {
   "cell_type": "code",
   "execution_count": 9,
   "metadata": {},
   "outputs": [
    {
     "name": "stdout",
     "output_type": "stream",
     "text": [
      "10\n",
      "20\n",
      "-30\n",
      "40\n",
      "50\n",
      "60\n",
      "70\n"
     ]
    }
   ],
   "source": [
    "l=[10,20,-30,40,50,60,70]\n",
    "for n in l:\n",
    "    print(n)"
   ]
  },
  {
   "cell_type": "code",
   "execution_count": 10,
   "metadata": {},
   "outputs": [
    {
     "name": "stdout",
     "output_type": "stream",
     "text": [
      "10\n",
      "20\n",
      "-30\n",
      "40\n"
     ]
    }
   ],
   "source": [
    "l=(10,20,-30,40)\n",
    "for n in l:\n",
    "    print(n)"
   ]
  },
  {
   "cell_type": "code",
   "execution_count": 11,
   "metadata": {},
   "outputs": [
    {
     "name": "stdout",
     "output_type": "stream",
     "text": [
      "40\n",
      "10\n",
      "-30\n",
      "20\n"
     ]
    }
   ],
   "source": [
    "l={10,20,-30,40}\n",
    "for n in l:\n",
    "    print(n)"
   ]
  },
  {
   "cell_type": "code",
   "execution_count": 12,
   "metadata": {},
   "outputs": [
    {
     "name": "stdout",
     "output_type": "stream",
     "text": [
      "p\n",
      "y\n",
      "t\n",
      "h\n",
      "o\n",
      "n\n"
     ]
    }
   ],
   "source": [
    "l=\"python\"\n",
    "for n in l:\n",
    "    print(n)"
   ]
  },
  {
   "cell_type": "code",
   "execution_count": 13,
   "metadata": {},
   "outputs": [
    {
     "name": "stdout",
     "output_type": "stream",
     "text": [
      "started\n",
      "iteration started\n",
      "10\n",
      "iteration ended\n",
      "iteration started\n",
      "20\n",
      "iteration ended\n",
      "iteration started\n",
      "-30\n",
      "iteration ended\n",
      "iteration started\n",
      "40\n",
      "iteration ended\n",
      "ended\n"
     ]
    }
   ],
   "source": [
    "print(\"started\")\n",
    "l=[10,20,-30,40]\n",
    "for n in l:#n=40\n",
    "    print(\"iteration started\")\n",
    "    print(n)\n",
    "    print(\"iteration ended\")\n",
    "print(\"ended\")"
   ]
  },
  {
   "cell_type": "code",
   "execution_count": 14,
   "metadata": {},
   "outputs": [
    {
     "name": "stdout",
     "output_type": "stream",
     "text": [
      "started\n",
      "0\n",
      "ended\n"
     ]
    }
   ],
   "source": [
    "print(\"started\")\n",
    "i=0\n",
    "if i<10:#0<10: True\n",
    "    print(i)\n",
    "    i=i+1#0+1: i=1\n",
    "print(\"ended\")"
   ]
  },
  {
   "cell_type": "code",
   "execution_count": 15,
   "metadata": {},
   "outputs": [
    {
     "ename": "TypeError",
     "evalue": "can only concatenate list (not \"int\") to list",
     "output_type": "error",
     "traceback": [
      "\u001b[1;31m---------------------------------------------------------------------------\u001b[0m",
      "\u001b[1;31mTypeError\u001b[0m                                 Traceback (most recent call last)",
      "\u001b[1;32m<ipython-input-15-16cbbba8d120>\u001b[0m in \u001b[0;36m<module>\u001b[1;34m\u001b[0m\n\u001b[0;32m      1\u001b[0m \u001b[0ml\u001b[0m\u001b[1;33m=\u001b[0m\u001b[1;33m[\u001b[0m\u001b[1;36m10\u001b[0m\u001b[1;33m,\u001b[0m\u001b[1;36m20\u001b[0m\u001b[1;33m,\u001b[0m\u001b[1;33m-\u001b[0m\u001b[1;36m30\u001b[0m\u001b[1;33m,\u001b[0m\u001b[1;36m40\u001b[0m\u001b[1;33m]\u001b[0m\u001b[1;33m\u001b[0m\u001b[1;33m\u001b[0m\u001b[0m\n\u001b[0;32m      2\u001b[0m \u001b[1;31m# add 3 to each element in the list.\u001b[0m\u001b[1;33m\u001b[0m\u001b[1;33m\u001b[0m\u001b[1;33m\u001b[0m\u001b[0m\n\u001b[1;32m----> 3\u001b[1;33m \u001b[0mprint\u001b[0m\u001b[1;33m(\u001b[0m\u001b[0ml\u001b[0m\u001b[1;33m+\u001b[0m\u001b[1;36m3\u001b[0m\u001b[1;33m)\u001b[0m\u001b[1;33m\u001b[0m\u001b[1;33m\u001b[0m\u001b[0m\n\u001b[0m",
      "\u001b[1;31mTypeError\u001b[0m: can only concatenate list (not \"int\") to list"
     ]
    }
   ],
   "source": [
    "l=[10,20,-30,40]\n",
    "# add 3 to each element in the list.\n",
    "print(l+3)"
   ]
  },
  {
   "cell_type": "code",
   "execution_count": 16,
   "metadata": {},
   "outputs": [
    {
     "name": "stdout",
     "output_type": "stream",
     "text": [
      "10\n",
      "20\n",
      "-30\n",
      "40\n",
      "end\n"
     ]
    }
   ],
   "source": [
    "l=[10,20,-30,40]\n",
    "# add 3 to each element in the list.\n",
    "for number in l:\n",
    "    print(number)\n",
    "print(\"end\")"
   ]
  },
  {
   "cell_type": "code",
   "execution_count": 17,
   "metadata": {},
   "outputs": [
    {
     "name": "stdout",
     "output_type": "stream",
     "text": [
      "13\n",
      "23\n",
      "-27\n",
      "43\n",
      "end\n"
     ]
    }
   ],
   "source": [
    "l=[10,20,-30,40]\n",
    "# add 3 to each element in the list.\n",
    "for number in l:\n",
    "    print(number+3)\n",
    "print(\"end\")"
   ]
  },
  {
   "cell_type": "code",
   "execution_count": 18,
   "metadata": {},
   "outputs": [],
   "source": [
    "# apply for loop on all the datatypes"
   ]
  },
  {
   "cell_type": "code",
   "execution_count": 19,
   "metadata": {},
   "outputs": [
    {
     "name": "stdout",
     "output_type": "stream",
     "text": [
      "p\n",
      "y\n",
      "t\n",
      "h\n",
      "o\n",
      "n\n"
     ]
    }
   ],
   "source": [
    "l=\"python\"\n",
    "for i in l:\n",
    "    print(i)"
   ]
  },
  {
   "cell_type": "code",
   "execution_count": null,
   "metadata": {},
   "outputs": [],
   "source": [
    "#supported datatypes\n",
    "#strings, list, tuple, set, dictionary\n",
    "#not supported datatypes\n",
    "#int, float,None, Bool, complex"
   ]
  },
  {
   "cell_type": "code",
   "execution_count": 1,
   "metadata": {},
   "outputs": [
    {
     "name": "stdout",
     "output_type": "stream",
     "text": [
      "name\n",
      "age\n",
      "height\n"
     ]
    }
   ],
   "source": [
    "l={\"name\":\"jay\",\"age\":5,\"height\":3.2}\n",
    "for i in l:\n",
    "    print(i)"
   ]
  },
  {
   "cell_type": "code",
   "execution_count": 2,
   "metadata": {},
   "outputs": [
    {
     "ename": "TypeError",
     "evalue": "'int' object is not iterable",
     "output_type": "error",
     "traceback": [
      "\u001b[1;31m---------------------------------------------------------------------------\u001b[0m",
      "\u001b[1;31mTypeError\u001b[0m                                 Traceback (most recent call last)",
      "\u001b[1;32m<ipython-input-2-6e9f93426a2d>\u001b[0m in \u001b[0;36m<module>\u001b[1;34m\u001b[0m\n\u001b[0;32m      1\u001b[0m \u001b[0ml\u001b[0m\u001b[1;33m=\u001b[0m\u001b[1;36m10\u001b[0m\u001b[1;33m\u001b[0m\u001b[1;33m\u001b[0m\u001b[0m\n\u001b[1;32m----> 2\u001b[1;33m \u001b[1;32mfor\u001b[0m \u001b[0mj\u001b[0m \u001b[1;32min\u001b[0m \u001b[0ml\u001b[0m\u001b[1;33m:\u001b[0m\u001b[1;33m\u001b[0m\u001b[1;33m\u001b[0m\u001b[0m\n\u001b[0m\u001b[0;32m      3\u001b[0m     \u001b[0mprint\u001b[0m\u001b[1;33m(\u001b[0m\u001b[0mj\u001b[0m\u001b[1;33m)\u001b[0m\u001b[1;33m\u001b[0m\u001b[1;33m\u001b[0m\u001b[0m\n",
      "\u001b[1;31mTypeError\u001b[0m: 'int' object is not iterable"
     ]
    }
   ],
   "source": [
    "l=10\n",
    "for j in l:\n",
    "    print(j)"
   ]
  },
  {
   "cell_type": "code",
   "execution_count": 3,
   "metadata": {},
   "outputs": [
    {
     "name": "stdout",
     "output_type": "stream",
     "text": [
      "10\n",
      "20\n",
      "-30\n",
      "40\n"
     ]
    }
   ],
   "source": [
    "l=[10,20,-30,40]\n",
    "\"\"\"\n",
    "10-positive\n",
    "20-positive\n",
    "-30-negative\n",
    "40-positive\n",
    "\"\"\"\n",
    "for number in l:\n",
    "    print(number)\n",
    "    \n",
    "\n"
   ]
  },
  {
   "cell_type": "code",
   "execution_count": 4,
   "metadata": {},
   "outputs": [
    {
     "name": "stdout",
     "output_type": "stream",
     "text": [
      "10-positive\n",
      "20-positive\n",
      "-30-negative\n",
      "40-positive\n",
      "end\n"
     ]
    }
   ],
   "source": [
    "l=[10,20,-30,40]\n",
    "\"\"\"\n",
    "10-positive\n",
    "20-positive\n",
    "-30-negative\n",
    "40-positive\n",
    "\"\"\"\n",
    "for number in l:#number=10,20,-30,40\n",
    "    if number>0:#10>0:True, 20>0:True,-30>0:False, 40>0:True\n",
    "        print(f\"{number}-positive\")\n",
    "    else:\n",
    "        print(f\"{number}-negative\")\n",
    "print(\"end\")"
   ]
  },
  {
   "cell_type": "code",
   "execution_count": 5,
   "metadata": {},
   "outputs": [
    {
     "name": "stdout",
     "output_type": "stream",
     "text": [
      "10-EVEN\n",
      "21-ODD\n",
      "-33-ODD\n",
      "40-EVEN\n",
      "end\n"
     ]
    }
   ],
   "source": [
    "l=[10,21,-33,40]\n",
    "\"\"\"\n",
    "10-EVEN\n",
    "21-ODD\n",
    "-33-ODD\n",
    "40-EVEN\n",
    "\"\"\"\n",
    "for number in l:\n",
    "    res = \"EVEN\" if number%2==0 else \"ODD\"\n",
    "    print(f\"{number}-{res}\")\n",
    "print(\"end\")"
   ]
  },
  {
   "cell_type": "code",
   "execution_count": null,
   "metadata": {},
   "outputs": [],
   "source": [
    "l=[1,2,5,6,9,8,10]\n",
    "#howmay number of odds and evens are there.\n",
    "#odd count:3, even count:4"
   ]
  },
  {
   "cell_type": "code",
   "execution_count": 6,
   "metadata": {},
   "outputs": [
    {
     "name": "stdout",
     "output_type": "stream",
     "text": [
      "7\n"
     ]
    }
   ],
   "source": [
    "l=[1,2,5,6,9,8,10]\n",
    "print(len(l))"
   ]
  },
  {
   "cell_type": "code",
   "execution_count": 7,
   "metadata": {},
   "outputs": [
    {
     "name": "stdout",
     "output_type": "stream",
     "text": [
      "hello\n",
      "hello\n",
      "hello\n",
      "hello\n",
      "hello\n",
      "hello\n",
      "hello\n",
      "end\n"
     ]
    }
   ],
   "source": [
    "l=[1,2,5,6,9,8,10]\n",
    "for i in l:#i=1,2\n",
    "    print(\"hello\")\n",
    "print(\"end\")"
   ]
  },
  {
   "cell_type": "code",
   "execution_count": 8,
   "metadata": {},
   "outputs": [
    {
     "name": "stdout",
     "output_type": "stream",
     "text": [
      "hello\n",
      "hello\n",
      "hello\n",
      "hello\n",
      "hello\n",
      "hello\n",
      "hello\n",
      "count: 7\n",
      "end\n"
     ]
    }
   ],
   "source": [
    "l=[1,2,5,6,9,8,10]\n",
    "c=0\n",
    "for i in l:#i=1,2,5,6,9,8,10\n",
    "    print(\"hello\")\n",
    "    c=c+1 #c=0+1:1,1+1:2,2+1:3,3+1:4,4+1:5,5+1:6,6+1:7\n",
    "print(\"count:\",c)\n",
    "print(\"end\")"
   ]
  },
  {
   "cell_type": "code",
   "execution_count": 9,
   "metadata": {},
   "outputs": [
    {
     "name": "stdout",
     "output_type": "stream",
     "text": [
      "count: 7\n",
      "end\n"
     ]
    }
   ],
   "source": [
    "l=[1,2,5,6,9,8,10]\n",
    "c=0\n",
    "for i in l:\n",
    "    c=c+1\n",
    "print(\"count:\",c)\n",
    "print(\"end\")"
   ]
  },
  {
   "cell_type": "code",
   "execution_count": 10,
   "metadata": {
    "scrolled": true
   },
   "outputs": [
    {
     "name": "stdout",
     "output_type": "stream",
     "text": [
      "Even count: 4\n"
     ]
    }
   ],
   "source": [
    "l=[1,2,5,6,9,8,10]\n",
    "# print count of even numbers count=4\n",
    "c=0\n",
    "for number in l:#1,2,5,6,9,8,10\n",
    "    if number%2==0:#False,True,False,True,False,True,True\n",
    "        c=c+1#0,1,0,2,2,3,4\n",
    "print(\"Even count:\",c)\n",
    "        "
   ]
  },
  {
   "cell_type": "code",
   "execution_count": 12,
   "metadata": {},
   "outputs": [
    {
     "name": "stdout",
     "output_type": "stream",
     "text": [
      "Even count: 4\n",
      "Odd count: 3\n"
     ]
    }
   ],
   "source": [
    "l=[1,2,5,6,9,8,10]\n",
    "# print count of even numbers count=4\n",
    "e_c=0\n",
    "o_c=0\n",
    "for number in l:#1,2,5,6,9,8,10\n",
    "    if number%2==0:#False,True,False,True,False,True,True\n",
    "        e_c=e_c+1#0,1,1,2,2,3,4\n",
    "    else:\n",
    "        o_c=o_c+1#1,1,2,2,3,3,3\n",
    "        \n",
    "print(\"Even count:\",e_c)\n",
    "print(\"Odd count:\",o_c)"
   ]
  },
  {
   "cell_type": "code",
   "execution_count": 13,
   "metadata": {},
   "outputs": [
    {
     "name": "stdout",
     "output_type": "stream",
     "text": [
      "Even count: 4\n",
      "Odd count: 3\n"
     ]
    }
   ],
   "source": [
    "l=[1,2,5,6,9,8,10]\n",
    "e_c=0\n",
    "o_c=0\n",
    "for number in l:\n",
    "    if number%2==0:\n",
    "        e_c=e_c+1\n",
    "    else:\n",
    "        o_c=o_c+1\n",
    "print(\"Even count:\",e_c)\n",
    "print(\"Odd count:\",o_c)"
   ]
  },
  {
   "cell_type": "code",
   "execution_count": 14,
   "metadata": {},
   "outputs": [
    {
     "name": "stdout",
     "output_type": "stream",
     "text": [
      "Even count: 0\n"
     ]
    }
   ],
   "source": [
    "l=[1,3,5,11,7,9]\n",
    "# yes: if the list has atleast one even number\n",
    "# no: if the list has not even numbers.\n",
    "e_c=0\n",
    "for number in l:\n",
    "    if number%2==0:\n",
    "        e_c=e_c+1\n",
    "print(\"Even count:\",e_c)"
   ]
  },
  {
   "cell_type": "code",
   "execution_count": 15,
   "metadata": {},
   "outputs": [
    {
     "name": "stdout",
     "output_type": "stream",
     "text": [
      "Even count: 2\n"
     ]
    }
   ],
   "source": [
    "l=[1,3,5,8,11,10,7,9]\n",
    "# yes: if the list has atleast one even number\n",
    "# no: if the list has not even numbers.\n",
    "e_c=0\n",
    "for number in l:\n",
    "    if number%2==0:\n",
    "        e_c=e_c+1\n",
    "print(\"Even count:\",e_c)"
   ]
  },
  {
   "cell_type": "code",
   "execution_count": 16,
   "metadata": {},
   "outputs": [
    {
     "name": "stdout",
     "output_type": "stream",
     "text": [
      "YES\n",
      "YES\n"
     ]
    }
   ],
   "source": [
    "l=[1,3,5,8,11,10,7,9]\n",
    "# yes: if the list has atleast one even number\n",
    "# no: if the list has not even numbers.\n",
    "e_c=0\n",
    "for number in l:\n",
    "    if number%2==0:\n",
    "        e_c=e_c+1\n",
    "        if e_c>0:\n",
    "            print(\"YES\")\n",
    "        else:\n",
    "            print(\"NO\")"
   ]
  },
  {
   "cell_type": "code",
   "execution_count": 19,
   "metadata": {},
   "outputs": [
    {
     "name": "stdout",
     "output_type": "stream",
     "text": [
      "0\n",
      "NO\n"
     ]
    }
   ],
   "source": [
    "l=[1,3,5,11,7,9]\n",
    "# yes: if the list has atleast one even number\n",
    "# no: if the list has not even numbers.\n",
    "e_c=0\n",
    "for number in l:\n",
    "    if number%2==0:\n",
    "        e_c=e_c+1\n",
    "print(e_c)\n",
    "if e_c>0:\n",
    "    print(\"YES\")\n",
    "else:\n",
    "    print(\"NO\")"
   ]
  },
  {
   "cell_type": "code",
   "execution_count": 20,
   "metadata": {},
   "outputs": [
    {
     "name": "stdout",
     "output_type": "stream",
     "text": [
      "1\n",
      "YES\n"
     ]
    }
   ],
   "source": [
    "l=[1,3,5,11,8,7,9]\n",
    "# yes: if the list has atleast one even number\n",
    "# no: if the list has not even numbers.\n",
    "e_c=0\n",
    "for number in l:\n",
    "    if number%2==0:\n",
    "        e_c=e_c+1\n",
    "print(e_c)\n",
    "if e_c>0:\n",
    "    print(\"YES\")\n",
    "else:\n",
    "    print(\"NO\")"
   ]
  },
  {
   "cell_type": "code",
   "execution_count": 22,
   "metadata": {},
   "outputs": [
    {
     "name": "stdout",
     "output_type": "stream",
     "text": [
      "2\n",
      "1\n",
      "3\n",
      "5\n",
      "11\n",
      "8\n",
      "7\n",
      "9\n",
      "2\n",
      "YES\n"
     ]
    }
   ],
   "source": [
    "l=[2,1,3,5,11,8,7,9]\n",
    "# yes: if the list has atleast one even number\n",
    "# no: if the list has not even numbers.\n",
    "e_c=0\n",
    "for number in l:\n",
    "    print(number)\n",
    "    if number%2==0:\n",
    "        e_c=e_c+1\n",
    "print(e_c)\n",
    "if e_c>0:\n",
    "    print(\"YES\")\n",
    "else:\n",
    "    print(\"NO\")"
   ]
  },
  {
   "cell_type": "code",
   "execution_count": 23,
   "metadata": {},
   "outputs": [
    {
     "name": "stdout",
     "output_type": "stream",
     "text": [
      "1\n",
      "3\n",
      "5\n",
      "11\n",
      "8\n",
      "7\n",
      "9\n",
      "1\n",
      "YES\n"
     ]
    }
   ],
   "source": [
    "l=[1,3,5,11,8,7,9]\n",
    "# yes: if the list has atleast one even number\n",
    "# no: if the list has not even numbers.\n",
    "e_c=0\n",
    "for number in l:\n",
    "    print(number)\n",
    "    if number%2==0:\n",
    "        e_c=e_c+1\n",
    "print(e_c)\n",
    "if e_c>0:\n",
    "    print(\"YES\")\n",
    "else:\n",
    "    print(\"NO\")"
   ]
  },
  {
   "cell_type": "code",
   "execution_count": 24,
   "metadata": {},
   "outputs": [
    {
     "name": "stdout",
     "output_type": "stream",
     "text": [
      "1\n",
      "3\n",
      "5\n",
      "11\n",
      "8\n",
      "1\n",
      "YES\n"
     ]
    }
   ],
   "source": [
    "l=[1,3,5,11,8,7,9]\n",
    "# yes: if the list has atleast one even number\n",
    "# no: if the list has not even numbers.\n",
    "e_c=0\n",
    "for number in l:\n",
    "    print(number)\n",
    "    if number%2==0:\n",
    "        e_c=e_c+1\n",
    "        break\n",
    "print(e_c)\n",
    "if e_c>0:\n",
    "    print(\"YES\")\n",
    "else:\n",
    "    print(\"NO\")"
   ]
  },
  {
   "cell_type": "code",
   "execution_count": 25,
   "metadata": {},
   "outputs": [
    {
     "name": "stdout",
     "output_type": "stream",
     "text": [
      "2\n",
      "1\n",
      "YES\n"
     ]
    }
   ],
   "source": [
    "l=[2,1,3,5,11,8,7,9]\n",
    "# yes: if the list has atleast one even number\n",
    "# no: if the list has not even numbers.\n",
    "e_c=0\n",
    "for number in l:\n",
    "    print(number)\n",
    "    if number%2==0:\n",
    "        e_c=e_c+1\n",
    "        break\n",
    "print(e_c)\n",
    "if e_c>0:\n",
    "    print(\"YES\")\n",
    "else:\n",
    "    print(\"NO\")"
   ]
  },
  {
   "cell_type": "code",
   "execution_count": 26,
   "metadata": {},
   "outputs": [
    {
     "name": "stdout",
     "output_type": "stream",
     "text": [
      "started\n",
      "HELLO\n",
      "p\n",
      "ended\n"
     ]
    }
   ],
   "source": [
    "print(\"started\")\n",
    "for i in \"python\":#i=p\n",
    "    print(\"HELLO\")\n",
    "    break\n",
    "    print(\"HI\")\n",
    "print(i)\n",
    "print(\"ended\")"
   ]
  },
  {
   "cell_type": "code",
   "execution_count": 27,
   "metadata": {},
   "outputs": [
    {
     "name": "stdout",
     "output_type": "stream",
     "text": [
      "started\n",
      "HELLO\n",
      "HI\n",
      "HELLO\n",
      "y\n",
      "ended\n"
     ]
    }
   ],
   "source": [
    "print(\"started\")\n",
    "for i in \"python\":#i=p,y\n",
    "    print(\"HELLO\")\n",
    "    if i==\"y\":#p==y:False,y==y:True\n",
    "        break\n",
    "    print(\"HI\")\n",
    "print(i)\n",
    "print(\"ended\")"
   ]
  },
  {
   "cell_type": "code",
   "execution_count": 1,
   "metadata": {},
   "outputs": [
    {
     "name": "stdout",
     "output_type": "stream",
     "text": [
      "started\n",
      "i outside the loop: n\n",
      "ended\n"
     ]
    }
   ],
   "source": [
    "print(\"started\")\n",
    "for i in \"python\":#i=p,y,t,h,o,n,\n",
    "    if i==\"e\":\n",
    "        print(\"breaking\")\n",
    "        break\n",
    "print(\"i outside the loop:\",i)\n",
    "print(\"ended\")"
   ]
  },
  {
   "cell_type": "code",
   "execution_count": 2,
   "metadata": {},
   "outputs": [
    {
     "name": "stdout",
     "output_type": "stream",
     "text": [
      "1\n",
      "3\n",
      "5\n",
      "11\n",
      "8\n",
      "YES\n"
     ]
    }
   ],
   "source": [
    "l=[1,3,5,11,8,7,9]\n",
    "# yes: if the list has atleast one even number\n",
    "# no: if the list has not even numbers.\n",
    "e_c=0\n",
    "for number in l:\n",
    "    print(number)\n",
    "    if number%2==0:\n",
    "        e_c=e_c+1\n",
    "        break\n",
    "if e_c>0:\n",
    "    print(\"YES\")\n",
    "else:\n",
    "    print(\"NO\")"
   ]
  },
  {
   "cell_type": "code",
   "execution_count": 4,
   "metadata": {},
   "outputs": [
    {
     "name": "stdout",
     "output_type": "stream",
     "text": [
      "YES\n"
     ]
    }
   ],
   "source": [
    "l=[2,1,3,5,11,8,7,9]\n",
    "# yes: if the list has atleast one even number\n",
    "# no: if the list has not even numbers.\n",
    "e_c=0\n",
    "for number in l:\n",
    "    if number%2==0:\n",
    "        e_c=e_c+1\n",
    "        break\n",
    "if e_c>0:\n",
    "    print(\"YES\")\n",
    "else:\n",
    "    print(\"NO\")"
   ]
  },
  {
   "cell_type": "code",
   "execution_count": 5,
   "metadata": {},
   "outputs": [
    {
     "name": "stdout",
     "output_type": "stream",
     "text": [
      "started\n",
      "p\n",
      "y\n",
      "t\n",
      "h\n",
      "o\n",
      "n\n",
      "this is else block\n",
      "ended\n"
     ]
    }
   ],
   "source": [
    "print(\"started\")\n",
    "#loop cab terminaed in two sictuations.\n",
    "#1. all the iterations completed: it will execute else block\n",
    "#2. executed break statement: it will not execute else block\n",
    "for i in \"python\":\n",
    "    print(i)\n",
    "else:\n",
    "    print(\"this is else block\")\n",
    "print(\"ended\")"
   ]
  },
  {
   "cell_type": "code",
   "execution_count": 6,
   "metadata": {},
   "outputs": [
    {
     "name": "stdout",
     "output_type": "stream",
     "text": [
      "started\n",
      "p\n",
      "y\n",
      "t\n",
      "h\n",
      "o\n",
      "n\n",
      "this is else block\n",
      "ended\n"
     ]
    }
   ],
   "source": [
    "print(\"started\")\n",
    "#loop cab terminaed in two sictuations.\n",
    "#1. all the iterations completed: it will execute else block\n",
    "#2. executed break statement: it will not execute else block\n",
    "for i in \"python\":#i=p,y,t,h,o,n\n",
    "    if i==\"e\":#False,False,False,False,False,False\n",
    "        break\n",
    "    print(i)#python\n",
    "else:\n",
    "    print(\"this is else block\")\n",
    "print(\"ended\")"
   ]
  },
  {
   "cell_type": "code",
   "execution_count": 7,
   "metadata": {},
   "outputs": [
    {
     "name": "stdout",
     "output_type": "stream",
     "text": [
      "started\n",
      "p\n",
      "y\n",
      "ended\n"
     ]
    }
   ],
   "source": [
    "print(\"started\")\n",
    "#loop cab terminaed in two sictuations.\n",
    "#1. all the iterations completed: it will execute else block\n",
    "#2. executed break statement: it will not execute else block\n",
    "for i in \"python\":#i=p,y,t\n",
    "    if i==\"t\":#False,False,True\n",
    "        break# execute the break.  came out from the loop.\n",
    "    print(i)#py\n",
    "else:\n",
    "    print(\"this is else block\")\n",
    "print(\"ended\")"
   ]
  },
  {
   "cell_type": "code",
   "execution_count": 8,
   "metadata": {},
   "outputs": [
    {
     "name": "stdout",
     "output_type": "stream",
     "text": [
      "YES\n"
     ]
    }
   ],
   "source": [
    "l=[2,1,3,5,11,8,7,9]\n",
    "# yes: if the list has atleast one even number\n",
    "# no: if the list has not even numbers.\n",
    "for number in l:#number=2\n",
    "    if number%2==0:#True\n",
    "        print(\"YES\")#YES\n",
    "        break\n",
    "else:\n",
    "    print(\"NO\")"
   ]
  },
  {
   "cell_type": "code",
   "execution_count": 9,
   "metadata": {},
   "outputs": [
    {
     "name": "stdout",
     "output_type": "stream",
     "text": [
      "NO\n"
     ]
    }
   ],
   "source": [
    "l=[3,5,7]\n",
    "# yes: if the list has atleast one even number\n",
    "# no: if the list has not even numbers.\n",
    "for number in l:#number=3,5,7\n",
    "    if number%2==0:#False,False,False\n",
    "        print(\"YES\")\n",
    "        break\n",
    "else:\n",
    "    print(\"NO\")"
   ]
  },
  {
   "cell_type": "code",
   "execution_count": 10,
   "metadata": {},
   "outputs": [
    {
     "name": "stdout",
     "output_type": "stream",
     "text": [
      "YES\n"
     ]
    }
   ],
   "source": [
    "l=[3,5,7,8]\n",
    "# yes: if the list has atleast one even number\n",
    "# no: if the list has not even numbers.\n",
    "for number in l:#number=3,5,7,8\n",
    "    if number%2==0:#False,False,False,True\n",
    "        print(\"YES\")\n",
    "        break\n",
    "else:\n",
    "    print(\"NO\")"
   ]
  },
  {
   "cell_type": "code",
   "execution_count": 1,
   "metadata": {},
   "outputs": [
    {
     "ename": "IndentationError",
     "evalue": "expected an indented block (<ipython-input-1-0f3c99c6b963>, line 6)",
     "output_type": "error",
     "traceback": [
      "\u001b[1;36m  File \u001b[1;32m\"<ipython-input-1-0f3c99c6b963>\"\u001b[1;36m, line \u001b[1;32m6\u001b[0m\n\u001b[1;33m    print(\"ended\")\u001b[0m\n\u001b[1;37m    ^\u001b[0m\n\u001b[1;31mIndentationError\u001b[0m\u001b[1;31m:\u001b[0m expected an indented block\n"
     ]
    }
   ],
   "source": [
    "print(\"started\")\n",
    "if True:\n",
    "    print(\"hello\")\n",
    "else:\n",
    "    \n",
    "print(\"ended\")"
   ]
  },
  {
   "cell_type": "code",
   "execution_count": 2,
   "metadata": {},
   "outputs": [
    {
     "name": "stdout",
     "output_type": "stream",
     "text": [
      "started\n",
      "hello\n",
      "ended\n"
     ]
    }
   ],
   "source": [
    "print(\"started\")\n",
    "if True:\n",
    "    print(\"hello\")\n",
    "else:\n",
    "    print(\"\")\n",
    "print(\"ended\")"
   ]
  },
  {
   "cell_type": "code",
   "execution_count": 3,
   "metadata": {},
   "outputs": [
    {
     "name": "stdout",
     "output_type": "stream",
     "text": [
      "started\n",
      "hello\n",
      "ended\n"
     ]
    }
   ],
   "source": [
    "print(\"started\")\n",
    "if True:\n",
    "    print(\"hello\")\n",
    "else:\n",
    "    pass\n",
    "print(\"ended\")"
   ]
  },
  {
   "cell_type": "code",
   "execution_count": 4,
   "metadata": {},
   "outputs": [
    {
     "name": "stdout",
     "output_type": "stream",
     "text": [
      "started\n",
      "hi\n",
      "ended\n"
     ]
    }
   ],
   "source": [
    "print(\"started\")\n",
    "if False:\n",
    "    print(\"hello\")\n",
    "else:\n",
    "    pass\n",
    "    print(\"hi\")\n",
    "print(\"ended\")"
   ]
  },
  {
   "cell_type": "code",
   "execution_count": 5,
   "metadata": {},
   "outputs": [
    {
     "name": "stdout",
     "output_type": "stream",
     "text": [
      "started\n",
      "hi\n",
      "ended\n"
     ]
    }
   ],
   "source": [
    "print(\"started\")\n",
    "if False:\n",
    "    print(\"hello\")\n",
    "else:\n",
    "    print(\"hi\")\n",
    "print(\"ended\")"
   ]
  },
  {
   "cell_type": "code",
   "execution_count": 6,
   "metadata": {},
   "outputs": [
    {
     "name": "stdout",
     "output_type": "stream",
     "text": [
      "1\n",
      "2\n",
      "3\n",
      "4\n",
      "5\n",
      "6\n",
      "7\n",
      "8\n",
      "9\n",
      "10\n"
     ]
    }
   ],
   "source": [
    "for i in range(1,11):#i=1,2,3\n",
    "    print(i)"
   ]
  },
  {
   "cell_type": "code",
   "execution_count": 7,
   "metadata": {},
   "outputs": [
    {
     "name": "stdout",
     "output_type": "stream",
     "text": [
      "1\n",
      "3\n",
      "5\n",
      "7\n",
      "9\n"
     ]
    }
   ],
   "source": [
    "for i in range(1,11,2):#i=1,2,3\n",
    "    print(i)"
   ]
  },
  {
   "cell_type": "code",
   "execution_count": 8,
   "metadata": {},
   "outputs": [],
   "source": [
    "for i in range(1,11,-2):\n",
    "    print(i)"
   ]
  },
  {
   "cell_type": "code",
   "execution_count": 9,
   "metadata": {},
   "outputs": [
    {
     "name": "stdout",
     "output_type": "stream",
     "text": [
      "11\n",
      "9\n",
      "7\n",
      "5\n",
      "3\n"
     ]
    }
   ],
   "source": [
    "for i in range(11,1,-2):\n",
    "    print(i)"
   ]
  },
  {
   "cell_type": "code",
   "execution_count": 10,
   "metadata": {},
   "outputs": [
    {
     "ename": "TypeError",
     "evalue": "'str' object cannot be interpreted as an integer",
     "output_type": "error",
     "traceback": [
      "\u001b[1;31m---------------------------------------------------------------------------\u001b[0m",
      "\u001b[1;31mTypeError\u001b[0m                                 Traceback (most recent call last)",
      "\u001b[1;32m<ipython-input-10-e26d3accefa7>\u001b[0m in \u001b[0;36m<module>\u001b[1;34m\u001b[0m\n\u001b[1;32m----> 1\u001b[1;33m \u001b[1;32mfor\u001b[0m \u001b[0mi\u001b[0m \u001b[1;32min\u001b[0m \u001b[0mrange\u001b[0m\u001b[1;33m(\u001b[0m\u001b[1;34m\"a\"\u001b[0m\u001b[1;33m,\u001b[0m\u001b[1;34m\"z\"\u001b[0m\u001b[1;33m)\u001b[0m\u001b[1;33m:\u001b[0m\u001b[1;33m\u001b[0m\u001b[1;33m\u001b[0m\u001b[0m\n\u001b[0m\u001b[0;32m      2\u001b[0m     \u001b[0mprint\u001b[0m\u001b[1;33m(\u001b[0m\u001b[0mi\u001b[0m\u001b[1;33m)\u001b[0m\u001b[1;33m\u001b[0m\u001b[1;33m\u001b[0m\u001b[0m\n",
      "\u001b[1;31mTypeError\u001b[0m: 'str' object cannot be interpreted as an integer"
     ]
    }
   ],
   "source": [
    "for i in range(\"a\",\"z\"):\n",
    "    print(i)"
   ]
  },
  {
   "cell_type": "code",
   "execution_count": 11,
   "metadata": {},
   "outputs": [
    {
     "name": "stdout",
     "output_type": "stream",
     "text": [
      "97\n",
      "98\n",
      "99\n",
      "100\n",
      "101\n",
      "102\n",
      "103\n",
      "104\n",
      "105\n",
      "106\n",
      "107\n",
      "108\n",
      "109\n",
      "110\n",
      "111\n",
      "112\n",
      "113\n",
      "114\n",
      "115\n",
      "116\n",
      "117\n",
      "118\n",
      "119\n",
      "120\n",
      "121\n",
      "122\n"
     ]
    }
   ],
   "source": [
    "for i in range(ord(\"a\"),ord(\"z\")+1):\n",
    "    print(i)"
   ]
  },
  {
   "cell_type": "code",
   "execution_count": 12,
   "metadata": {},
   "outputs": [
    {
     "name": "stdout",
     "output_type": "stream",
     "text": [
      "a\n",
      "b\n",
      "c\n",
      "d\n",
      "e\n",
      "f\n",
      "g\n",
      "h\n",
      "i\n",
      "j\n",
      "k\n",
      "l\n",
      "m\n",
      "n\n",
      "o\n",
      "p\n",
      "q\n",
      "r\n",
      "s\n",
      "t\n",
      "u\n",
      "v\n",
      "w\n",
      "x\n",
      "y\n",
      "z\n"
     ]
    }
   ],
   "source": [
    "for i in range(ord(\"a\"),ord(\"z\")+1):\n",
    "    print(chr(i))"
   ]
  },
  {
   "cell_type": "code",
   "execution_count": 13,
   "metadata": {},
   "outputs": [
    {
     "name": "stdout",
     "output_type": "stream",
     "text": [
      "A\n",
      "B\n",
      "C\n",
      "D\n",
      "E\n",
      "F\n",
      "G\n",
      "H\n",
      "I\n",
      "J\n",
      "K\n",
      "L\n",
      "M\n",
      "N\n",
      "O\n",
      "P\n",
      "Q\n",
      "R\n",
      "S\n",
      "T\n",
      "U\n",
      "V\n",
      "W\n",
      "X\n",
      "Y\n",
      "Z\n"
     ]
    }
   ],
   "source": [
    "for i in range(ord(\"A\"),ord(\"Z\")+1):\n",
    "    print(chr(i))"
   ]
  },
  {
   "cell_type": "code",
   "execution_count": 14,
   "metadata": {},
   "outputs": [
    {
     "name": "stdout",
     "output_type": "stream",
     "text": [
      "started\n",
      "0\n",
      "ended\n"
     ]
    }
   ],
   "source": [
    "print(\"started\")\n",
    "i=0\n",
    "if i<3:#0<3:True\n",
    "    print(i)\n",
    "    i=i+1#i=1\n",
    "print(\"ended\")"
   ]
  },
  {
   "cell_type": "code",
   "execution_count": 15,
   "metadata": {},
   "outputs": [
    {
     "name": "stdout",
     "output_type": "stream",
     "text": [
      "started\n",
      "0\n",
      "1\n",
      "2\n",
      "ended\n"
     ]
    }
   ],
   "source": [
    "print(\"started\")\n",
    "i=0\n",
    "while i<3:#0<3:True,1<3:true,2<3:true,3<3:False\n",
    "    print(i)\n",
    "    i=i+1#i=0+1:1,1+1:2,2+1:3\n",
    "print(\"ended\")"
   ]
  },
  {
   "cell_type": "code",
   "execution_count": null,
   "metadata": {},
   "outputs": [],
   "source": [
    "#infinite loop\n",
    "print(\"started\")\n",
    "i=0\n",
    "while i<3:#0<3:True,0<3:True,0<3:True\n",
    "    print(i)\n",
    "    print(\"hello\")\n",
    "print(\"ended\")"
   ]
  },
  {
   "cell_type": "code",
   "execution_count": null,
   "metadata": {},
   "outputs": [],
   "source": [
    "#infinite loop\n",
    "print(\"started\")\n",
    "i=0\n",
    "while i<3:#0<3:True,-1<3:True,-2<3:True,-3<3:true,-4<3:True\n",
    "    print(i)#0,-1,-2,-3,\n",
    "    print(\"hello\")#\n",
    "    i=i-1#:0-1:-1,-1-1:-2,-2-1:-3,-3-1:-4\n",
    "print(\"ended\")"
   ]
  },
  {
   "cell_type": "code",
   "execution_count": 16,
   "metadata": {},
   "outputs": [
    {
     "name": "stdout",
     "output_type": "stream",
     "text": [
      "started\n",
      "ended\n"
     ]
    }
   ],
   "source": [
    "print(\"started\")\n",
    "i=10\n",
    "while i<3:#10<3: False\n",
    "    print(i)\n",
    "    i=i+2\n",
    "print(\"ended\")"
   ]
  },
  {
   "cell_type": "code",
   "execution_count": null,
   "metadata": {},
   "outputs": [],
   "source": [
    "print(\"started\")\n",
    "i=10\n",
    "while True:\n",
    "    print(i)\n",
    "    i=i+2\n",
    "print(\"ended\")"
   ]
  },
  {
   "cell_type": "code",
   "execution_count": 17,
   "metadata": {},
   "outputs": [
    {
     "data": {
      "text/plain": [
       "6"
      ]
     },
     "execution_count": 17,
     "metadata": {},
     "output_type": "execute_result"
    }
   ],
   "source": [
    "import random\n",
    "random.choice([1,2,3,4,5,6])"
   ]
  },
  {
   "cell_type": "code",
   "execution_count": 18,
   "metadata": {},
   "outputs": [
    {
     "data": {
      "text/plain": [
       "6"
      ]
     },
     "execution_count": 18,
     "metadata": {},
     "output_type": "execute_result"
    }
   ],
   "source": [
    "import random\n",
    "random.choice([1,2,3,4,5,6])"
   ]
  },
  {
   "cell_type": "code",
   "execution_count": 19,
   "metadata": {},
   "outputs": [
    {
     "data": {
      "text/plain": [
       "6"
      ]
     },
     "execution_count": 19,
     "metadata": {},
     "output_type": "execute_result"
    }
   ],
   "source": [
    "import random\n",
    "random.choice([1,2,3,4,5,6])"
   ]
  },
  {
   "cell_type": "code",
   "execution_count": 20,
   "metadata": {},
   "outputs": [
    {
     "data": {
      "text/plain": [
       "3"
      ]
     },
     "execution_count": 20,
     "metadata": {},
     "output_type": "execute_result"
    }
   ],
   "source": [
    "import random\n",
    "random.choice([1,2,3,4,5,6])"
   ]
  },
  {
   "cell_type": "code",
   "execution_count": 21,
   "metadata": {},
   "outputs": [
    {
     "data": {
      "text/plain": [
       "4"
      ]
     },
     "execution_count": 21,
     "metadata": {},
     "output_type": "execute_result"
    }
   ],
   "source": [
    "import random\n",
    "random.choice([1,2,3,4,5,6])"
   ]
  },
  {
   "cell_type": "code",
   "execution_count": 22,
   "metadata": {},
   "outputs": [
    {
     "data": {
      "text/plain": [
       "3"
      ]
     },
     "execution_count": 22,
     "metadata": {},
     "output_type": "execute_result"
    }
   ],
   "source": [
    "import random\n",
    "random.choice([1,2,3,4,5,6])"
   ]
  },
  {
   "cell_type": "code",
   "execution_count": 23,
   "metadata": {},
   "outputs": [
    {
     "data": {
      "text/plain": [
       "6"
      ]
     },
     "execution_count": 23,
     "metadata": {},
     "output_type": "execute_result"
    }
   ],
   "source": [
    "import random\n",
    "random.choice([1,2,3,4,5,6])"
   ]
  },
  {
   "cell_type": "code",
   "execution_count": 24,
   "metadata": {},
   "outputs": [
    {
     "name": "stdout",
     "output_type": "stream",
     "text": [
      "2\n"
     ]
    }
   ],
   "source": [
    "while True:\n",
    "    number = random.choice([1,2,3,4,5,6])\n",
    "    if number==4:\n",
    "        break\n",
    "    print(number)"
   ]
  },
  {
   "cell_type": "code",
   "execution_count": 25,
   "metadata": {},
   "outputs": [
    {
     "name": "stdout",
     "output_type": "stream",
     "text": [
      "1\n"
     ]
    }
   ],
   "source": [
    "while True:\n",
    "    number = random.choice([1,2,3,4,5,6])\n",
    "    if number==4:\n",
    "        break\n",
    "    print(number)"
   ]
  },
  {
   "cell_type": "code",
   "execution_count": 26,
   "metadata": {},
   "outputs": [
    {
     "name": "stdout",
     "output_type": "stream",
     "text": [
      "6\n"
     ]
    }
   ],
   "source": [
    "while True:\n",
    "    number = random.choice([1,2,3,4,5,6])\n",
    "    if number==4:\n",
    "        break\n",
    "    print(number)"
   ]
  },
  {
   "cell_type": "code",
   "execution_count": 27,
   "metadata": {},
   "outputs": [
    {
     "name": "stdout",
     "output_type": "stream",
     "text": [
      "1\n"
     ]
    }
   ],
   "source": [
    "while True:\n",
    "    number = random.choice([1,2,3,4,5,6])\n",
    "    if number==4:\n",
    "        break\n",
    "    print(number)"
   ]
  },
  {
   "cell_type": "code",
   "execution_count": 28,
   "metadata": {},
   "outputs": [
    {
     "name": "stdout",
     "output_type": "stream",
     "text": [
      "3\n",
      "5\n",
      "2\n"
     ]
    }
   ],
   "source": [
    "while True:\n",
    "    number = random.choice([1,2,3,4,5,6])\n",
    "    if number==4:\n",
    "        break\n",
    "    print(number)"
   ]
  },
  {
   "cell_type": "code",
   "execution_count": 29,
   "metadata": {},
   "outputs": [
    {
     "name": "stdout",
     "output_type": "stream",
     "text": [
      "6\n",
      "2\n",
      "6\n",
      "1\n"
     ]
    }
   ],
   "source": [
    "while True:\n",
    "    number = random.choice([1,2,3,4,5,6])\n",
    "    if number==4:\n",
    "        break\n",
    "    print(number)"
   ]
  },
  {
   "cell_type": "code",
   "execution_count": 30,
   "metadata": {},
   "outputs": [
    {
     "name": "stdout",
     "output_type": "stream",
     "text": [
      "1\n",
      "3\n",
      "2\n",
      "6\n",
      "3\n",
      "5\n",
      "6\n",
      "5\n",
      "3\n",
      "1\n",
      "6\n",
      "6\n",
      "6\n",
      "3\n",
      "5\n",
      "2\n",
      "3\n",
      "2\n"
     ]
    }
   ],
   "source": [
    "while True:\n",
    "    number = random.choice([1,2,3,4,5,6])\n",
    "    if number==4:\n",
    "        break\n",
    "    print(number)"
   ]
  },
  {
   "cell_type": "code",
   "execution_count": 31,
   "metadata": {},
   "outputs": [
    {
     "name": "stdout",
     "output_type": "stream",
     "text": [
      "Select a number(1-10):3\n",
      "7\n",
      "30 %\n"
     ]
    }
   ],
   "source": [
    "# check your luck today.\n",
    "number = int(input(\"Select a number(1-10):\"))\n",
    "number_iterations = 0\n",
    "while number != random.choice([1,2,3,4,5,6,7,8,9,10]):#\n",
    "    number_iterations = number_iterations+1\n",
    "print(number_iterations)\n",
    "print((10-number_iterations)*10,\"%\")\n",
    "    "
   ]
  },
  {
   "cell_type": "code",
   "execution_count": 32,
   "metadata": {},
   "outputs": [
    {
     "name": "stdout",
     "output_type": "stream",
     "text": [
      "Select a number(1-10):7\n",
      "12\n",
      "-20 %\n"
     ]
    }
   ],
   "source": [
    "# check your luck today.\n",
    "number = int(input(\"Select a number(1-10):\"))\n",
    "number_iterations = 0\n",
    "while number != random.choice([1,2,3,4,5,6,7,8,9,10]):#\n",
    "    number_iterations = number_iterations+1\n",
    "print(number_iterations)\n",
    "print((10-number_iterations)*10,\"%\")\n",
    "    "
   ]
  },
  {
   "cell_type": "code",
   "execution_count": 33,
   "metadata": {},
   "outputs": [
    {
     "name": "stdout",
     "output_type": "stream",
     "text": [
      "Select a number(1-10):5\n",
      "0\n",
      "100 %\n"
     ]
    }
   ],
   "source": [
    "# check your luck today.\n",
    "number = int(input(\"Select a number(1-10):\"))\n",
    "number_iterations = 0\n",
    "while number != random.choice([1,2,3,4,5,6,7,8,9,10]):#\n",
    "    number_iterations = number_iterations+1\n",
    "print(number_iterations)\n",
    "print((10-number_iterations)*10,\"%\")\n",
    "    "
   ]
  },
  {
   "cell_type": "code",
   "execution_count": 34,
   "metadata": {},
   "outputs": [
    {
     "name": "stdout",
     "output_type": "stream",
     "text": [
      "Select a number(1-10):5\n",
      "13\n",
      "-30 %\n"
     ]
    }
   ],
   "source": [
    "# check your luck today.\n",
    "number = int(input(\"Select a number(1-10):\"))\n",
    "number_iterations = 0\n",
    "while number != random.choice([1,2,3,4,5,6,7,8,9,10]):#\n",
    "    number_iterations = number_iterations+1\n",
    "print(number_iterations)\n",
    "print((10-number_iterations)*10,\"%\")"
   ]
  },
  {
   "cell_type": "code",
   "execution_count": 35,
   "metadata": {},
   "outputs": [],
   "source": [
    "a=1000"
   ]
  },
  {
   "cell_type": "code",
   "execution_count": 36,
   "metadata": {},
   "outputs": [
    {
     "name": "stdout",
     "output_type": "stream",
     "text": [
      "1000\n"
     ]
    }
   ],
   "source": [
    "print(a)"
   ]
  },
  {
   "cell_type": "code",
   "execution_count": 37,
   "metadata": {},
   "outputs": [
    {
     "name": "stdout",
     "output_type": "stream",
     "text": [
      "1010\n"
     ]
    }
   ],
   "source": [
    "print(a+10)"
   ]
  },
  {
   "cell_type": "code",
   "execution_count": null,
   "metadata": {},
   "outputs": [],
   "source": [
    "# check your luck today.\n",
    "number = int(input(\"Select a number(1-10):\"))\n",
    "number_iterations = 0\n",
    "while number != random.choice(range(1,101)):#\n",
    "    number_iterations = number_iterations+1\n",
    "print(number_iterations)\n",
    "print((10-number_iterations)*10,\"%\")"
   ]
  },
  {
   "cell_type": "code",
   "execution_count": 38,
   "metadata": {},
   "outputs": [
    {
     "name": "stdout",
     "output_type": "stream",
     "text": [
      "16\n"
     ]
    }
   ],
   "source": [
    "print(random.randint(1,100))"
   ]
  },
  {
   "cell_type": "code",
   "execution_count": 39,
   "metadata": {},
   "outputs": [
    {
     "name": "stdout",
     "output_type": "stream",
     "text": [
      "5\n"
     ]
    }
   ],
   "source": [
    "print(random.randint(1,100))"
   ]
  },
  {
   "cell_type": "code",
   "execution_count": 40,
   "metadata": {},
   "outputs": [
    {
     "name": "stdout",
     "output_type": "stream",
     "text": [
      "24\n"
     ]
    }
   ],
   "source": [
    "print(random.randint(1,100))"
   ]
  },
  {
   "cell_type": "code",
   "execution_count": 41,
   "metadata": {},
   "outputs": [
    {
     "name": "stdout",
     "output_type": "stream",
     "text": [
      "74\n"
     ]
    }
   ],
   "source": [
    "print(random.randint(1,100))"
   ]
  },
  {
   "cell_type": "code",
   "execution_count": 42,
   "metadata": {},
   "outputs": [
    {
     "name": "stdout",
     "output_type": "stream",
     "text": [
      "70\n"
     ]
    }
   ],
   "source": [
    "print(random.randint(1,100))"
   ]
  },
  {
   "cell_type": "code",
   "execution_count": 43,
   "metadata": {},
   "outputs": [
    {
     "name": "stdout",
     "output_type": "stream",
     "text": [
      "26\n"
     ]
    }
   ],
   "source": [
    "print(random.randint(1,100))"
   ]
  },
  {
   "cell_type": "code",
   "execution_count": 44,
   "metadata": {},
   "outputs": [
    {
     "name": "stdout",
     "output_type": "stream",
     "text": [
      "i= 1\n",
      "hello\n",
      "i= 2\n",
      "hello\n",
      "i= 3\n",
      "i= 4\n",
      "hello\n",
      "i= 5\n"
     ]
    }
   ],
   "source": [
    "#-: no execution,\n",
    "#+: execution\n",
    "l=[1,2,3,4,5,6]\n",
    "for i in l:#i=1,2,3,4,5\n",
    "    print(\"i=\",i)#i=1,i=2,i=3,i=4,i=5\n",
    "    if i==3:#1==3:False,2==3:False,3==3:True,3==4:False,5==3:False\n",
    "        continue#-,-,+,-,-\n",
    "    if i==5:#1==5:False,2==5:False,-,5==4:false,5==5:True\n",
    "        break#-,-,-,-,+\n",
    "    print(\"hello\")#hello,hello,-,hello,-\n"
   ]
  },
  {
   "cell_type": "code",
   "execution_count": 45,
   "metadata": {},
   "outputs": [
    {
     "data": {
      "text/plain": [
       "5"
      ]
     },
     "execution_count": 45,
     "metadata": {},
     "output_type": "execute_result"
    }
   ],
   "source": [
    "2+3"
   ]
  },
  {
   "cell_type": "code",
   "execution_count": 1,
   "metadata": {},
   "outputs": [
    {
     "name": "stdout",
     "output_type": "stream",
     "text": [
      "<class 'str'>\n"
     ]
    }
   ],
   "source": [
    "s=\"python\"\n",
    "print(type(s))"
   ]
  },
  {
   "cell_type": "code",
   "execution_count": null,
   "metadata": {},
   "outputs": [],
   "source": []
  }
 ],
 "metadata": {
  "kernelspec": {
   "display_name": "Python 3",
   "language": "python",
   "name": "python3"
  },
  "language_info": {
   "codemirror_mode": {
    "name": "ipython",
    "version": 3
   },
   "file_extension": ".py",
   "mimetype": "text/x-python",
   "name": "python",
   "nbconvert_exporter": "python",
   "pygments_lexer": "ipython3",
   "version": "3.8.3"
  }
 },
 "nbformat": 4,
 "nbformat_minor": 4
}
