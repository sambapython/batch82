{
 "cells": [
  {
   "cell_type": "code",
   "execution_count": 1,
   "metadata": {},
   "outputs": [
    {
     "name": "stdout",
     "output_type": "stream",
     "text": [
      "this is class\n"
     ]
    }
   ],
   "source": [
    "def fun():\n",
    "    print(\"this is fun\")\n",
    "class Emp:# class name in camelcase\n",
    "    print(\"this is class\")"
   ]
  },
  {
   "cell_type": "code",
   "execution_count": 2,
   "metadata": {},
   "outputs": [
    {
     "name": "stdout",
     "output_type": "stream",
     "text": [
      "this is class\n",
      "3000\n"
     ]
    }
   ],
   "source": [
    "def fun():\n",
    "    print(\"this is fun\")\n",
    "class Emp:# class name in camelcase\n",
    "    print(\"this is class\")\n",
    "    x=1000\n",
    "    y=2000\n",
    "    z=x+y\n",
    "    print(z)"
   ]
  },
  {
   "cell_type": "code",
   "execution_count": 3,
   "metadata": {},
   "outputs": [
    {
     "name": "stdout",
     "output_type": "stream",
     "text": [
      "this is class\n"
     ]
    },
    {
     "ename": "NameError",
     "evalue": "name 'z' is not defined",
     "output_type": "error",
     "traceback": [
      "\u001b[1;31m---------------------------------------------------------------------------\u001b[0m",
      "\u001b[1;31mNameError\u001b[0m                                 Traceback (most recent call last)",
      "\u001b[1;32m<ipython-input-3-a45108462c95>\u001b[0m in \u001b[0;36m<module>\u001b[1;34m\u001b[0m\n\u001b[0;32m      9\u001b[0m     \u001b[1;32mdef\u001b[0m \u001b[0mfun\u001b[0m\u001b[1;33m(\u001b[0m\u001b[0mx\u001b[0m\u001b[1;33m)\u001b[0m\u001b[1;33m:\u001b[0m\u001b[1;33m\u001b[0m\u001b[1;33m\u001b[0m\u001b[0m\n\u001b[0;32m     10\u001b[0m         \u001b[0mprint\u001b[0m\u001b[1;33m(\u001b[0m\u001b[1;34m\"this is fun in class Emp\"\u001b[0m\u001b[1;33m)\u001b[0m\u001b[1;33m\u001b[0m\u001b[1;33m\u001b[0m\u001b[0m\n\u001b[1;32m---> 11\u001b[1;33m \u001b[0mprint\u001b[0m\u001b[1;33m(\u001b[0m\u001b[0mz\u001b[0m\u001b[1;33m)\u001b[0m\u001b[1;33m\u001b[0m\u001b[1;33m\u001b[0m\u001b[0m\n\u001b[0m",
      "\u001b[1;31mNameError\u001b[0m: name 'z' is not defined"
     ]
    }
   ],
   "source": [
    "def fun():\n",
    "    print(\"this is fun\")\n",
    "    \n",
    "class Emp:# class name in camelcase\n",
    "    print(\"this is class\")\n",
    "    x=1000\n",
    "    y=2000\n",
    "    z=x+y\n",
    "    def fun(x):\n",
    "        print(\"this is fun in class Emp\")\n",
    "print(z)"
   ]
  },
  {
   "cell_type": "code",
   "execution_count": 4,
   "metadata": {},
   "outputs": [
    {
     "name": "stdout",
     "output_type": "stream",
     "text": [
      "this is class\n",
      "3000\n"
     ]
    }
   ],
   "source": [
    "def fun():\n",
    "    print(\"this is fun\")\n",
    "    \n",
    "class Emp:# class name in camelcase\n",
    "    print(\"this is class\")\n",
    "    x=1000\n",
    "    y=2000\n",
    "    z=x+y\n",
    "    def fun(x):\n",
    "        print(\"this is fun in class Emp\")\n",
    "print(Emp.z)"
   ]
  },
  {
   "cell_type": "code",
   "execution_count": 5,
   "metadata": {},
   "outputs": [
    {
     "name": "stdout",
     "output_type": "stream",
     "text": [
      "this is class\n",
      "3000\n",
      "this is fun in class Emp\n"
     ]
    }
   ],
   "source": [
    "def fun():\n",
    "    print(\"this is fun\")\n",
    "    \n",
    "class Emp:# class name in camelcase\n",
    "    print(\"this is class\")\n",
    "    x=1000\n",
    "    y=2000\n",
    "    z=x+y\n",
    "    def fun(x):\n",
    "        print(\"this is fun in class Emp\")\n",
    "print(Emp.z)\n",
    "Emp.fun(10)"
   ]
  },
  {
   "cell_type": "code",
   "execution_count": 6,
   "metadata": {},
   "outputs": [
    {
     "name": "stdout",
     "output_type": "stream",
     "text": [
      "this is class\n",
      "3000\n",
      "this is fun in class Emp\n",
      "<class 'type'>\n"
     ]
    }
   ],
   "source": [
    "class Emp:# class name in camelcase\n",
    "    print(\"this is class\")\n",
    "    x=1000\n",
    "    y=2000\n",
    "    z=x+y\n",
    "    def fun(x):\n",
    "        print(\"this is fun in class Emp\")\n",
    "print(Emp.z)\n",
    "Emp.fun(10)\n",
    "print(type(Emp))"
   ]
  },
  {
   "cell_type": "code",
   "execution_count": 7,
   "metadata": {},
   "outputs": [
    {
     "name": "stdout",
     "output_type": "stream",
     "text": [
      "this is class\n",
      "3000\n",
      "this is fun in class Emp\n",
      "<class 'type'>\n",
      "<class '__main__.Emp'>\n"
     ]
    }
   ],
   "source": [
    "class Emp:# class name in camelcase\n",
    "    print(\"this is class\")\n",
    "    x=1000\n",
    "    y=2000\n",
    "    z=x+y\n",
    "    def fun(x):\n",
    "        print(\"this is fun in class Emp\")\n",
    "print(Emp.z)\n",
    "Emp.fun(10)\n",
    "print(type(Emp))\n",
    "print(Emp)"
   ]
  },
  {
   "cell_type": "code",
   "execution_count": 8,
   "metadata": {},
   "outputs": [
    {
     "name": "stdout",
     "output_type": "stream",
     "text": [
      "this is class\n",
      "3000\n",
      "this is fun in class Emp\n",
      "<class 'type'>\n",
      "<class '__main__.Emp'>\n",
      "1497414210288\n"
     ]
    }
   ],
   "source": [
    "class Emp:# class name in camelcase\n",
    "    print(\"this is class\")\n",
    "    x=1000\n",
    "    y=2000\n",
    "    z=x+y\n",
    "    def fun(x):\n",
    "        print(\"this is fun in class Emp\")\n",
    "print(Emp.z)\n",
    "Emp.fun(10)\n",
    "print(type(Emp))\n",
    "print(Emp)\n",
    "print(id(Emp))"
   ]
  },
  {
   "cell_type": "code",
   "execution_count": 10,
   "metadata": {},
   "outputs": [
    {
     "name": "stdout",
     "output_type": "stream",
     "text": [
      "Bhargav 2 7654321\n",
      "Sambasiva rao 1 123456\n"
     ]
    }
   ],
   "source": [
    "class Emp:\n",
    "    pass\n",
    "samba=Emp()# data object, samba is the reference of dataobject\n",
    "bhargav = Emp()# bhargav is the reference of data object\n",
    "samba.name=\"Sambasiva rao\"\n",
    "bhargav.name=\"Bhargav\"\n",
    "samba.emp_id=1\n",
    "bhargav.emp_id=2\n",
    "samba.sal=123456\n",
    "bhargav.sal=7654321\n",
    "print(bhargav.name,bhargav.emp_id,bhargav.sal)\n",
    "print(samba.name,samba.emp_id,samba.sal)"
   ]
  },
  {
   "cell_type": "code",
   "execution_count": 1,
   "metadata": {},
   "outputs": [
    {
     "name": "stdout",
     "output_type": "stream",
     "text": [
      "('Bhargav', 2, 7654321)\n",
      "('Sambasiva rao', 1, 123456)\n"
     ]
    }
   ],
   "source": [
    "class Emp:\n",
    "    \n",
    "    def get(x):\n",
    "        return x.name, x.emp_id, x.sal\n",
    "samba=Emp()# data object, samba is the reference of dataobject\n",
    "bhargav = Emp()# bhargav is the reference of data object\n",
    "samba.name=\"Sambasiva rao\"\n",
    "bhargav.name=\"Bhargav\"\n",
    "samba.emp_id=1\n",
    "bhargav.emp_id=2\n",
    "samba.sal=123456\n",
    "bhargav.sal=7654321\n",
    "#print(bhargav.name,bhargav.emp_id,bhargav.sal)\n",
    "print(Emp.get(bhargav))\n",
    "#print(samba.name,samba.emp_id,samba.sal)\n",
    "print(Emp.get(samba))"
   ]
  },
  {
   "cell_type": "code",
   "execution_count": 2,
   "metadata": {},
   "outputs": [
    {
     "ename": "AttributeError",
     "evalue": "'Emp' object has no attribute 'emp_id'",
     "output_type": "error",
     "traceback": [
      "\u001b[1;31m---------------------------------------------------------------------------\u001b[0m",
      "\u001b[1;31mAttributeError\u001b[0m                            Traceback (most recent call last)",
      "\u001b[1;32m<ipython-input-2-7da00014be72>\u001b[0m in \u001b[0;36m<module>\u001b[1;34m\u001b[0m\n\u001b[0;32m     11\u001b[0m \u001b[0mbhargav\u001b[0m\u001b[1;33m.\u001b[0m\u001b[0msal\u001b[0m\u001b[1;33m=\u001b[0m\u001b[1;36m7654321\u001b[0m\u001b[1;33m\u001b[0m\u001b[1;33m\u001b[0m\u001b[0m\n\u001b[0;32m     12\u001b[0m \u001b[1;31m#print(bhargav.name,bhargav.emp_id,bhargav.sal)\u001b[0m\u001b[1;33m\u001b[0m\u001b[1;33m\u001b[0m\u001b[1;33m\u001b[0m\u001b[0m\n\u001b[1;32m---> 13\u001b[1;33m \u001b[0mprint\u001b[0m\u001b[1;33m(\u001b[0m\u001b[0mEmp\u001b[0m\u001b[1;33m.\u001b[0m\u001b[0mget\u001b[0m\u001b[1;33m(\u001b[0m\u001b[0mbhargav\u001b[0m\u001b[1;33m)\u001b[0m\u001b[1;33m)\u001b[0m\u001b[1;33m\u001b[0m\u001b[1;33m\u001b[0m\u001b[0m\n\u001b[0m\u001b[0;32m     14\u001b[0m \u001b[1;31m#print(samba.name,samba.emp_id,samba.sal)\u001b[0m\u001b[1;33m\u001b[0m\u001b[1;33m\u001b[0m\u001b[1;33m\u001b[0m\u001b[0m\n\u001b[0;32m     15\u001b[0m \u001b[0mprint\u001b[0m\u001b[1;33m(\u001b[0m\u001b[0mEmp\u001b[0m\u001b[1;33m.\u001b[0m\u001b[0mget\u001b[0m\u001b[1;33m(\u001b[0m\u001b[0msamba\u001b[0m\u001b[1;33m)\u001b[0m\u001b[1;33m)\u001b[0m\u001b[1;33m\u001b[0m\u001b[1;33m\u001b[0m\u001b[0m\n",
      "\u001b[1;32m<ipython-input-2-7da00014be72>\u001b[0m in \u001b[0;36mget\u001b[1;34m(x)\u001b[0m\n\u001b[0;32m      2\u001b[0m \u001b[1;33m\u001b[0m\u001b[0m\n\u001b[0;32m      3\u001b[0m     \u001b[1;32mdef\u001b[0m \u001b[0mget\u001b[0m\u001b[1;33m(\u001b[0m\u001b[0mx\u001b[0m\u001b[1;33m)\u001b[0m\u001b[1;33m:\u001b[0m\u001b[1;33m\u001b[0m\u001b[1;33m\u001b[0m\u001b[0m\n\u001b[1;32m----> 4\u001b[1;33m         \u001b[1;32mreturn\u001b[0m \u001b[0mx\u001b[0m\u001b[1;33m.\u001b[0m\u001b[0mname\u001b[0m\u001b[1;33m,\u001b[0m \u001b[0mx\u001b[0m\u001b[1;33m.\u001b[0m\u001b[0memp_id\u001b[0m\u001b[1;33m,\u001b[0m \u001b[0mx\u001b[0m\u001b[1;33m.\u001b[0m\u001b[0msal\u001b[0m\u001b[1;33m\u001b[0m\u001b[1;33m\u001b[0m\u001b[0m\n\u001b[0m\u001b[0;32m      5\u001b[0m \u001b[0msamba\u001b[0m\u001b[1;33m=\u001b[0m\u001b[0mEmp\u001b[0m\u001b[1;33m(\u001b[0m\u001b[1;33m)\u001b[0m\u001b[1;31m# data object, samba is the reference of dataobject\u001b[0m\u001b[1;33m\u001b[0m\u001b[1;33m\u001b[0m\u001b[0m\n\u001b[0;32m      6\u001b[0m \u001b[0mbhargav\u001b[0m \u001b[1;33m=\u001b[0m \u001b[0mEmp\u001b[0m\u001b[1;33m(\u001b[0m\u001b[1;33m)\u001b[0m\u001b[1;31m# bhargav is the reference of data object\u001b[0m\u001b[1;33m\u001b[0m\u001b[1;33m\u001b[0m\u001b[0m\n",
      "\u001b[1;31mAttributeError\u001b[0m: 'Emp' object has no attribute 'emp_id'"
     ]
    }
   ],
   "source": [
    "class Emp:\n",
    "    \n",
    "    def get(x):\n",
    "        return x.name, x.emp_id, x.sal\n",
    "samba=Emp()# data object, samba is the reference of dataobject\n",
    "bhargav = Emp()# bhargav is the reference of data object\n",
    "samba.name=\"Sambasiva rao\"\n",
    "bhargav.name=\"Bhargav\"\n",
    "samba.emp_id=1\n",
    "samba.sal=123456\n",
    "bhargav.sal=7654321\n",
    "#print(bhargav.name,bhargav.emp_id,bhargav.sal)\n",
    "print(Emp.get(bhargav))\n",
    "#print(samba.name,samba.emp_id,samba.sal)\n",
    "print(Emp.get(samba))"
   ]
  },
  {
   "cell_type": "code",
   "execution_count": 3,
   "metadata": {},
   "outputs": [
    {
     "name": "stdout",
     "output_type": "stream",
     "text": [
      "('Bhargav', 2, 654321)\n",
      "('sambasiva rao', 1, 123456)\n"
     ]
    }
   ],
   "source": [
    "class Emp:\n",
    "    \n",
    "    def get(x):\n",
    "        return x.name, x.emp_id, x.sal\n",
    "    \n",
    "    def set_data(x,emp_name,emp_id,emp_sal):\n",
    "        x.name = emp_name\n",
    "        x.sal= emp_sal\n",
    "        x.emp_id=emp_id\n",
    "        \n",
    "        \n",
    "samba=Emp()# data object, samba is the reference of dataobject\n",
    "bhargav = Emp()# bhargav is the reference of data object\n",
    "Emp.set_data(samba, \"sambasiva rao\",1,123456)\n",
    "Emp.set_data(bhargav, \"Bhargav\",2,654321)\n",
    "# samba.name=\"Sambasiva rao\"\n",
    "# bhargav.name=\"Bhargav\"\n",
    "# samba.emp_id=1\n",
    "# bhargav.emp_id=2\n",
    "# samba.sal=123456\n",
    "# bhargav.sal=7654321\n",
    "#print(bhargav.name,bhargav.emp_id,bhargav.sal)\n",
    "print(Emp.get(bhargav))\n",
    "#print(samba.name,samba.emp_id,samba.sal)\n",
    "print(Emp.get(samba))"
   ]
  },
  {
   "cell_type": "code",
   "execution_count": 4,
   "metadata": {},
   "outputs": [
    {
     "name": "stdout",
     "output_type": "stream",
     "text": [
      "('Bhargav', 2, 654321)\n",
      "('sambasiva rao', 1, 123456)\n"
     ]
    }
   ],
   "source": [
    "class Emp:\n",
    "    def get(x):\n",
    "        return x.name, x.emp_id, x.sal\n",
    "    def set_data(x,emp_name,emp_id,emp_sal):\n",
    "        x.name = emp_name\n",
    "        x.sal= emp_sal\n",
    "        x.emp_id=emp_id\n",
    "samba=Emp()\n",
    "bhargav = Emp()\n",
    "Emp.set_data(samba, \"sambasiva rao\",1,123456)\n",
    "Emp.set_data(bhargav, \"Bhargav\",2,654321)\n",
    "print(Emp.get(bhargav))\n",
    "print(Emp.get(samba))"
   ]
  },
  {
   "cell_type": "code",
   "execution_count": 7,
   "metadata": {},
   "outputs": [
    {
     "name": "stdout",
     "output_type": "stream",
     "text": [
      "('Lenovo T490', '23*34', 'black', 68000)\n",
      "('Mi Note 9', '6*8', 'grey', 12000)\n"
     ]
    }
   ],
   "source": [
    "#product calss, which has name,color,size,cost as an attributes, write get method to fetch the attribute detiails.\n",
    "class Product:\n",
    "    def set_data(x, p_name,p_color,p_size,p_cost):\n",
    "        x.name=p_name\n",
    "        x.size=p_size\n",
    "        x.color=p_color\n",
    "        x.cost=p_cost\n",
    "    def get(x):\n",
    "        #return x.__dict__\n",
    "        return x.name,x.size,x.color,x.cost\n",
    "    \n",
    "lenovo = Product()\n",
    "Product.set_data(lenovo, \"Lenovo T490\", \"black\",\"23*34\",68000)\n",
    "mi_phone = Product()\n",
    "Product.set_data(mi_phone,\"Mi Note 9\", \"grey\", \"6*8\", 12000)\n",
    "print(Product.get(lenovo))\n",
    "print(Product.get(mi_phone))"
   ]
  },
  {
   "cell_type": "code",
   "execution_count": 8,
   "metadata": {},
   "outputs": [
    {
     "name": "stdout",
     "output_type": "stream",
     "text": [
      "('Lenovo T490', '23*34', 'black', 68000)\n",
      "('Mi Note 9', '6*8', 'grey', 12000)\n"
     ]
    }
   ],
   "source": [
    "#product calss, which has name,color,size,cost as an attributes, write get method to fetch the attribute detiails.\n",
    "class Product:\n",
    "    def set_data(x, p_name,p_color,p_size,p_cost):\n",
    "        x.name=p_name\n",
    "        x.size=p_size\n",
    "        x.color=p_color\n",
    "        x.cost=p_cost\n",
    "    def get(x):\n",
    "        #return x.__dict__\n",
    "        return x.name,x.size,x.color,x.cost\n",
    "    \n",
    "#Product is reference of class object\n",
    "#lenovo is the reference of dataobject\n",
    "#mi_phone is the reference of dataobject\n",
    "lenovo = Product()\n",
    "#Product.set_data(lenovo, \"Lenovo T490\", \"black\",\"23*34\",68000)\n",
    "lenovo.set_data(\"Lenovo T490\", \"black\",\"23*34\",68000)\n",
    "mi_phone = Product()\n",
    "#Product.set_data(mi_phone,\"Mi Note 9\", \"grey\", \"6*8\", 12000)\n",
    "mi_phone.set_data(\"Mi Note 9\", \"grey\", \"6*8\", 12000)\n",
    "#print(Product.get(lenovo))\n",
    "print(lenovo.get())\n",
    "#print(Product.get(mi_phone))\n",
    "print(mi_phone.get())"
   ]
  },
  {
   "cell_type": "code",
   "execution_count": 9,
   "metadata": {},
   "outputs": [
    {
     "name": "stdout",
     "output_type": "stream",
     "text": [
      "('Lenovo T490', '23*34', 'black', 68000)\n",
      "('Mi Note 9', '6*8', 'grey', 12000)\n"
     ]
    }
   ],
   "source": [
    "#product calss, which has name,color,size,cost as an attributes, write get method to fetch the attribute detiails.\n",
    "class Product:\n",
    "    def set_data(x, p_name,p_color,p_size,p_cost):\n",
    "        x.name=p_name\n",
    "        x.size=p_size\n",
    "        x.color=p_color\n",
    "        x.cost=p_cost\n",
    "    def get(x):\n",
    "        return x.name,x.size,x.color,x.cost\n",
    "lenovo = Product()\n",
    "lenovo.set_data(\"Lenovo T490\", \"black\",\"23*34\",68000)\n",
    "mi_phone = Product()\n",
    "mi_phone.set_data(\"Mi Note 9\", \"grey\", \"6*8\", 12000)\n",
    "print(lenovo.get())\n",
    "print(mi_phone.get())"
   ]
  },
  {
   "cell_type": "code",
   "execution_count": 10,
   "metadata": {},
   "outputs": [],
   "source": [
    "#class vehicle, set_data, get methods, attributes: no_wheels, color, cost, dimensions.\n"
   ]
  },
  {
   "cell_type": "code",
   "execution_count": 11,
   "metadata": {},
   "outputs": [
    {
     "name": "stdout",
     "output_type": "stream",
     "text": [
      "('Lenovo T490', '23*34', 'black', 68000)\n",
      "('Mi Note 9', '6*8', 'grey', 12000)\n"
     ]
    },
    {
     "ename": "AttributeError",
     "evalue": "'Product' object has no attribute 'name'",
     "output_type": "error",
     "traceback": [
      "\u001b[1;31m---------------------------------------------------------------------------\u001b[0m",
      "\u001b[1;31mAttributeError\u001b[0m                            Traceback (most recent call last)",
      "\u001b[1;32m<ipython-input-11-07ecb7d38f0d>\u001b[0m in \u001b[0;36m<module>\u001b[1;34m\u001b[0m\n\u001b[0;32m     15\u001b[0m \u001b[0mprint\u001b[0m\u001b[1;33m(\u001b[0m\u001b[0mmi_phone\u001b[0m\u001b[1;33m.\u001b[0m\u001b[0mget\u001b[0m\u001b[1;33m(\u001b[0m\u001b[1;33m)\u001b[0m\u001b[1;33m)\u001b[0m\u001b[1;33m\u001b[0m\u001b[1;33m\u001b[0m\u001b[0m\n\u001b[0;32m     16\u001b[0m \u001b[0msamsung_phone\u001b[0m \u001b[1;33m=\u001b[0m \u001b[0mProduct\u001b[0m\u001b[1;33m(\u001b[0m\u001b[1;33m)\u001b[0m\u001b[1;33m\u001b[0m\u001b[1;33m\u001b[0m\u001b[0m\n\u001b[1;32m---> 17\u001b[1;33m \u001b[0mprint\u001b[0m\u001b[1;33m(\u001b[0m\u001b[0msamsung_phone\u001b[0m\u001b[1;33m.\u001b[0m\u001b[0mget\u001b[0m\u001b[1;33m(\u001b[0m\u001b[1;33m)\u001b[0m\u001b[1;33m)\u001b[0m\u001b[1;33m\u001b[0m\u001b[1;33m\u001b[0m\u001b[0m\n\u001b[0m",
      "\u001b[1;32m<ipython-input-11-07ecb7d38f0d>\u001b[0m in \u001b[0;36mget\u001b[1;34m(x)\u001b[0m\n\u001b[0;32m      7\u001b[0m         \u001b[0mx\u001b[0m\u001b[1;33m.\u001b[0m\u001b[0mcost\u001b[0m\u001b[1;33m=\u001b[0m\u001b[0mp_cost\u001b[0m\u001b[1;33m\u001b[0m\u001b[1;33m\u001b[0m\u001b[0m\n\u001b[0;32m      8\u001b[0m     \u001b[1;32mdef\u001b[0m \u001b[0mget\u001b[0m\u001b[1;33m(\u001b[0m\u001b[0mx\u001b[0m\u001b[1;33m)\u001b[0m\u001b[1;33m:\u001b[0m\u001b[1;33m\u001b[0m\u001b[1;33m\u001b[0m\u001b[0m\n\u001b[1;32m----> 9\u001b[1;33m         \u001b[1;32mreturn\u001b[0m \u001b[0mx\u001b[0m\u001b[1;33m.\u001b[0m\u001b[0mname\u001b[0m\u001b[1;33m,\u001b[0m\u001b[0mx\u001b[0m\u001b[1;33m.\u001b[0m\u001b[0msize\u001b[0m\u001b[1;33m,\u001b[0m\u001b[0mx\u001b[0m\u001b[1;33m.\u001b[0m\u001b[0mcolor\u001b[0m\u001b[1;33m,\u001b[0m\u001b[0mx\u001b[0m\u001b[1;33m.\u001b[0m\u001b[0mcost\u001b[0m\u001b[1;33m\u001b[0m\u001b[1;33m\u001b[0m\u001b[0m\n\u001b[0m\u001b[0;32m     10\u001b[0m \u001b[0mlenovo\u001b[0m \u001b[1;33m=\u001b[0m \u001b[0mProduct\u001b[0m\u001b[1;33m(\u001b[0m\u001b[1;33m)\u001b[0m\u001b[1;33m\u001b[0m\u001b[1;33m\u001b[0m\u001b[0m\n\u001b[0;32m     11\u001b[0m \u001b[0mlenovo\u001b[0m\u001b[1;33m.\u001b[0m\u001b[0mset_data\u001b[0m\u001b[1;33m(\u001b[0m\u001b[1;34m\"Lenovo T490\"\u001b[0m\u001b[1;33m,\u001b[0m \u001b[1;34m\"black\"\u001b[0m\u001b[1;33m,\u001b[0m\u001b[1;34m\"23*34\"\u001b[0m\u001b[1;33m,\u001b[0m\u001b[1;36m68000\u001b[0m\u001b[1;33m)\u001b[0m\u001b[1;33m\u001b[0m\u001b[1;33m\u001b[0m\u001b[0m\n",
      "\u001b[1;31mAttributeError\u001b[0m: 'Product' object has no attribute 'name'"
     ]
    }
   ],
   "source": [
    "#product calss, which has name,color,size,cost as an attributes, write get method to fetch the attribute detiails.\n",
    "class Product:\n",
    "    def set_data(x, p_name,p_color,p_size,p_cost):\n",
    "        x.name=p_name\n",
    "        x.size=p_size\n",
    "        x.color=p_color\n",
    "        x.cost=p_cost\n",
    "    def get(x):\n",
    "        return x.name,x.size,x.color,x.cost\n",
    "lenovo = Product()\n",
    "lenovo.set_data(\"Lenovo T490\", \"black\",\"23*34\",68000)\n",
    "mi_phone = Product()\n",
    "mi_phone.set_data(\"Mi Note 9\", \"grey\", \"6*8\", 12000)\n",
    "print(lenovo.get())\n",
    "print(mi_phone.get())\n",
    "samsung_phone = Product()\n",
    "print(samsung_phone.get())"
   ]
  },
  {
   "cell_type": "code",
   "execution_count": null,
   "metadata": {},
   "outputs": [],
   "source": [
    "#product calss, which has name,color,size,cost as an attributes, write get method to fetch the attribute detiails.\n",
    "class Product:\n",
    "    def set_data(x, p_name,p_color,p_size,p_cost):\n",
    "        x.name=p_name\n",
    "        x.size=p_size\n",
    "        x.color=p_color\n",
    "        x.cost=p_cost\n",
    "    def get(x):\n",
    "        return x.name,x.size,x.color,x.cost\n",
    "lenovo = Product()\n",
    "lenovo.set_data(\"Lenovo T490\", \"black\",\"23*34\",68000)\n",
    "mi_phone = Product()\n",
    "mi_phone.set_data(\"Mi Note 9\", \"grey\", \"6*8\", 12000)\n",
    "print(lenovo.get())\n",
    "print(mi_phone.get())\n",
    "samsung_phone = Product()\n",
    "print(samsung_phone.get())"
   ]
  },
  {
   "cell_type": "code",
   "execution_count": 12,
   "metadata": {},
   "outputs": [
    {
     "name": "stdout",
     "output_type": "stream",
     "text": [
      "this is class\n"
     ]
    }
   ],
   "source": [
    "class Emp:\n",
    "    print(\"this is class\")\n",
    "    def get(x):\n",
    "        print(\"this is get\")"
   ]
  },
  {
   "cell_type": "code",
   "execution_count": 13,
   "metadata": {},
   "outputs": [
    {
     "name": "stdout",
     "output_type": "stream",
     "text": [
      "this is class\n"
     ]
    }
   ],
   "source": [
    "class Emp:\n",
    "    print(\"this is class\")\n",
    "    def get(x):\n",
    "        print(\"this is get\")\n",
    "    def __init__(x):\n",
    "        print(\"this is init\")"
   ]
  },
  {
   "cell_type": "code",
   "execution_count": 14,
   "metadata": {},
   "outputs": [
    {
     "name": "stdout",
     "output_type": "stream",
     "text": [
      "this is class\n",
      "this is init\n"
     ]
    }
   ],
   "source": [
    "class Emp:\n",
    "    print(\"this is class\")\n",
    "    def get(x):\n",
    "        print(\"this is get\")\n",
    "    def __init__(x):\n",
    "        print(\"this is init\")\n",
    "e1=Emp()"
   ]
  },
  {
   "cell_type": "code",
   "execution_count": 15,
   "metadata": {},
   "outputs": [
    {
     "name": "stdout",
     "output_type": "stream",
     "text": [
      "this is class\n",
      "this is init\n",
      "this is init\n",
      "this is init\n"
     ]
    }
   ],
   "source": [
    "class Emp:\n",
    "    print(\"this is class\")\n",
    "    def get(x):\n",
    "        print(\"this is get\")\n",
    "    def __init__(x):\n",
    "        print(\"this is init\")\n",
    "e1=Emp()\n",
    "e2=Emp()\n",
    "e3=Emp()"
   ]
  },
  {
   "cell_type": "code",
   "execution_count": 16,
   "metadata": {},
   "outputs": [
    {
     "name": "stdout",
     "output_type": "stream",
     "text": [
      "this is class\n",
      "this is init\n",
      "this is init\n",
      "this is init\n",
      "('employee1', 1200000, 1)\n",
      "('employee2', 1300000, 2)\n",
      "('employee3', 1400000, 3)\n"
     ]
    }
   ],
   "source": [
    "class Emp:\n",
    "    print(\"this is class\")\n",
    "    def __init__(x,name, sal,emp_id):#constructor\n",
    "        print(\"this is init\")\n",
    "        x.name=name\n",
    "        x.sal=sal\n",
    "        x.emp_id=emp_id\n",
    "    def get(x):\n",
    "        return x.name, x.sal, x.emp_id \n",
    "e1=Emp(\"employee1\",1200000,1)\n",
    "e2=Emp(\"employee2\",1300000,2)\n",
    "e3=Emp(\"employee3\",1400000,3)\n",
    "print(e1.get())\n",
    "print(e2.get())\n",
    "print(e3.get())"
   ]
  },
  {
   "cell_type": "code",
   "execution_count": 17,
   "metadata": {},
   "outputs": [
    {
     "name": "stdout",
     "output_type": "stream",
     "text": [
      "('employee1', 1200000, 1)\n",
      "('employee2', 1300000, 2)\n",
      "('employee3', 1400000, 3)\n"
     ]
    }
   ],
   "source": [
    "class Emp:\n",
    "    def __init__(x,name, sal,emp_id):#constructor\n",
    "        x.name=name\n",
    "        x.sal=sal\n",
    "        x.emp_id=emp_id\n",
    "        \n",
    "    def get(x):\n",
    "        return x.name, x.sal, x.emp_id \n",
    "    \n",
    "e1=Emp(\"employee1\",1200000,1)\n",
    "e2=Emp(\"employee2\",1300000,2)\n",
    "e3=Emp(\"employee3\",1400000,3)\n",
    "print(e1.get())\n",
    "print(e2.get())\n",
    "print(e3.get())"
   ]
  },
  {
   "cell_type": "code",
   "execution_count": null,
   "metadata": {},
   "outputs": [],
   "source": [
    "#class Court: methods: __init__, get, arttributes: court_type, dimensions, fee, timings"
   ]
  },
  {
   "cell_type": "code",
   "execution_count": 18,
   "metadata": {},
   "outputs": [
    {
     "name": "stdout",
     "output_type": "stream",
     "text": [
      "('employee1', 1200000, 1)\n",
      "('employee2', 1300000, 2)\n",
      "('employee3', 1400000, 3)\n"
     ]
    }
   ],
   "source": [
    "class Emp:\n",
    "    def __init__(x,name, sal,emp_id):#constructor\n",
    "        x.name=name\n",
    "        x.sal=sal\n",
    "        x.emp_id=emp_id\n",
    "        \n",
    "    def data_get(x):\n",
    "        return x.name, x.sal, x.emp_id \n",
    "    \n",
    "e1=Emp(\"employee1\",1200000,1)\n",
    "e2=Emp(\"employee2\",1300000,2)\n",
    "e3=Emp(\"employee3\",1400000,3)\n",
    "print(e1.data_get())\n",
    "print(e2.data_get())\n",
    "print(e3.data_get())"
   ]
  },
  {
   "cell_type": "code",
   "execution_count": 19,
   "metadata": {},
   "outputs": [
    {
     "name": "stdout",
     "output_type": "stream",
     "text": [
      "('employee1', 1200000, 1)\n",
      "('employee2', 1300000, 2)\n",
      "('employee3', 1400000, 3)\n"
     ]
    }
   ],
   "source": [
    "class Emp:\n",
    "    def __init__(self,name, sal,emp_id):#constructor\n",
    "        self.name=name\n",
    "        self.sal=sal\n",
    "        self.emp_id=emp_id\n",
    "        \n",
    "    def data_get(self):\n",
    "        return self.name, self.sal, self.emp_id \n",
    "    \n",
    "e1=Emp(\"employee1\",1200000,1)\n",
    "e2=Emp(\"employee2\",1300000,2)\n",
    "e3=Emp(\"employee3\",1400000,3)\n",
    "print(e1.data_get())\n",
    "print(e2.data_get())\n",
    "print(e3.data_get())"
   ]
  },
  {
   "cell_type": "code",
   "execution_count": 21,
   "metadata": {},
   "outputs": [
    {
     "name": "stdout",
     "output_type": "stream",
     "text": [
      "('employee1', 1200000, 1, 360000.0)\n",
      "('employee2', 1300000, 2, 390000.0)\n",
      "('employee3', 1400000, 3, 420000.0)\n"
     ]
    }
   ],
   "source": [
    "# add method to calculate Income tax of the salary\n",
    "class Emp:\n",
    "    def __init__(self,name, sal,emp_id):#constructor\n",
    "        self.name=name\n",
    "        self.sal=sal\n",
    "        self.emp_id=emp_id\n",
    "        self.income_tax=sal*0.3\n",
    "        \n",
    "        \n",
    "    def data_get(self):\n",
    "        return self.name, self.sal, self.emp_id, self.income_tax\n",
    "    \n",
    "e1=Emp(\"employee1\",1200000,1)\n",
    "e2=Emp(\"employee2\",1300000,2)\n",
    "e3=Emp(\"employee3\",1400000,3)\n",
    "print(e1.data_get())\n",
    "print(e2.data_get())\n",
    "print(e3.data_get())"
   ]
  },
  {
   "cell_type": "code",
   "execution_count": 22,
   "metadata": {},
   "outputs": [
    {
     "name": "stdout",
     "output_type": "stream",
     "text": [
      "('employee1', 1200000, 1) 360000.0\n",
      "('employee2', 1300000, 2) 390000.0\n",
      "('employee3', 1400000, 3) 420000.0\n"
     ]
    }
   ],
   "source": [
    "# add method to calculate Income tax of the salary\n",
    "class Emp:\n",
    "    def __init__(self,name, sal,emp_id):#constructor\n",
    "        self.name=name\n",
    "        self.sal=sal\n",
    "        self.emp_id=emp_id\n",
    "        \n",
    "    def get_incometax(self):\n",
    "        return self.sal*0.3\n",
    "        \n",
    "        \n",
    "    def data_get(self):\n",
    "        return self.name, self.sal, self.emp_id\n",
    "    \n",
    "e1=Emp(\"employee1\",1200000,1)\n",
    "e2=Emp(\"employee2\",1300000,2)\n",
    "e3=Emp(\"employee3\",1400000,3)\n",
    "print(e1.data_get(),e1.get_incometax())\n",
    "print(e2.data_get(),e2.get_incometax())\n",
    "print(e3.data_get(),e3.get_incometax())"
   ]
  },
  {
   "cell_type": "code",
   "execution_count": 23,
   "metadata": {},
   "outputs": [
    {
     "name": "stdout",
     "output_type": "stream",
     "text": [
      "('employee1', 1200000, 1) 70000.0\n",
      "('employee2', 1300000, 2) 75833.33333333333\n",
      "('employee3', 1400000, 3) 81666.66666666667\n"
     ]
    }
   ],
   "source": [
    "# add method to calculate Income tax of the salary\n",
    "class Emp:\n",
    "    def __init__(self,name, sal,emp_id):#constructor\n",
    "        self.name=name\n",
    "        self.sal=sal\n",
    "        self.emp_id=emp_id\n",
    "\n",
    "    def get_incometax(self):\n",
    "        return self.sal*0.3\n",
    "    \n",
    "    def get_monthly_sal(self):\n",
    "        income_tax=self.get_incometax()\n",
    "        monthly_income_tax=income_tax/12\n",
    "        monthly_sal=self.sal/12\n",
    "        return monthly_sal-monthly_income_tax\n",
    "        \n",
    "    def data_get(self):\n",
    "        return self.name, self.sal, self.emp_id\n",
    "    \n",
    "e1=Emp(\"employee1\",1200000,1)\n",
    "e2=Emp(\"employee2\",1300000,2)\n",
    "e3=Emp(\"employee3\",1400000,3)\n",
    "print(e1.data_get(),e1.get_monthly_sal())\n",
    "print(e2.data_get(),e2.get_monthly_sal())\n",
    "print(e3.data_get(),e3.get_monthly_sal())"
   ]
  },
  {
   "cell_type": "code",
   "execution_count": 24,
   "metadata": {},
   "outputs": [
    {
     "name": "stdout",
     "output_type": "stream",
     "text": [
      "('cust1', 'KPHB, hyderabad')\n"
     ]
    }
   ],
   "source": [
    "#sales written by third party people.\n",
    "# installed the module in your python path.\n",
    "# importing the sales module fetures in to your application.\n",
    "#sales/customer.py\n",
    "class Customer:\n",
    "    def __init__(self,name,address):\n",
    "        self.name=name\n",
    "        self.address=address\n",
    "        \n",
    "    def get(self):\n",
    "        return self.name,self.address\n",
    "        \n",
    "#app.py\n",
    "#from sales.customer import Customer\n",
    "cust=Customer(\"cust1\",\"KPHB, hyderabad\")\n",
    "print(cust.get())"
   ]
  },
  {
   "cell_type": "code",
   "execution_count": null,
   "metadata": {},
   "outputs": [],
   "source": [
    "#sales written by third party people.\n",
    "# installed the module in your python path.\n",
    "# importing the sales module fetures in to your application.\n",
    "#sales/customer.py\n",
    "class Customer:\n",
    "    def __init__(self,name,address):\n",
    "        self.name=name\n",
    "        self.address=address\n",
    "        \n",
    "    def get(self):\n",
    "        return self.name,self.address\n",
    "        \n",
    "#app.py\n",
    "#in my app customer class should accept to more attributes email and phone\n",
    "#from sales.customer import Customer\n",
    "cust=Customer(\"cust1\",\"KPHB, hyderabad\")\n",
    "print(cust.get())"
   ]
  },
  {
   "cell_type": "code",
   "execution_count": 25,
   "metadata": {},
   "outputs": [
    {
     "name": "stdout",
     "output_type": "stream",
     "text": [
      "('cust1', 'KPHB, hyderabad', '9676622024', 'sam@gmail.com')\n"
     ]
    }
   ],
   "source": [
    "#sales:v1 written by third party people.\n",
    "# installed the module in your python path.\n",
    "# importing the sales module fetures in to your application.\n",
    "#sales/customer.py\n",
    "class Customer:\n",
    "    def __init__(self,name,address,phone,email):\n",
    "        self.name=name\n",
    "        self.address=address\n",
    "        self.phone=phone\n",
    "        self.email=email\n",
    "    def get(self):\n",
    "        return self.name,self.address,self.phone,self.email\n",
    "        \n",
    "#app.py\n",
    "#in my app customer class should accept to more attributes email and phone\n",
    "#from sales.customer import Customer\n",
    "cust=Customer(\"cust1\",\"KPHB, hyderabad\",\"9676622024\",\"sam@gmail.com\")\n",
    "print(cust.get())"
   ]
  },
  {
   "cell_type": "code",
   "execution_count": 26,
   "metadata": {},
   "outputs": [],
   "source": [
    "#sales people released v2 with new features. we want that new features to be added in to our app also.\n",
    "# we need to upgrade our sales app v1 to v2\n",
    "# if I upgrade v1 to v2.It will remove entire v1 code and put v2 code.we loss our changes(email, phone)"
   ]
  },
  {
   "cell_type": "code",
   "execution_count": 28,
   "metadata": {},
   "outputs": [
    {
     "name": "stdout",
     "output_type": "stream",
     "text": [
      "(('cust1', 'KPHB, hyderabad'), '9676622024', 'sam@gmail.com')\n"
     ]
    }
   ],
   "source": [
    "#sales:v1 written by third party people.\n",
    "# installed the module in your python path.\n",
    "# importing the sales module fetures in to your application.\n",
    "#sales/customer.py\n",
    "class Customer:\n",
    "    def __init__(self,name,address):\n",
    "        self.name=name\n",
    "        self.address=address\n",
    "    def get(self):\n",
    "        return self.name,self.address\n",
    "        \n",
    "#app.py\n",
    "#in my app customer class should accept to more attributes email and phone\n",
    "#from sales.customer import Customer\n",
    "class MyCustomer:\n",
    "    def __init__(self,name,address,phone, email):\n",
    "        self.cust = Customer(name,address)\n",
    "        self.phone=phone\n",
    "        self.email=email\n",
    "    def get(self):\n",
    "        return self.cust.get(),self.phone,self.email\n",
    "    \n",
    "cust=MyCustomer(\"cust1\",\"KPHB, hyderabad\",\"9676622024\",\"sam@gmail.com\")\n",
    "print(cust.get())"
   ]
  },
  {
   "cell_type": "code",
   "execution_count": 29,
   "metadata": {},
   "outputs": [
    {
     "name": "stdout",
     "output_type": "stream",
     "text": [
      "(('cust1', 'KPHB, hyderabad'), '9676622024', 'sam@gmail.com')\n"
     ]
    }
   ],
   "source": [
    "#sales:v1 written by third party people.\n",
    "# installed the module in your python path.\n",
    "# importing the sales module fetures in to your application.\n",
    "#sales/customer.py\n",
    "class Customer:\n",
    "    def __init__(self,name,address):\n",
    "        self.name=name\n",
    "        self.address=address\n",
    "    def get(self):\n",
    "        return self.name,self.address\n",
    "        \n",
    "#app.py\n",
    "#in my app customer class should accept to more attributes email and phone\n",
    "#from sales.customer import Customer\n",
    "class MyCustomer(Customer):\n",
    "    def __init__(self,name,address,phone, email):\n",
    "        self.phone=phone\n",
    "        self.email=email\n",
    "        Customer.__init__(self,name,address)\n",
    "    def get(self):\n",
    "        return Customer.get(self),self.phone,self.email\n",
    "    \n",
    "cust=MyCustomer(\"cust1\",\"KPHB, hyderabad\",\"9676622024\",\"sam@gmail.com\")\n",
    "print(cust.get())"
   ]
  },
  {
   "cell_type": "code",
   "execution_count": 30,
   "metadata": {},
   "outputs": [
    {
     "name": "stdout",
     "output_type": "stream",
     "text": [
      "(('cust1', 'KPHB, hyderabad'), '9676622024', 'sam@gmail.com')\n"
     ]
    }
   ],
   "source": [
    "class Customer:\n",
    "    def __init__(self,name,address):\n",
    "        self.name=name\n",
    "        self.address=address\n",
    "    def get(self):\n",
    "        return self.name,self.address\n",
    "    \n",
    "class MyCustomer(Customer):\n",
    "    def __init__(self,name,address,phone, email):\n",
    "        self.phone=phone\n",
    "        self.email=email\n",
    "        super(MyCustomer, self).__init__(name,address)\n",
    "    def get(self):\n",
    "        return super(MyCustomer,self).get(),self.phone,self.email\n",
    "    \n",
    "cust=MyCustomer(\"cust1\",\"KPHB, hyderabad\",\"9676622024\",\"sam@gmail.com\")\n",
    "print(cust.get())"
   ]
  },
  {
   "cell_type": "code",
   "execution_count": 31,
   "metadata": {},
   "outputs": [],
   "source": [
    "#class Emp: init and get methods attributes: name, sal\n",
    "# extend the Emp class to provide income tax calculation feature from your salary."
   ]
  },
  {
   "cell_type": "code",
   "execution_count": 32,
   "metadata": {},
   "outputs": [
    {
     "name": "stdout",
     "output_type": "stream",
     "text": [
      "('S', 1234141)\n"
     ]
    }
   ],
   "source": [
    "class Emp:\n",
    "    def __init__(self,name,sal):\n",
    "        self.name=name\n",
    "        self.sal=sal\n",
    "    def get(self):\n",
    "        return self.name,self.sal\n",
    "class Emp1(Emp):\n",
    "    def incometax(sal):\n",
    "        tax=sal*0.3\n",
    "        return super(Emp,self).get().self.incometax\n",
    "e=Emp1(\"S\",1234141)\n",
    "print(e.get())\n"
   ]
  },
  {
   "cell_type": "code",
   "execution_count": 34,
   "metadata": {},
   "outputs": [
    {
     "name": "stdout",
     "output_type": "stream",
     "text": [
      "370242.3\n"
     ]
    }
   ],
   "source": [
    "class Emp:\n",
    "    def __init__(self,name,sal):\n",
    "        self.name=name\n",
    "        self.sal=sal\n",
    "    def get(self):\n",
    "        return self.name,self.sal\n",
    "    \n",
    "class MyEmp(Emp):\n",
    "    def income_tax(self):\n",
    "        return self.sal*0.3\n",
    "\n",
    "e=MyEmp(\"S\",1234141)\n",
    "print(e.income_tax())#MyEmp.income_tax(e)"
   ]
  },
  {
   "cell_type": "code",
   "execution_count": 35,
   "metadata": {},
   "outputs": [],
   "source": [
    "def add(x,y):\n",
    "    return x+y"
   ]
  },
  {
   "cell_type": "code",
   "execution_count": 38,
   "metadata": {},
   "outputs": [
    {
     "name": "stdout",
     "output_type": "stream",
     "text": [
      "this is o1 in c1\n",
      "this is o2 in c2\n"
     ]
    }
   ],
   "source": [
    "class C1:\n",
    "    def op1(self):\n",
    "        print(\"this is o1 in c1\")\n",
    "class C2:\n",
    "    def op2(self):\n",
    "        print(\"this is o2 in c2\")\n",
    "        \n",
    "o1=C1()\n",
    "o1.op1()\n",
    "o2=C2()\n",
    "o2.op2()\n",
    "class C3:\n",
    "    def operations(self):\n",
    "        pass\n",
    "        "
   ]
  },
  {
   "cell_type": "code",
   "execution_count": 39,
   "metadata": {},
   "outputs": [
    {
     "name": "stdout",
     "output_type": "stream",
     "text": [
      "this is o1 in c1\n",
      "this is o2 in c2\n"
     ]
    }
   ],
   "source": [
    "class C1:\n",
    "    def op1(self):\n",
    "        print(\"this is o1 in c1\")\n",
    "class C2:\n",
    "    def op2(self):\n",
    "        print(\"this is o2 in c2\")\n",
    "class C3:\n",
    "    def operations(self):      \n",
    "        o1=C1()\n",
    "        o1.op1()\n",
    "        o2=C2()\n",
    "        o2.op2()\n",
    "o3=C3()\n",
    "o3.operations()"
   ]
  },
  {
   "cell_type": "code",
   "execution_count": 40,
   "metadata": {},
   "outputs": [
    {
     "name": "stdout",
     "output_type": "stream",
     "text": [
      "this is o1 in c1\n",
      "this is o2 in c2\n"
     ]
    }
   ],
   "source": [
    "class C1:\n",
    "    def op1(self):\n",
    "        print(\"this is o1 in c1\")\n",
    "class C2:\n",
    "    def op2(self):\n",
    "        print(\"this is o2 in c2\")\n",
    "class C3(C1):\n",
    "    def operations(self):      \n",
    "        #o1=C1()\n",
    "        self.op1()\n",
    "        o2=C2()\n",
    "        o2.op2()\n",
    "o3=C3()\n",
    "o3.operations()"
   ]
  },
  {
   "cell_type": "code",
   "execution_count": 41,
   "metadata": {},
   "outputs": [
    {
     "name": "stdout",
     "output_type": "stream",
     "text": [
      "this is o1 in c1\n"
     ]
    },
    {
     "ename": "AttributeError",
     "evalue": "'C3' object has no attribute 'op2'",
     "output_type": "error",
     "traceback": [
      "\u001b[1;31m---------------------------------------------------------------------------\u001b[0m",
      "\u001b[1;31mAttributeError\u001b[0m                            Traceback (most recent call last)",
      "\u001b[1;32m<ipython-input-41-c159b574c1e2>\u001b[0m in \u001b[0;36m<module>\u001b[1;34m\u001b[0m\n\u001b[0;32m     12\u001b[0m         \u001b[0mself\u001b[0m\u001b[1;33m.\u001b[0m\u001b[0mop2\u001b[0m\u001b[1;33m(\u001b[0m\u001b[1;33m)\u001b[0m\u001b[1;33m\u001b[0m\u001b[1;33m\u001b[0m\u001b[0m\n\u001b[0;32m     13\u001b[0m \u001b[0mo3\u001b[0m\u001b[1;33m=\u001b[0m\u001b[0mC3\u001b[0m\u001b[1;33m(\u001b[0m\u001b[1;33m)\u001b[0m\u001b[1;33m\u001b[0m\u001b[1;33m\u001b[0m\u001b[0m\n\u001b[1;32m---> 14\u001b[1;33m \u001b[0mo3\u001b[0m\u001b[1;33m.\u001b[0m\u001b[0moperations\u001b[0m\u001b[1;33m(\u001b[0m\u001b[1;33m)\u001b[0m\u001b[1;33m\u001b[0m\u001b[1;33m\u001b[0m\u001b[0m\n\u001b[0m",
      "\u001b[1;32m<ipython-input-41-c159b574c1e2>\u001b[0m in \u001b[0;36moperations\u001b[1;34m(self)\u001b[0m\n\u001b[0;32m     10\u001b[0m         \u001b[0mself\u001b[0m\u001b[1;33m.\u001b[0m\u001b[0mop1\u001b[0m\u001b[1;33m(\u001b[0m\u001b[1;33m)\u001b[0m\u001b[1;33m\u001b[0m\u001b[1;33m\u001b[0m\u001b[0m\n\u001b[0;32m     11\u001b[0m         \u001b[1;31m#o2=C2()\u001b[0m\u001b[1;33m\u001b[0m\u001b[1;33m\u001b[0m\u001b[1;33m\u001b[0m\u001b[0m\n\u001b[1;32m---> 12\u001b[1;33m         \u001b[0mself\u001b[0m\u001b[1;33m.\u001b[0m\u001b[0mop2\u001b[0m\u001b[1;33m(\u001b[0m\u001b[1;33m)\u001b[0m\u001b[1;33m\u001b[0m\u001b[1;33m\u001b[0m\u001b[0m\n\u001b[0m\u001b[0;32m     13\u001b[0m \u001b[0mo3\u001b[0m\u001b[1;33m=\u001b[0m\u001b[0mC3\u001b[0m\u001b[1;33m(\u001b[0m\u001b[1;33m)\u001b[0m\u001b[1;33m\u001b[0m\u001b[1;33m\u001b[0m\u001b[0m\n\u001b[0;32m     14\u001b[0m \u001b[0mo3\u001b[0m\u001b[1;33m.\u001b[0m\u001b[0moperations\u001b[0m\u001b[1;33m(\u001b[0m\u001b[1;33m)\u001b[0m\u001b[1;33m\u001b[0m\u001b[1;33m\u001b[0m\u001b[0m\n",
      "\u001b[1;31mAttributeError\u001b[0m: 'C3' object has no attribute 'op2'"
     ]
    }
   ],
   "source": [
    "class C1:\n",
    "    def op1(self):\n",
    "        print(\"this is o1 in c1\")\n",
    "class C2:\n",
    "    def op2(self):\n",
    "        print(\"this is o2 in c2\")\n",
    "class C3(C1):\n",
    "    def operations(self):      \n",
    "        #o1=C1()\n",
    "        self.op1()\n",
    "        #o2=C2()\n",
    "        self.op2()\n",
    "o3=C3()\n",
    "o3.operations()"
   ]
  },
  {
   "cell_type": "code",
   "execution_count": 43,
   "metadata": {},
   "outputs": [
    {
     "name": "stdout",
     "output_type": "stream",
     "text": [
      "this is op1 in c1\n",
      "this is op2 in c2\n"
     ]
    }
   ],
   "source": [
    "class C1:\n",
    "    def op1(self):\n",
    "        print(\"this is op1 in c1\")\n",
    "class C2:\n",
    "    def op2(self):\n",
    "        print(\"this is op2 in c2\")\n",
    "class C3(C1,C2):\n",
    "    def operations(self):      \n",
    "        self.op1()\n",
    "        self.op2()\n",
    "o3=C3()\n",
    "o3.operations()"
   ]
  },
  {
   "cell_type": "code",
   "execution_count": 44,
   "metadata": {},
   "outputs": [
    {
     "name": "stdout",
     "output_type": "stream",
     "text": [
      "this is op1 in c3\n",
      "this is op2 in c2\n"
     ]
    }
   ],
   "source": [
    "class C1:\n",
    "    def op1(self):\n",
    "        print(\"this is op1 in c1\")\n",
    "class C2:\n",
    "    def op2(self):\n",
    "        print(\"this is op2 in c2\")\n",
    "class C3(C1,C2):\n",
    "    def operations(self):      \n",
    "        self.op1()# it look for op1 in C3, does it find: yes, so it's executes op1 of C3\n",
    "        self.op2()# it look for op2 in C3, doe it find: Noe, so it look in C1 class, does it find: No, it look in C2 class\n",
    "                    # it find in C2 class it will execute method C2\n",
    "        \n",
    "    def op1(self):\n",
    "        print(\"this is op1 in c3\")\n",
    "o3=C3()\n",
    "o3.operations()"
   ]
  },
  {
   "cell_type": "code",
   "execution_count": 45,
   "metadata": {},
   "outputs": [
    {
     "name": "stdout",
     "output_type": "stream",
     "text": [
      "this is op1 in c3\n",
      "this is op2 in c2\n",
      "this is op1 in c3\n"
     ]
    }
   ],
   "source": [
    "class C1:\n",
    "    def op1(self):\n",
    "        print(\"this is op1 in c1\")\n",
    "class C2:\n",
    "    def op2(self):\n",
    "        print(\"this is op2 in c2\")\n",
    "class C3(C1,C2):\n",
    "    def operations(self):      \n",
    "        self.op1()# it look for op1 in C3, does it find: yes, so it's executes op1 of C3\n",
    "        self.op2()# it look for op2 in C3, doe it find: Noe, so it look in C1 class, does it find: No, it look in C2 class\n",
    "                    # it find in C2 class it will execute method C2\n",
    "        self.op1()\n",
    "    def op1(self):\n",
    "        print(\"this is op1 in c3\")\n",
    "o3=C3()\n",
    "o3.operations()"
   ]
  },
  {
   "cell_type": "code",
   "execution_count": 47,
   "metadata": {},
   "outputs": [
    {
     "name": "stdout",
     "output_type": "stream",
     "text": [
      "(<class '__main__.C3'>, <class '__main__.C1'>, <class '__main__.C2'>, <class 'object'>)\n"
     ]
    }
   ],
   "source": [
    "# in the above cell, it's going to decide the class to search for a method based on the sequence\n",
    "# that sequnce is decided by method resolution order attibute\n",
    "print(C3.__mro__)"
   ]
  },
  {
   "cell_type": "code",
   "execution_count": 48,
   "metadata": {},
   "outputs": [
    {
     "name": "stdout",
     "output_type": "stream",
     "text": [
      "(<class '__main__.C3'>, <class '__main__.C2'>, <class '__main__.C1'>, <class 'object'>)\n",
      "this is op1 in c3\n",
      "this is op2 in c2\n",
      "this is op1 in c3\n"
     ]
    }
   ],
   "source": [
    "class C1:\n",
    "    def op1(self):\n",
    "        print(\"this is op1 in c1\")\n",
    "class C2:\n",
    "    def op2(self):\n",
    "        print(\"this is op2 in c2\")\n",
    "class C3(C2,C1):\n",
    "    def operations(self):      \n",
    "        self.op1()# it look for op1 in C3, does it find: yes, so it's executes op1 of C3\n",
    "        self.op2()# it look for op2 in C3, doe it find: Noe, so it look in C1 class, does it find: No, it look in C2 class\n",
    "                    # it find in C2 class it will execute method C2\n",
    "        self.op1()\n",
    "    def op1(self):\n",
    "        print(\"this is op1 in c3\")\n",
    "\n",
    "o3=C3()\n",
    "print(C3.__mro__)\n",
    "o3.operations()"
   ]
  },
  {
   "cell_type": "code",
   "execution_count": 49,
   "metadata": {},
   "outputs": [
    {
     "name": "stdout",
     "output_type": "stream",
     "text": [
      "('p1', 2000)\n"
     ]
    }
   ],
   "source": [
    "class Product:\n",
    "    def __init__(self, name, cost):\n",
    "        self.name=name\n",
    "        self.cost=cost\n",
    "    def get(self):\n",
    "        return self.name, self.cost\n",
    "    \n",
    "p1=Product(\"p1\",2000)\n",
    "print(p1.get())\n",
    "    "
   ]
  },
  {
   "cell_type": "code",
   "execution_count": 50,
   "metadata": {},
   "outputs": [
    {
     "name": "stdout",
     "output_type": "stream",
     "text": [
      "('p1', 2000)\n",
      "('apple', 20)\n",
      "('Jasmine', 30)\n"
     ]
    }
   ],
   "source": [
    "class Product:\n",
    "    def __init__(self, name, cost):\n",
    "        self.name=name\n",
    "        self.cost=cost\n",
    "    def get(self):\n",
    "        return self.name, self.cost\n",
    "    \n",
    "class Fruit(Product):\n",
    "    pass\n",
    "\n",
    "class Flower(Product):\n",
    "    pass\n",
    "\n",
    "class Cloths(Product):\n",
    "    pass\n",
    "    \n",
    "p1=Product(\"p1\",2000)\n",
    "print(p1.get())\n",
    "f1=Fruit(\"apple\",20)\n",
    "print(f1.get())\n",
    "f2=Flower(\"Jasmine\",30)\n",
    "print(f2.get())"
   ]
  },
  {
   "cell_type": "code",
   "execution_count": 52,
   "metadata": {},
   "outputs": [
    {
     "name": "stdout",
     "output_type": "stream",
     "text": [
      "insert into Product values('p1',2000)\n",
      "insert into Product values('apple',20)\n",
      "insert into Product values('Jasmine',30)\n"
     ]
    }
   ],
   "source": [
    "class Product:\n",
    "    def __init__(self, name, cost):\n",
    "        self.name=name\n",
    "        self.cost=cost\n",
    "    def get(self):\n",
    "        return self.name, self.cost\n",
    "    \n",
    "    def insert(self):\n",
    "        print(\"insert into Product values('%s',%s)\"%(self.name,self.cost))\n",
    "    \n",
    "class Fruit(Product):# define a validation for fruit name\n",
    "    pass\n",
    "\n",
    "class Flower(Product):\n",
    "    pass\n",
    "\n",
    "class Cloths(Product):\n",
    "    pass\n",
    "    \n",
    "p1=Product(\"p1\",2000)\n",
    "p1.insert()\n",
    "f1=Fruit(\"apple\",20)\n",
    "f1.insert()\n",
    "f2=Flower(\"Jasmine\",30)\n",
    "f2.insert()"
   ]
  },
  {
   "cell_type": "code",
   "execution_count": 54,
   "metadata": {},
   "outputs": [
    {
     "name": "stdout",
     "output_type": "stream",
     "text": [
      "insert into Product values('p1',2000)\n",
      "insert into Product values('apple',20)\n",
      "insert into Product values('Jasmine',30)\n"
     ]
    }
   ],
   "source": [
    "class Product:\n",
    "    def __init__(self, name, cost):\n",
    "        self.name=name\n",
    "        self.cost=cost\n",
    "    def get(self):\n",
    "        return self.name, self.cost\n",
    "    \n",
    "    def insert(self):\n",
    "        print(\"insert into Product values('%s',%s)\"%(self.name,self.cost))\n",
    "    \n",
    "class Fruit(Product):# define a validation for fruit name\n",
    "    def validate_insert(self):\n",
    "        if self.name.isalpha():\n",
    "            print(\"insert into Product values('%s',%s)\"%(self.name,self.cost))\n",
    "        else:\n",
    "            print(\"invalid name\")\n",
    "            \n",
    "\n",
    "class Flower(Product):\n",
    "    pass\n",
    "\n",
    "class Cloths(Product):\n",
    "    pass\n",
    "    \n",
    "p1=Product(\"p1\",2000)\n",
    "p1.insert()\n",
    "f1=Fruit(\"apple\",20)\n",
    "f1.validate_insert()\n",
    "f2=Flower(\"Jasmine\",30)\n",
    "f2.insert()"
   ]
  },
  {
   "cell_type": "code",
   "execution_count": 57,
   "metadata": {},
   "outputs": [
    {
     "name": "stdout",
     "output_type": "stream",
     "text": [
      "insert into Product values('p1',2000)\n",
      "invalid name\n",
      "insert into Product values('Jasmine',30)\n"
     ]
    }
   ],
   "source": [
    "class Product:\n",
    "    def __init__(self, name, cost):\n",
    "        self.name=name\n",
    "        self.cost=cost\n",
    "        \n",
    "    def get(self):\n",
    "        return self.name, self.cost\n",
    "    \n",
    "    def insert(self):\n",
    "        print(\"insert into Product values('%s',%s)\"%(self.name,self.cost))\n",
    "    \n",
    "class Fruit(Product):# define a validation for fruit name\n",
    "    def validate_insert(self):\n",
    "        if self.name.isalpha():\n",
    "            print(\"insert into Product values('%s',%s)\"%(self.name,self.cost))\n",
    "        else:\n",
    "            print(\"invalid name\")\n",
    "            \n",
    "class Flower(Product):\n",
    "    pass\n",
    "\n",
    "class Cloths(Product):\n",
    "    pass\n",
    "    \n",
    "p1=Product(\"p1\",2000)\n",
    "p1.insert()\n",
    "f1=Fruit(\"apple12\",20)\n",
    "f1.validate_insert()\n",
    "f2=Flower(\"Jasmine\",30)\n",
    "f2.insert()"
   ]
  },
  {
   "cell_type": "code",
   "execution_count": 58,
   "metadata": {},
   "outputs": [
    {
     "name": "stdout",
     "output_type": "stream",
     "text": [
      "insert into Product values('p1',2000)\n",
      "insert into Product values('apple12',20)\n",
      "insert into Product values('Jasmine',30)\n"
     ]
    }
   ],
   "source": [
    "class Product:\n",
    "    def __init__(self, name, cost):\n",
    "        self.name=name\n",
    "        self.cost=cost\n",
    "        \n",
    "    def get(self):\n",
    "        return self.name, self.cost\n",
    "    \n",
    "    def insert(self):\n",
    "        print(\"insert into Product values('%s',%s)\"%(self.name,self.cost))\n",
    "    \n",
    "class Fruit(Product):# define a validation for fruit name\n",
    "    def validate_insert(self):\n",
    "        if self.name.isalpha():\n",
    "            print(\"insert into Product values('%s',%s)\"%(self.name,self.cost))\n",
    "        else:\n",
    "            print(\"invalid name\")\n",
    "            \n",
    "class Flower(Product):\n",
    "    pass\n",
    "\n",
    "class Cloths(Product):\n",
    "    pass\n",
    "    \n",
    "p1=Product(\"p1\",2000)\n",
    "p1.insert()\n",
    "f1=Fruit(\"apple12\",20)\n",
    "f1.insert()\n",
    "f2=Flower(\"Jasmine\",30)\n",
    "f2.insert()"
   ]
  },
  {
   "cell_type": "code",
   "execution_count": 59,
   "metadata": {},
   "outputs": [
    {
     "name": "stdout",
     "output_type": "stream",
     "text": [
      "insert into Product values('p1',2000)\n",
      "invalid name\n",
      "insert into Product values('Jasmine',30)\n"
     ]
    }
   ],
   "source": [
    "class Product:\n",
    "    def __init__(self, name, cost):# data binding\n",
    "        self.name=name\n",
    "        self.cost=cost\n",
    "    def get(self):\n",
    "        return self.name, self.cost\n",
    "    def insert(self):\n",
    "        print(\"insert into Product values('%s',%s)\"%(self.name,self.cost))    \n",
    "class Fruit(Product):# inherting product calss in to Fruit class: inheritance: Product is a parent class, Fruit is child class\n",
    "    def insert(self):# overriding insert method of Product in Fruit class\n",
    "        if self.name.isalpha():\n",
    "            print(\"insert into Product values('%s',%s)\"%(self.name,self.cost))\n",
    "        else:\n",
    "            print(\"invalid name\")  \n",
    "class Flower(Product):\n",
    "    pass\n",
    "class Cloths(Product):\n",
    "    pass\n",
    "    \n",
    "p1=Product(\"p1\",2000)\n",
    "p1.insert()\n",
    "f1=Fruit(\"apple12\",20)\n",
    "f1.insert()\n",
    "f2=Flower(\"Jasmine\",30)\n",
    "f2.insert()"
   ]
  },
  {
   "cell_type": "code",
   "execution_count": 60,
   "metadata": {},
   "outputs": [
    {
     "name": "stdout",
     "output_type": "stream",
     "text": [
      "insert into Product values('p1',2000)\n",
      "invalid name\n",
      "insert into Product values('Jasmine',30)\n"
     ]
    }
   ],
   "source": [
    "class Product:\n",
    "    def __init__(self, name, cost):# data binding\n",
    "        self.name=name\n",
    "        self.cost=cost\n",
    "    def get(self):\n",
    "        return self.name, self.cost\n",
    "    def insert(self):\n",
    "        print(\"insert into Product values('%s',%s)\"%(self.name,self.cost))    \n",
    "class Fruit(Product):# inherting product calss in to Fruit class: inheritance: Product is a parent class, Fruit is child class\n",
    "    def insert(self):# overriding insert method of Product in Fruit class\n",
    "        if self.name.isalpha():\n",
    "            #self.insert()\n",
    "            super(Fruit, self).insert()\n",
    "        else:\n",
    "            print(\"invalid name\")  \n",
    "class Flower(Product):\n",
    "    pass\n",
    "class Cloths(Product):\n",
    "    pass\n",
    "    \n",
    "p1=Product(\"p1\",2000)\n",
    "p1.insert()\n",
    "f1=Fruit(\"apple12\",20)\n",
    "f1.insert()\n",
    "f2=Flower(\"Jasmine\",30)\n",
    "f2.insert()"
   ]
  },
  {
   "cell_type": "code",
   "execution_count": 61,
   "metadata": {},
   "outputs": [
    {
     "name": "stdout",
     "output_type": "stream",
     "text": [
      "insert into Product values('p1',2000)\n",
      "insert into Product values('apple',20)\n",
      "insert into Product values('Jasmine',30)\n"
     ]
    }
   ],
   "source": [
    "class Product:\n",
    "    def __init__(self, name, cost):# data binding\n",
    "        self.name=name\n",
    "        self.cost=cost\n",
    "    def get(self):\n",
    "        return self.name, self.cost\n",
    "    def insert(self):\n",
    "        print(\"insert into Product values('%s',%s)\"%(self.name,self.cost))    \n",
    "class Fruit(Product):# inherting product calss in to Fruit class: inheritance: Product is a parent class, Fruit is child class\n",
    "    def insert(self):# overriding insert method of Product in Fruit class\n",
    "        if self.name.isalpha():\n",
    "            #self.insert()\n",
    "            super(Fruit, self).insert()\n",
    "        else:\n",
    "            print(\"invalid name\")  \n",
    "class Flower(Product):\n",
    "    pass\n",
    "class Cloths(Product):\n",
    "    pass\n",
    "    \n",
    "p1=Product(\"p1\",2000)\n",
    "p1.insert()\n",
    "f1=Fruit(\"apple\",20)\n",
    "f1.insert()\n",
    "f2=Flower(\"Jasmine\",30)\n",
    "f2.insert()"
   ]
  },
  {
   "cell_type": "code",
   "execution_count": 62,
   "metadata": {},
   "outputs": [
    {
     "name": "stdout",
     "output_type": "stream",
     "text": [
      "insert into Product values('p1',2000)\n",
      "insert into Product values('apple',20)\n",
      "insert into Product values('Jasmine',30)\n"
     ]
    }
   ],
   "source": [
    "class Product:\n",
    "    def __init__(self, name, cost):# data binding\n",
    "        self.name=name\n",
    "        self.cost=cost\n",
    "    def get(self):\n",
    "        return self.name, self.cost\n",
    "    def insert(self):\n",
    "        print(\"insert into Product values('%s',%s)\"%(self.name,self.cost))    \n",
    "class Fruit(Product):# inherting product calss in to Fruit class: inheritance: Product is a parent class, Fruit is child class\n",
    "    def insert(self):# overriding insert method of Product in Fruit class\n",
    "        if self.name.isalpha():\n",
    "            #self.insert()\n",
    "            #super(Fruit, self).insert()\n",
    "            Product.insert(self)\n",
    "        else:\n",
    "            print(\"invalid name\")  \n",
    "class Flower(Product):\n",
    "    pass\n",
    "class Cloths(Product):\n",
    "    pass\n",
    "    \n",
    "p1=Product(\"p1\",2000)\n",
    "p1.insert()\n",
    "f1=Fruit(\"apple\",20)\n",
    "f1.insert()\n",
    "f2=Flower(\"Jasmine\",30)\n",
    "f2.insert()"
   ]
  },
  {
   "cell_type": "code",
   "execution_count": 1,
   "metadata": {},
   "outputs": [],
   "source": [
    "#constructor overloadin\n",
    "class Emp:\n",
    "    def __init__(self, name,emp_id,sal=None,phone=None,mobile=None):\n",
    "        self.name=name\n",
    "        self.emp_id=emp_id\n",
    "        self.sal=sal\n",
    "        self.phone=phone\n",
    "        self.mobile=mobile\n",
    "anil = Emp(\"Anil\",1)\n",
    "jay = Emp(\"Jay\",2, mobile=\"9672354789\")\n"
   ]
  },
  {
   "cell_type": "code",
   "execution_count": 3,
   "metadata": {},
   "outputs": [
    {
     "name": "stdout",
     "output_type": "stream",
     "text": [
      "**************************************************\n",
      "(1, 2, 3, 4)\n",
      "{}\n",
      "**************************************************\n",
      "(1, 2)\n",
      "{'x': 2, 'y': 3}\n"
     ]
    }
   ],
   "source": [
    "#method overloading.\n",
    "def fun(*args,**kwargs):\n",
    "    print(\"*\"*50)\n",
    "    print(args)\n",
    "    print(kwargs)\n",
    "fun(1,2,3,4)\n",
    "fun(1,2,x=2,y=3)"
   ]
  },
  {
   "cell_type": "code",
   "execution_count": 4,
   "metadata": {},
   "outputs": [
    {
     "name": "stdout",
     "output_type": "stream",
     "text": [
      "('Iphone_XR', 56000) ('nokia', 25000)\n"
     ]
    }
   ],
   "source": [
    "#class,two attributes, constructor to initialize those attributes, get method to get those details\n",
    "class Phone:\n",
    "    def __init__(self,name,price):\n",
    "        self.name = name\n",
    "        self.price = price\n",
    "    def get(self):\n",
    "        return self.name, self.price\n",
    "iphone = Phone('Iphone_XR', 56000)\n",
    "nokia = Phone('nokia',25000)\n",
    "print(iphone.get(),nokia.get())\n",
    "#Phone.get(iphone)\n"
   ]
  },
  {
   "cell_type": "code",
   "execution_count": 5,
   "metadata": {},
   "outputs": [
    {
     "name": "stdout",
     "output_type": "stream",
     "text": [
      "('Iphone_XR', 56000) ('nokia', 25000)\n"
     ]
    }
   ],
   "source": [
    "#class,two attributes, constructor to initialize those attributes, get method to get those details\n",
    "class Phone:\n",
    "    def __init__(self,name,price):\n",
    "        self.name = name\n",
    "        self.price = price\n",
    "    def get(self):\n",
    "        return self.name, self.price\n",
    "iphone = Phone('Iphone_XR', 56000)\n",
    "\"\"\"\n",
    "while creating the data object, internally it will call __new__ method. this method creates data object, and returns it.\n",
    "it will call the __init__ with that data object\n",
    "obj=__new__(cls)\n",
    "obj.__init__(*args, **kwargs)\n",
    "iphone is the reference of obj here\n",
    "\"\"\"\n",
    "nokia = Phone('nokia',25000)\n",
    "print(iphone.get(),nokia.get())\n",
    "#Phone.get(iphone)\n"
   ]
  },
  {
   "cell_type": "code",
   "execution_count": null,
   "metadata": {},
   "outputs": [],
   "source": [
    "#class,two attributes, constructor to initialize those attributes, get method to get those details\n",
    "class Phone:\n",
    "    def __new__(cls, *args, **kwargs):\n",
    "        print(\"it's calling new method\")\n",
    "    def __init__(self,name,price):\n",
    "        print(\"it's calling constructor\")\n",
    "        self.name = name\n",
    "        self.price = price\n",
    "    def get(self):\n",
    "        return self.name, self.price\n",
    "iphone = Phone('Iphone_XR', 56000)\n",
    "\"\"\"\n",
    "while creating the data object, internally it will call __new__ method. this method creates data object, and returns it.\n",
    "it will call the __init__ with that data object\n",
    "obj=__new__(cls)\n",
    "obj.__init__(*args, **kwargs)\n",
    "iphone is the reference of obj here\n",
    "\"\"\"\n",
    "nokia = Phone('nokia',25000)\n",
    "print(iphone.get(),nokia.get())\n",
    "#Phone.get(iphone)\n"
   ]
  },
  {
   "cell_type": "code",
   "execution_count": 6,
   "metadata": {},
   "outputs": [
    {
     "name": "stdout",
     "output_type": "stream",
     "text": [
      "it's calling new method\n",
      "it's calling new method\n"
     ]
    },
    {
     "ename": "AttributeError",
     "evalue": "'NoneType' object has no attribute 'get'",
     "output_type": "error",
     "traceback": [
      "\u001b[1;31m---------------------------------------------------------------------------\u001b[0m",
      "\u001b[1;31mAttributeError\u001b[0m                            Traceback (most recent call last)",
      "\u001b[1;32m<ipython-input-6-7085948a64dd>\u001b[0m in \u001b[0;36m<module>\u001b[1;34m\u001b[0m\n\u001b[0;32m     16\u001b[0m \"\"\"\n\u001b[0;32m     17\u001b[0m \u001b[0mnokia\u001b[0m \u001b[1;33m=\u001b[0m \u001b[0mPhone\u001b[0m\u001b[1;33m(\u001b[0m\u001b[1;34m'nokia'\u001b[0m\u001b[1;33m,\u001b[0m\u001b[1;36m25000\u001b[0m\u001b[1;33m)\u001b[0m\u001b[1;33m\u001b[0m\u001b[1;33m\u001b[0m\u001b[0m\n\u001b[1;32m---> 18\u001b[1;33m \u001b[0mprint\u001b[0m\u001b[1;33m(\u001b[0m\u001b[0miphone\u001b[0m\u001b[1;33m.\u001b[0m\u001b[0mget\u001b[0m\u001b[1;33m(\u001b[0m\u001b[1;33m)\u001b[0m\u001b[1;33m,\u001b[0m\u001b[0mnokia\u001b[0m\u001b[1;33m.\u001b[0m\u001b[0mget\u001b[0m\u001b[1;33m(\u001b[0m\u001b[1;33m)\u001b[0m\u001b[1;33m)\u001b[0m\u001b[1;33m\u001b[0m\u001b[1;33m\u001b[0m\u001b[0m\n\u001b[0m\u001b[0;32m     19\u001b[0m \u001b[1;31m#Phone.get(iphone)\u001b[0m\u001b[1;33m\u001b[0m\u001b[1;33m\u001b[0m\u001b[1;33m\u001b[0m\u001b[0m\n",
      "\u001b[1;31mAttributeError\u001b[0m: 'NoneType' object has no attribute 'get'"
     ]
    }
   ],
   "source": [
    "#class,two attributes, constructor to initialize those attributes, get method to get those details\n",
    "class Phone:\n",
    "    def __new__(cls, *args, **kwargs):\n",
    "        print(\"it's calling new method\")\n",
    "    def __init__(self,name,price):\n",
    "        print(\"it's calling constructor\")\n",
    "        self.name = name\n",
    "        self.price = price\n",
    "    def get(self):\n",
    "        return self.name, self.price\n",
    "iphone = Phone('Iphone_XR', 56000)\n",
    "\"\"\"\n",
    "while creating the data object, internally it will call __new__ method. this method has to creates data object,\n",
    "in our case it's returning None.\n",
    "None.__init__(*args, **kwargs)\n",
    "\"\"\"\n",
    "nokia = Phone('nokia',25000)\n",
    "print(iphone.get(),nokia.get())\n",
    "#Phone.get(iphone)\n"
   ]
  },
  {
   "cell_type": "code",
   "execution_count": 7,
   "metadata": {},
   "outputs": [
    {
     "name": "stdout",
     "output_type": "stream",
     "text": [
      "it's calling new method\n",
      "this is laptop constructor\n",
      "it's calling new method\n",
      "this is laptop constructor\n"
     ]
    },
    {
     "ename": "AttributeError",
     "evalue": "'Laptop' object has no attribute 'get'",
     "output_type": "error",
     "traceback": [
      "\u001b[1;31m---------------------------------------------------------------------------\u001b[0m",
      "\u001b[1;31mAttributeError\u001b[0m                            Traceback (most recent call last)",
      "\u001b[1;32m<ipython-input-7-28d927978624>\u001b[0m in \u001b[0;36m<module>\u001b[1;34m\u001b[0m\n\u001b[0;32m     20\u001b[0m \"\"\"\n\u001b[0;32m     21\u001b[0m \u001b[0mnokia\u001b[0m \u001b[1;33m=\u001b[0m \u001b[0mPhone\u001b[0m\u001b[1;33m(\u001b[0m\u001b[1;34m'nokia'\u001b[0m\u001b[1;33m,\u001b[0m\u001b[1;36m25000\u001b[0m\u001b[1;33m)\u001b[0m\u001b[1;33m\u001b[0m\u001b[1;33m\u001b[0m\u001b[0m\n\u001b[1;32m---> 22\u001b[1;33m \u001b[0mprint\u001b[0m\u001b[1;33m(\u001b[0m\u001b[0miphone\u001b[0m\u001b[1;33m.\u001b[0m\u001b[0mget\u001b[0m\u001b[1;33m(\u001b[0m\u001b[1;33m)\u001b[0m\u001b[1;33m,\u001b[0m\u001b[0mnokia\u001b[0m\u001b[1;33m.\u001b[0m\u001b[0mget\u001b[0m\u001b[1;33m(\u001b[0m\u001b[1;33m)\u001b[0m\u001b[1;33m)\u001b[0m\u001b[1;33m\u001b[0m\u001b[1;33m\u001b[0m\u001b[0m\n\u001b[0m\u001b[0;32m     23\u001b[0m \u001b[1;31m#Phone.get(iphone)\u001b[0m\u001b[1;33m\u001b[0m\u001b[1;33m\u001b[0m\u001b[1;33m\u001b[0m\u001b[0m\n",
      "\u001b[1;31mAttributeError\u001b[0m: 'Laptop' object has no attribute 'get'"
     ]
    }
   ],
   "source": [
    "#class,two attributes, constructor to initialize those attributes, get method to get those details\n",
    "class Laptop:\n",
    "    def __init__(self):\n",
    "        print(\"this is laptop constructor\")\n",
    "class Phone:\n",
    "    def __new__(cls, *args, **kwargs):\n",
    "        print(\"it's calling new method\")\n",
    "        return Laptop()\n",
    "    def __init__(self,name,price):\n",
    "        print(\"it's calling constructor\")\n",
    "        self.name = name\n",
    "        self.price = price\n",
    "    def get(self):\n",
    "        return self.name, self.price\n",
    "iphone = Phone('Iphone_XR', 56000)\n",
    "\"\"\"\n",
    "while creating the data object, internally it will call __new__ method. this method has to creates data object,\n",
    "in our case it's returning Laptop calss data object.\n",
    "laptop_dataobject.__init__(*args, **kwargs)\n",
    "\"\"\"\n",
    "nokia = Phone('nokia',25000)\n",
    "print(iphone.get(),nokia.get())\n",
    "#Phone.get(iphone)\n"
   ]
  },
  {
   "cell_type": "code",
   "execution_count": 8,
   "metadata": {},
   "outputs": [
    {
     "name": "stdout",
     "output_type": "stream",
     "text": [
      "it's calling new method\n",
      "it's calling constructor\n",
      "it's calling new method\n",
      "it's calling constructor\n",
      "('Iphone_XR', 56000) ('nokia', 25000)\n"
     ]
    }
   ],
   "source": [
    "#class,two attributes, constructor to initialize those attributes, get method to get those details\n",
    "class Laptop:\n",
    "    def __init__(self):\n",
    "        print(\"this is laptop constructor\")\n",
    "class Phone:# what is the parent class of the phone?: object.\n",
    "    def __new__(cls, *args, **kwargs):\n",
    "        print(\"it's calling new method\")\n",
    "        # I need to call the object class new method\n",
    "        return object.__new__(cls)\n",
    "    def __init__(self,name,price):\n",
    "        print(\"it's calling constructor\")\n",
    "        self.name = name\n",
    "        self.price = price\n",
    "    def get(self):\n",
    "        return self.name, self.price\n",
    "iphone = Phone('Iphone_XR', 56000)\n",
    "\"\"\"\n",
    "while creating the data object, internally it will call __new__ method. this method has to creates data object,\n",
    "in our case it's the __new__ method calling parent calss __new__ method. this new method creates the data object \n",
    "of the class object(cls,i.e Phone) you passed. It will create Phone class data object and returns the same.\n",
    "phone_dataobject.__init__(*args, **kwargs)\n",
    "\"\"\"\n",
    "nokia = Phone('nokia',25000)\n",
    "print(iphone.get(),nokia.get())\n",
    "#Phone.get(iphone)\n"
   ]
  },
  {
   "cell_type": "code",
   "execution_count": 10,
   "metadata": {},
   "outputs": [
    {
     "name": "stdout",
     "output_type": "stream",
     "text": [
      "it's calling constructor\n",
      "it's calling constructor\n",
      "it's calling constructor\n",
      "it's calling constructor\n",
      "it's calling constructor\n",
      "it's calling constructor\n"
     ]
    }
   ],
   "source": [
    "class Phone:\n",
    "    def __init__(self,name,price):\n",
    "        print(\"it's calling constructor\")\n",
    "        self.name = name\n",
    "        self.price = price\n",
    "    def get(self):\n",
    "        return self.name, self.price\n",
    "iphone1 = Phone('Iphone_XR', 56000)\n",
    "iphone2 = Phone('Iphone_XR', 56000)\n",
    "iphone3 = Phone('Iphone_XR', 56000)\n",
    "iphone4= Phone('Iphone_XR', 56000)\n",
    "iphone5= Phone('Iphone_XR', 56000)\n",
    "iphone6= Phone('Iphone_XR', 56000)"
   ]
  },
  {
   "cell_type": "code",
   "execution_count": null,
   "metadata": {},
   "outputs": [],
   "source": [
    "class Phone:\n",
    "    def __init__(self,name,price):\n",
    "        print(\"it's calling constructor\")\n",
    "        self.name = name\n",
    "        self.price = price\n",
    "    def get(self):\n",
    "        return self.name, self.price\n",
    "iphone1 = Phone('Iphone_XR', 56000)\n",
    "iphone2 = Phone('Iphone_XR', 56000)\n",
    "# it should not create below data objects. ie. we need to put a restriction on number objects creation.\n",
    "iphone3 = Phone('Iphone_XR', 56000)\n",
    "iphone4= Phone('Iphone_XR', 56000)\n",
    "iphone5= Phone('Iphone_XR', 56000)\n",
    "iphone6= Phone('Iphone_XR', 56000)"
   ]
  },
  {
   "cell_type": "code",
   "execution_count": 11,
   "metadata": {},
   "outputs": [
    {
     "name": "stdout",
     "output_type": "stream",
     "text": [
      "Iphone_XR\n"
     ]
    }
   ],
   "source": [
    "# class object attributes, data object attributes\n",
    "class Phone:# Phone is the reference of class object\n",
    "    def __init__(self,name,price):\n",
    "        self.name = name\n",
    "        self.price = price\n",
    "    def get(self):\n",
    "        return self.name, self.price\n",
    "iphone = Phone('Iphone_XR', 56000)# iphone is the reference of data object.\n",
    "print(iphone.name)"
   ]
  },
  {
   "cell_type": "code",
   "execution_count": 12,
   "metadata": {},
   "outputs": [
    {
     "ename": "AttributeError",
     "evalue": "type object 'Phone' has no attribute 'name'",
     "output_type": "error",
     "traceback": [
      "\u001b[1;31m---------------------------------------------------------------------------\u001b[0m",
      "\u001b[1;31mAttributeError\u001b[0m                            Traceback (most recent call last)",
      "\u001b[1;32m<ipython-input-12-d780615265fc>\u001b[0m in \u001b[0;36m<module>\u001b[1;34m\u001b[0m\n\u001b[0;32m      7\u001b[0m         \u001b[1;32mreturn\u001b[0m \u001b[0mself\u001b[0m\u001b[1;33m.\u001b[0m\u001b[0mname\u001b[0m\u001b[1;33m,\u001b[0m \u001b[0mself\u001b[0m\u001b[1;33m.\u001b[0m\u001b[0mprice\u001b[0m\u001b[1;33m\u001b[0m\u001b[1;33m\u001b[0m\u001b[0m\n\u001b[0;32m      8\u001b[0m \u001b[0miphone\u001b[0m \u001b[1;33m=\u001b[0m \u001b[0mPhone\u001b[0m\u001b[1;33m(\u001b[0m\u001b[1;34m'Iphone_XR'\u001b[0m\u001b[1;33m,\u001b[0m \u001b[1;36m56000\u001b[0m\u001b[1;33m)\u001b[0m\u001b[1;31m# iphone is the reference of data object.\u001b[0m\u001b[1;33m\u001b[0m\u001b[1;33m\u001b[0m\u001b[0m\n\u001b[1;32m----> 9\u001b[1;33m \u001b[0mprint\u001b[0m\u001b[1;33m(\u001b[0m\u001b[0mPhone\u001b[0m\u001b[1;33m.\u001b[0m\u001b[0mname\u001b[0m\u001b[1;33m)\u001b[0m\u001b[1;33m\u001b[0m\u001b[1;33m\u001b[0m\u001b[0m\n\u001b[0m",
      "\u001b[1;31mAttributeError\u001b[0m: type object 'Phone' has no attribute 'name'"
     ]
    }
   ],
   "source": [
    "# class object attributes, data object attributes\n",
    "class Phone:# Phone is the reference of class object\n",
    "    def __init__(self,name,price):\n",
    "        self.name = name\n",
    "        self.price = price\n",
    "    def get(self):\n",
    "        return self.name, self.price\n",
    "iphone = Phone('Iphone_XR', 56000)# iphone is the reference of data object.\n",
    "print(Phone.name)"
   ]
  },
  {
   "cell_type": "code",
   "execution_count": 13,
   "metadata": {},
   "outputs": [
    {
     "name": "stdout",
     "output_type": "stream",
     "text": [
      "IPHONE\n",
      "IPHONE\n",
      "Iphone_XR\n"
     ]
    },
    {
     "ename": "AttributeError",
     "evalue": "type object 'Phone' has no attribute 'name'",
     "output_type": "error",
     "traceback": [
      "\u001b[1;31m---------------------------------------------------------------------------\u001b[0m",
      "\u001b[1;31mAttributeError\u001b[0m                            Traceback (most recent call last)",
      "\u001b[1;32m<ipython-input-13-eb3ecd318066>\u001b[0m in \u001b[0;36m<module>\u001b[1;34m\u001b[0m\n\u001b[0;32m     18\u001b[0m \u001b[0mprint\u001b[0m\u001b[1;33m(\u001b[0m\u001b[0miphone\u001b[0m\u001b[1;33m.\u001b[0m\u001b[0mcompany\u001b[0m\u001b[1;33m)\u001b[0m\u001b[1;33m\u001b[0m\u001b[1;33m\u001b[0m\u001b[0m\n\u001b[0;32m     19\u001b[0m \u001b[0mprint\u001b[0m\u001b[1;33m(\u001b[0m\u001b[0miphone\u001b[0m\u001b[1;33m.\u001b[0m\u001b[0mname\u001b[0m\u001b[1;33m)\u001b[0m\u001b[1;33m\u001b[0m\u001b[1;33m\u001b[0m\u001b[0m\n\u001b[1;32m---> 20\u001b[1;33m \u001b[0mprint\u001b[0m\u001b[1;33m(\u001b[0m\u001b[0mPhone\u001b[0m\u001b[1;33m.\u001b[0m\u001b[0mname\u001b[0m\u001b[1;33m)\u001b[0m\u001b[1;33m\u001b[0m\u001b[1;33m\u001b[0m\u001b[0m\n\u001b[0m",
      "\u001b[1;31mAttributeError\u001b[0m: type object 'Phone' has no attribute 'name'"
     ]
    }
   ],
   "source": [
    "# class object attributes, data object attributes\n",
    "class Phone:# Phone is the reference of class object\n",
    "    company=\"IPHONE\"\n",
    "    def __init__(self,name,price):\n",
    "        self.name = name\n",
    "        self.price = price\n",
    "    def get(self):\n",
    "        return self.name, self.price\n",
    "iphone = Phone('Iphone_XR', 56000)# iphone is the reference of data object.\n",
    "\"\"\"\n",
    "the company is the class object attribute.\n",
    "name,price are data obejct attributes.\n",
    "\n",
    "The class object attributes can be access by using class object or data object.\n",
    "The data object attributes can be accessed by usong data object only.\n",
    "\"\"\"\n",
    "print(Phone.company)\n",
    "print(iphone.company)\n",
    "print(iphone.name)\n",
    "print(Phone.name)"
   ]
  },
  {
   "cell_type": "code",
   "execution_count": null,
   "metadata": {},
   "outputs": [],
   "source": []
  }
 ],
 "metadata": {
  "kernelspec": {
   "display_name": "Python 3",
   "language": "python",
   "name": "python3"
  },
  "language_info": {
   "codemirror_mode": {
    "name": "ipython",
    "version": 3
   },
   "file_extension": ".py",
   "mimetype": "text/x-python",
   "name": "python",
   "nbconvert_exporter": "python",
   "pygments_lexer": "ipython3",
   "version": "3.8.3"
  }
 },
 "nbformat": 4,
 "nbformat_minor": 4
}
