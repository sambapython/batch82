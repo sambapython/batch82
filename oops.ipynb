{
 "cells": [
  {
   "cell_type": "code",
   "execution_count": 1,
   "metadata": {},
   "outputs": [
    {
     "name": "stdout",
     "output_type": "stream",
     "text": [
      "this is class\n"
     ]
    }
   ],
   "source": [
    "def fun():\n",
    "    print(\"this is fun\")\n",
    "class Emp:# class name in camelcase\n",
    "    print(\"this is class\")"
   ]
  },
  {
   "cell_type": "code",
   "execution_count": 2,
   "metadata": {},
   "outputs": [
    {
     "name": "stdout",
     "output_type": "stream",
     "text": [
      "this is class\n",
      "3000\n"
     ]
    }
   ],
   "source": [
    "def fun():\n",
    "    print(\"this is fun\")\n",
    "class Emp:# class name in camelcase\n",
    "    print(\"this is class\")\n",
    "    x=1000\n",
    "    y=2000\n",
    "    z=x+y\n",
    "    print(z)"
   ]
  },
  {
   "cell_type": "code",
   "execution_count": 3,
   "metadata": {},
   "outputs": [
    {
     "name": "stdout",
     "output_type": "stream",
     "text": [
      "this is class\n"
     ]
    },
    {
     "ename": "NameError",
     "evalue": "name 'z' is not defined",
     "output_type": "error",
     "traceback": [
      "\u001b[1;31m---------------------------------------------------------------------------\u001b[0m",
      "\u001b[1;31mNameError\u001b[0m                                 Traceback (most recent call last)",
      "\u001b[1;32m<ipython-input-3-a45108462c95>\u001b[0m in \u001b[0;36m<module>\u001b[1;34m\u001b[0m\n\u001b[0;32m      9\u001b[0m     \u001b[1;32mdef\u001b[0m \u001b[0mfun\u001b[0m\u001b[1;33m(\u001b[0m\u001b[0mx\u001b[0m\u001b[1;33m)\u001b[0m\u001b[1;33m:\u001b[0m\u001b[1;33m\u001b[0m\u001b[1;33m\u001b[0m\u001b[0m\n\u001b[0;32m     10\u001b[0m         \u001b[0mprint\u001b[0m\u001b[1;33m(\u001b[0m\u001b[1;34m\"this is fun in class Emp\"\u001b[0m\u001b[1;33m)\u001b[0m\u001b[1;33m\u001b[0m\u001b[1;33m\u001b[0m\u001b[0m\n\u001b[1;32m---> 11\u001b[1;33m \u001b[0mprint\u001b[0m\u001b[1;33m(\u001b[0m\u001b[0mz\u001b[0m\u001b[1;33m)\u001b[0m\u001b[1;33m\u001b[0m\u001b[1;33m\u001b[0m\u001b[0m\n\u001b[0m",
      "\u001b[1;31mNameError\u001b[0m: name 'z' is not defined"
     ]
    }
   ],
   "source": [
    "def fun():\n",
    "    print(\"this is fun\")\n",
    "    \n",
    "class Emp:# class name in camelcase\n",
    "    print(\"this is class\")\n",
    "    x=1000\n",
    "    y=2000\n",
    "    z=x+y\n",
    "    def fun(x):\n",
    "        print(\"this is fun in class Emp\")\n",
    "print(z)"
   ]
  },
  {
   "cell_type": "code",
   "execution_count": 4,
   "metadata": {},
   "outputs": [
    {
     "name": "stdout",
     "output_type": "stream",
     "text": [
      "this is class\n",
      "3000\n"
     ]
    }
   ],
   "source": [
    "def fun():\n",
    "    print(\"this is fun\")\n",
    "    \n",
    "class Emp:# class name in camelcase\n",
    "    print(\"this is class\")\n",
    "    x=1000\n",
    "    y=2000\n",
    "    z=x+y\n",
    "    def fun(x):\n",
    "        print(\"this is fun in class Emp\")\n",
    "print(Emp.z)"
   ]
  },
  {
   "cell_type": "code",
   "execution_count": 5,
   "metadata": {},
   "outputs": [
    {
     "name": "stdout",
     "output_type": "stream",
     "text": [
      "this is class\n",
      "3000\n",
      "this is fun in class Emp\n"
     ]
    }
   ],
   "source": [
    "def fun():\n",
    "    print(\"this is fun\")\n",
    "    \n",
    "class Emp:# class name in camelcase\n",
    "    print(\"this is class\")\n",
    "    x=1000\n",
    "    y=2000\n",
    "    z=x+y\n",
    "    def fun(x):\n",
    "        print(\"this is fun in class Emp\")\n",
    "print(Emp.z)\n",
    "Emp.fun(10)"
   ]
  },
  {
   "cell_type": "code",
   "execution_count": 6,
   "metadata": {},
   "outputs": [
    {
     "name": "stdout",
     "output_type": "stream",
     "text": [
      "this is class\n",
      "3000\n",
      "this is fun in class Emp\n",
      "<class 'type'>\n"
     ]
    }
   ],
   "source": [
    "class Emp:# class name in camelcase\n",
    "    print(\"this is class\")\n",
    "    x=1000\n",
    "    y=2000\n",
    "    z=x+y\n",
    "    def fun(x):\n",
    "        print(\"this is fun in class Emp\")\n",
    "print(Emp.z)\n",
    "Emp.fun(10)\n",
    "print(type(Emp))"
   ]
  },
  {
   "cell_type": "code",
   "execution_count": 7,
   "metadata": {},
   "outputs": [
    {
     "name": "stdout",
     "output_type": "stream",
     "text": [
      "this is class\n",
      "3000\n",
      "this is fun in class Emp\n",
      "<class 'type'>\n",
      "<class '__main__.Emp'>\n"
     ]
    }
   ],
   "source": [
    "class Emp:# class name in camelcase\n",
    "    print(\"this is class\")\n",
    "    x=1000\n",
    "    y=2000\n",
    "    z=x+y\n",
    "    def fun(x):\n",
    "        print(\"this is fun in class Emp\")\n",
    "print(Emp.z)\n",
    "Emp.fun(10)\n",
    "print(type(Emp))\n",
    "print(Emp)"
   ]
  },
  {
   "cell_type": "code",
   "execution_count": 8,
   "metadata": {},
   "outputs": [
    {
     "name": "stdout",
     "output_type": "stream",
     "text": [
      "this is class\n",
      "3000\n",
      "this is fun in class Emp\n",
      "<class 'type'>\n",
      "<class '__main__.Emp'>\n",
      "1497414210288\n"
     ]
    }
   ],
   "source": [
    "class Emp:# class name in camelcase\n",
    "    print(\"this is class\")\n",
    "    x=1000\n",
    "    y=2000\n",
    "    z=x+y\n",
    "    def fun(x):\n",
    "        print(\"this is fun in class Emp\")\n",
    "print(Emp.z)\n",
    "Emp.fun(10)\n",
    "print(type(Emp))\n",
    "print(Emp)\n",
    "print(id(Emp))"
   ]
  },
  {
   "cell_type": "code",
   "execution_count": 10,
   "metadata": {},
   "outputs": [
    {
     "name": "stdout",
     "output_type": "stream",
     "text": [
      "Bhargav 2 7654321\n",
      "Sambasiva rao 1 123456\n"
     ]
    }
   ],
   "source": [
    "class Emp:\n",
    "    pass\n",
    "samba=Emp()# data object, samba is the reference of dataobject\n",
    "bhargav = Emp()# bhargav is the reference of data object\n",
    "samba.name=\"Sambasiva rao\"\n",
    "bhargav.name=\"Bhargav\"\n",
    "samba.emp_id=1\n",
    "bhargav.emp_id=2\n",
    "samba.sal=123456\n",
    "bhargav.sal=7654321\n",
    "print(bhargav.name,bhargav.emp_id,bhargav.sal)\n",
    "print(samba.name,samba.emp_id,samba.sal)"
   ]
  },
  {
   "cell_type": "code",
   "execution_count": null,
   "metadata": {},
   "outputs": [],
   "source": []
  }
 ],
 "metadata": {
  "kernelspec": {
   "display_name": "Python 3",
   "language": "python",
   "name": "python3"
  },
  "language_info": {
   "codemirror_mode": {
    "name": "ipython",
    "version": 3
   },
   "file_extension": ".py",
   "mimetype": "text/x-python",
   "name": "python",
   "nbconvert_exporter": "python",
   "pygments_lexer": "ipython3",
   "version": "3.8.3"
  }
 },
 "nbformat": 4,
 "nbformat_minor": 4
}
