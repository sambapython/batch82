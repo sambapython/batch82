{
 "cells": [
  {
   "cell_type": "code",
   "execution_count": 1,
   "metadata": {},
   "outputs": [
    {
     "name": "stdout",
     "output_type": "stream",
     "text": [
      "\n",
      "id,name,email,phone\n",
      "1,Jayaram Guduru, jayG@gmail.com,9676622024\n",
      "2,vedhanvesh Guduru, vedhaG123@yahoo.co.in,9676622025\n",
      "3,dhana laxmi,dan@rediff.org,9676622026\n",
      "4,Anil Kumar.kumar@gamil.com,9676622027\n",
      "\n"
     ]
    }
   ],
   "source": [
    "data = \"\"\"\n",
    "id,name,email,phone\n",
    "1,Jayaram Guduru, jayG@gmail.com,9676622024\n",
    "2,vedhanvesh Guduru, vedhaG123@yahoo.co.in,9676622025\n",
    "3,dhana laxmi,dan@rediff.org,9676622026\n",
    "4,Anil Kumar.kumar@gamil.com,9676622027\n",
    "\"\"\"\n",
    "print(data)"
   ]
  },
  {
   "cell_type": "code",
   "execution_count": 2,
   "metadata": {},
   "outputs": [
    {
     "name": "stdout",
     "output_type": "stream",
     "text": [
      "\n",
      "\n"
     ]
    }
   ],
   "source": [
    "data = \"\"\"\n",
    "id,name,email,phone\n",
    "1,Jayaram Guduru, jayG@gmail.com,9676622024\n",
    "2,vedhanvesh Guduru, vedhaG123@yahoo.co.in,9676622025\n",
    "3,dhana laxmi,dan@rediff.org,9676622026\n",
    "4,Anil Kumar.kumar@gamil.com,9676622027\n",
    "\"\"\"\n",
    "for row in data:\n",
    "    print(row)\n",
    "    break"
   ]
  },
  {
   "cell_type": "code",
   "execution_count": 3,
   "metadata": {},
   "outputs": [
    {
     "name": "stdout",
     "output_type": "stream",
     "text": [
      "\n",
      "\n",
      "i\n",
      "d\n",
      ",\n",
      "n\n",
      "a\n",
      "m\n",
      "e\n",
      ",\n",
      "e\n",
      "m\n"
     ]
    }
   ],
   "source": [
    "data = \"\"\"\n",
    "id,name,email,phone\n",
    "1,Jayaram Guduru, jayG@gmail.com,9676622024\n",
    "2,vedhanvesh Guduru, vedhaG123@yahoo.co.in,9676622025\n",
    "3,dhana laxmi,dan@rediff.org,9676622026\n",
    "4,Anil Kumar.kumar@gamil.com,9676622027\n",
    "\"\"\"\n",
    "c=0\n",
    "for row in data:\n",
    "    print(row)\n",
    "    if c==10:\n",
    "        break\n",
    "    c=c+1\n",
    "    "
   ]
  },
  {
   "cell_type": "code",
   "execution_count": 4,
   "metadata": {},
   "outputs": [
    {
     "name": "stdout",
     "output_type": "stream",
     "text": [
      "\n",
      "id,name,email,phone\n",
      "1,Jayaram Guduru, jayG@gmail.com,9676622024\n",
      "2,vedhanvesh Guduru, vedhaG123@yahoo.co.in,9676622025\n",
      "3,dhana laxmi,dan@rediff.org,9676622026\n",
      "4,Anil Kumar.kumar@gamil.com,9676622027\n"
     ]
    }
   ],
   "source": [
    "data = \"\"\"\n",
    "id,name,email,phone\n",
    "1,Jayaram Guduru, jayG@gmail.com,9676622024\n",
    "2,vedhanvesh Guduru, vedhaG123@yahoo.co.in,9676622025\n",
    "3,dhana laxmi,dan@rediff.org,9676622026\n",
    "4,Anil Kumar.kumar@gamil.com,9676622027\n",
    "\"\"\"\n",
    "c=0\n",
    "for row in data.splitlines():\n",
    "    print(row)"
   ]
  },
  {
   "cell_type": "code",
   "execution_count": 5,
   "metadata": {},
   "outputs": [
    {
     "name": "stdout",
     "output_type": "stream",
     "text": [
      "id,name,email,phone\n",
      "1,Jayaram Guduru, jayG@gmail.com,9676622024\n",
      "2,vedhanvesh Guduru, vedhaG123@yahoo.co.in,9676622025\n",
      "3,dhana laxmi,dan@rediff.org,9676622026\n",
      "4,Anil Kumar.kumar@gamil.com,9676622027\n"
     ]
    }
   ],
   "source": [
    "data = \"\"\"\n",
    "id,name,email,phone\n",
    "1,Jayaram Guduru, jayG@gmail.com,9676622024\n",
    "2,vedhanvesh Guduru, vedhaG123@yahoo.co.in,9676622025\n",
    "3,dhana laxmi,dan@rediff.org,9676622026\n",
    "4,Anil Kumar.kumar@gamil.com,9676622027\n",
    "\"\"\"\n",
    "c=0\n",
    "for row in data.splitlines():\n",
    "    if row:\n",
    "        print(row)"
   ]
  },
  {
   "cell_type": "code",
   "execution_count": 6,
   "metadata": {},
   "outputs": [
    {
     "name": "stdout",
     "output_type": "stream",
     "text": [
      "['id', 'name', 'email', 'phone']\n",
      "['1', 'Jayaram Guduru', ' jayG@gmail.com', '9676622024']\n",
      "['2', 'vedhanvesh Guduru', ' vedhaG123@yahoo.co.in', '9676622025']\n",
      "['3', 'dhana laxmi', 'dan@rediff.org', '9676622026']\n",
      "['4', 'Anil Kumar.kumar@gamil.com', '9676622027']\n"
     ]
    }
   ],
   "source": [
    "data = \"\"\"\n",
    "id,name,email,phone\n",
    "1,Jayaram Guduru, jayG@gmail.com,9676622024\n",
    "2,vedhanvesh Guduru, vedhaG123@yahoo.co.in,9676622025\n",
    "3,dhana laxmi,dan@rediff.org,9676622026\n",
    "4,Anil Kumar.kumar@gamil.com,9676622027\n",
    "\"\"\"\n",
    "c=0\n",
    "for row in data.splitlines():\n",
    "    if row:\n",
    "        print(row.split(\",\"))"
   ]
  },
  {
   "cell_type": "code",
   "execution_count": 8,
   "metadata": {},
   "outputs": [
    {
     "name": "stdout",
     "output_type": "stream",
     "text": [
      "email\n",
      "jayG@gmail.com\n",
      "9676622025\n",
      "dan@rediff.org\n",
      "9676622027\n"
     ]
    }
   ],
   "source": [
    "data = \"\"\"\n",
    "id,name,email,phone\n",
    "1,Jayaram Guduru,jayG@gmail.com,9676622024\n",
    "2,vedhanvesh Guduru vedhaG123@yahoo.co.in,9676622025\n",
    "3,dhana laxmi,dan@rediff.org,9676622026\n",
    "4,Anil Kumar.kumar@gamil.com,9676622027\n",
    "\"\"\"\n",
    "c=0\n",
    "for row in data.splitlines():\n",
    "    if row:\n",
    "        print(row.split(\",\")[2])"
   ]
  },
  {
   "cell_type": "code",
   "execution_count": 11,
   "metadata": {},
   "outputs": [
    {
     "name": "stdout",
     "output_type": "stream",
     "text": [
      "phone\n",
      "9676622024\n",
      "9676622025\n",
      "9676622026\n",
      "9676622027\n"
     ]
    }
   ],
   "source": [
    "data = \"\"\"\n",
    "id,name,email,phone\n",
    "1,Jayaram Guduru,jayG@gmail.com,9676622024\n",
    "2,vedhanvesh Guduru, vedhaG123@yahoo.co.in,9676622025\n",
    "3,dhana laxmi,dan@rediff.org,9676622026\n",
    "4,Anil Kumar,kumar@gamil.com,9676622027\n",
    "\"\"\"\n",
    "c=0\n",
    "for row in data.splitlines():\n",
    "    if row:\n",
    "        print(row.split(\",\")[3])"
   ]
  },
  {
   "cell_type": "code",
   "execution_count": 12,
   "metadata": {},
   "outputs": [
    {
     "name": "stdout",
     "output_type": "stream",
     "text": [
      "9676622024\n",
      "2\n",
      "dhana laxmi\n",
      "kumar@gamil.com\n"
     ]
    }
   ],
   "source": [
    "data = \"\"\"\n",
    "1,Jayaram Guduru,jayG@gmail.com,9676622024\n",
    "vedhanvesh Guduru, vedhaG123@yahoo.co.in,9676622025,2\n",
    "3,dan@rediff.org,9676622026,dhana laxmi\n",
    "4,Anil Kumar,9676622027,kumar@gamil.com\n",
    "\"\"\"\n",
    "for row in data.splitlines():\n",
    "    if row:\n",
    "        print(row.split(\",\")[3])"
   ]
  },
  {
   "cell_type": "code",
   "execution_count": 14,
   "metadata": {},
   "outputs": [
    {
     "name": "stdout",
     "output_type": "stream",
     "text": [
      "['a', 'a', 'a', 'a', 'a', 'c', 'a', 'a', 'a', 'c', 'a', 'a', 'a', 'a', 'a', 'a', 'a', 'c']\n"
     ]
    }
   ],
   "source": [
    "import re\n",
    "data = \"\"\"\n",
    "1,Jayaram Guduru,jayG@gmail.com,9676622024\n",
    "vedhanvesh Guduru, vedhaG123@yahoo.co.in,9676622025,2\n",
    "3,dan@rediff.org,9676622026,dhana laxmi\n",
    "4,Anil Kumar,9676622027,kumar@gamil.com\n",
    "\"\"\"\n",
    "print(re.findall(\"[abc]\",data))"
   ]
  },
  {
   "cell_type": "code",
   "execution_count": 15,
   "metadata": {},
   "outputs": [
    {
     "name": "stdout",
     "output_type": "stream",
     "text": [
      "['a', 'a', 'a', 'u', 'u', 'u', 'a', 'a', 'i', 'o', 'e', 'a', 'e', 'u', 'u', 'u', 'e', 'a', 'a', 'o', 'o', 'o', 'i', 'a', 'e', 'i', 'o', 'a', 'a', 'a', 'i', 'i', 'u', 'a', 'u', 'a', 'a', 'i', 'o']\n"
     ]
    }
   ],
   "source": [
    "import re\n",
    "data = \"\"\"\n",
    "1,Jayaram Guduru,jayG@gmail.com,9676622024\n",
    "vedhanvesh Guduru, vedhaG123@yahoo.co.in,9676622025,2\n",
    "3,dan@rediff.org,9676622026,dhana laxmi\n",
    "4,Anil Kumar,9676622027,kumar@gamil.com\n",
    "\"\"\"\n",
    "print(re.findall(\"[aeiou]\",data))"
   ]
  },
  {
   "cell_type": "code",
   "execution_count": 16,
   "metadata": {},
   "outputs": [
    {
     "name": "stdout",
     "output_type": "stream",
     "text": [
      "['a', 'a', 'a', 'u', 'u', 'u', 'a', 'a', 'i', 'o', 'e', 'a', 'e', 'u', 'u', 'u', 'e', 'a', 'a', 'o', 'o', 'o', 'i', 'a', 'e', 'i', 'o', 'a', 'a', 'a', 'i', 'A', 'i', 'u', 'a', 'u', 'a', 'a', 'i', 'o']\n"
     ]
    }
   ],
   "source": [
    "import re\n",
    "data = \"\"\"\n",
    "1,Jayaram Guduru,jayG@gmail.com,9676622024\n",
    "vedhanvesh Guduru, vedhaG123@yahoo.co.in,9676622025,2\n",
    "3,dan@rediff.org,9676622026,dhana laxmi\n",
    "4,Anil Kumar,9676622027,kumar@gamil.com\n",
    "\"\"\"\n",
    "print(re.findall(\"[aeiou]\",data,re.I))"
   ]
  },
  {
   "cell_type": "code",
   "execution_count": 17,
   "metadata": {},
   "outputs": [
    {
     "name": "stdout",
     "output_type": "stream",
     "text": [
      "['J', 'a', 'y', 'a', 'r', 'a', 'm', 'G', 'u', 'd', 'u', 'r', 'u', 'j', 'a', 'y', 'G', 'g', 'm', 'a', 'i', 'l', 'c', 'o', 'm', 'v', 'e', 'd', 'h', 'a', 'n', 'v', 'e', 's', 'h', 'G', 'u', 'd', 'u', 'r', 'u', 'v', 'e', 'd', 'h', 'a', 'G', 'y', 'a', 'h', 'o', 'o', 'c', 'o', 'i', 'n', 'd', 'a', 'n', 'r', 'e', 'd', 'i', 'f', 'f', 'o', 'r', 'g', 'd', 'h', 'a', 'n', 'a', 'l', 'a', 'x', 'm', 'i', 'A', 'n', 'i', 'l', 'K', 'u', 'm', 'a', 'r', 'k', 'u', 'm', 'a', 'r', 'g', 'a', 'm', 'i', 'l', 'c', 'o', 'm']\n"
     ]
    }
   ],
   "source": [
    "import re\n",
    "data = \"\"\"\n",
    "1,Jayaram Guduru,jayG@gmail.com,9676622024\n",
    "vedhanvesh Guduru, vedhaG123@yahoo.co.in,9676622025,2\n",
    "3,dan@rediff.org,9676622026,dhana laxmi\n",
    "4,Anil Kumar,9676622027,kumar@gamil.com\n",
    "\"\"\"\n",
    "print(re.findall(\"[a-z]\",data,re.I))"
   ]
  },
  {
   "cell_type": "code",
   "execution_count": 18,
   "metadata": {},
   "outputs": [
    {
     "name": "stdout",
     "output_type": "stream",
     "text": [
      "['Ja', 'ya', 'ra', 'Gu', 'du', 'ru', 'ja', 'yG', 'gm', 'ai', 'co', 've', 'dh', 'an', 've', 'sh', 'Gu', 'du', 'ru', 've', 'dh', 'aG', 'ya', 'ho', 'co', 'in', 'da', 're', 'di', 'ff', 'or', 'dh', 'an', 'la', 'xm', 'An', 'il', 'Ku', 'ma', 'ku', 'ma', 'ga', 'mi', 'co']\n"
     ]
    }
   ],
   "source": [
    "import re\n",
    "data = \"\"\"\n",
    "1,Jayaram Guduru,jayG@gmail.com,9676622024\n",
    "vedhanvesh Guduru, vedhaG123@yahoo.co.in,9676622025,2\n",
    "3,dan@rediff.org,9676622026,dhana laxmi\n",
    "4,Anil Kumar,9676622027,kumar@gamil.com\n",
    "\"\"\"\n",
    "print(re.findall(\"[a-z][a-z]\",data,re.I))"
   ]
  },
  {
   "cell_type": "code",
   "execution_count": 19,
   "metadata": {},
   "outputs": [
    {
     "name": "stdout",
     "output_type": "stream",
     "text": [
      "['Jay', 'ara', 'Gud', 'uru', 'jay', 'gma', 'com', 'ved', 'han', 'ves', 'Gud', 'uru', 'ved', 'haG', 'yah', 'dan', 'red', 'iff', 'org', 'dha', 'lax', 'Ani', 'Kum', 'kum', 'gam', 'com']\n"
     ]
    }
   ],
   "source": [
    "import re\n",
    "data = \"\"\"\n",
    "1,Jayaram Guduru,jayG@gmail.com,9676622024\n",
    "vedhanvesh Guduru, vedhaG123@yahoo.co.in,9676622025,2\n",
    "3,dan@rediff.org,9676622026,dhana laxmi\n",
    "4,Anil Kumar,9676622027,kumar@gamil.com\n",
    "\"\"\"\n",
    "print(re.findall(\"[a-z][a-z][a-z]\",data,re.I))"
   ]
  },
  {
   "cell_type": "code",
   "execution_count": 20,
   "metadata": {},
   "outputs": [
    {
     "name": "stdout",
     "output_type": "stream",
     "text": [
      "['Jay', 'ara', 'Gud', 'uru', 'jay', 'gma', 'com', 'ved', 'han', 'ves', 'Gud', 'uru', 'ved', 'haG', 'yah', 'dan', 'red', 'iff', 'org', 'dha', 'lax', 'Ani', 'Kum', 'kum', 'gam', 'com']\n"
     ]
    }
   ],
   "source": [
    "import re\n",
    "data = \"\"\"\n",
    "1,Jayaram Guduru,jayG@gmail.com,9676622024\n",
    "vedhanvesh Guduru, vedhaG123@yahoo.co.in,9676622025,2\n",
    "3,dan@rediff.org,9676622026,dhana laxmi\n",
    "4,Anil Kumar,9676622027,kumar@gamil.com\n",
    "\"\"\"\n",
    "print(re.findall(\"[a-z]{3}\",data,re.I))"
   ]
  },
  {
   "cell_type": "code",
   "execution_count": 21,
   "metadata": {},
   "outputs": [
    {
     "name": "stdout",
     "output_type": "stream",
     "text": [
      "['967', '662', '202', '123', '967', '662', '202', '967', '662', '202', '967', '662', '202']\n"
     ]
    }
   ],
   "source": [
    "import re\n",
    "data = \"\"\"\n",
    "1,Jayaram Guduru,jayG@gmail.com,9676622024\n",
    "vedhanvesh Guduru, vedhaG123@yahoo.co.in,9676622025,2\n",
    "3,dan@rediff.org,9676622026,dhana laxmi\n",
    "4,Anil Kumar,9676622027,kumar@gamil.com\n",
    "\"\"\"\n",
    "print(re.findall(\"[0-9]{3}\",data,re.I))"
   ]
  },
  {
   "cell_type": "code",
   "execution_count": 22,
   "metadata": {},
   "outputs": [
    {
     "name": "stdout",
     "output_type": "stream",
     "text": [
      "['9676622024', '9676622025', '9676622026', '9676622027']\n"
     ]
    }
   ],
   "source": [
    "import re\n",
    "data = \"\"\"\n",
    "1,Jayaram Guduru,jayG@gmail.com,9676622024\n",
    "vedhanvesh Guduru, vedhaG123@yahoo.co.in,9676622025,2\n",
    "3,dan@rediff.org,9676622026,dhana laxmi\n",
    "4,Anil Kumar,9676622027,kumar@gamil.com\n",
    "\"\"\"\n",
    "print(re.findall(\"[0-9]{10}\",data,re.I))"
   ]
  },
  {
   "cell_type": "code",
   "execution_count": 23,
   "metadata": {},
   "outputs": [
    {
     "name": "stdout",
     "output_type": "stream",
     "text": [
      "[]\n"
     ]
    }
   ],
   "source": [
    "import re\n",
    "data = \"\"\"\n",
    "1,Jayaram Guduru,jayG@gmail.com,9676622024\n",
    "vedhanvesh Guduru, vedhaG123@yahoo.co.in,9676622025,2\n",
    "3,dan@rediff.org,9676622026,dhana laxmi\n",
    "4,Anil Kumar,9676622027,kumar@gamil.com\n",
    "\"\"\"\n",
    "print(re.findall(\"^[0-9]{10}\",data,re.I))"
   ]
  },
  {
   "cell_type": "code",
   "execution_count": 25,
   "metadata": {},
   "outputs": [
    {
     "name": "stdout",
     "output_type": "stream",
     "text": [
      "['9676622028']\n"
     ]
    }
   ],
   "source": [
    "import re\n",
    "data = \"\"\"9676622028,Jayaram Guduru,jayG@gmail.com,9676622024\n",
    "vedhanvesh Guduru, vedhaG123@yahoo.co.in,9676622025,2\n",
    "3,dan@rediff.org,9676622026,dhana laxmi\n",
    "4,Anil Kumar,9676622027,kumar@gamil.com\n",
    "\"\"\"\n",
    "print(re.findall(\"^[0-9]{10}\",data,re.I))"
   ]
  },
  {
   "cell_type": "code",
   "execution_count": 26,
   "metadata": {},
   "outputs": [
    {
     "name": "stdout",
     "output_type": "stream",
     "text": [
      "[',Jayaram G', 'uduru,jayG', '@gmail.com', '\\nvedhanves', 'h Guduru, ', '@yahoo.co.', ',dan@redif', ',dhana lax', ',Anil Kuma', ',kumar@gam']\n"
     ]
    }
   ],
   "source": [
    "import re\n",
    "data = \"\"\"\n",
    "1,Jayaram Guduru,jayG@gmail.com,9676622024\n",
    "vedhanvesh Guduru, vedhaG123@yahoo.co.in,9676622025,2\n",
    "3,dan@rediff.org,9676622026,dhana laxmi\n",
    "4,Anil Kumar,9676622027,kumar@gamil.com\n",
    "\"\"\"\n",
    "print(re.findall(\"[^0-9]{10}\",data,re.I))"
   ]
  },
  {
   "cell_type": "code",
   "execution_count": 27,
   "metadata": {},
   "outputs": [
    {
     "name": "stdout",
     "output_type": "stream",
     "text": [
      "[]\n"
     ]
    }
   ],
   "source": [
    "import re\n",
    "data = \"\"\"\n",
    "1,Jayaram Guduru,jayG@gmail.com,9676622024\n",
    "vedhanvesh Guduru, vedhaG123@yahoo.co.in,9676622025,2\n",
    "3,dan@rediff.org,9676622026,dhana laxmi\n",
    "4,Anil Kumar,9676622027,kumar@gamil.com\n",
    "\"\"\"\n",
    "print(re.findall(\"[0-9]{10}$\",data,re.I))"
   ]
  },
  {
   "cell_type": "code",
   "execution_count": 29,
   "metadata": {},
   "outputs": [
    {
     "name": "stdout",
     "output_type": "stream",
     "text": [
      "['9676622028']\n"
     ]
    }
   ],
   "source": [
    "import re\n",
    "data = \"\"\"\n",
    "1,Jayaram Guduru,jayG@gmail.com,9676622024\n",
    "vedhanvesh Guduru, vedhaG123@yahoo.co.in,9676622025,2\n",
    "3,dan@rediff.org,9676622026,dhana laxmi\n",
    "4,Anil Kumar,9676622027,kumar@gamil.com,9676622028\n",
    "\"\"\"\n",
    "print(re.findall(\"[0-9]{10}$\",data,re.I))"
   ]
  },
  {
   "cell_type": "code",
   "execution_count": 30,
   "metadata": {},
   "outputs": [
    {
     "name": "stdout",
     "output_type": "stream",
     "text": [
      "['1', 'J', 'a', 'y', 'a', 'r', 'a', 'm', 'G', 'u', 'd', 'u', 'r', 'u', 'j', 'a', 'y', 'G', 'g', 'm', 'a', 'i', 'l', 'c', 'o', 'm', '9', '6', '7', '6', '6', '2', '2', '0', '2', '4', 'v', 'e', 'd', 'h', 'a', 'n', 'v', 'e', 's', 'h', 'G', 'u', 'd', 'u', 'r', 'u', 'v', 'e', 'd', 'h', 'a', 'G', '1', '2', '3', 'y', 'a', 'h', 'o', 'o', 'c', 'o', 'i', 'n', '9', '6', '7', '6', '6', '2', '2', '0', '2', '5', '2', '3', 'd', 'a', 'n', 'r', 'e', 'd', 'i', 'f', 'f', 'o', 'r', 'g', '9', '6', '7', '6', '6', '2', '2', '0', '2', '6', 'd', 'h', 'a', 'n', 'a', 'l', 'a', 'x', 'm', 'i', '4', 'A', 'n', 'i', 'l', 'K', 'u', 'm', 'a', 'r', '9', '6', '7', '6', '6', '2', '2', '0', '2', '7', 'k', 'u', 'm', 'a', 'r', 'g', 'a', 'm', 'i', 'l', 'c', 'o', 'm']\n"
     ]
    }
   ],
   "source": [
    "import re\n",
    "data = \"\"\"\n",
    "1,Jayaram Guduru,jayG@gmail.com,9676622024\n",
    "vedhanvesh Guduru, vedhaG123@yahoo.co.in,9676622025,2\n",
    "3,dan@rediff.org,9676622026,dhana laxmi\n",
    "4,Anil Kumar,9676622027,kumar@gamil.com\n",
    "\"\"\"\n",
    "print(re.findall(\"[0-9a-z]\",data,re.I))"
   ]
  },
  {
   "cell_type": "code",
   "execution_count": 31,
   "metadata": {},
   "outputs": [
    {
     "name": "stdout",
     "output_type": "stream",
     "text": [
      "['1', ',', 'J', 'a', 'y', 'a', 'r', 'a', 'm', ' ', 'G', 'u', 'd', 'u', 'r', 'u', ',', 'j', 'a', 'y', 'G', '@', 'g', 'm', 'a', 'i', 'l', '.', 'c', 'o', 'm', ',', '9', '6', '7', '6', '6', '2', '2', '0', '2', '4', 'v', 'e', 'd', 'h', 'a', 'n', 'v', 'e', 's', 'h', ' ', 'G', 'u', 'd', 'u', 'r', 'u', ',', ' ', 'v', 'e', 'd', 'h', 'a', 'G', '1', '2', '3', '@', 'y', 'a', 'h', 'o', 'o', '.', 'c', 'o', '.', 'i', 'n', ',', '9', '6', '7', '6', '6', '2', '2', '0', '2', '5', ',', '2', '3', ',', 'd', 'a', 'n', '@', 'r', 'e', 'd', 'i', 'f', 'f', '.', 'o', 'r', 'g', ',', '9', '6', '7', '6', '6', '2', '2', '0', '2', '6', ',', 'd', 'h', 'a', 'n', 'a', ' ', 'l', 'a', 'x', 'm', 'i', '4', ',', 'A', 'n', 'i', 'l', ' ', 'K', 'u', 'm', 'a', 'r', ',', '9', '6', '7', '6', '6', '2', '2', '0', '2', '7', ',', 'k', 'u', 'm', 'a', 'r', '@', 'g', 'a', 'm', 'i', 'l', '.', 'c', 'o', 'm']\n"
     ]
    }
   ],
   "source": [
    "import re\n",
    "data = \"\"\"\n",
    "1,Jayaram Guduru,jayG@gmail.com,9676622024\n",
    "vedhanvesh Guduru, vedhaG123@yahoo.co.in,9676622025,2\n",
    "3,dan@rediff.org,9676622026,dhana laxmi\n",
    "4,Anil Kumar,9676622027,kumar@gamil.com\n",
    "\"\"\"\n",
    "print(re.findall(\".\",data,re.I))"
   ]
  },
  {
   "cell_type": "code",
   "execution_count": 32,
   "metadata": {},
   "outputs": [
    {
     "name": "stdout",
     "output_type": "stream",
     "text": [
      "['\\n', '1', ',', 'J', 'a', 'y', 'a', 'r', 'a', 'm', ' ', 'G', 'u', 'd', 'u', 'r', 'u', ',', 'j', 'a', 'y', 'G', '@', 'g', 'm', 'a', 'i', 'l', '.', 'c', 'o', 'm', ',', '9', '6', '7', '6', '6', '2', '2', '0', '2', '4', '\\n', 'v', 'e', 'd', 'h', 'a', 'n', 'v', 'e', 's', 'h', ' ', 'G', 'u', 'd', 'u', 'r', 'u', ',', ' ', 'v', 'e', 'd', 'h', 'a', 'G', '1', '2', '3', '@', 'y', 'a', 'h', 'o', 'o', '.', 'c', 'o', '.', 'i', 'n', ',', '9', '6', '7', '6', '6', '2', '2', '0', '2', '5', ',', '2', '\\n', '3', ',', 'd', 'a', 'n', '@', 'r', 'e', 'd', 'i', 'f', 'f', '.', 'o', 'r', 'g', ',', '9', '6', '7', '6', '6', '2', '2', '0', '2', '6', ',', 'd', 'h', 'a', 'n', 'a', ' ', 'l', 'a', 'x', 'm', 'i', '\\n', '4', ',', 'A', 'n', 'i', 'l', ' ', 'K', 'u', 'm', 'a', 'r', ',', '9', '6', '7', '6', '6', '2', '2', '0', '2', '7', ',', 'k', 'u', 'm', 'a', 'r', '@', 'g', 'a', 'm', 'i', 'l', '.', 'c', 'o', 'm', '\\n']\n"
     ]
    }
   ],
   "source": [
    "import re\n",
    "data = \"\"\"\n",
    "1,Jayaram Guduru,jayG@gmail.com,9676622024\n",
    "vedhanvesh Guduru, vedhaG123@yahoo.co.in,9676622025,2\n",
    "3,dan@rediff.org,9676622026,dhana laxmi\n",
    "4,Anil Kumar,9676622027,kumar@gamil.com\n",
    "\"\"\"\n",
    "print(re.findall(\".\",data,re.I|re.DOTALL))"
   ]
  },
  {
   "cell_type": "code",
   "execution_count": 33,
   "metadata": {},
   "outputs": [
    {
     "name": "stdout",
     "output_type": "stream",
     "text": [
      "['1', '9', '6', '7', '6', '6', '2', '2', '0', '2', '4', '1', '2', '3', '9', '6', '7', '6', '6', '2', '2', '0', '2', '5', '2', '3', '9', '6', '7', '6', '6', '2', '2', '0', '2', '6', '4', '9', '6', '7', '6', '6', '2', '2', '0', '2', '7']\n"
     ]
    }
   ],
   "source": [
    "import re\n",
    "data = \"\"\"\n",
    "1,Jayaram Guduru,jayG@gmail.com,9676622024\n",
    "vedhanvesh Guduru, vedhaG123@yahoo.co.in,9676622025,2\n",
    "3,dan@rediff.org,9676622026,dhana laxmi\n",
    "4,Anil Kumar,9676622027,kumar@gamil.com\n",
    "\"\"\"\n",
    "print(re.findall(\"[0-9]\",data,re.I|re.DOTALL))"
   ]
  },
  {
   "cell_type": "code",
   "execution_count": 34,
   "metadata": {},
   "outputs": [
    {
     "name": "stdout",
     "output_type": "stream",
     "text": [
      "['1', '9', '6', '7', '6', '6', '2', '2', '0', '2', '4', '1', '2', '3', '9', '6', '7', '6', '6', '2', '2', '0', '2', '5', '2', '3', '9', '6', '7', '6', '6', '2', '2', '0', '2', '6', '4', '9', '6', '7', '6', '6', '2', '2', '0', '2', '7']\n"
     ]
    }
   ],
   "source": [
    "import re\n",
    "data = \"\"\"\n",
    "1,Jayaram Guduru,jayG@gmail.com,9676622024\n",
    "vedhanvesh Guduru, vedhaG123@yahoo.co.in,9676622025,2\n",
    "3,dan@rediff.org,9676622026,dhana laxmi\n",
    "4,Anil Kumar,9676622027,kumar@gamil.com\n",
    "\"\"\"\n",
    "print(re.findall(\"[\\d]\",data,re.I|re.DOTALL))"
   ]
  },
  {
   "cell_type": "code",
   "execution_count": 35,
   "metadata": {},
   "outputs": [
    {
     "name": "stdout",
     "output_type": "stream",
     "text": [
      "['1', 'J', 'a', 'y', 'a', 'r', 'a', 'm', 'G', 'u', 'd', 'u', 'r', 'u', 'j', 'a', 'y', 'G', 'g', 'm', 'a', 'i', 'l', 'c', 'o', 'm', '9', '6', '7', '6', '6', '2', '2', '0', '2', '4', 'v', 'e', 'd', 'h', 'a', 'n', 'v', 'e', 's', 'h', 'G', 'u', 'd', 'u', 'r', 'u', 'v', 'e', 'd', 'h', 'a', 'G', '1', '2', '3', 'y', 'a', 'h', 'o', 'o', 'c', 'o', 'i', 'n', '9', '6', '7', '6', '6', '2', '2', '0', '2', '5', '2', '3', 'd', 'a', 'n', 'r', 'e', 'd', 'i', 'f', 'f', 'o', 'r', 'g', '9', '6', '7', '6', '6', '2', '2', '0', '2', '6', 'd', 'h', 'a', 'n', 'a', 'l', 'a', 'x', 'm', 'i', '4', 'A', 'n', 'i', 'l', 'K', 'u', 'm', 'a', 'r', '9', '6', '7', '6', '6', '2', '2', '0', '2', '7', 'k', 'u', 'm', 'a', 'r', 'g', 'a', 'm', 'i', 'l', 'c', 'o', 'm']\n"
     ]
    }
   ],
   "source": [
    "import re\n",
    "data = \"\"\"\n",
    "1,Jayaram Guduru,jayG@gmail.com,9676622024\n",
    "vedhanvesh Guduru, vedhaG123@yahoo.co.in,9676622025,2\n",
    "3,dan@rediff.org,9676622026,dhana laxmi\n",
    "4,Anil Kumar,9676622027,kumar@gamil.com\n",
    "\"\"\"\n",
    "print(re.findall(\"[a-z0-9_-]\",data,re.I|re.DOTALL))"
   ]
  },
  {
   "cell_type": "code",
   "execution_count": 36,
   "metadata": {},
   "outputs": [
    {
     "name": "stdout",
     "output_type": "stream",
     "text": [
      "['1', 'J', 'a', 'y', 'a', 'r', 'a', 'm', 'G', 'u', 'd', 'u', 'r', 'u', 'j', 'a', 'y', 'G', 'g', 'm', 'a', 'i', 'l', 'c', 'o', 'm', '9', '6', '7', '6', '6', '2', '2', '0', '2', '4', 'v', 'e', 'd', 'h', 'a', 'n', 'v', 'e', 's', 'h', 'G', 'u', 'd', 'u', 'r', 'u', 'v', 'e', 'd', 'h', 'a', 'G', '1', '2', '3', 'y', 'a', 'h', 'o', 'o', 'c', 'o', 'i', 'n', '9', '6', '7', '6', '6', '2', '2', '0', '2', '5', '2', '3', 'd', 'a', 'n', 'r', 'e', 'd', 'i', 'f', 'f', 'o', 'r', 'g', '9', '6', '7', '6', '6', '2', '2', '0', '2', '6', 'd', 'h', 'a', 'n', 'a', 'l', 'a', 'x', 'm', 'i', '4', 'A', 'n', 'i', 'l', 'K', 'u', 'm', 'a', 'r', '9', '6', '7', '6', '6', '2', '2', '0', '2', '7', 'k', 'u', 'm', 'a', 'r', 'g', 'a', 'm', 'i', 'l', 'c', 'o', 'm']\n"
     ]
    }
   ],
   "source": [
    "import re\n",
    "data = \"\"\"\n",
    "1,Jayaram Guduru,jayG@gmail.com,9676622024\n",
    "vedhanvesh Guduru, vedhaG123@yahoo.co.in,9676622025,2\n",
    "3,dan@rediff.org,9676622026,dhana laxmi\n",
    "4,Anil Kumar,9676622027,kumar@gamil.com\n",
    "\"\"\"\n",
    "print(re.findall(\"[\\w]\",data,re.I|re.DOTALL))"
   ]
  },
  {
   "cell_type": "code",
   "execution_count": 37,
   "metadata": {},
   "outputs": [
    {
     "name": "stdout",
     "output_type": "stream",
     "text": [
      "['1', 'J', 'a', 'y', 'a', 'r', 'a', 'm', 'G', 'u', 'd', 'u', 'r', 'u', 'j', 'a', 'y', 'G', 'g', 'm', 'a', 'i', 'l', 'c', 'o', 'm', '9', '6', '7', '6', '6', '2', '2', '0', '2', '4', 'v', 'e', 'd', 'h', 'a', 'n', 'v', 'e', 's', 'h', 'G', 'u', 'd', 'u', 'r', 'u', 'v', 'e', 'd', 'h', 'a', '_', 'G', '1', '2', '3', 'y', 'a', 'h', 'o', 'o', 'c', 'o', 'i', 'n', '9', '6', '7', '6', '6', '2', '2', '0', '2', '5', '2', '3', 'd', 'a', 'n', 'r', 'e', 'd', 'i', 'f', 'f', 'o', 'r', 'g', '9', '6', '7', '6', '6', '2', '2', '0', '2', '6', 'd', 'h', 'a', 'n', 'a', 'l', 'a', 'x', 'm', 'i', '4', 'A', 'n', 'i', 'l', 'K', 'u', 'm', 'a', 'r', '9', '6', '7', '6', '6', '2', '2', '0', '2', '7', 'k', 'u', 'm', 'a', 'r', 'g', 'a', 'm', 'i', 'l', 'c', 'o', 'm']\n"
     ]
    }
   ],
   "source": [
    "import re\n",
    "data = \"\"\"\n",
    "1,Jayaram Guduru,jayG@gmail.com,9676622024\n",
    "vedhanvesh Guduru, vedha_G123@yahoo.co.in,9676622025,2\n",
    "3,dan@rediff.org,9676622026,dhana laxmi\n",
    "4,Anil Kumar,9676622027,kum-ar@gamil.com\n",
    "\"\"\"\n",
    "print(re.findall(\"[\\w]\",data,re.I|re.DOTALL))"
   ]
  },
  {
   "cell_type": "code",
   "execution_count": 38,
   "metadata": {},
   "outputs": [
    {
     "name": "stdout",
     "output_type": "stream",
     "text": [
      "['9676622024', 'vedhanvesh', 'vedha_G123', '9676622025', '9676622026', '9676622027']\n"
     ]
    }
   ],
   "source": [
    "import re\n",
    "data = \"\"\"\n",
    "1,Jayaram Guduru,jayG@gmail.com,9676622024\n",
    "vedhanvesh Guduru, vedha_G123@yahoo.co.in,9676622025,2\n",
    "3,dan@rediff.org,9676622026,dhana laxmi\n",
    "4,Anil Kumar,9676622027,kum-ar@gamil.com\n",
    "\"\"\"\n",
    "print(re.findall(\"[\\w]{10}\",data,re.I|re.DOTALL))"
   ]
  },
  {
   "cell_type": "code",
   "execution_count": 39,
   "metadata": {},
   "outputs": [
    {
     "name": "stdout",
     "output_type": "stream",
     "text": [
      "['1', 'Jayaram', 'Guduru', 'jayG', 'gmail', 'com', '9676622024', 'vedhanvesh', 'Guduru', 'vedha_G123', 'yahoo', 'co', 'in', '9676622025', '2', '3', 'dan', 'rediff', 'org', '9676622026', 'dhana', 'laxmi', '4', 'Anil', 'Kumar', '9676622027', 'kum', 'ar', 'gamil', 'com']\n"
     ]
    }
   ],
   "source": [
    "import re\n",
    "data = \"\"\"\n",
    "1,Jayaram Guduru,jayG@gmail.com,9676622024\n",
    "vedhanvesh Guduru, vedha_G123@yahoo.co.in,9676622025,2\n",
    "3,dan@rediff.org,9676622026,dhana laxmi\n",
    "4,Anil Kumar,9676622027,kum-ar@gamil.com\n",
    "\"\"\"\n",
    "print(re.findall(\"[\\w]{1,10}\",data,re.I|re.DOTALL))"
   ]
  },
  {
   "cell_type": "code",
   "execution_count": 40,
   "metadata": {},
   "outputs": [
    {
     "name": "stdout",
     "output_type": "stream",
     "text": [
      "['1', 'Jayaram', 'Guduru', 'jayG', 'gmail', 'com', '9676622024', 'vedhanvesh', 'Guduru', 'vedha_G123', 'yahoo', 'co', 'in', '9676622025', '2', '3', 'dan', 'rediff', 'org', '9676622026', 'dhana', 'laxmi', '4', 'Anil', 'Kumar', '9676622027', 'kum', 'ar', 'gamil', 'com']\n"
     ]
    }
   ],
   "source": [
    "import re\n",
    "data = \"\"\"\n",
    "1,Jayaram Guduru,jayG@gmail.com,9676622024\n",
    "vedhanvesh Guduru, vedha_G123@yahoo.co.in,9676622025,2\n",
    "3,dan@rediff.org,9676622026,dhana laxmi\n",
    "4,Anil Kumar,9676622027,kum-ar@gamil.com\n",
    "\"\"\"\n",
    "print(re.findall(\"[\\w]{1,}\",data,re.I|re.DOTALL))"
   ]
  },
  {
   "cell_type": "code",
   "execution_count": 41,
   "metadata": {},
   "outputs": [
    {
     "name": "stdout",
     "output_type": "stream",
     "text": [
      "['1', 'Jayaram', 'Guduru', 'jayG', 'gmail', 'com', '9676622024', 'vedhanvesh', 'Guduru', 'vedha_G123', 'yahoo', 'co', 'in', '9676622025', '2', '3', 'dan', 'rediff', 'org', '9676622026', 'dhana', 'laxmi', '4', 'Anil', 'Kumar', '9676622027', 'kum', 'ar', 'gamil', 'com']\n"
     ]
    }
   ],
   "source": [
    "import re\n",
    "data = \"\"\"\n",
    "1,Jayaram Guduru,jayG@gmail.com,9676622024\n",
    "vedhanvesh Guduru, vedha_G123@yahoo.co.in,9676622025,2\n",
    "3,dan@rediff.org,9676622026,dhana laxmi\n",
    "4,Anil Kumar,9676622027,kum-ar@gamil.com\n",
    "\"\"\"\n",
    "print(re.findall(\"[\\w]{1,}\",data,re.I))"
   ]
  },
  {
   "cell_type": "code",
   "execution_count": 42,
   "metadata": {},
   "outputs": [
    {
     "name": "stdout",
     "output_type": "stream",
     "text": [
      "['jayG@', 'vedha_G123@', 'dan@', 'ar@']\n"
     ]
    }
   ],
   "source": [
    "import re\n",
    "data = \"\"\"\n",
    "1,Jayaram Guduru,jayG@gmail.com,9676622024\n",
    "vedhanvesh Guduru, vedha_G123@yahoo.co.in,9676622025,2\n",
    "3,dan@rediff.org,9676622026,dhana laxmi\n",
    "4,Anil Kumar,9676622027,kum-ar@gamil.com\n",
    "\"\"\"\n",
    "print(re.findall(\"[\\w]{1,}@\",data,re.I))"
   ]
  },
  {
   "cell_type": "code",
   "execution_count": 44,
   "metadata": {},
   "outputs": [
    {
     "name": "stdout",
     "output_type": "stream",
     "text": [
      "['jayG@', 'vedha_G123@', 'dan@', 'kumar@']\n"
     ]
    }
   ],
   "source": [
    "import re\n",
    "data = \"\"\"\n",
    "1,Jayaram Guduru,jayG@gmail.com,9676622024\n",
    "vedhanvesh Guduru,vedha_G123@yahoo.co.in,9676622025,2\n",
    "3,dan@rediff.org,9676622026,dhana laxmi\n",
    "4,Anil Kumar,9676622027,kumar@gamil.com\n",
    "\"\"\"\n",
    "print(re.findall(\"\\w+@\",data,re.I))"
   ]
  },
  {
   "cell_type": "code",
   "execution_count": 45,
   "metadata": {},
   "outputs": [
    {
     "name": "stdout",
     "output_type": "stream",
     "text": [
      "['jayG@g', 'vedha_G123@y', 'dan@r', 'kumar@g']\n"
     ]
    }
   ],
   "source": [
    "import re\n",
    "data = \"\"\"\n",
    "1,Jayaram Guduru,jayG@gmail.com,9676622024\n",
    "vedhanvesh Guduru,vedha_G123@yahoo.co.in,9676622025,2\n",
    "3,dan@rediff.org,9676622026,dhana laxmi\n",
    "4,Anil Kumar,9676622027,kumar@gamil.com\n",
    "\"\"\"\n",
    "print(re.findall(\"\\w+@.\",data,re.I))"
   ]
  },
  {
   "cell_type": "code",
   "execution_count": 46,
   "metadata": {},
   "outputs": [
    {
     "name": "stdout",
     "output_type": "stream",
     "text": [
      "['jayG@gmail', 'vedha_G123@yahoo', 'dan@rediff', 'kumar@gamil']\n"
     ]
    }
   ],
   "source": [
    "import re\n",
    "data = \"\"\"\n",
    "1,Jayaram Guduru,jayG@gmail.com,9676622024\n",
    "vedhanvesh Guduru,vedha_G123@yahoo.co.in,9676622025,2\n",
    "3,dan@rediff.org,9676622026,dhana laxmi\n",
    "4,Anil Kumar,9676622027,kumar@gamil.com\n",
    "\"\"\"\n",
    "print(re.findall(\"\\w+@[a-z]+\",data,re.I))"
   ]
  },
  {
   "cell_type": "code",
   "execution_count": 47,
   "metadata": {},
   "outputs": [
    {
     "name": "stdout",
     "output_type": "stream",
     "text": [
      "['jayG@gmail.', 'vedha_G123@yahoo.', 'dan@rediff.', 'kumar@gamil.']\n"
     ]
    }
   ],
   "source": [
    "import re\n",
    "data = \"\"\"\n",
    "1,Jayaram Guduru,jayG@gmail.com,9676622024\n",
    "vedhanvesh Guduru,vedha_G123@yahoo.co.in,9676622025,2\n",
    "3,dan@rediff.org,9676622026,dhana laxmi\n",
    "4,Anil Kumar,9676622027,kumar@gamil.com\n",
    "\"\"\"\n",
    "print(re.findall(\"\\w+@[a-z]+.\",data,re.I))"
   ]
  },
  {
   "cell_type": "code",
   "execution_count": 48,
   "metadata": {},
   "outputs": [
    {
     "name": "stdout",
     "output_type": "stream",
     "text": [
      "['jayG@gmail.', 'vedha_G123@yahoo.', 'dan@rediff.', 'kumar@gamil.']\n"
     ]
    }
   ],
   "source": [
    "import re\n",
    "data = \"\"\"\n",
    "1,Jayaram Guduru,jayG@gmail.com,9676622024\n",
    "vedhanvesh Guduru,vedha_G123@yahoo.co.in,9676622025,2\n",
    "3,dan@rediff.org,9676622026,dhana laxmi\n",
    "4,Anil Kumar,9676622027,kumar@gamil.com\n",
    "\"\"\"\n",
    "print(re.findall(\"\\w+@[a-z]+\\.\",data,re.I))"
   ]
  },
  {
   "cell_type": "code",
   "execution_count": 49,
   "metadata": {},
   "outputs": [
    {
     "name": "stdout",
     "output_type": "stream",
     "text": [
      "['1', ',', 'J', 'a', 'y', 'a', 'r', 'a', 'm', ' ', 'G', 'u', 'd', 'u', 'r', 'u', ',', 'j', 'a', 'y', 'G', '@', 'g', 'm', 'a', 'i', 'l', '.', 'c', 'o', 'm', ',', '9', '6', '7', '6', '6', '2', '2', '0', '2', '4', 'v', 'e', 'd', 'h', 'a', 'n', 'v', 'e', 's', 'h', ' ', 'G', 'u', 'd', 'u', 'r', 'u', ',', 'v', 'e', 'd', 'h', 'a', '_', 'G', '1', '2', '3', '@', 'y', 'a', 'h', 'o', 'o', '.', 'c', 'o', '.', 'i', 'n', ',', '9', '6', '7', '6', '6', '2', '2', '0', '2', '5', ',', '2', '3', ',', 'd', 'a', 'n', '@', 'r', 'e', 'd', 'i', 'f', 'f', '.', 'o', 'r', 'g', ',', '9', '6', '7', '6', '6', '2', '2', '0', '2', '6', ',', 'd', 'h', 'a', 'n', 'a', ' ', 'l', 'a', 'x', 'm', 'i', '4', ',', 'A', 'n', 'i', 'l', ' ', 'K', 'u', 'm', 'a', 'r', ',', '9', '6', '7', '6', '6', '2', '2', '0', '2', '7', ',', 'k', 'u', 'm', 'a', 'r', '@', 'g', 'a', 'm', 'i', 'l', '.', 'c', 'o', 'm']\n"
     ]
    }
   ],
   "source": [
    "import re\n",
    "data = \"\"\"\n",
    "1,Jayaram Guduru,jayG@gmail.com,9676622024\n",
    "vedhanvesh Guduru,vedha_G123@yahoo.co.in,9676622025,2\n",
    "3,dan@rediff.org,9676622026,dhana laxmi\n",
    "4,Anil Kumar,9676622027,kumar@gamil.com\n",
    "\"\"\"\n",
    "print(re.findall(\".\",data,re.I))"
   ]
  },
  {
   "cell_type": "code",
   "execution_count": 50,
   "metadata": {},
   "outputs": [
    {
     "name": "stdout",
     "output_type": "stream",
     "text": [
      "['.', '.', '.', '.', '.']\n"
     ]
    }
   ],
   "source": [
    "import re\n",
    "data = \"\"\"\n",
    "1,Jayaram Guduru,jayG@gmail.com,9676622024\n",
    "vedhanvesh Guduru,vedha_G123@yahoo.co.in,9676622025,2\n",
    "3,dan@rediff.org,9676622026,dhana laxmi\n",
    "4,Anil Kumar,9676622027,kumar@gamil.com\n",
    "\"\"\"\n",
    "print(re.findall(\"\\.\",data,re.I))"
   ]
  },
  {
   "cell_type": "code",
   "execution_count": 51,
   "metadata": {},
   "outputs": [
    {
     "name": "stdout",
     "output_type": "stream",
     "text": [
      "['jayG@gmail.', 'vedha_G123@yahoo.', 'dan@rediff.', 'kumar@gamil.']\n"
     ]
    }
   ],
   "source": [
    "import re\n",
    "data = \"\"\"\n",
    "1,Jayaram Guduru,jayG@gmail.com,9676622024\n",
    "vedhanvesh Guduru,vedha_G123@yahoo.co.in,9676622025,2\n",
    "3,dan@rediff.org,9676622026,dhana laxmi\n",
    "4,Anil Kumar,9676622027,kumar@gamil.com\n",
    "\"\"\"\n",
    "print(re.findall(\"\\w+@[a-z]+\\.\",data,re.I))"
   ]
  },
  {
   "cell_type": "code",
   "execution_count": 52,
   "metadata": {},
   "outputs": [
    {
     "name": "stdout",
     "output_type": "stream",
     "text": [
      "['jayG@gmail.com', 'vedha_G123@yahoo.co', 'dan@rediff.org', 'kumar@gamil.com']\n"
     ]
    }
   ],
   "source": [
    "import re\n",
    "data = \"\"\"\n",
    "1,Jayaram Guduru,jayG@gmail.com,9676622024\n",
    "vedhanvesh Guduru,vedha_G123@yahoo.co.in,9676622025,2\n",
    "3,dan@rediff.org,9676622026,dhana laxmi\n",
    "4,Anil Kumar,9676622027,kumar@gamil.com\n",
    "\"\"\"\n",
    "print(re.findall(\"\\w+@[a-z]+\\.[a-z]+\",data,re.I))"
   ]
  },
  {
   "cell_type": "code",
   "execution_count": 53,
   "metadata": {},
   "outputs": [
    {
     "name": "stdout",
     "output_type": "stream",
     "text": [
      "['jayG@gmail.com', 'vedha_G123@yahoo.co.in', 'dan@rediff.org', 'kumar@gamil.com']\n"
     ]
    }
   ],
   "source": [
    "import re\n",
    "data = \"\"\"\n",
    "1,Jayaram Guduru,jayG@gmail.com,9676622024\n",
    "vedhanvesh Guduru,vedha_G123@yahoo.co.in,9676622025,2\n",
    "3,dan@rediff.org,9676622026,dhana laxmi\n",
    "4,Anil Kumar,9676622027,kumar@gamil.com\n",
    "\"\"\"\n",
    "print(re.findall(\"\\w+@[a-z]+\\.[a-z.]+\",data,re.I))"
   ]
  },
  {
   "cell_type": "code",
   "execution_count": 54,
   "metadata": {},
   "outputs": [
    {
     "name": "stdout",
     "output_type": "stream",
     "text": [
      "['1', '9676622024', '123', '9676622025', '2', '3', '9676622026', '4', '9676622027']\n"
     ]
    }
   ],
   "source": [
    "import re\n",
    "data = \"\"\"\n",
    "1,Jayaram Guduru,jayG@gmail.com,9676622024\n",
    "vedhanvesh Guduru,vedha_G123@yahoo.co.in,9676622025,2\n",
    "3,dan@rediff.org,9676622026,dhana laxmi\n",
    "4,Anil Kumar,9676622027,kumar@gamil.com\n",
    "\"\"\"\n",
    "print(re.findall(\"[0-9]{1,}\",data,re.I))"
   ]
  },
  {
   "cell_type": "code",
   "execution_count": 55,
   "metadata": {},
   "outputs": [
    {
     "name": "stdout",
     "output_type": "stream",
     "text": [
      "['1', '9676622024', '123', '9676622025', '2', '3', '9676622026', '4', '9676622027']\n"
     ]
    }
   ],
   "source": [
    "import re\n",
    "data = \"\"\"\n",
    "1,Jayaram Guduru,jayG@gmail.com,9676622024\n",
    "vedhanvesh Guduru,vedha_G123@yahoo.co.in,9676622025,2\n",
    "3,dan@rediff.org,9676622026,dhana laxmi\n",
    "4,Anil Kumar,9676622027,kumar@gamil.com\n",
    "\"\"\"\n",
    "print(re.findall(\"[0-9]+\",data,re.I))"
   ]
  },
  {
   "cell_type": "code",
   "execution_count": 56,
   "metadata": {},
   "outputs": [
    {
     "name": "stdout",
     "output_type": "stream",
     "text": [
      "['', '1', '', '', '', '', '', '', '', '', '', '', '', '', '', '', '', '', '', '', '', '', '', '', '', '', '', '', '', '', '', '', '', '9676622024', '', '', '', '', '', '', '', '', '', '', '', '', '', '', '', '', '', '', '', '', '', '', '', '', '', '', '123', '', '', '', '', '', '', '', '', '', '', '', '', '', '9676622025', '', '2', '', '3', '', '', '', '', '', '', '', '', '', '', '', '', '', '', '', '', '9676622026', '', '', '', '', '', '', '', '', '', '', '', '', '', '4', '', '', '', '', '', '', '', '', '', '', '', '', '9676622027', '', '', '', '', '', '', '', '', '', '', '', '', '', '', '', '', '', '']\n"
     ]
    }
   ],
   "source": [
    "import re\n",
    "data = \"\"\"\n",
    "1,Jayaram Guduru,jayG@gmail.com,9676622024\n",
    "vedhanvesh Guduru,vedha_G123@yahoo.co.in,9676622025,2\n",
    "3,dan@rediff.org,9676622026,dhana laxmi\n",
    "4,Anil Kumar,9676622027,kumar@gamil.com\n",
    "\"\"\"\n",
    "print(re.findall(\"[0-9]{0,}\",data,re.I))"
   ]
  },
  {
   "cell_type": "code",
   "execution_count": 57,
   "metadata": {},
   "outputs": [
    {
     "name": "stdout",
     "output_type": "stream",
     "text": [
      "['', '1', '', '', '', '', '', '', '', '', '', '', '', '', '', '', '', '', '', '', '', '', '', '', '', '', '', '', '', '', '', '', '', '9676622024', '', '', '', '', '', '', '', '', '', '', '', '', '', '', '', '', '', '', '', '', '', '', '', '', '', '', '123', '', '', '', '', '', '', '', '', '', '', '', '', '', '9676622025', '', '2', '', '3', '', '', '', '', '', '', '', '', '', '', '', '', '', '', '', '', '9676622026', '', '', '', '', '', '', '', '', '', '', '', '', '', '4', '', '', '', '', '', '', '', '', '', '', '', '', '9676622027', '', '', '', '', '', '', '', '', '', '', '', '', '', '', '', '', '', '']\n"
     ]
    }
   ],
   "source": [
    "import re\n",
    "data = \"\"\"\n",
    "1,Jayaram Guduru,jayG@gmail.com,9676622024\n",
    "vedhanvesh Guduru,vedha_G123@yahoo.co.in,9676622025,2\n",
    "3,dan@rediff.org,9676622026,dhana laxmi\n",
    "4,Anil Kumar,9676622027,kumar@gamil.com\n",
    "\"\"\"\n",
    "print(re.findall(\"[0-9]*\",data,re.I))"
   ]
  },
  {
   "cell_type": "code",
   "execution_count": 58,
   "metadata": {},
   "outputs": [
    {
     "name": "stdout",
     "output_type": "stream",
     "text": [
      "['1', '9', '6', '7', '6', '6', '2', '2', '0', '2', '4', '1', '2', '3', '9', '6', '7', '6', '6', '2', '2', '0', '2', '5', '2', '3', '9', '6', '7', '6', '6', '2', '2', '0', '2', '6', '4', '9', '6', '7', '6', '6', '2', '2', '0', '2', '7']\n"
     ]
    }
   ],
   "source": [
    "import re\n",
    "data = \"\"\"\n",
    "1,Jayaram Guduru,jayG@gmail.com,9676622024\n",
    "vedhanvesh Guduru,vedha_G123@yahoo.co.in,9676622025,2\n",
    "3,dan@rediff.org,9676622026,dhana laxmi\n",
    "4,Anil Kumar,9676622027,kumar@gamil.com\n",
    "\"\"\"\n",
    "print(re.findall(\"[0-9]{1}\",data,re.I))"
   ]
  },
  {
   "cell_type": "code",
   "execution_count": 61,
   "metadata": {},
   "outputs": [
    {
     "name": "stdout",
     "output_type": "stream",
     "text": [
      "['', '1', '', '', '', '', '', '', '', '', '', '', '', '', '', '', '', '', '', '', '', '', '', '', '', '', '', '', '', '', '', '', '', '9', '6', '7', '6', '6', '2', '2', '0', '2', '4', '', '', '', '', '', '', '', '', '', '', '', '', '', '', '', '', '', '', '', '', '', '', '', '', '', '', '1', '2', '3', '', '', '', '', '', '', '', '', '', '', '', '', '', '9', '6', '7', '6', '6', '2', '2', '0', '2', '5', '', '2', '', '3', '', '', '', '', '', '', '', '', '', '', '', '', '', '', '', '', '9', '6', '7', '6', '6', '2', '2', '0', '2', '6', '', '', '', '', '', '', '', '', '', '', '', '', '', '4', '', '', '', '', '', '', '', '', '', '', '', '', '9', '6', '7', '6', '6', '2', '2', '0', '2', '7', '', '', '', '', '', '', '', '', '', '', '', '', '', '', '', '', '', '']\n"
     ]
    }
   ],
   "source": [
    "import re\n",
    "data = \"\"\"\n",
    "1,Jayaram Guduru,jayG@gmail.com,9676622024\n",
    "vedhanvesh Guduru,vedha_G123@yahoo.co.in,9676622025,2\n",
    "3,dan@rediff.org,9676622026,dhana laxmi\n",
    "4,Anil Kumar,9676622027,kumar@gamil.com\n",
    "\"\"\"\n",
    "print(re.findall(\"[0-9]{0,1}\",data,re.I))"
   ]
  },
  {
   "cell_type": "code",
   "execution_count": 63,
   "metadata": {},
   "outputs": [
    {
     "name": "stdout",
     "output_type": "stream",
     "text": [
      "['', '1', '', '', '', '', '', '', '', '', '', '', '', '', '', '', '', '', '', '', '', '', '', '', '', '', '', '', '', '', '', '', '', '9', '6', '7', '6', '6', '2', '2', '0', '2', '4', '', '', '', '', '', '', '', '', '', '', '', '', '', '', '', '', '', '', '', '', '', '', '', '', '', '', '1', '2', '3', '', '', '', '', '', '', '', '', '', '', '', '', '', '9', '6', '7', '6', '6', '2', '2', '0', '2', '5', '', '2', '', '3', '', '', '', '', '', '', '', '', '', '', '', '', '', '', '', '', '9', '6', '7', '6', '6', '2', '2', '0', '2', '6', '', '', '', '', '', '', '', '', '', '', '', '', '', '4', '', '', '', '', '', '', '', '', '', '', '', '', '9', '6', '7', '6', '6', '2', '2', '0', '2', '7', '', '', '', '', '', '', '', '', '', '', '', '', '', '', '', '', '', '']\n"
     ]
    }
   ],
   "source": [
    "import re\n",
    "data = \"\"\"\n",
    "1,Jayaram Guduru,jayG@gmail.com,9676622024\n",
    "vedhanvesh Guduru,vedha_G123@yahoo.co.in,9676622025,2\n",
    "3,dan@rediff.org,9676622026,dhana laxmi\n",
    "4,Anil Kumar,9676622027,kumar@gamil.com\n",
    "\"\"\"\n",
    "print(re.findall(\"[0-9]?\",data,re.I))"
   ]
  },
  {
   "cell_type": "code",
   "execution_count": 64,
   "metadata": {},
   "outputs": [
    {
     "name": "stdout",
     "output_type": "stream",
     "text": [
      "// Copyright 2018 Covidien LP.\n",
      "// All Rights Reserved. The information contained herein is confidential\n",
      "// property of Covidien. The use, copying, transfer or disclosure of such\n",
      "// information is prohibited except by written agreement with Covidien.\n",
      "\n",
      "#ifndef EINSTEIN_ALARMS_AND_NOTIFICATIONS_DATATYPES_H\n",
      "#define EINSTEIN_ALARMS_AND_NOTIFICATIONS_DATATYPES_H\n",
      "\n",
      "#include <array>\n",
      "#include <cstdint>\n",
      "#include <iostream>\n",
      "\n",
      "#include \"einstein/alarm_definitions/Alarms.h\"\n",
      "\n",
      "#include \"einstein/alarms_and_notifications/AlarmsAndNotifications.h\"\n",
      "#include \"einstein/alarms_and_notifications/SetClearData.h\"\n",
      "\n",
      "namespace einstein\n",
      "{\n",
      "namespace alarms_and_notifications\n",
      "{\n",
      "\n",
      "static constexpr std::uint16_t TOTAL_ALARMS_AND_NOTIFICATIONS = 1000u;\n",
      "\n",
      "//Alarm and Notification Cycle is 25Hz, so time set to 40 milliseconds, timeout to 80 ms\n",
      "static constexpr std::uint8_t ALARM_AND_NOTIFICATION_CYCLE_TIME_MILLISECONDS = 40u;\n",
      "static constexpr std::uint8_t ALARM_AND_NOTIFICATION_CYCLE_TIMEOUT_MILLISECONDS = 80u;\n",
      "\n",
      "//Number of alarms sent to the GUI per cycle\n",
      "static constexpr std::uint8_t NUMBER_OF_ALARMS_PER_CYCLE = 20u;\n",
      "static constexpr std::uint8_t MINIMUM_DURATION_CYCLES = 125u; //5seconds\n",
      "\n",
      "//4 dismiss messages expected at most, 2 GUIs(ORTI,SID) that can dismiss,\n",
      "// and 2 Alarms at a time (top two alarms and notifications displayed), 2x2 therefore 4 total\n",
      "static constexpr std::size_t DISMISS_MESSAGES_PER_CYCLE = 4;\n",
      "\n",
      "static constexpr std::size_t CLIENT_ALARM_COUNTS_SIZE = 50u;\n",
      "static constexpr std::size_t ALARMS_HANDLER_ALARM_COUNT_SIZE = 100u;\n",
      "static constexpr std::size_t CLIENT_ALARM_COUNTS_BUFFER_SIZE = TOTAL_ALARMS_AND_NOTIFICATIONS/CLIENT_ALARM_COUNTS_SIZE;\n",
      "static constexpr std::size_t DEFAULT_BUFFER_SIZE = 1u;\n",
      "\n",
      "//Number of cycles that the top priority alarm will be silence for\n",
      "static constexpr std::uint16_t SILENCE_CYCLES = 750u;//30 seconds (750 * 40 ms cycles)\n",
      "\n",
      "//Number of arms on system\n",
      "static constexpr std::size_t NUMBER_OF_ARMS = 4u;\n",
      "\n",
      "static constexpr char SHMIO_PRIORITY_VECTOR[] = \"alarms_priority_debug\";\n",
      "\n",
      "static constexpr char SHMIO_DIAGNOSTIC_LIST[] = \"diagnostic_list\";\n",
      "\n",
      "static constexpr EIN_NOTCODE CENTRAL_SHUTDOWN_ERROR = EIN_NOTCODE_557;\n",
      "static constexpr EIN_NOTCODE LOCAL_SHUTDOWN_ERROR = EIN_NOTCODE_558;\n",
      "\n",
      "static constexpr std::uint32_t ALARMS_UDP_TIMEOUT = 9u;\n",
      "static constexpr std::uint_fast8_t ALARMS_NUMBER_OF_UDP_TX_ATTEMPTS = 4u;\n",
      "\n",
      "\n",
      "\n",
      "enum\n",
      ";\n",
      "enum\n",
      "123\n",
      "abc\n",
      "#$%^\n",
      ";\n",
      "asfasd\n",
      "asdas\n",
      "das\n",
      ";\n",
      "enum class AlarmPriority :\n",
      "    std::uint8_t\n",
      "{\n",
      "    NONE = 0u,\n",
      "    UNKNOWN_ID = 1u,\n",
      "    INFORMATIONAL = 2u,\n",
      "    LOW = 3u,\n",
      "    MEDIUM = 4u,\n",
      "    HIGH = 5u\n",
      "};\n",
      "\n",
      "using AlarmRanking = std::int64_t;\n",
      "\n",
      "///Led indicator specification defined by Systems\n",
      "enum class LedNumber :\n",
      "    std::uint8_t\n",
      "{\n",
      "    LED_NONE = 0u,\n",
      "    LED_1 = 1u,        //W4 Blinking White\n",
      "    LED_2 = 2u,        //W3 Pulsing White\n",
      "    LED_3 = 3u,        //W2 Solid White\n",
      "    LED_4 = 4u,        //Y2 Solid Yellow\n",
      "    LED_5 = 5u,        //B4 Blinking Blue\n",
      "    LED_6 = 6u,        //B3 Pulsing Blue\n",
      "    LED_7 = 7u,        //R4 Blinking Red\n",
      "    LED_8 = 8u,        //Y4 Blinking Yellow\n",
      "    LED_9 = 9u,        //B5 Info Alert Pattern\n",
      "    LED_10 = 10u,      //B2 Solid Blue\n",
      "    LED_11 = 11u,      //G2 Solid Green\n",
      "    LED_12 = 12u,      //BW4 Blinking Blue White\n",
      "    LED_13 = 13u,      //Off \n",
      "    LED_DEFAULT = 14u  //Solid White\n",
      "};\n",
      "\n",
      "///Audio indicator specification defined by Usability\n",
      "enum class EarCon :\n",
      "    std::uint8_t\n",
      "{\n",
      "    EAR_CON_NONE = 0u,      //used when no ear con is to be played\n",
      "    EAR_CON_1 = 1u,         //Bonk\n",
      "    EAR_CON_2 = 2u,         //System Progress\n",
      "    EAR_CON_3 = 3u,         //Success\n",
      "    EAR_CON_4 = 4u,         //Unassigned\n",
      "    EAR_CON_5 = 5u,         //Low Level Alarm\n",
      "    EAR_CON_6 = 6u,         //Attention\n",
      "    EAR_CON_7 = 7u,         //Medium Level Alarm\n",
      "    EAR_CON_8 = 8u,         //High Level Alarm\n",
      "    EAR_CON_9 = 9u,         //Swap Finish\n",
      "    EAR_CON_10 = 10u,       //Swap PressHold\n",
      "    EAR_CON_11 = 11u,       //Surgeon Progress\n",
      "    EAR_CON_12 = 12u,       //Clutch\n",
      "    EAR_CON_13 = 13u,       //Lock\n",
      "    EAR_CON_14 = 14u,       //Unlock\n",
      "    EAR_CON_15 = 15u,       //Press and Hold\n",
      "    EAR_CON_16 = 16u,       //Coag Activation\n",
      "    EAR_CON_17 = 17u,       //Cut Activation\n",
      "    EAR_CON_18 = 18u,       //Ligasure Activation\n",
      "    EAR_CON_SILENCE = 19u   //used when ear con is to be silenced\n",
      "};\n",
      "assda\n",
      "asd\n",
      "asdas\n",
      "fasf\n",
      "as22\n",
      "12\n",
      "312\n",
      "312@#$!@$#\n",
      "2342$#@$#24\n",
      ";\n",
      "\n",
      "enum class GuiType :\n",
      "    std::uint8_t\n",
      "{\n",
      "    NONE = 0u,\n",
      "    ORTI = 1u,\n",
      "    SID = 2u\n",
      "};\n",
      "\n",
      "enum class IndicationPersistence :\n",
      "    std::uint8_t\n",
      "{\n",
      "    NONE = 0u,\n",
      "    DISMISSIBLE = 1u,\n",
      "    PERSISTENT = 2u,\n",
      "    TRANSIENT = 3u,\n",
      "    PERSISTENT_DISMISSIBLE = 4u\n",
      "};\n",
      "\n",
      "enum class DismissRequired :\n",
      "    std::uint8_t\n",
      "{\n",
      "    NONE = 0u,\n",
      "    EITHER = 1u,\n",
      "    BOTH = 2u,\n",
      "    ORTI = 3u,\n",
      "    SID = 4u\n",
      "};\n",
      "\n",
      "enum class SubsystemRecoverability: std::uint8_t\n",
      "{\n",
      "    RECOVERABLE = 0u,\n",
      "    NON_RECOVERABLE = 1u,\n",
      "\n",
      "    NOT_APPLICABLE = 2u  // operable errors or non-errors\n",
      "};\n",
      "enum class SystemRecoverability: std::uint8_t\n",
      "{\n",
      "    RECOVERABLE = 0u,\n",
      "    NON_RECOVERABLE = 1u,\n",
      "\n",
      "    NOT_APPLICABLE = 2u  // operable errors or non-errors\n",
      "};\n",
      "std::string to_string(const AlarmPriority priority);\n",
      "\n",
      "std::string to_string(const GuiType gui);\n",
      "\n",
      "struct ResetCounts\n",
      "{\n",
      "    std::int32_t system_reset_count;\n",
      "    std::int32_t system_sc_reset_count;\n",
      "    std::int32_t system_aca1_reset_count;\n",
      "    std::int32_t system_aca2_reset_count;\n",
      "    std::int32_t system_aca3_reset_count;\n",
      "    std::int32_t system_aca4_reset_count;\n",
      "    std::int32_t subsystem_sc_reset_count;\n",
      "    std::int32_t subsystem_aca1_reset_count;\n",
      "    std::int32_t subsystem_aca2_reset_count;\n",
      "    std::int32_t subsystem_aca3_reset_count;\n",
      "    std::int32_t subsystem_aca4_reset_count;   \n",
      "\n",
      "    bool operator==(const ResetCounts & other) const;\n",
      "    bool operator!=(const ResetCounts & other) const; \n",
      "};\n",
      "\n",
      "enum 12323\n",
      "\n",
      "struct AlarmCountsData\n",
      "{\n",
      "    AlarmOrNotification id;\n",
      "    SetClearData data;\n",
      "\n",
      "    AlarmCountsData() :\n",
      "        id(ALARM_NO_ALARM),\n",
      "        data() {}\n",
      "\n",
      "    AlarmCountsData(const AlarmOrNotification & value, const SetClearData & counts) :\n",
      "        id(value),\n",
      "        data(counts) {}\n",
      "};\n",
      "\n",
      "}\n",
      "}\n",
      "\n",
      "#endif //EINSTEIN_ALARMS_AND_NOTIFICATIONS_DATATYPES_H\n",
      "\n"
     ]
    }
   ],
   "source": [
    "f=open(\"re_data.txt\",\"r\")\n",
    "data=f.read()\n",
    "f.close()\n",
    "print(data)"
   ]
  },
  {
   "cell_type": "code",
   "execution_count": 66,
   "metadata": {},
   "outputs": [
    {
     "name": "stdout",
     "output_type": "stream",
     "text": [
      "[]\n"
     ]
    }
   ],
   "source": [
    "import re\n",
    "f=open(\"re_data.txt\",\"r\")\n",
    "data=f.read()\n",
    "f.close()\n",
    "print(re.findall(\"enum.+;\",data))"
   ]
  },
  {
   "cell_type": "code",
   "execution_count": 67,
   "metadata": {},
   "outputs": [
    {
     "name": "stdout",
     "output_type": "stream",
     "text": [
      "['enum\\n;\\nenum\\n123\\nabc\\n#$%^\\n;\\nasfasd\\nasdas\\ndas\\n;\\nenum class AlarmPriority :\\n    std::uint8_t\\n{\\n    NONE = 0u,\\n    UNKNOWN_ID = 1u,\\n    INFORMATIONAL = 2u,\\n    LOW = 3u,\\n    MEDIUM = 4u,\\n    HIGH = 5u\\n};\\n\\nusing AlarmRanking = std::int64_t;\\n\\n///Led indicator specification defined by Systems\\nenum class LedNumber :\\n    std::uint8_t\\n{\\n    LED_NONE = 0u,\\n    LED_1 = 1u,        //W4 Blinking White\\n    LED_2 = 2u,        //W3 Pulsing White\\n    LED_3 = 3u,        //W2 Solid White\\n    LED_4 = 4u,        //Y2 Solid Yellow\\n    LED_5 = 5u,        //B4 Blinking Blue\\n    LED_6 = 6u,        //B3 Pulsing Blue\\n    LED_7 = 7u,        //R4 Blinking Red\\n    LED_8 = 8u,        //Y4 Blinking Yellow\\n    LED_9 = 9u,        //B5 Info Alert Pattern\\n    LED_10 = 10u,      //B2 Solid Blue\\n    LED_11 = 11u,      //G2 Solid Green\\n    LED_12 = 12u,      //BW4 Blinking Blue White\\n    LED_13 = 13u,      //Off \\n    LED_DEFAULT = 14u  //Solid White\\n};\\n\\n///Audio indicator specification defined by Usability\\nenum class EarCon :\\n    std::uint8_t\\n{\\n    EAR_CON_NONE = 0u,      //used when no ear con is to be played\\n    EAR_CON_1 = 1u,         //Bonk\\n    EAR_CON_2 = 2u,         //System Progress\\n    EAR_CON_3 = 3u,         //Success\\n    EAR_CON_4 = 4u,         //Unassigned\\n    EAR_CON_5 = 5u,         //Low Level Alarm\\n    EAR_CON_6 = 6u,         //Attention\\n    EAR_CON_7 = 7u,         //Medium Level Alarm\\n    EAR_CON_8 = 8u,         //High Level Alarm\\n    EAR_CON_9 = 9u,         //Swap Finish\\n    EAR_CON_10 = 10u,       //Swap PressHold\\n    EAR_CON_11 = 11u,       //Surgeon Progress\\n    EAR_CON_12 = 12u,       //Clutch\\n    EAR_CON_13 = 13u,       //Lock\\n    EAR_CON_14 = 14u,       //Unlock\\n    EAR_CON_15 = 15u,       //Press and Hold\\n    EAR_CON_16 = 16u,       //Coag Activation\\n    EAR_CON_17 = 17u,       //Cut Activation\\n    EAR_CON_18 = 18u,       //Ligasure Activation\\n    EAR_CON_SILENCE = 19u   //used when ear con is to be silenced\\n};\\nassda\\nasd\\nasdas\\nfasf\\nas22\\n12\\n312\\n312@#$!@$#\\n2342$#@$#24\\n;\\n\\nenum class GuiType :\\n    std::uint8_t\\n{\\n    NONE = 0u,\\n    ORTI = 1u,\\n    SID = 2u\\n};\\n\\nenum class IndicationPersistence :\\n    std::uint8_t\\n{\\n    NONE = 0u,\\n    DISMISSIBLE = 1u,\\n    PERSISTENT = 2u,\\n    TRANSIENT = 3u,\\n    PERSISTENT_DISMISSIBLE = 4u\\n};\\n\\nenum class DismissRequired :\\n    std::uint8_t\\n{\\n    NONE = 0u,\\n    EITHER = 1u,\\n    BOTH = 2u,\\n    ORTI = 3u,\\n    SID = 4u\\n};\\n\\nenum class SubsystemRecoverability: std::uint8_t\\n{\\n    RECOVERABLE = 0u,\\n    NON_RECOVERABLE = 1u,\\n\\n    NOT_APPLICABLE = 2u  // operable errors or non-errors\\n};\\nenum class SystemRecoverability: std::uint8_t\\n{\\n    RECOVERABLE = 0u,\\n    NON_RECOVERABLE = 1u,\\n\\n    NOT_APPLICABLE = 2u  // operable errors or non-errors\\n};\\nstd::string to_string(const AlarmPriority priority);\\n\\nstd::string to_string(const GuiType gui);\\n\\nstruct ResetCounts\\n{\\n    std::int32_t system_reset_count;\\n    std::int32_t system_sc_reset_count;\\n    std::int32_t system_aca1_reset_count;\\n    std::int32_t system_aca2_reset_count;\\n    std::int32_t system_aca3_reset_count;\\n    std::int32_t system_aca4_reset_count;\\n    std::int32_t subsystem_sc_reset_count;\\n    std::int32_t subsystem_aca1_reset_count;\\n    std::int32_t subsystem_aca2_reset_count;\\n    std::int32_t subsystem_aca3_reset_count;\\n    std::int32_t subsystem_aca4_reset_count;   \\n\\n    bool operator==(const ResetCounts & other) const;\\n    bool operator!=(const ResetCounts & other) const; \\n};\\n\\nenum 12323\\n\\nstruct AlarmCountsData\\n{\\n    AlarmOrNotification id;\\n    SetClearData data;\\n\\n    AlarmCountsData() :\\n        id(ALARM_NO_ALARM),\\n        data() {}\\n\\n    AlarmCountsData(const AlarmOrNotification & value, const SetClearData & counts) :\\n        id(value),\\n        data(counts) {}\\n};']\n"
     ]
    }
   ],
   "source": [
    "import re\n",
    "f=open(\"re_data.txt\",\"r\")\n",
    "data=f.read()\n",
    "f.close()\n",
    "print(re.findall(\"enum.+;\",data,re.DOTALL))"
   ]
  },
  {
   "cell_type": "code",
   "execution_count": 68,
   "metadata": {},
   "outputs": [
    {
     "name": "stdout",
     "output_type": "stream",
     "text": [
      "['enum\\n;\\nQWER\\n123\\n\\nenum\\n123\\nabc\\n#$%^\\n;\\nasfasd\\nasdas\\ndas\\n;\\nenum class AlarmPriority :\\n    std::uint8_t\\n{\\n    NONE = 0u,\\n    UNKNOWN_ID = 1u,\\n    INFORMATIONAL = 2u,\\n    LOW = 3u,\\n    MEDIUM = 4u,\\n    HIGH = 5u\\n};\\n\\nusing AlarmRanking = std::int64_t;\\n\\n///Led indicator specification defined by Systems\\nenum class LedNumber :\\n    std::uint8_t\\n{\\n    LED_NONE = 0u,\\n    LED_1 = 1u,        //W4 Blinking White\\n    LED_2 = 2u,        //W3 Pulsing White\\n    LED_3 = 3u,        //W2 Solid White\\n    LED_4 = 4u,        //Y2 Solid Yellow\\n    LED_5 = 5u,        //B4 Blinking Blue\\n    LED_6 = 6u,        //B3 Pulsing Blue\\n    LED_7 = 7u,        //R4 Blinking Red\\n    LED_8 = 8u,        //Y4 Blinking Yellow\\n    LED_9 = 9u,        //B5 Info Alert Pattern\\n    LED_10 = 10u,      //B2 Solid Blue\\n    LED_11 = 11u,      //G2 Solid Green\\n    LED_12 = 12u,      //BW4 Blinking Blue White\\n    LED_13 = 13u,      //Off \\n    LED_DEFAULT = 14u  //Solid White\\n};\\n\\n///Audio indicator specification defined by Usability\\nenum class EarCon :\\n    std::uint8_t\\n{\\n    EAR_CON_NONE = 0u,      //used when no ear con is to be played\\n    EAR_CON_1 = 1u,         //Bonk\\n    EAR_CON_2 = 2u,         //System Progress\\n    EAR_CON_3 = 3u,         //Success\\n    EAR_CON_4 = 4u,         //Unassigned\\n    EAR_CON_5 = 5u,         //Low Level Alarm\\n    EAR_CON_6 = 6u,         //Attention\\n    EAR_CON_7 = 7u,         //Medium Level Alarm\\n    EAR_CON_8 = 8u,         //High Level Alarm\\n    EAR_CON_9 = 9u,         //Swap Finish\\n    EAR_CON_10 = 10u,       //Swap PressHold\\n    EAR_CON_11 = 11u,       //Surgeon Progress\\n    EAR_CON_12 = 12u,       //Clutch\\n    EAR_CON_13 = 13u,       //Lock\\n    EAR_CON_14 = 14u,       //Unlock\\n    EAR_CON_15 = 15u,       //Press and Hold\\n    EAR_CON_16 = 16u,       //Coag Activation\\n    EAR_CON_17 = 17u,       //Cut Activation\\n    EAR_CON_18 = 18u,       //Ligasure Activation\\n    EAR_CON_SILENCE = 19u   //used when ear con is to be silenced\\n};\\nassda\\nasd\\nasdas\\nfasf\\nas22\\n12\\n312\\n312@#$!@$#\\n2342$#@$#24\\n;\\n\\nenum class GuiType :\\n    std::uint8_t\\n{\\n    NONE = 0u,\\n    ORTI = 1u,\\n    SID = 2u\\n};\\n\\nenum class IndicationPersistence :\\n    std::uint8_t\\n{\\n    NONE = 0u,\\n    DISMISSIBLE = 1u,\\n    PERSISTENT = 2u,\\n    TRANSIENT = 3u,\\n    PERSISTENT_DISMISSIBLE = 4u\\n};\\n\\nenum class DismissRequired :\\n    std::uint8_t\\n{\\n    NONE = 0u,\\n    EITHER = 1u,\\n    BOTH = 2u,\\n    ORTI = 3u,\\n    SID = 4u\\n};\\n\\nenum class SubsystemRecoverability: std::uint8_t\\n{\\n    RECOVERABLE = 0u,\\n    NON_RECOVERABLE = 1u,\\n\\n    NOT_APPLICABLE = 2u  // operable errors or non-errors\\n};\\nenum class SystemRecoverability: std::uint8_t\\n{\\n    RECOVERABLE = 0u,\\n    NON_RECOVERABLE = 1u,\\n\\n    NOT_APPLICABLE = 2u  // operable errors or non-errors\\n};\\nstd::string to_string(const AlarmPriority priority);\\n\\nstd::string to_string(const GuiType gui);\\n\\nstruct ResetCounts\\n{\\n    std::int32_t system_reset_count;\\n    std::int32_t system_sc_reset_count;\\n    std::int32_t system_aca1_reset_count;\\n    std::int32_t system_aca2_reset_count;\\n    std::int32_t system_aca3_reset_count;\\n    std::int32_t system_aca4_reset_count;\\n    std::int32_t subsystem_sc_reset_count;\\n    std::int32_t subsystem_aca1_reset_count;\\n    std::int32_t subsystem_aca2_reset_count;\\n    std::int32_t subsystem_aca3_reset_count;\\n    std::int32_t subsystem_aca4_reset_count;   \\n\\n    bool operator==(const ResetCounts & other) const;\\n    bool operator!=(const ResetCounts & other) const; \\n};\\n\\nenum 12323\\n\\nstruct AlarmCountsData\\n{\\n    AlarmOrNotification id;\\n    SetClearData data;\\n\\n    AlarmCountsData() :\\n        id(ALARM_NO_ALARM),\\n        data() {}\\n\\n    AlarmCountsData(const AlarmOrNotification & value, const SetClearData & counts) :\\n        id(value),\\n        data(counts) {}\\n};']\n"
     ]
    }
   ],
   "source": [
    "import re\n",
    "f=open(\"re_data.txt\",\"r\")\n",
    "data=f.read()\n",
    "f.close()\n",
    "print(re.findall(\"enum.+;\",data,re.DOTALL))"
   ]
  },
  {
   "cell_type": "code",
   "execution_count": 69,
   "metadata": {},
   "outputs": [
    {
     "name": "stdout",
     "output_type": "stream",
     "text": [
      "['enum\\n;', 'enum\\n123\\nabc\\n#$%^\\n;', 'enum class AlarmPriority :\\n    std::uint8_t\\n{\\n    NONE = 0u,\\n    UNKNOWN_ID = 1u,\\n    INFORMATIONAL = 2u,\\n    LOW = 3u,\\n    MEDIUM = 4u,\\n    HIGH = 5u\\n};', 'enum class LedNumber :\\n    std::uint8_t\\n{\\n    LED_NONE = 0u,\\n    LED_1 = 1u,        //W4 Blinking White\\n    LED_2 = 2u,        //W3 Pulsing White\\n    LED_3 = 3u,        //W2 Solid White\\n    LED_4 = 4u,        //Y2 Solid Yellow\\n    LED_5 = 5u,        //B4 Blinking Blue\\n    LED_6 = 6u,        //B3 Pulsing Blue\\n    LED_7 = 7u,        //R4 Blinking Red\\n    LED_8 = 8u,        //Y4 Blinking Yellow\\n    LED_9 = 9u,        //B5 Info Alert Pattern\\n    LED_10 = 10u,      //B2 Solid Blue\\n    LED_11 = 11u,      //G2 Solid Green\\n    LED_12 = 12u,      //BW4 Blinking Blue White\\n    LED_13 = 13u,      //Off \\n    LED_DEFAULT = 14u  //Solid White\\n};', 'enum class EarCon :\\n    std::uint8_t\\n{\\n    EAR_CON_NONE = 0u,      //used when no ear con is to be played\\n    EAR_CON_1 = 1u,         //Bonk\\n    EAR_CON_2 = 2u,         //System Progress\\n    EAR_CON_3 = 3u,         //Success\\n    EAR_CON_4 = 4u,         //Unassigned\\n    EAR_CON_5 = 5u,         //Low Level Alarm\\n    EAR_CON_6 = 6u,         //Attention\\n    EAR_CON_7 = 7u,         //Medium Level Alarm\\n    EAR_CON_8 = 8u,         //High Level Alarm\\n    EAR_CON_9 = 9u,         //Swap Finish\\n    EAR_CON_10 = 10u,       //Swap PressHold\\n    EAR_CON_11 = 11u,       //Surgeon Progress\\n    EAR_CON_12 = 12u,       //Clutch\\n    EAR_CON_13 = 13u,       //Lock\\n    EAR_CON_14 = 14u,       //Unlock\\n    EAR_CON_15 = 15u,       //Press and Hold\\n    EAR_CON_16 = 16u,       //Coag Activation\\n    EAR_CON_17 = 17u,       //Cut Activation\\n    EAR_CON_18 = 18u,       //Ligasure Activation\\n    EAR_CON_SILENCE = 19u   //used when ear con is to be silenced\\n};', 'enum class GuiType :\\n    std::uint8_t\\n{\\n    NONE = 0u,\\n    ORTI = 1u,\\n    SID = 2u\\n};', 'enum class IndicationPersistence :\\n    std::uint8_t\\n{\\n    NONE = 0u,\\n    DISMISSIBLE = 1u,\\n    PERSISTENT = 2u,\\n    TRANSIENT = 3u,\\n    PERSISTENT_DISMISSIBLE = 4u\\n};', 'enum class DismissRequired :\\n    std::uint8_t\\n{\\n    NONE = 0u,\\n    EITHER = 1u,\\n    BOTH = 2u,\\n    ORTI = 3u,\\n    SID = 4u\\n};', 'enum class SubsystemRecoverability: std::uint8_t\\n{\\n    RECOVERABLE = 0u,\\n    NON_RECOVERABLE = 1u,\\n\\n    NOT_APPLICABLE = 2u  // operable errors or non-errors\\n};', 'enum class SystemRecoverability: std::uint8_t\\n{\\n    RECOVERABLE = 0u,\\n    NON_RECOVERABLE = 1u,\\n\\n    NOT_APPLICABLE = 2u  // operable errors or non-errors\\n};', 'enum 12323\\n\\nstruct AlarmCountsData\\n{\\n    AlarmOrNotification id;']\n"
     ]
    }
   ],
   "source": [
    "import re\n",
    "f=open(\"re_data.txt\",\"r\")\n",
    "data=f.read()\n",
    "f.close()\n",
    "print(re.findall(\"enum.+?;\",data,re.DOTALL))"
   ]
  },
  {
   "cell_type": "code",
   "execution_count": 70,
   "metadata": {},
   "outputs": [
    {
     "name": "stdout",
     "output_type": "stream",
     "text": [
      "enum\n",
      ";\n",
      "enum\n",
      "123\n",
      "abc\n",
      "#$%^\n",
      ";\n",
      "enum class AlarmPriority :\n",
      "    std::uint8_t\n",
      "{\n",
      "    NONE = 0u,\n",
      "    UNKNOWN_ID = 1u,\n",
      "    INFORMATIONAL = 2u,\n",
      "    LOW = 3u,\n",
      "    MEDIUM = 4u,\n",
      "    HIGH = 5u\n",
      "};\n",
      "enum class LedNumber :\n",
      "    std::uint8_t\n",
      "{\n",
      "    LED_NONE = 0u,\n",
      "    LED_1 = 1u,        //W4 Blinking White\n",
      "    LED_2 = 2u,        //W3 Pulsing White\n",
      "    LED_3 = 3u,        //W2 Solid White\n",
      "    LED_4 = 4u,        //Y2 Solid Yellow\n",
      "    LED_5 = 5u,        //B4 Blinking Blue\n",
      "    LED_6 = 6u,        //B3 Pulsing Blue\n",
      "    LED_7 = 7u,        //R4 Blinking Red\n",
      "    LED_8 = 8u,        //Y4 Blinking Yellow\n",
      "    LED_9 = 9u,        //B5 Info Alert Pattern\n",
      "    LED_10 = 10u,      //B2 Solid Blue\n",
      "    LED_11 = 11u,      //G2 Solid Green\n",
      "    LED_12 = 12u,      //BW4 Blinking Blue White\n",
      "    LED_13 = 13u,      //Off \n",
      "    LED_DEFAULT = 14u  //Solid White\n",
      "};\n",
      "enum class EarCon :\n",
      "    std::uint8_t\n",
      "{\n",
      "    EAR_CON_NONE = 0u,      //used when no ear con is to be played\n",
      "    EAR_CON_1 = 1u,         //Bonk\n",
      "    EAR_CON_2 = 2u,         //System Progress\n",
      "    EAR_CON_3 = 3u,         //Success\n",
      "    EAR_CON_4 = 4u,         //Unassigned\n",
      "    EAR_CON_5 = 5u,         //Low Level Alarm\n",
      "    EAR_CON_6 = 6u,         //Attention\n",
      "    EAR_CON_7 = 7u,         //Medium Level Alarm\n",
      "    EAR_CON_8 = 8u,         //High Level Alarm\n",
      "    EAR_CON_9 = 9u,         //Swap Finish\n",
      "    EAR_CON_10 = 10u,       //Swap PressHold\n",
      "    EAR_CON_11 = 11u,       //Surgeon Progress\n",
      "    EAR_CON_12 = 12u,       //Clutch\n",
      "    EAR_CON_13 = 13u,       //Lock\n",
      "    EAR_CON_14 = 14u,       //Unlock\n",
      "    EAR_CON_15 = 15u,       //Press and Hold\n",
      "    EAR_CON_16 = 16u,       //Coag Activation\n",
      "    EAR_CON_17 = 17u,       //Cut Activation\n",
      "    EAR_CON_18 = 18u,       //Ligasure Activation\n",
      "    EAR_CON_SILENCE = 19u   //used when ear con is to be silenced\n",
      "};\n",
      "enum class GuiType :\n",
      "    std::uint8_t\n",
      "{\n",
      "    NONE = 0u,\n",
      "    ORTI = 1u,\n",
      "    SID = 2u\n",
      "};\n",
      "enum class IndicationPersistence :\n",
      "    std::uint8_t\n",
      "{\n",
      "    NONE = 0u,\n",
      "    DISMISSIBLE = 1u,\n",
      "    PERSISTENT = 2u,\n",
      "    TRANSIENT = 3u,\n",
      "    PERSISTENT_DISMISSIBLE = 4u\n",
      "};\n",
      "enum class DismissRequired :\n",
      "    std::uint8_t\n",
      "{\n",
      "    NONE = 0u,\n",
      "    EITHER = 1u,\n",
      "    BOTH = 2u,\n",
      "    ORTI = 3u,\n",
      "    SID = 4u\n",
      "};\n",
      "enum class SubsystemRecoverability: std::uint8_t\n",
      "{\n",
      "    RECOVERABLE = 0u,\n",
      "    NON_RECOVERABLE = 1u,\n",
      "\n",
      "    NOT_APPLICABLE = 2u  // operable errors or non-errors\n",
      "};\n",
      "enum class SystemRecoverability: std::uint8_t\n",
      "{\n",
      "    RECOVERABLE = 0u,\n",
      "    NON_RECOVERABLE = 1u,\n",
      "\n",
      "    NOT_APPLICABLE = 2u  // operable errors or non-errors\n",
      "};\n",
      "enum 12323\n",
      "\n",
      "struct AlarmCountsData\n",
      "{\n",
      "    AlarmOrNotification id;\n"
     ]
    }
   ],
   "source": [
    "import re\n",
    "f=open(\"re_data.txt\",\"r\")\n",
    "data=f.read()\n",
    "f.close()\n",
    "for mat in re.findall(\"enum.+?;\",data,re.DOTALL):\n",
    "    print(mat)\n"
   ]
  },
  {
   "cell_type": "code",
   "execution_count": 71,
   "metadata": {},
   "outputs": [
    {
     "name": "stdout",
     "output_type": "stream",
     "text": [
      "<callable_iterator object at 0x000001A191AC1EB0>\n"
     ]
    }
   ],
   "source": [
    "import re\n",
    "f=open(\"re_data.txt\",\"r\")\n",
    "data=f.read()\n",
    "f.close()\n",
    "print(re.finditer(\"enum.+?;\",data,re.DOTALL))"
   ]
  },
  {
   "cell_type": "code",
   "execution_count": 72,
   "metadata": {},
   "outputs": [
    {
     "name": "stdout",
     "output_type": "stream",
     "text": [
      "<re.Match object; span=(2356, 2362), match='enum\\n;'>\n",
      "<re.Match object; span=(2373, 2392), match='enum\\n123\\nabc\\n#$%^\\n;'>\n",
      "<re.Match object; span=(2412, 2565), match='enum class AlarmPriority :\\n    std::uint8_t\\n{\\n>\n",
      "<re.Match object; span=(2653, 3292), match='enum class LedNumber :\\n    std::uint8_t\\n{\\n    >\n",
      "<re.Match object; span=(3348, 4293), match='enum class EarCon :\\n    std::uint8_t\\n{\\n    EAR>\n",
      "<re.Match object; span=(4353, 4438), match='enum class GuiType :\\n    std::uint8_t\\n{\\n    NO>\n",
      "<re.Match object; span=(4440, 4606), match='enum class IndicationPersistence :\\n    std::uint>\n",
      "<re.Match object; span=(4608, 4733), match='enum class DismissRequired :\\n    std::uint8_t\\n{>\n",
      "<re.Match object; span=(4735, 4895), match='enum class SubsystemRecoverability: std::uint8_t\\>\n",
      "<re.Match object; span=(4896, 5053), match='enum class SystemRecoverability: std::uint8_t\\n{\\>\n",
      "<re.Match object; span=(5757, 5821), match='enum 12323\\n\\nstruct AlarmCountsData\\n{\\n    Alar>\n"
     ]
    }
   ],
   "source": [
    "import re\n",
    "f=open(\"re_data.txt\",\"r\")\n",
    "data=f.read()\n",
    "f.close()\n",
    "for mat in re.finditer(\"enum.+?;\",data,re.DOTALL):\n",
    "    print(mat)"
   ]
  },
  {
   "cell_type": "code",
   "execution_count": 74,
   "metadata": {},
   "outputs": [
    {
     "name": "stdout",
     "output_type": "stream",
     "text": [
      "enum\n",
      ";\n",
      "enum\n",
      "123\n",
      "abc\n",
      "#$%^\n",
      ";\n",
      "enum class AlarmPriority :\n",
      "    std::uint8_t\n",
      "{\n",
      "    NONE = 0u,\n",
      "    UNKNOWN_ID = 1u,\n",
      "    INFORMATIONAL = 2u,\n",
      "    LOW = 3u,\n",
      "    MEDIUM = 4u,\n",
      "    HIGH = 5u\n",
      "};\n",
      "enum class LedNumber :\n",
      "    std::uint8_t\n",
      "{\n",
      "    LED_NONE = 0u,\n",
      "    LED_1 = 1u,        //W4 Blinking White\n",
      "    LED_2 = 2u,        //W3 Pulsing White\n",
      "    LED_3 = 3u,        //W2 Solid White\n",
      "    LED_4 = 4u,        //Y2 Solid Yellow\n",
      "    LED_5 = 5u,        //B4 Blinking Blue\n",
      "    LED_6 = 6u,        //B3 Pulsing Blue\n",
      "    LED_7 = 7u,        //R4 Blinking Red\n",
      "    LED_8 = 8u,        //Y4 Blinking Yellow\n",
      "    LED_9 = 9u,        //B5 Info Alert Pattern\n",
      "    LED_10 = 10u,      //B2 Solid Blue\n",
      "    LED_11 = 11u,      //G2 Solid Green\n",
      "    LED_12 = 12u,      //BW4 Blinking Blue White\n",
      "    LED_13 = 13u,      //Off \n",
      "    LED_DEFAULT = 14u  //Solid White\n",
      "};\n",
      "enum class EarCon :\n",
      "    std::uint8_t\n",
      "{\n",
      "    EAR_CON_NONE = 0u,      //used when no ear con is to be played\n",
      "    EAR_CON_1 = 1u,         //Bonk\n",
      "    EAR_CON_2 = 2u,         //System Progress\n",
      "    EAR_CON_3 = 3u,         //Success\n",
      "    EAR_CON_4 = 4u,         //Unassigned\n",
      "    EAR_CON_5 = 5u,         //Low Level Alarm\n",
      "    EAR_CON_6 = 6u,         //Attention\n",
      "    EAR_CON_7 = 7u,         //Medium Level Alarm\n",
      "    EAR_CON_8 = 8u,         //High Level Alarm\n",
      "    EAR_CON_9 = 9u,         //Swap Finish\n",
      "    EAR_CON_10 = 10u,       //Swap PressHold\n",
      "    EAR_CON_11 = 11u,       //Surgeon Progress\n",
      "    EAR_CON_12 = 12u,       //Clutch\n",
      "    EAR_CON_13 = 13u,       //Lock\n",
      "    EAR_CON_14 = 14u,       //Unlock\n",
      "    EAR_CON_15 = 15u,       //Press and Hold\n",
      "    EAR_CON_16 = 16u,       //Coag Activation\n",
      "    EAR_CON_17 = 17u,       //Cut Activation\n",
      "    EAR_CON_18 = 18u,       //Ligasure Activation\n",
      "    EAR_CON_SILENCE = 19u   //used when ear con is to be silenced\n",
      "};\n",
      "enum class GuiType :\n",
      "    std::uint8_t\n",
      "{\n",
      "    NONE = 0u,\n",
      "    ORTI = 1u,\n",
      "    SID = 2u\n",
      "};\n",
      "enum class IndicationPersistence :\n",
      "    std::uint8_t\n",
      "{\n",
      "    NONE = 0u,\n",
      "    DISMISSIBLE = 1u,\n",
      "    PERSISTENT = 2u,\n",
      "    TRANSIENT = 3u,\n",
      "    PERSISTENT_DISMISSIBLE = 4u\n",
      "};\n",
      "enum class DismissRequired :\n",
      "    std::uint8_t\n",
      "{\n",
      "    NONE = 0u,\n",
      "    EITHER = 1u,\n",
      "    BOTH = 2u,\n",
      "    ORTI = 3u,\n",
      "    SID = 4u\n",
      "};\n",
      "enum class SubsystemRecoverability: std::uint8_t\n",
      "{\n",
      "    RECOVERABLE = 0u,\n",
      "    NON_RECOVERABLE = 1u,\n",
      "\n",
      "    NOT_APPLICABLE = 2u  // operable errors or non-errors\n",
      "};\n",
      "enum class SystemRecoverability: std::uint8_t\n",
      "{\n",
      "    RECOVERABLE = 0u,\n",
      "    NON_RECOVERABLE = 1u,\n",
      "\n",
      "    NOT_APPLICABLE = 2u  // operable errors or non-errors\n",
      "};\n",
      "enum 12323\n",
      "\n",
      "struct AlarmCountsData\n",
      "{\n",
      "    AlarmOrNotification id;\n"
     ]
    }
   ],
   "source": [
    "import re\n",
    "f=open(\"re_data.txt\",\"r\")\n",
    "data=f.read()\n",
    "f.close()\n",
    "for mat in re.finditer(\"enum.+?;\",data,re.DOTALL):\n",
    "    print(mat.group(0))"
   ]
  },
  {
   "cell_type": "code",
   "execution_count": 75,
   "metadata": {},
   "outputs": [
    {
     "name": "stdout",
     "output_type": "stream",
     "text": [
      "None\n"
     ]
    }
   ],
   "source": [
    "import re\n",
    "f=open(\"re_data.txt\",\"r\")\n",
    "data=f.read()\n",
    "f.close()\n",
    "print(re.match(\"enum.+?;\",data,re.DOTALL))"
   ]
  },
  {
   "cell_type": "code",
   "execution_count": 76,
   "metadata": {},
   "outputs": [
    {
     "name": "stdout",
     "output_type": "stream",
     "text": [
      "<re.Match object; span=(2356, 2362), match='enum\\n;'>\n"
     ]
    }
   ],
   "source": [
    "import re\n",
    "f=open(\"re_data.txt\",\"r\")\n",
    "data=f.read()\n",
    "f.close()\n",
    "print(re.search(\"enum.+?;\",data,re.DOTALL))"
   ]
  },
  {
   "cell_type": "code",
   "execution_count": 78,
   "metadata": {},
   "outputs": [
    {
     "name": "stdout",
     "output_type": "stream",
     "text": [
      "enum\n",
      ";\n"
     ]
    }
   ],
   "source": [
    "import re\n",
    "f=open(\"re_data.txt\",\"r\")\n",
    "data=f.read()\n",
    "f.close()\n",
    "print(re.search(\"enum.+?;\",data,re.DOTALL).group(0))"
   ]
  },
  {
   "cell_type": "code",
   "execution_count": 80,
   "metadata": {},
   "outputs": [],
   "source": [
    "import re\n",
    "f=open(\"re_data.txt\",\"r\")\n",
    "data=f.read()\n",
    "f.close()\n",
    "re.sub?"
   ]
  },
  {
   "cell_type": "code",
   "execution_count": 81,
   "metadata": {},
   "outputs": [
    {
     "data": {
      "text/plain": [
       "'// Copyright 2018 Covidien LP.\\n// All Rights Reserved. The information contained herein is confidential\\n// property of Covidien. The use, copying, transfer or disclosure of such\\n// information is prohibited except by written agreement with Covidien.\\n\\n#ifndef EINSTEIN_ALARMS_AND_NOTIFICATIONS_DATATYPES_H\\n#define EINSTEIN_ALARMS_AND_NOTIFICATIONS_DATATYPES_H\\n\\n#include <array>\\n#include <cstdint>\\n#include <iostream>\\n\\n#include \"einstein/alarm_definitions/Alarms.h\"\\n\\n#include \"einstein/alarms_and_notifications/AlarmsAndNotifications.h\"\\n#include \"einstein/alarms_and_notifications/SetClearData.h\"\\n\\nnamespace einstein\\n{\\nnamespace alarms_and_notifications\\n{\\n\\nstatic constexpr std::uint16_t TOTAL_ALARMS_AND_NOTIFICATIONS = 1000u;\\n\\n//Alarm and Notification Cycle is 25Hz, so time set to 40 milliseconds, timeout to 80 ms\\nstatic constexpr std::uint8_t ALARM_AND_NOTIFICATION_CYCLE_TIME_MILLISECONDS = 40u;\\nstatic constexpr std::uint8_t ALARM_AND_NOTIFICATION_CYCLE_TIMEOUT_MILLISECONDS = 80u;\\n\\n//Number of alarms sent to the GUI per cycle\\nstatic constexpr std::uint8_t NUMBER_OF_ALARMS_PER_CYCLE = 20u;\\nstatic constexpr std::uint8_t MINIMUM_DURATION_CYCLES = 125u; //5seconds\\n\\n//4 dismiss messages expected at most, 2 GUIs(ORTI,SID) that can dismiss,\\n// and 2 Alarms at a time (top two alarms and notifications displayed), 2x2 therefore 4 total\\nstatic constexpr std::size_t DISMISS_MESSAGES_PER_CYCLE = 4;\\n\\nstatic constexpr std::size_t CLIENT_ALARM_COUNTS_SIZE = 50u;\\nstatic constexpr std::size_t ALARMS_HANDLER_ALARM_COUNT_SIZE = 100u;\\nstatic constexpr std::size_t CLIENT_ALARM_COUNTS_BUFFER_SIZE = TOTAL_ALARMS_AND_NOTIFICATIONS/CLIENT_ALARM_COUNTS_SIZE;\\nstatic constexpr std::size_t DEFAULT_BUFFER_SIZE = 1u;\\n\\n//Number of cycles that the top priority alarm will be silence for\\nstatic constexpr std::uint16_t SILENCE_CYCLES = 750u;//30 seconds (750 * 40 ms cycles)\\n\\n//Number of arms on system\\nstatic constexpr std::size_t NUMBER_OF_ARMS = 4u;\\n\\nstatic constexpr char SHMIO_PRIORITY_VECTOR[] = \"alarms_priority_debug\";\\n\\nstatic constexpr char SHMIO_DIAGNOSTIC_LIST[] = \"diagnostic_list\";\\n\\nstatic constexpr EIN_NOTCODE CENTRAL_SHUTDOWN_ERROR = EIN_NOTCODE_557;\\nstatic constexpr EIN_NOTCODE LOCAL_SHUTDOWN_ERROR = EIN_NOTCODE_558;\\n\\nstatic constexpr std::uint32_t ALARMS_UDP_TIMEOUT = 9u;\\nstatic constexpr std::uint_fast8_t ALARMS_NUMBER_OF_UDP_TX_ATTEMPTS = 4u;\\n\\n\\n\\nenum\\n;\\nQWER\\n123\\n\\nenum\\n123\\nabc\\n#$%^\\n;\\nasfasd\\nasdas\\ndas\\n;\\nenum class AlarmPriority :\\n    std::uint8_t\\n{\\n    NONE = 0u,\\n    UNKNOWN_ID = 1u,\\n    INFORMATIONAL = 2u,\\n    LOW = 3u,\\n    MEDIUM = 4u,\\n    HIGH = 5u\\n};\\n\\nusing AlarmRanking = std::int64_t;\\n\\n///Led indicator specification defined by Systems\\nenum class LedNumber :\\n    std::uint8_t\\n{\\n    LED_NONE = 0u,\\n    LED_1 = 1u,        //W4 Blinking White\\n    LED_2 = 2u,        //W3 Pulsing White\\n    LED_3 = 3u,        //W2 Solid White\\n    LED_4 = 4u,        //Y2 Solid Yellow\\n    LED_5 = 5u,        //B4 Blinking Blue\\n    LED_6 = 6u,        //B3 Pulsing Blue\\n    LED_7 = 7u,        //R4 Blinking Red\\n    LED_8 = 8u,        //Y4 Blinking Yellow\\n    LED_9 = 9u,        //B5 Info Alert Pattern\\n    LED_10 = 10u,      //B2 Solid Blue\\n    LED_11 = 11u,      //G2 Solid Green\\n    LED_12 = 12u,      //BW4 Blinking Blue White\\n    LED_13 = 13u,      //Off \\n    LED_DEFAULT = 14u  //Solid White\\n};\\n\\n///Audio indicator specification defined by Usability\\nenum class EarCon :\\n    std::uint8_t\\n{\\n    EAR_CON_NONE = 0u,      //used when no ear con is to be played\\n    EAR_CON_1 = 1u,         //Bonk\\n    EAR_CON_2 = 2u,         //System Progress\\n    EAR_CON_3 = 3u,         //Success\\n    EAR_CON_4 = 4u,         //Unassigned\\n    EAR_CON_5 = 5u,         //Low Level Alarm\\n    EAR_CON_6 = 6u,         //Attention\\n    EAR_CON_7 = 7u,         //Medium Level Alarm\\n    EAR_CON_8 = 8u,         //High Level Alarm\\n    EAR_CON_9 = 9u,         //Swap Finish\\n    EAR_CON_10 = 10u,       //Swap PressHold\\n    EAR_CON_11 = 11u,       //Surgeon Progress\\n    EAR_CON_12 = 12u,       //Clutch\\n    EAR_CON_13 = 13u,       //Lock\\n    EAR_CON_14 = 14u,       //Unlock\\n    EAR_CON_15 = 15u,       //Press and Hold\\n    EAR_CON_16 = 16u,       //Coag Activation\\n    EAR_CON_17 = 17u,       //Cut Activation\\n    EAR_CON_18 = 18u,       //Ligasure Activation\\n    EAR_CON_SILENCE = 19u   //used when ear con is to be silenced\\n};\\nassda\\nasd\\nasdas\\nfasf\\nas22\\n12\\n312\\n312@#$!@$#\\n2342$#@$#24\\n;\\n\\nenum class GuiType :\\n    std::uint8_t\\n{\\n    NONE = 0u,\\n    ORTI = 1u,\\n    SID = 2u\\n};\\n\\nenum class IndicationPersistence :\\n    std::uint8_t\\n{\\n    NONE = 0u,\\n    DISMISSIBLE = 1u,\\n    PERSISTENT = 2u,\\n    TRANSIENT = 3u,\\n    PERSISTENT_DISMISSIBLE = 4u\\n};\\n\\nenum class DismissRequired :\\n    std::uint8_t\\n{\\n    NONE = 0u,\\n    EITHER = 1u,\\n    BOTH = 2u,\\n    ORTI = 3u,\\n    SID = 4u\\n};\\n\\nenum class SubsystemRecoverability: std::uint8_t\\n{\\n    RECOVERABLE = 0u,\\n    NON_RECOVERABLE = 1u,\\n\\n    NOT_APPLICABLE = 2u  // operable errors or non-errors\\n};\\nenum class SystemRecoverability: std::uint8_t\\n{\\n    RECOVERABLE = 0u,\\n    NON_RECOVERABLE = 1u,\\n\\n    NOT_APPLICABLE = 2u  // operable errors or non-errors\\n};\\nstd::string to_string(const AlarmPriority priority);\\n\\nstd::string to_string(const GuiType gui);\\n\\nstruct ResetCounts\\n{\\n    std::int32_t system_reset_count;\\n    std::int32_t system_sc_reset_count;\\n    std::int32_t system_aca1_reset_count;\\n    std::int32_t system_aca2_reset_count;\\n    std::int32_t system_aca3_reset_count;\\n    std::int32_t system_aca4_reset_count;\\n    std::int32_t subsystem_sc_reset_count;\\n    std::int32_t subsystem_aca1_reset_count;\\n    std::int32_t subsystem_aca2_reset_count;\\n    std::int32_t subsystem_aca3_reset_count;\\n    std::int32_t subsystem_aca4_reset_count;   \\n\\n    bool operator==(const ResetCounts & other) const;\\n    bool operator!=(const ResetCounts & other) const; \\n};\\n\\nenum 12323\\n\\nstruct AlarmCountsData\\n{\\n    AlarmOrNotification id;\\n    SetClearData data;\\n\\n    AlarmCountsData() :\\n        id(ALARM_NO_ALARM),\\n        data() {}\\n\\n    AlarmCountsData(const AlarmOrNotification & value, const SetClearData & counts) :\\n        id(value),\\n        data(counts) {}\\n};\\n\\n}\\n}\\n\\n#endif //EINSTEIN_ALARMS_AND_NOTIFICATIONS_DATATYPES_H\\n'"
      ]
     },
     "execution_count": 81,
     "metadata": {},
     "output_type": "execute_result"
    }
   ],
   "source": [
    "import re\n",
    "f=open(\"re_data.txt\",\"r\")\n",
    "data=f.read()\n",
    "f.close()\n",
    "re.sub(\"enum.+?;\",\"ENUM{};\",data)"
   ]
  },
  {
   "cell_type": "code",
   "execution_count": 82,
   "metadata": {},
   "outputs": [],
   "source": [
    "re.sub?"
   ]
  },
  {
   "cell_type": "code",
   "execution_count": 83,
   "metadata": {},
   "outputs": [
    {
     "data": {
      "text/plain": [
       "'@#$123;@#$;adbe@#;asdf;123w24;'"
      ]
     },
     "execution_count": 83,
     "metadata": {},
     "output_type": "execute_result"
    }
   ],
   "source": [
    "data=\"abc123;abc;adbe@#;asdf;123w24;\"\n",
    "data.replace(\"abc\",\"@#$\")"
   ]
  },
  {
   "cell_type": "code",
   "execution_count": 84,
   "metadata": {},
   "outputs": [
    {
     "name": "stdout",
     "output_type": "stream",
     "text": [
      "@#$123;@#$;@#$@#;@#$;123@#$24;\n"
     ]
    }
   ],
   "source": [
    "data=\"abc123;abc;adbe@#;asdf;123w24;\"\n",
    "print(re.sub(\"[a-z]+\",\"@#$\",data))"
   ]
  },
  {
   "cell_type": "code",
   "execution_count": null,
   "metadata": {},
   "outputs": [],
   "source": []
  }
 ],
 "metadata": {
  "kernelspec": {
   "display_name": "Python 3",
   "language": "python",
   "name": "python3"
  },
  "language_info": {
   "codemirror_mode": {
    "name": "ipython",
    "version": 3
   },
   "file_extension": ".py",
   "mimetype": "text/x-python",
   "name": "python",
   "nbconvert_exporter": "python",
   "pygments_lexer": "ipython3",
   "version": "3.8.3"
  }
 },
 "nbformat": 4,
 "nbformat_minor": 4
}
